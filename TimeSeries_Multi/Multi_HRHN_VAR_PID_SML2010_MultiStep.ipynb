{
  "nbformat": 4,
  "nbformat_minor": 0,
  "metadata": {
    "colab": {
      "name": "Multi_HRHN_VAR_PID_SML2010_MultiStep.ipynb",
      "provenance": [],
      "machine_shape": "hm"
    },
    "kernelspec": {
      "name": "python3",
      "display_name": "Python 3"
    },
    "language_info": {
      "name": "python"
    },
    "accelerator": "TPU"
  },
  "cells": [
    {
      "cell_type": "markdown",
      "metadata": {
        "id": "IrOOJabrUaZ2"
      },
      "source": [
        "\n",
        "\n",
        "---\n",
        "\n",
        "\n",
        "### **HRHN + VAR + Correcteur PID**\n",
        "\n",
        "\n",
        "---\n",
        "\n"
      ]
    },
    {
      "cell_type": "code",
      "metadata": {
        "id": "9Luvr5mg72jn"
      },
      "source": [
        "import tensorflow as tf\n",
        "from tensorflow import keras\n",
        "import pandas as pd\n",
        "\n",
        "import random\n",
        "import numpy as np\n",
        "import matplotlib.pyplot as plt\n",
        "\n",
        "from sklearn.ensemble import RandomForestRegressor\n",
        "\n",
        "from keras import backend as K"
      ],
      "execution_count": 1,
      "outputs": []
    },
    {
      "cell_type": "markdown",
      "metadata": {
        "id": "SngD1T5rE09j"
      },
      "source": [
        "# Initialisation TPU"
      ]
    },
    {
      "cell_type": "code",
      "metadata": {
        "id": "azq2F27MXmeS",
        "colab": {
          "base_uri": "https://localhost:8080/"
        },
        "outputId": "c54d16c1-1edd-49dd-fff6-7025a6fa548e"
      },
      "source": [
        "import os\n",
        "\n",
        "use_tpu = True\n",
        "\n",
        "if use_tpu:\n",
        "    assert 'COLAB_TPU_ADDR' in os.environ, 'Missing TPU; did you request a TPU in Notebook Settings?'\n",
        "\n",
        "if 'COLAB_TPU_ADDR' in os.environ:\n",
        "  TPU_ADDRESS = 'grpc://{}'.format(os.environ['COLAB_TPU_ADDR'])\n",
        "else:\n",
        "  TPU_ADDRESS = ''\n",
        "\n",
        "resolver = tf.distribute.cluster_resolver.TPUClusterResolver(tpu=TPU_ADDRESS)\n",
        "tf.config.experimental_connect_to_cluster(resolver)\n",
        "tf.tpu.experimental.initialize_tpu_system(resolver)\n",
        "print(\"All devices: \", tf.config.list_logical_devices('TPU'))"
      ],
      "execution_count": 2,
      "outputs": [
        {
          "output_type": "stream",
          "text": [
            "INFO:tensorflow:Initializing the TPU system: grpc://10.70.99.170:8470\n"
          ],
          "name": "stdout"
        },
        {
          "output_type": "stream",
          "text": [
            "INFO:tensorflow:Initializing the TPU system: grpc://10.70.99.170:8470\n"
          ],
          "name": "stderr"
        },
        {
          "output_type": "stream",
          "text": [
            "INFO:tensorflow:Clearing out eager caches\n"
          ],
          "name": "stdout"
        },
        {
          "output_type": "stream",
          "text": [
            "INFO:tensorflow:Clearing out eager caches\n"
          ],
          "name": "stderr"
        },
        {
          "output_type": "stream",
          "text": [
            "INFO:tensorflow:Finished initializing TPU system.\n"
          ],
          "name": "stdout"
        },
        {
          "output_type": "stream",
          "text": [
            "INFO:tensorflow:Finished initializing TPU system.\n"
          ],
          "name": "stderr"
        },
        {
          "output_type": "stream",
          "text": [
            "All devices:  [LogicalDevice(name='/job:worker/replica:0/task:0/device:TPU:7', device_type='TPU'), LogicalDevice(name='/job:worker/replica:0/task:0/device:TPU:6', device_type='TPU'), LogicalDevice(name='/job:worker/replica:0/task:0/device:TPU:5', device_type='TPU'), LogicalDevice(name='/job:worker/replica:0/task:0/device:TPU:4', device_type='TPU'), LogicalDevice(name='/job:worker/replica:0/task:0/device:TPU:3', device_type='TPU'), LogicalDevice(name='/job:worker/replica:0/task:0/device:TPU:0', device_type='TPU'), LogicalDevice(name='/job:worker/replica:0/task:0/device:TPU:1', device_type='TPU'), LogicalDevice(name='/job:worker/replica:0/task:0/device:TPU:2', device_type='TPU')]\n"
          ],
          "name": "stdout"
        }
      ]
    },
    {
      "cell_type": "markdown",
      "metadata": {
        "id": "ArXLu7v7ZiZP"
      },
      "source": [
        "# Chargement et correction des données"
      ]
    },
    {
      "cell_type": "markdown",
      "metadata": {
        "id": "mg8UqC4JTMqD"
      },
      "source": [
        "Ce dataset est utilisé pour effectuer la prédiction de la température d'une pièce en fonction de plusieurs paramètres mesurés. La fréquence originale des données est d'une minute, puis a été modifiée à 15minutes avec un filtrage. L'ensemble correspond environ à une durée de 40 jours.  \n",
        "Nous allons utiliser ici la température de la chambre comme cible et sélectionner 18 séries exogènes. "
      ]
    },
    {
      "cell_type": "markdown",
      "metadata": {
        "id": "eNPjm5bA9_u8"
      },
      "source": [
        "**1. Chargement des données**"
      ]
    },
    {
      "cell_type": "code",
      "metadata": {
        "id": "2WwTu0bDquT2",
        "colab": {
          "base_uri": "https://localhost:8080/"
        },
        "outputId": "6dff2ede-57d8-4c5c-897a-ea8e21ba8fd5"
      },
      "source": [
        "!rm *.txt\n",
        "!curl --location --remote-header-name --remote-name \"https://github.com/AlexandreBourrieau/FICHIERS/raw/main/Series_Temporelles/Multi/Data/NEW-DATA-1.T15.txt\""
      ],
      "execution_count": 3,
      "outputs": [
        {
          "output_type": "stream",
          "text": [
            "rm: cannot remove '*.txt': No such file or directory\n",
            "  % Total    % Received % Xferd  Average Speed   Time    Time     Time  Current\n",
            "                                 Dload  Upload   Total   Spent    Left  Speed\n",
            "100   181  100   181    0     0    870      0 --:--:-- --:--:-- --:--:--   870\n",
            "100  386k  100  386k    0     0  1022k      0 --:--:-- --:--:-- --:--:-- 1022k\n"
          ],
          "name": "stdout"
        }
      ]
    },
    {
      "cell_type": "markdown",
      "metadata": {
        "id": "z66721h8-CY1"
      },
      "source": [
        "**2. Analyse et correction des données**"
      ]
    },
    {
      "cell_type": "code",
      "metadata": {
        "id": "ffclRRHzqxYO",
        "colab": {
          "base_uri": "https://localhost:8080/",
          "height": 0
        },
        "outputId": "3db1ca95-06cc-47fa-8db4-090d60750770"
      },
      "source": [
        "# Création de la série sous Pandas\n",
        "df_etude = pd.read_csv(\"NEW-DATA-1.T15.txt\",sep=\" \")\n",
        "df_etude"
      ],
      "execution_count": 4,
      "outputs": [
        {
          "output_type": "execute_result",
          "data": {
            "text/html": [
              "<div>\n",
              "<style scoped>\n",
              "    .dataframe tbody tr th:only-of-type {\n",
              "        vertical-align: middle;\n",
              "    }\n",
              "\n",
              "    .dataframe tbody tr th {\n",
              "        vertical-align: top;\n",
              "    }\n",
              "\n",
              "    .dataframe thead th {\n",
              "        text-align: right;\n",
              "    }\n",
              "</style>\n",
              "<table border=\"1\" class=\"dataframe\">\n",
              "  <thead>\n",
              "    <tr style=\"text-align: right;\">\n",
              "      <th></th>\n",
              "      <th>Date</th>\n",
              "      <th>Time</th>\n",
              "      <th>Temperature_Comedor_Sensor</th>\n",
              "      <th>4:Temperature_Habitacion_Sensor</th>\n",
              "      <th>5:Weather_Temperature</th>\n",
              "      <th>6:CO2_Comedor_Sensor</th>\n",
              "      <th>7:CO2_Habitacion_Sensor</th>\n",
              "      <th>8:Humedad_Comedor_Sensor</th>\n",
              "      <th>9:Humedad_Habitacion_Sensor</th>\n",
              "      <th>10:Lighting_Comedor_Sensor</th>\n",
              "      <th>11:Lighting_Habitacion_Sensor</th>\n",
              "      <th>12:Precipitacion</th>\n",
              "      <th>13:Meteo_Exterior_Crepusculo</th>\n",
              "      <th>14:Meteo_Exterior_Viento</th>\n",
              "      <th>15:Meteo_Exterior_Sol_Oest</th>\n",
              "      <th>16:Meteo_Exterior_Sol_Est</th>\n",
              "      <th>17:Meteo_Exterior_Sol_Sud</th>\n",
              "      <th>18:Meteo_Exterior_Piranometro</th>\n",
              "      <th>19:Exterior_Entalpic_1</th>\n",
              "      <th>20:Exterior_Entalpic_2</th>\n",
              "      <th>21:Exterior_Entalpic_turbo</th>\n",
              "      <th>22:Temperature_Exterior_Sensor</th>\n",
              "      <th>23:Humedad_Exterior_Sensor</th>\n",
              "      <th>24:Day_Of_Week</th>\n",
              "    </tr>\n",
              "  </thead>\n",
              "  <tbody>\n",
              "    <tr>\n",
              "      <th>0</th>\n",
              "      <td>13/03/2012</td>\n",
              "      <td>11:45</td>\n",
              "      <td>18.1875</td>\n",
              "      <td>17.8275</td>\n",
              "      <td>0.0000</td>\n",
              "      <td>216.560</td>\n",
              "      <td>221.920</td>\n",
              "      <td>39.9125</td>\n",
              "      <td>42.4150</td>\n",
              "      <td>81.6650</td>\n",
              "      <td>113.5200</td>\n",
              "      <td>0.0</td>\n",
              "      <td>623.360</td>\n",
              "      <td>1.426250</td>\n",
              "      <td>9690.24</td>\n",
              "      <td>12604.20</td>\n",
              "      <td>95436.800</td>\n",
              "      <td>758.8800</td>\n",
              "      <td>0</td>\n",
              "      <td>0</td>\n",
              "      <td>0</td>\n",
              "      <td>18.1150</td>\n",
              "      <td>48.3750</td>\n",
              "      <td>2.0</td>\n",
              "    </tr>\n",
              "    <tr>\n",
              "      <th>1</th>\n",
              "      <td>13/03/2012</td>\n",
              "      <td>12:00</td>\n",
              "      <td>18.4633</td>\n",
              "      <td>18.1207</td>\n",
              "      <td>6.8000</td>\n",
              "      <td>219.947</td>\n",
              "      <td>220.363</td>\n",
              "      <td>39.9267</td>\n",
              "      <td>42.2453</td>\n",
              "      <td>81.7413</td>\n",
              "      <td>113.6050</td>\n",
              "      <td>0.0</td>\n",
              "      <td>623.211</td>\n",
              "      <td>1.592000</td>\n",
              "      <td>11022.00</td>\n",
              "      <td>10787.20</td>\n",
              "      <td>95436.800</td>\n",
              "      <td>762.0690</td>\n",
              "      <td>0</td>\n",
              "      <td>0</td>\n",
              "      <td>0</td>\n",
              "      <td>18.4147</td>\n",
              "      <td>47.8080</td>\n",
              "      <td>2.0</td>\n",
              "    </tr>\n",
              "    <tr>\n",
              "      <th>2</th>\n",
              "      <td>13/03/2012</td>\n",
              "      <td>12:15</td>\n",
              "      <td>18.7673</td>\n",
              "      <td>18.4367</td>\n",
              "      <td>17.0000</td>\n",
              "      <td>219.403</td>\n",
              "      <td>218.933</td>\n",
              "      <td>39.7720</td>\n",
              "      <td>42.2267</td>\n",
              "      <td>81.4240</td>\n",
              "      <td>113.6000</td>\n",
              "      <td>0.0</td>\n",
              "      <td>622.656</td>\n",
              "      <td>1.891330</td>\n",
              "      <td>13960.50</td>\n",
              "      <td>9669.63</td>\n",
              "      <td>95398.600</td>\n",
              "      <td>766.2510</td>\n",
              "      <td>0</td>\n",
              "      <td>0</td>\n",
              "      <td>0</td>\n",
              "      <td>18.8533</td>\n",
              "      <td>47.4320</td>\n",
              "      <td>2.0</td>\n",
              "    </tr>\n",
              "    <tr>\n",
              "      <th>3</th>\n",
              "      <td>13/03/2012</td>\n",
              "      <td>12:30</td>\n",
              "      <td>19.0727</td>\n",
              "      <td>18.7513</td>\n",
              "      <td>18.0000</td>\n",
              "      <td>218.613</td>\n",
              "      <td>217.045</td>\n",
              "      <td>39.7760</td>\n",
              "      <td>42.0987</td>\n",
              "      <td>81.5013</td>\n",
              "      <td>113.3440</td>\n",
              "      <td>0.0</td>\n",
              "      <td>622.571</td>\n",
              "      <td>1.828000</td>\n",
              "      <td>18511.20</td>\n",
              "      <td>9648.13</td>\n",
              "      <td>95360.300</td>\n",
              "      <td>766.0370</td>\n",
              "      <td>0</td>\n",
              "      <td>0</td>\n",
              "      <td>0</td>\n",
              "      <td>19.2907</td>\n",
              "      <td>47.0240</td>\n",
              "      <td>2.0</td>\n",
              "    </tr>\n",
              "    <tr>\n",
              "      <th>4</th>\n",
              "      <td>13/03/2012</td>\n",
              "      <td>12:45</td>\n",
              "      <td>19.3721</td>\n",
              "      <td>19.0414</td>\n",
              "      <td>20.0000</td>\n",
              "      <td>217.714</td>\n",
              "      <td>216.080</td>\n",
              "      <td>39.7757</td>\n",
              "      <td>42.0686</td>\n",
              "      <td>81.4657</td>\n",
              "      <td>113.0340</td>\n",
              "      <td>0.0</td>\n",
              "      <td>622.400</td>\n",
              "      <td>2.360710</td>\n",
              "      <td>26349.00</td>\n",
              "      <td>9208.32</td>\n",
              "      <td>95354.900</td>\n",
              "      <td>762.7430</td>\n",
              "      <td>0</td>\n",
              "      <td>0</td>\n",
              "      <td>0</td>\n",
              "      <td>19.7400</td>\n",
              "      <td>45.4743</td>\n",
              "      <td>2.0</td>\n",
              "    </tr>\n",
              "    <tr>\n",
              "      <th>...</th>\n",
              "      <td>...</td>\n",
              "      <td>...</td>\n",
              "      <td>...</td>\n",
              "      <td>...</td>\n",
              "      <td>...</td>\n",
              "      <td>...</td>\n",
              "      <td>...</td>\n",
              "      <td>...</td>\n",
              "      <td>...</td>\n",
              "      <td>...</td>\n",
              "      <td>...</td>\n",
              "      <td>...</td>\n",
              "      <td>...</td>\n",
              "      <td>...</td>\n",
              "      <td>...</td>\n",
              "      <td>...</td>\n",
              "      <td>...</td>\n",
              "      <td>...</td>\n",
              "      <td>...</td>\n",
              "      <td>...</td>\n",
              "      <td>...</td>\n",
              "      <td>...</td>\n",
              "      <td>...</td>\n",
              "      <td>...</td>\n",
              "    </tr>\n",
              "    <tr>\n",
              "      <th>2759</th>\n",
              "      <td>11/04/2012</td>\n",
              "      <td>05:30</td>\n",
              "      <td>21.1520</td>\n",
              "      <td>20.8187</td>\n",
              "      <td>13.0000</td>\n",
              "      <td>190.539</td>\n",
              "      <td>192.181</td>\n",
              "      <td>41.3120</td>\n",
              "      <td>41.6880</td>\n",
              "      <td>11.4427</td>\n",
              "      <td>12.9400</td>\n",
              "      <td>0.0</td>\n",
              "      <td>392.603</td>\n",
              "      <td>0.074667</td>\n",
              "      <td>0.00</td>\n",
              "      <td>0.00</td>\n",
              "      <td>0.000</td>\n",
              "      <td>-3.4340</td>\n",
              "      <td>0</td>\n",
              "      <td>0</td>\n",
              "      <td>0</td>\n",
              "      <td>16.6180</td>\n",
              "      <td>49.2960</td>\n",
              "      <td>3.0</td>\n",
              "    </tr>\n",
              "    <tr>\n",
              "      <th>2760</th>\n",
              "      <td>11/04/2012</td>\n",
              "      <td>05:45</td>\n",
              "      <td>21.0413</td>\n",
              "      <td>20.7053</td>\n",
              "      <td>12.1333</td>\n",
              "      <td>190.421</td>\n",
              "      <td>193.067</td>\n",
              "      <td>41.3173</td>\n",
              "      <td>41.7200</td>\n",
              "      <td>11.6867</td>\n",
              "      <td>19.3200</td>\n",
              "      <td>0.0</td>\n",
              "      <td>613.120</td>\n",
              "      <td>0.000000</td>\n",
              "      <td>465.92</td>\n",
              "      <td>2716.67</td>\n",
              "      <td>523.264</td>\n",
              "      <td>3.8520</td>\n",
              "      <td>0</td>\n",
              "      <td>0</td>\n",
              "      <td>0</td>\n",
              "      <td>16.4013</td>\n",
              "      <td>50.0373</td>\n",
              "      <td>3.0</td>\n",
              "    </tr>\n",
              "    <tr>\n",
              "      <th>2761</th>\n",
              "      <td>11/04/2012</td>\n",
              "      <td>06:00</td>\n",
              "      <td>20.9347</td>\n",
              "      <td>20.5827</td>\n",
              "      <td>12.0000</td>\n",
              "      <td>190.432</td>\n",
              "      <td>193.653</td>\n",
              "      <td>41.3333</td>\n",
              "      <td>41.7573</td>\n",
              "      <td>19.5387</td>\n",
              "      <td>23.2427</td>\n",
              "      <td>0.0</td>\n",
              "      <td>613.803</td>\n",
              "      <td>0.310667</td>\n",
              "      <td>3454.98</td>\n",
              "      <td>16203.80</td>\n",
              "      <td>3347.460</td>\n",
              "      <td>26.8300</td>\n",
              "      <td>0</td>\n",
              "      <td>0</td>\n",
              "      <td>0</td>\n",
              "      <td>16.2607</td>\n",
              "      <td>50.0587</td>\n",
              "      <td>3.0</td>\n",
              "    </tr>\n",
              "    <tr>\n",
              "      <th>2762</th>\n",
              "      <td>11/04/2012</td>\n",
              "      <td>06:15</td>\n",
              "      <td>20.8560</td>\n",
              "      <td>20.5200</td>\n",
              "      <td>12.0000</td>\n",
              "      <td>191.531</td>\n",
              "      <td>193.387</td>\n",
              "      <td>41.3093</td>\n",
              "      <td>41.8107</td>\n",
              "      <td>20.9853</td>\n",
              "      <td>23.4400</td>\n",
              "      <td>0.0</td>\n",
              "      <td>615.403</td>\n",
              "      <td>0.299333</td>\n",
              "      <td>6795.26</td>\n",
              "      <td>38303.10</td>\n",
              "      <td>7110.660</td>\n",
              "      <td>66.9493</td>\n",
              "      <td>0</td>\n",
              "      <td>0</td>\n",
              "      <td>0</td>\n",
              "      <td>16.2367</td>\n",
              "      <td>49.8400</td>\n",
              "      <td>3.0</td>\n",
              "    </tr>\n",
              "    <tr>\n",
              "      <th>2763</th>\n",
              "      <td>11/04/2012</td>\n",
              "      <td>06:30</td>\n",
              "      <td>20.7627</td>\n",
              "      <td>20.4400</td>\n",
              "      <td>12.1333</td>\n",
              "      <td>191.563</td>\n",
              "      <td>193.664</td>\n",
              "      <td>41.2800</td>\n",
              "      <td>41.8373</td>\n",
              "      <td>20.5620</td>\n",
              "      <td>22.3080</td>\n",
              "      <td>0.0</td>\n",
              "      <td>616.725</td>\n",
              "      <td>0.908000</td>\n",
              "      <td>8952.83</td>\n",
              "      <td>51347.50</td>\n",
              "      <td>10270.700</td>\n",
              "      <td>112.2670</td>\n",
              "      <td>0</td>\n",
              "      <td>0</td>\n",
              "      <td>0</td>\n",
              "      <td>16.2860</td>\n",
              "      <td>50.2987</td>\n",
              "      <td>3.0</td>\n",
              "    </tr>\n",
              "  </tbody>\n",
              "</table>\n",
              "<p>2764 rows × 24 columns</p>\n",
              "</div>"
            ],
            "text/plain": [
              "            Date   Time  ...  23:Humedad_Exterior_Sensor  24:Day_Of_Week\n",
              "0     13/03/2012  11:45  ...                     48.3750             2.0\n",
              "1     13/03/2012  12:00  ...                     47.8080             2.0\n",
              "2     13/03/2012  12:15  ...                     47.4320             2.0\n",
              "3     13/03/2012  12:30  ...                     47.0240             2.0\n",
              "4     13/03/2012  12:45  ...                     45.4743             2.0\n",
              "...          ...    ...  ...                         ...             ...\n",
              "2759  11/04/2012  05:30  ...                     49.2960             3.0\n",
              "2760  11/04/2012  05:45  ...                     50.0373             3.0\n",
              "2761  11/04/2012  06:00  ...                     50.0587             3.0\n",
              "2762  11/04/2012  06:15  ...                     49.8400             3.0\n",
              "2763  11/04/2012  06:30  ...                     50.2987             3.0\n",
              "\n",
              "[2764 rows x 24 columns]"
            ]
          },
          "metadata": {
            "tags": []
          },
          "execution_count": 4
        }
      ]
    },
    {
      "cell_type": "markdown",
      "metadata": {
        "id": "OtpJcijfabsQ"
      },
      "source": [
        "Supprime les colonnes non utiles :\n",
        " - Date et heure\n",
        " - Exterior Entalpic 1, 2 et turbo  \n",
        "   \n",
        "Déplace la cible (4:Temperature_Habitacion_Sensor) en dernière colonne :"
      ]
    },
    {
      "cell_type": "code",
      "metadata": {
        "id": "0oElnLHPailF",
        "colab": {
          "base_uri": "https://localhost:8080/",
          "height": 0
        },
        "outputId": "741f8e9c-9b77-4ec0-f15a-e2b2155597d0"
      },
      "source": [
        "df_etude = df_etude.drop(['Date','Time','19:Exterior_Entalpic_1', '20:Exterior_Entalpic_2', '21:Exterior_Entalpic_turbo'],axis=1)\n",
        "cible = df_etude.pop(\"4:Temperature_Habitacion_Sensor\")\n",
        "df_etude.insert(len(df_etude.columns),\"Temperature_Habitacion_Sensor\",cible)\n",
        "df_etude"
      ],
      "execution_count": 5,
      "outputs": [
        {
          "output_type": "execute_result",
          "data": {
            "text/html": [
              "<div>\n",
              "<style scoped>\n",
              "    .dataframe tbody tr th:only-of-type {\n",
              "        vertical-align: middle;\n",
              "    }\n",
              "\n",
              "    .dataframe tbody tr th {\n",
              "        vertical-align: top;\n",
              "    }\n",
              "\n",
              "    .dataframe thead th {\n",
              "        text-align: right;\n",
              "    }\n",
              "</style>\n",
              "<table border=\"1\" class=\"dataframe\">\n",
              "  <thead>\n",
              "    <tr style=\"text-align: right;\">\n",
              "      <th></th>\n",
              "      <th>Temperature_Comedor_Sensor</th>\n",
              "      <th>5:Weather_Temperature</th>\n",
              "      <th>6:CO2_Comedor_Sensor</th>\n",
              "      <th>7:CO2_Habitacion_Sensor</th>\n",
              "      <th>8:Humedad_Comedor_Sensor</th>\n",
              "      <th>9:Humedad_Habitacion_Sensor</th>\n",
              "      <th>10:Lighting_Comedor_Sensor</th>\n",
              "      <th>11:Lighting_Habitacion_Sensor</th>\n",
              "      <th>12:Precipitacion</th>\n",
              "      <th>13:Meteo_Exterior_Crepusculo</th>\n",
              "      <th>14:Meteo_Exterior_Viento</th>\n",
              "      <th>15:Meteo_Exterior_Sol_Oest</th>\n",
              "      <th>16:Meteo_Exterior_Sol_Est</th>\n",
              "      <th>17:Meteo_Exterior_Sol_Sud</th>\n",
              "      <th>18:Meteo_Exterior_Piranometro</th>\n",
              "      <th>22:Temperature_Exterior_Sensor</th>\n",
              "      <th>23:Humedad_Exterior_Sensor</th>\n",
              "      <th>24:Day_Of_Week</th>\n",
              "      <th>Temperature_Habitacion_Sensor</th>\n",
              "    </tr>\n",
              "  </thead>\n",
              "  <tbody>\n",
              "    <tr>\n",
              "      <th>0</th>\n",
              "      <td>18.1875</td>\n",
              "      <td>0.0000</td>\n",
              "      <td>216.560</td>\n",
              "      <td>221.920</td>\n",
              "      <td>39.9125</td>\n",
              "      <td>42.4150</td>\n",
              "      <td>81.6650</td>\n",
              "      <td>113.5200</td>\n",
              "      <td>0.0</td>\n",
              "      <td>623.360</td>\n",
              "      <td>1.426250</td>\n",
              "      <td>9690.24</td>\n",
              "      <td>12604.20</td>\n",
              "      <td>95436.800</td>\n",
              "      <td>758.8800</td>\n",
              "      <td>18.1150</td>\n",
              "      <td>48.3750</td>\n",
              "      <td>2.0</td>\n",
              "      <td>17.8275</td>\n",
              "    </tr>\n",
              "    <tr>\n",
              "      <th>1</th>\n",
              "      <td>18.4633</td>\n",
              "      <td>6.8000</td>\n",
              "      <td>219.947</td>\n",
              "      <td>220.363</td>\n",
              "      <td>39.9267</td>\n",
              "      <td>42.2453</td>\n",
              "      <td>81.7413</td>\n",
              "      <td>113.6050</td>\n",
              "      <td>0.0</td>\n",
              "      <td>623.211</td>\n",
              "      <td>1.592000</td>\n",
              "      <td>11022.00</td>\n",
              "      <td>10787.20</td>\n",
              "      <td>95436.800</td>\n",
              "      <td>762.0690</td>\n",
              "      <td>18.4147</td>\n",
              "      <td>47.8080</td>\n",
              "      <td>2.0</td>\n",
              "      <td>18.1207</td>\n",
              "    </tr>\n",
              "    <tr>\n",
              "      <th>2</th>\n",
              "      <td>18.7673</td>\n",
              "      <td>17.0000</td>\n",
              "      <td>219.403</td>\n",
              "      <td>218.933</td>\n",
              "      <td>39.7720</td>\n",
              "      <td>42.2267</td>\n",
              "      <td>81.4240</td>\n",
              "      <td>113.6000</td>\n",
              "      <td>0.0</td>\n",
              "      <td>622.656</td>\n",
              "      <td>1.891330</td>\n",
              "      <td>13960.50</td>\n",
              "      <td>9669.63</td>\n",
              "      <td>95398.600</td>\n",
              "      <td>766.2510</td>\n",
              "      <td>18.8533</td>\n",
              "      <td>47.4320</td>\n",
              "      <td>2.0</td>\n",
              "      <td>18.4367</td>\n",
              "    </tr>\n",
              "    <tr>\n",
              "      <th>3</th>\n",
              "      <td>19.0727</td>\n",
              "      <td>18.0000</td>\n",
              "      <td>218.613</td>\n",
              "      <td>217.045</td>\n",
              "      <td>39.7760</td>\n",
              "      <td>42.0987</td>\n",
              "      <td>81.5013</td>\n",
              "      <td>113.3440</td>\n",
              "      <td>0.0</td>\n",
              "      <td>622.571</td>\n",
              "      <td>1.828000</td>\n",
              "      <td>18511.20</td>\n",
              "      <td>9648.13</td>\n",
              "      <td>95360.300</td>\n",
              "      <td>766.0370</td>\n",
              "      <td>19.2907</td>\n",
              "      <td>47.0240</td>\n",
              "      <td>2.0</td>\n",
              "      <td>18.7513</td>\n",
              "    </tr>\n",
              "    <tr>\n",
              "      <th>4</th>\n",
              "      <td>19.3721</td>\n",
              "      <td>20.0000</td>\n",
              "      <td>217.714</td>\n",
              "      <td>216.080</td>\n",
              "      <td>39.7757</td>\n",
              "      <td>42.0686</td>\n",
              "      <td>81.4657</td>\n",
              "      <td>113.0340</td>\n",
              "      <td>0.0</td>\n",
              "      <td>622.400</td>\n",
              "      <td>2.360710</td>\n",
              "      <td>26349.00</td>\n",
              "      <td>9208.32</td>\n",
              "      <td>95354.900</td>\n",
              "      <td>762.7430</td>\n",
              "      <td>19.7400</td>\n",
              "      <td>45.4743</td>\n",
              "      <td>2.0</td>\n",
              "      <td>19.0414</td>\n",
              "    </tr>\n",
              "    <tr>\n",
              "      <th>...</th>\n",
              "      <td>...</td>\n",
              "      <td>...</td>\n",
              "      <td>...</td>\n",
              "      <td>...</td>\n",
              "      <td>...</td>\n",
              "      <td>...</td>\n",
              "      <td>...</td>\n",
              "      <td>...</td>\n",
              "      <td>...</td>\n",
              "      <td>...</td>\n",
              "      <td>...</td>\n",
              "      <td>...</td>\n",
              "      <td>...</td>\n",
              "      <td>...</td>\n",
              "      <td>...</td>\n",
              "      <td>...</td>\n",
              "      <td>...</td>\n",
              "      <td>...</td>\n",
              "      <td>...</td>\n",
              "    </tr>\n",
              "    <tr>\n",
              "      <th>2759</th>\n",
              "      <td>21.1520</td>\n",
              "      <td>13.0000</td>\n",
              "      <td>190.539</td>\n",
              "      <td>192.181</td>\n",
              "      <td>41.3120</td>\n",
              "      <td>41.6880</td>\n",
              "      <td>11.4427</td>\n",
              "      <td>12.9400</td>\n",
              "      <td>0.0</td>\n",
              "      <td>392.603</td>\n",
              "      <td>0.074667</td>\n",
              "      <td>0.00</td>\n",
              "      <td>0.00</td>\n",
              "      <td>0.000</td>\n",
              "      <td>-3.4340</td>\n",
              "      <td>16.6180</td>\n",
              "      <td>49.2960</td>\n",
              "      <td>3.0</td>\n",
              "      <td>20.8187</td>\n",
              "    </tr>\n",
              "    <tr>\n",
              "      <th>2760</th>\n",
              "      <td>21.0413</td>\n",
              "      <td>12.1333</td>\n",
              "      <td>190.421</td>\n",
              "      <td>193.067</td>\n",
              "      <td>41.3173</td>\n",
              "      <td>41.7200</td>\n",
              "      <td>11.6867</td>\n",
              "      <td>19.3200</td>\n",
              "      <td>0.0</td>\n",
              "      <td>613.120</td>\n",
              "      <td>0.000000</td>\n",
              "      <td>465.92</td>\n",
              "      <td>2716.67</td>\n",
              "      <td>523.264</td>\n",
              "      <td>3.8520</td>\n",
              "      <td>16.4013</td>\n",
              "      <td>50.0373</td>\n",
              "      <td>3.0</td>\n",
              "      <td>20.7053</td>\n",
              "    </tr>\n",
              "    <tr>\n",
              "      <th>2761</th>\n",
              "      <td>20.9347</td>\n",
              "      <td>12.0000</td>\n",
              "      <td>190.432</td>\n",
              "      <td>193.653</td>\n",
              "      <td>41.3333</td>\n",
              "      <td>41.7573</td>\n",
              "      <td>19.5387</td>\n",
              "      <td>23.2427</td>\n",
              "      <td>0.0</td>\n",
              "      <td>613.803</td>\n",
              "      <td>0.310667</td>\n",
              "      <td>3454.98</td>\n",
              "      <td>16203.80</td>\n",
              "      <td>3347.460</td>\n",
              "      <td>26.8300</td>\n",
              "      <td>16.2607</td>\n",
              "      <td>50.0587</td>\n",
              "      <td>3.0</td>\n",
              "      <td>20.5827</td>\n",
              "    </tr>\n",
              "    <tr>\n",
              "      <th>2762</th>\n",
              "      <td>20.8560</td>\n",
              "      <td>12.0000</td>\n",
              "      <td>191.531</td>\n",
              "      <td>193.387</td>\n",
              "      <td>41.3093</td>\n",
              "      <td>41.8107</td>\n",
              "      <td>20.9853</td>\n",
              "      <td>23.4400</td>\n",
              "      <td>0.0</td>\n",
              "      <td>615.403</td>\n",
              "      <td>0.299333</td>\n",
              "      <td>6795.26</td>\n",
              "      <td>38303.10</td>\n",
              "      <td>7110.660</td>\n",
              "      <td>66.9493</td>\n",
              "      <td>16.2367</td>\n",
              "      <td>49.8400</td>\n",
              "      <td>3.0</td>\n",
              "      <td>20.5200</td>\n",
              "    </tr>\n",
              "    <tr>\n",
              "      <th>2763</th>\n",
              "      <td>20.7627</td>\n",
              "      <td>12.1333</td>\n",
              "      <td>191.563</td>\n",
              "      <td>193.664</td>\n",
              "      <td>41.2800</td>\n",
              "      <td>41.8373</td>\n",
              "      <td>20.5620</td>\n",
              "      <td>22.3080</td>\n",
              "      <td>0.0</td>\n",
              "      <td>616.725</td>\n",
              "      <td>0.908000</td>\n",
              "      <td>8952.83</td>\n",
              "      <td>51347.50</td>\n",
              "      <td>10270.700</td>\n",
              "      <td>112.2670</td>\n",
              "      <td>16.2860</td>\n",
              "      <td>50.2987</td>\n",
              "      <td>3.0</td>\n",
              "      <td>20.4400</td>\n",
              "    </tr>\n",
              "  </tbody>\n",
              "</table>\n",
              "<p>2764 rows × 19 columns</p>\n",
              "</div>"
            ],
            "text/plain": [
              "      Temperature_Comedor_Sensor  ...  Temperature_Habitacion_Sensor\n",
              "0                        18.1875  ...                        17.8275\n",
              "1                        18.4633  ...                        18.1207\n",
              "2                        18.7673  ...                        18.4367\n",
              "3                        19.0727  ...                        18.7513\n",
              "4                        19.3721  ...                        19.0414\n",
              "...                          ...  ...                            ...\n",
              "2759                     21.1520  ...                        20.8187\n",
              "2760                     21.0413  ...                        20.7053\n",
              "2761                     20.9347  ...                        20.5827\n",
              "2762                     20.8560  ...                        20.5200\n",
              "2763                     20.7627  ...                        20.4400\n",
              "\n",
              "[2764 rows x 19 columns]"
            ]
          },
          "metadata": {
            "tags": []
          },
          "execution_count": 5
        }
      ]
    },
    {
      "cell_type": "markdown",
      "metadata": {
        "id": "7J2st85d9AKo"
      },
      "source": [
        "Affiche les types :"
      ]
    },
    {
      "cell_type": "code",
      "metadata": {
        "id": "INH5D4lncQRY",
        "colab": {
          "base_uri": "https://localhost:8080/"
        },
        "outputId": "4fd5ead3-abb9-4a84-8735-c17cca869cb5"
      },
      "source": [
        "df_etude.dtypes"
      ],
      "execution_count": 6,
      "outputs": [
        {
          "output_type": "execute_result",
          "data": {
            "text/plain": [
              "Temperature_Comedor_Sensor        float64\n",
              "5:Weather_Temperature             float64\n",
              "6:CO2_Comedor_Sensor              float64\n",
              "7:CO2_Habitacion_Sensor           float64\n",
              "8:Humedad_Comedor_Sensor          float64\n",
              "9:Humedad_Habitacion_Sensor       float64\n",
              "10:Lighting_Comedor_Sensor        float64\n",
              "11:Lighting_Habitacion_Sensor     float64\n",
              "12:Precipitacion                  float64\n",
              "13:Meteo_Exterior_Crepusculo      float64\n",
              "14:Meteo_Exterior_Viento          float64\n",
              "15:Meteo_Exterior_Sol_Oest        float64\n",
              "16:Meteo_Exterior_Sol_Est         float64\n",
              "17:Meteo_Exterior_Sol_Sud         float64\n",
              "18:Meteo_Exterior_Piranometro     float64\n",
              "22:Temperature_Exterior_Sensor    float64\n",
              "23:Humedad_Exterior_Sensor        float64\n",
              "24:Day_Of_Week                    float64\n",
              "Temperature_Habitacion_Sensor     float64\n",
              "dtype: object"
            ]
          },
          "metadata": {
            "tags": []
          },
          "execution_count": 6
        }
      ]
    },
    {
      "cell_type": "markdown",
      "metadata": {
        "id": "igyc5qUTcdXo"
      },
      "source": [
        "Modifie les type en float32 :"
      ]
    },
    {
      "cell_type": "code",
      "metadata": {
        "id": "d_0svvF8chHQ",
        "colab": {
          "base_uri": "https://localhost:8080/"
        },
        "outputId": "1812080f-a998-456e-d10e-15afef2f4bb9"
      },
      "source": [
        "df_etude = df_etude.astype(dtype='float32')\n",
        "df_etude.dtypes"
      ],
      "execution_count": 7,
      "outputs": [
        {
          "output_type": "execute_result",
          "data": {
            "text/plain": [
              "Temperature_Comedor_Sensor        float32\n",
              "5:Weather_Temperature             float32\n",
              "6:CO2_Comedor_Sensor              float32\n",
              "7:CO2_Habitacion_Sensor           float32\n",
              "8:Humedad_Comedor_Sensor          float32\n",
              "9:Humedad_Habitacion_Sensor       float32\n",
              "10:Lighting_Comedor_Sensor        float32\n",
              "11:Lighting_Habitacion_Sensor     float32\n",
              "12:Precipitacion                  float32\n",
              "13:Meteo_Exterior_Crepusculo      float32\n",
              "14:Meteo_Exterior_Viento          float32\n",
              "15:Meteo_Exterior_Sol_Oest        float32\n",
              "16:Meteo_Exterior_Sol_Est         float32\n",
              "17:Meteo_Exterior_Sol_Sud         float32\n",
              "18:Meteo_Exterior_Piranometro     float32\n",
              "22:Temperature_Exterior_Sensor    float32\n",
              "23:Humedad_Exterior_Sensor        float32\n",
              "24:Day_Of_Week                    float32\n",
              "Temperature_Habitacion_Sensor     float32\n",
              "dtype: object"
            ]
          },
          "metadata": {
            "tags": []
          },
          "execution_count": 7
        }
      ]
    },
    {
      "cell_type": "markdown",
      "metadata": {
        "id": "FXCWWy_kBmpZ"
      },
      "source": [
        "**5. Affiche les données**"
      ]
    },
    {
      "cell_type": "code",
      "metadata": {
        "id": "X0rshQNtq2P-",
        "colab": {
          "base_uri": "https://localhost:8080/",
          "height": 0
        },
        "outputId": "7b197791-4817-4d54-cb3f-5c75add71689"
      },
      "source": [
        "import plotly.graph_objects as go\n",
        "\n",
        "fig = go.Figure()\n",
        "\n",
        "fig.add_trace(go.Scatter(x=np.linspace(0,len(df_etude),len(df_etude)+1),y=df_etude['Temperature_Habitacion_Sensor'], line=dict(color='blue', width=1),name=\"Index\"))\n",
        "fig.update_xaxes(rangeslider_visible=True)\n",
        "yaxis=dict(autorange = True,fixedrange= False)\n",
        "fig.update_yaxes(yaxis)\n",
        "fig.show()"
      ],
      "execution_count": 8,
      "outputs": [
        {
          "output_type": "display_data",
          "data": {
            "text/html": [
              "<html>\n",
              "<head><meta charset=\"utf-8\" /></head>\n",
              "<body>\n",
              "    <div>\n",
              "            <script src=\"https://cdnjs.cloudflare.com/ajax/libs/mathjax/2.7.5/MathJax.js?config=TeX-AMS-MML_SVG\"></script><script type=\"text/javascript\">if (window.MathJax) {MathJax.Hub.Config({SVG: {font: \"STIX-Web\"}});}</script>\n",
              "                <script type=\"text/javascript\">window.PlotlyConfig = {MathJaxConfig: 'local'};</script>\n",
              "        <script src=\"https://cdn.plot.ly/plotly-latest.min.js\"></script>    \n",
              "            <div id=\"ced40ad9-8f6f-4777-b974-6ac7332ba7a1\" class=\"plotly-graph-div\" style=\"height:525px; width:100%;\"></div>\n",
              "            <script type=\"text/javascript\">\n",
              "                \n",
              "                    window.PLOTLYENV=window.PLOTLYENV || {};\n",
              "                    \n",
              "                if (document.getElementById(\"ced40ad9-8f6f-4777-b974-6ac7332ba7a1\")) {\n",
              "                    Plotly.newPlot(\n",
              "                        'ced40ad9-8f6f-4777-b974-6ac7332ba7a1',\n",
              "                        [{\"line\": {\"color\": \"blue\", \"width\": 1}, \"name\": \"Index\", \"type\": \"scatter\", \"x\": [0.0, 1.0, 2.0, 3.0, 4.0, 5.0, 6.0, 7.0, 8.0, 9.0, 10.0, 11.0, 12.0, 13.0, 14.0, 15.0, 16.0, 17.0, 18.0, 19.0, 20.0, 21.0, 22.0, 23.0, 24.0, 25.0, 26.0, 27.0, 28.0, 29.0, 30.0, 31.0, 32.0, 33.0, 34.0, 35.0, 36.0, 37.0, 38.0, 39.0, 40.0, 41.0, 42.0, 43.0, 44.0, 45.0, 46.0, 47.0, 48.0, 49.0, 50.0, 51.0, 52.0, 53.0, 54.0, 55.0, 56.0, 57.0, 58.0, 59.0, 60.0, 61.0, 62.0, 63.0, 64.0, 65.0, 66.0, 67.0, 68.0, 69.0, 70.0, 71.0, 72.0, 73.0, 74.0, 75.0, 76.0, 77.0, 78.0, 79.0, 80.0, 81.0, 82.0, 83.0, 84.0, 85.0, 86.0, 87.0, 88.0, 89.0, 90.0, 91.0, 92.0, 93.0, 94.0, 95.0, 96.0, 97.0, 98.0, 99.0, 100.0, 101.0, 102.0, 103.0, 104.0, 105.0, 106.0, 107.0, 108.0, 109.0, 110.0, 111.0, 112.0, 113.0, 114.0, 115.0, 116.0, 117.0, 118.0, 119.0, 120.0, 121.0, 122.0, 123.0, 124.0, 125.0, 126.0, 127.0, 128.0, 129.0, 130.0, 131.0, 132.0, 133.0, 134.0, 135.0, 136.0, 137.0, 138.0, 139.0, 140.0, 141.0, 142.0, 143.0, 144.0, 145.0, 146.0, 147.0, 148.0, 149.0, 150.0, 151.0, 152.0, 153.0, 154.0, 155.0, 156.0, 157.0, 158.0, 159.0, 160.0, 161.0, 162.0, 163.0, 164.0, 165.0, 166.0, 167.0, 168.0, 169.0, 170.0, 171.0, 172.0, 173.0, 174.0, 175.0, 176.0, 177.0, 178.0, 179.0, 180.0, 181.0, 182.0, 183.0, 184.0, 185.0, 186.0, 187.0, 188.0, 189.0, 190.0, 191.0, 192.0, 193.0, 194.0, 195.0, 196.0, 197.0, 198.0, 199.0, 200.0, 201.0, 202.0, 203.0, 204.0, 205.0, 206.0, 207.0, 208.0, 209.0, 210.0, 211.0, 212.0, 213.0, 214.0, 215.0, 216.0, 217.0, 218.0, 219.0, 220.0, 221.0, 222.0, 223.0, 224.0, 225.0, 226.0, 227.0, 228.0, 229.0, 230.0, 231.0, 232.0, 233.0, 234.0, 235.0, 236.0, 237.0, 238.0, 239.0, 240.0, 241.0, 242.0, 243.0, 244.0, 245.0, 246.0, 247.0, 248.0, 249.0, 250.0, 251.0, 252.0, 253.0, 254.0, 255.0, 256.0, 257.0, 258.0, 259.0, 260.0, 261.0, 262.0, 263.0, 264.0, 265.0, 266.0, 267.0, 268.0, 269.0, 270.0, 271.0, 272.0, 273.0, 274.0, 275.0, 276.0, 277.0, 278.0, 279.0, 280.0, 281.0, 282.0, 283.0, 284.0, 285.0, 286.0, 287.0, 288.0, 289.0, 290.0, 291.0, 292.0, 293.0, 294.0, 295.0, 296.0, 297.0, 298.0, 299.0, 300.0, 301.0, 302.0, 303.0, 304.0, 305.0, 306.0, 307.0, 308.0, 309.0, 310.0, 311.0, 312.0, 313.0, 314.0, 315.0, 316.0, 317.0, 318.0, 319.0, 320.0, 321.0, 322.0, 323.0, 324.0, 325.0, 326.0, 327.0, 328.0, 329.0, 330.0, 331.0, 332.0, 333.0, 334.0, 335.0, 336.0, 337.0, 338.0, 339.0, 340.0, 341.0, 342.0, 343.0, 344.0, 345.0, 346.0, 347.0, 348.0, 349.0, 350.0, 351.0, 352.0, 353.0, 354.0, 355.0, 356.0, 357.0, 358.0, 359.0, 360.0, 361.0, 362.0, 363.0, 364.0, 365.0, 366.0, 367.0, 368.0, 369.0, 370.0, 371.0, 372.0, 373.0, 374.0, 375.0, 376.0, 377.0, 378.0, 379.0, 380.0, 381.0, 382.0, 383.0, 384.0, 385.0, 386.0, 387.0, 388.0, 389.0, 390.0, 391.0, 392.0, 393.0, 394.0, 395.0, 396.0, 397.0, 398.0, 399.0, 400.0, 401.0, 402.0, 403.0, 404.0, 405.0, 406.0, 407.0, 408.0, 409.0, 410.0, 411.0, 412.0, 413.0, 414.0, 415.0, 416.0, 417.0, 418.0, 419.0, 420.0, 421.0, 422.0, 423.0, 424.0, 425.0, 426.0, 427.0, 428.0, 429.0, 430.0, 431.0, 432.0, 433.0, 434.0, 435.0, 436.0, 437.0, 438.0, 439.0, 440.0, 441.0, 442.0, 443.0, 444.0, 445.0, 446.0, 447.0, 448.0, 449.0, 450.0, 451.0, 452.0, 453.0, 454.0, 455.0, 456.0, 457.0, 458.0, 459.0, 460.0, 461.0, 462.0, 463.0, 464.0, 465.0, 466.0, 467.0, 468.0, 469.0, 470.0, 471.0, 472.0, 473.0, 474.0, 475.0, 476.0, 477.0, 478.0, 479.0, 480.0, 481.0, 482.0, 483.0, 484.0, 485.0, 486.0, 487.0, 488.0, 489.0, 490.0, 491.0, 492.0, 493.0, 494.0, 495.0, 496.0, 497.0, 498.0, 499.0, 500.0, 501.0, 502.0, 503.0, 504.0, 505.0, 506.0, 507.0, 508.0, 509.0, 510.0, 511.0, 512.0, 513.0, 514.0, 515.0, 516.0, 517.0, 518.0, 519.0, 520.0, 521.0, 522.0, 523.0, 524.0, 525.0, 526.0, 527.0, 528.0, 529.0, 530.0, 531.0, 532.0, 533.0, 534.0, 535.0, 536.0, 537.0, 538.0, 539.0, 540.0, 541.0, 542.0, 543.0, 544.0, 545.0, 546.0, 547.0, 548.0, 549.0, 550.0, 551.0, 552.0, 553.0, 554.0, 555.0, 556.0, 557.0, 558.0, 559.0, 560.0, 561.0, 562.0, 563.0, 564.0, 565.0, 566.0, 567.0, 568.0, 569.0, 570.0, 571.0, 572.0, 573.0, 574.0, 575.0, 576.0, 577.0, 578.0, 579.0, 580.0, 581.0, 582.0, 583.0, 584.0, 585.0, 586.0, 587.0, 588.0, 589.0, 590.0, 591.0, 592.0, 593.0, 594.0, 595.0, 596.0, 597.0, 598.0, 599.0, 600.0, 601.0, 602.0, 603.0, 604.0, 605.0, 606.0, 607.0, 608.0, 609.0, 610.0, 611.0, 612.0, 613.0, 614.0, 615.0, 616.0, 617.0, 618.0, 619.0, 620.0, 621.0, 622.0, 623.0, 624.0, 625.0, 626.0, 627.0, 628.0, 629.0, 630.0, 631.0, 632.0, 633.0, 634.0, 635.0, 636.0, 637.0, 638.0, 639.0, 640.0, 641.0, 642.0, 643.0, 644.0, 645.0, 646.0, 647.0, 648.0, 649.0, 650.0, 651.0, 652.0, 653.0, 654.0, 655.0, 656.0, 657.0, 658.0, 659.0, 660.0, 661.0, 662.0, 663.0, 664.0, 665.0, 666.0, 667.0, 668.0, 669.0, 670.0, 671.0, 672.0, 673.0, 674.0, 675.0, 676.0, 677.0, 678.0, 679.0, 680.0, 681.0, 682.0, 683.0, 684.0, 685.0, 686.0, 687.0, 688.0, 689.0, 690.0, 691.0, 692.0, 693.0, 694.0, 695.0, 696.0, 697.0, 698.0, 699.0, 700.0, 701.0, 702.0, 703.0, 704.0, 705.0, 706.0, 707.0, 708.0, 709.0, 710.0, 711.0, 712.0, 713.0, 714.0, 715.0, 716.0, 717.0, 718.0, 719.0, 720.0, 721.0, 722.0, 723.0, 724.0, 725.0, 726.0, 727.0, 728.0, 729.0, 730.0, 731.0, 732.0, 733.0, 734.0, 735.0, 736.0, 737.0, 738.0, 739.0, 740.0, 741.0, 742.0, 743.0, 744.0, 745.0, 746.0, 747.0, 748.0, 749.0, 750.0, 751.0, 752.0, 753.0, 754.0, 755.0, 756.0, 757.0, 758.0, 759.0, 760.0, 761.0, 762.0, 763.0, 764.0, 765.0, 766.0, 767.0, 768.0, 769.0, 770.0, 771.0, 772.0, 773.0, 774.0, 775.0, 776.0, 777.0, 778.0, 779.0, 780.0, 781.0, 782.0, 783.0, 784.0, 785.0, 786.0, 787.0, 788.0, 789.0, 790.0, 791.0, 792.0, 793.0, 794.0, 795.0, 796.0, 797.0, 798.0, 799.0, 800.0, 801.0, 802.0, 803.0, 804.0, 805.0, 806.0, 807.0, 808.0, 809.0, 810.0, 811.0, 812.0, 813.0, 814.0, 815.0, 816.0, 817.0, 818.0, 819.0, 820.0, 821.0, 822.0, 823.0, 824.0, 825.0, 826.0, 827.0, 828.0, 829.0, 830.0, 831.0, 832.0, 833.0, 834.0, 835.0, 836.0, 837.0, 838.0, 839.0, 840.0, 841.0, 842.0, 843.0, 844.0, 845.0, 846.0, 847.0, 848.0, 849.0, 850.0, 851.0, 852.0, 853.0, 854.0, 855.0, 856.0, 857.0, 858.0, 859.0, 860.0, 861.0, 862.0, 863.0, 864.0, 865.0, 866.0, 867.0, 868.0, 869.0, 870.0, 871.0, 872.0, 873.0, 874.0, 875.0, 876.0, 877.0, 878.0, 879.0, 880.0, 881.0, 882.0, 883.0, 884.0, 885.0, 886.0, 887.0, 888.0, 889.0, 890.0, 891.0, 892.0, 893.0, 894.0, 895.0, 896.0, 897.0, 898.0, 899.0, 900.0, 901.0, 902.0, 903.0, 904.0, 905.0, 906.0, 907.0, 908.0, 909.0, 910.0, 911.0, 912.0, 913.0, 914.0, 915.0, 916.0, 917.0, 918.0, 919.0, 920.0, 921.0, 922.0, 923.0, 924.0, 925.0, 926.0, 927.0, 928.0, 929.0, 930.0, 931.0, 932.0, 933.0, 934.0, 935.0, 936.0, 937.0, 938.0, 939.0, 940.0, 941.0, 942.0, 943.0, 944.0, 945.0, 946.0, 947.0, 948.0, 949.0, 950.0, 951.0, 952.0, 953.0, 954.0, 955.0, 956.0, 957.0, 958.0, 959.0, 960.0, 961.0, 962.0, 963.0, 964.0, 965.0, 966.0, 967.0, 968.0, 969.0, 970.0, 971.0, 972.0, 973.0, 974.0, 975.0, 976.0, 977.0, 978.0, 979.0, 980.0, 981.0, 982.0, 983.0, 984.0, 985.0, 986.0, 987.0, 988.0, 989.0, 990.0, 991.0, 992.0, 993.0, 994.0, 995.0, 996.0, 997.0, 998.0, 999.0, 1000.0, 1001.0, 1002.0, 1003.0, 1004.0, 1005.0, 1006.0, 1007.0, 1008.0, 1009.0, 1010.0, 1011.0, 1012.0, 1013.0, 1014.0, 1015.0, 1016.0, 1017.0, 1018.0, 1019.0, 1020.0, 1021.0, 1022.0, 1023.0, 1024.0, 1025.0, 1026.0, 1027.0, 1028.0, 1029.0, 1030.0, 1031.0, 1032.0, 1033.0, 1034.0, 1035.0, 1036.0, 1037.0, 1038.0, 1039.0, 1040.0, 1041.0, 1042.0, 1043.0, 1044.0, 1045.0, 1046.0, 1047.0, 1048.0, 1049.0, 1050.0, 1051.0, 1052.0, 1053.0, 1054.0, 1055.0, 1056.0, 1057.0, 1058.0, 1059.0, 1060.0, 1061.0, 1062.0, 1063.0, 1064.0, 1065.0, 1066.0, 1067.0, 1068.0, 1069.0, 1070.0, 1071.0, 1072.0, 1073.0, 1074.0, 1075.0, 1076.0, 1077.0, 1078.0, 1079.0, 1080.0, 1081.0, 1082.0, 1083.0, 1084.0, 1085.0, 1086.0, 1087.0, 1088.0, 1089.0, 1090.0, 1091.0, 1092.0, 1093.0, 1094.0, 1095.0, 1096.0, 1097.0, 1098.0, 1099.0, 1100.0, 1101.0, 1102.0, 1103.0, 1104.0, 1105.0, 1106.0, 1107.0, 1108.0, 1109.0, 1110.0, 1111.0, 1112.0, 1113.0, 1114.0, 1115.0, 1116.0, 1117.0, 1118.0, 1119.0, 1120.0, 1121.0, 1122.0, 1123.0, 1124.0, 1125.0, 1126.0, 1127.0, 1128.0, 1129.0, 1130.0, 1131.0, 1132.0, 1133.0, 1134.0, 1135.0, 1136.0, 1137.0, 1138.0, 1139.0, 1140.0, 1141.0, 1142.0, 1143.0, 1144.0, 1145.0, 1146.0, 1147.0, 1148.0, 1149.0, 1150.0, 1151.0, 1152.0, 1153.0, 1154.0, 1155.0, 1156.0, 1157.0, 1158.0, 1159.0, 1160.0, 1161.0, 1162.0, 1163.0, 1164.0, 1165.0, 1166.0, 1167.0, 1168.0, 1169.0, 1170.0, 1171.0, 1172.0, 1173.0, 1174.0, 1175.0, 1176.0, 1177.0, 1178.0, 1179.0, 1180.0, 1181.0, 1182.0, 1183.0, 1184.0, 1185.0, 1186.0, 1187.0, 1188.0, 1189.0, 1190.0, 1191.0, 1192.0, 1193.0, 1194.0, 1195.0, 1196.0, 1197.0, 1198.0, 1199.0, 1200.0, 1201.0, 1202.0, 1203.0, 1204.0, 1205.0, 1206.0, 1207.0, 1208.0, 1209.0, 1210.0, 1211.0, 1212.0, 1213.0, 1214.0, 1215.0, 1216.0, 1217.0, 1218.0, 1219.0, 1220.0, 1221.0, 1222.0, 1223.0, 1224.0, 1225.0, 1226.0, 1227.0, 1228.0, 1229.0, 1230.0, 1231.0, 1232.0, 1233.0, 1234.0, 1235.0, 1236.0, 1237.0, 1238.0, 1239.0, 1240.0, 1241.0, 1242.0, 1243.0, 1244.0, 1245.0, 1246.0, 1247.0, 1248.0, 1249.0, 1250.0, 1251.0, 1252.0, 1253.0, 1254.0, 1255.0, 1256.0, 1257.0, 1258.0, 1259.0, 1260.0, 1261.0, 1262.0, 1263.0, 1264.0, 1265.0, 1266.0, 1267.0, 1268.0, 1269.0, 1270.0, 1271.0, 1272.0, 1273.0, 1274.0, 1275.0, 1276.0, 1277.0, 1278.0, 1279.0, 1280.0, 1281.0, 1282.0, 1283.0, 1284.0, 1285.0, 1286.0, 1287.0, 1288.0, 1289.0, 1290.0, 1291.0, 1292.0, 1293.0, 1294.0, 1295.0, 1296.0, 1297.0, 1298.0, 1299.0, 1300.0, 1301.0, 1302.0, 1303.0, 1304.0, 1305.0, 1306.0, 1307.0, 1308.0, 1309.0, 1310.0, 1311.0, 1312.0, 1313.0, 1314.0, 1315.0, 1316.0, 1317.0, 1318.0, 1319.0, 1320.0, 1321.0, 1322.0, 1323.0, 1324.0, 1325.0, 1326.0, 1327.0, 1328.0, 1329.0, 1330.0, 1331.0, 1332.0, 1333.0, 1334.0, 1335.0, 1336.0, 1337.0, 1338.0, 1339.0, 1340.0, 1341.0, 1342.0, 1343.0, 1344.0, 1345.0, 1346.0, 1347.0, 1348.0, 1349.0, 1350.0, 1351.0, 1352.0, 1353.0, 1354.0, 1355.0, 1356.0, 1357.0, 1358.0, 1359.0, 1360.0, 1361.0, 1362.0, 1363.0, 1364.0, 1365.0, 1366.0, 1367.0, 1368.0, 1369.0, 1370.0, 1371.0, 1372.0, 1373.0, 1374.0, 1375.0, 1376.0, 1377.0, 1378.0, 1379.0, 1380.0, 1381.0, 1382.0, 1383.0, 1384.0, 1385.0, 1386.0, 1387.0, 1388.0, 1389.0, 1390.0, 1391.0, 1392.0, 1393.0, 1394.0, 1395.0, 1396.0, 1397.0, 1398.0, 1399.0, 1400.0, 1401.0, 1402.0, 1403.0, 1404.0, 1405.0, 1406.0, 1407.0, 1408.0, 1409.0, 1410.0, 1411.0, 1412.0, 1413.0, 1414.0, 1415.0, 1416.0, 1417.0, 1418.0, 1419.0, 1420.0, 1421.0, 1422.0, 1423.0, 1424.0, 1425.0, 1426.0, 1427.0, 1428.0, 1429.0, 1430.0, 1431.0, 1432.0, 1433.0, 1434.0, 1435.0, 1436.0, 1437.0, 1438.0, 1439.0, 1440.0, 1441.0, 1442.0, 1443.0, 1444.0, 1445.0, 1446.0, 1447.0, 1448.0, 1449.0, 1450.0, 1451.0, 1452.0, 1453.0, 1454.0, 1455.0, 1456.0, 1457.0, 1458.0, 1459.0, 1460.0, 1461.0, 1462.0, 1463.0, 1464.0, 1465.0, 1466.0, 1467.0, 1468.0, 1469.0, 1470.0, 1471.0, 1472.0, 1473.0, 1474.0, 1475.0, 1476.0, 1477.0, 1478.0, 1479.0, 1480.0, 1481.0, 1482.0, 1483.0, 1484.0, 1485.0, 1486.0, 1487.0, 1488.0, 1489.0, 1490.0, 1491.0, 1492.0, 1493.0, 1494.0, 1495.0, 1496.0, 1497.0, 1498.0, 1499.0, 1500.0, 1501.0, 1502.0, 1503.0, 1504.0, 1505.0, 1506.0, 1507.0, 1508.0, 1509.0, 1510.0, 1511.0, 1512.0, 1513.0, 1514.0, 1515.0, 1516.0, 1517.0, 1518.0, 1519.0, 1520.0, 1521.0, 1522.0, 1523.0, 1524.0, 1525.0, 1526.0, 1527.0, 1528.0, 1529.0, 1530.0, 1531.0, 1532.0, 1533.0, 1534.0, 1535.0, 1536.0, 1537.0, 1538.0, 1539.0, 1540.0, 1541.0, 1542.0, 1543.0, 1544.0, 1545.0, 1546.0, 1547.0, 1548.0, 1549.0, 1550.0, 1551.0, 1552.0, 1553.0, 1554.0, 1555.0, 1556.0, 1557.0, 1558.0, 1559.0, 1560.0, 1561.0, 1562.0, 1563.0, 1564.0, 1565.0, 1566.0, 1567.0, 1568.0, 1569.0, 1570.0, 1571.0, 1572.0, 1573.0, 1574.0, 1575.0, 1576.0, 1577.0, 1578.0, 1579.0, 1580.0, 1581.0, 1582.0, 1583.0, 1584.0, 1585.0, 1586.0, 1587.0, 1588.0, 1589.0, 1590.0, 1591.0, 1592.0, 1593.0, 1594.0, 1595.0, 1596.0, 1597.0, 1598.0, 1599.0, 1600.0, 1601.0, 1602.0, 1603.0, 1604.0, 1605.0, 1606.0, 1607.0, 1608.0, 1609.0, 1610.0, 1611.0, 1612.0, 1613.0, 1614.0, 1615.0, 1616.0, 1617.0, 1618.0, 1619.0, 1620.0, 1621.0, 1622.0, 1623.0, 1624.0, 1625.0, 1626.0, 1627.0, 1628.0, 1629.0, 1630.0, 1631.0, 1632.0, 1633.0, 1634.0, 1635.0, 1636.0, 1637.0, 1638.0, 1639.0, 1640.0, 1641.0, 1642.0, 1643.0, 1644.0, 1645.0, 1646.0, 1647.0, 1648.0, 1649.0, 1650.0, 1651.0, 1652.0, 1653.0, 1654.0, 1655.0, 1656.0, 1657.0, 1658.0, 1659.0, 1660.0, 1661.0, 1662.0, 1663.0, 1664.0, 1665.0, 1666.0, 1667.0, 1668.0, 1669.0, 1670.0, 1671.0, 1672.0, 1673.0, 1674.0, 1675.0, 1676.0, 1677.0, 1678.0, 1679.0, 1680.0, 1681.0, 1682.0, 1683.0, 1684.0, 1685.0, 1686.0, 1687.0, 1688.0, 1689.0, 1690.0, 1691.0, 1692.0, 1693.0, 1694.0, 1695.0, 1696.0, 1697.0, 1698.0, 1699.0, 1700.0, 1701.0, 1702.0, 1703.0, 1704.0, 1705.0, 1706.0, 1707.0, 1708.0, 1709.0, 1710.0, 1711.0, 1712.0, 1713.0, 1714.0, 1715.0, 1716.0, 1717.0, 1718.0, 1719.0, 1720.0, 1721.0, 1722.0, 1723.0, 1724.0, 1725.0, 1726.0, 1727.0, 1728.0, 1729.0, 1730.0, 1731.0, 1732.0, 1733.0, 1734.0, 1735.0, 1736.0, 1737.0, 1738.0, 1739.0, 1740.0, 1741.0, 1742.0, 1743.0, 1744.0, 1745.0, 1746.0, 1747.0, 1748.0, 1749.0, 1750.0, 1751.0, 1752.0, 1753.0, 1754.0, 1755.0, 1756.0, 1757.0, 1758.0, 1759.0, 1760.0, 1761.0, 1762.0, 1763.0, 1764.0, 1765.0, 1766.0, 1767.0, 1768.0, 1769.0, 1770.0, 1771.0, 1772.0, 1773.0, 1774.0, 1775.0, 1776.0, 1777.0, 1778.0, 1779.0, 1780.0, 1781.0, 1782.0, 1783.0, 1784.0, 1785.0, 1786.0, 1787.0, 1788.0, 1789.0, 1790.0, 1791.0, 1792.0, 1793.0, 1794.0, 1795.0, 1796.0, 1797.0, 1798.0, 1799.0, 1800.0, 1801.0, 1802.0, 1803.0, 1804.0, 1805.0, 1806.0, 1807.0, 1808.0, 1809.0, 1810.0, 1811.0, 1812.0, 1813.0, 1814.0, 1815.0, 1816.0, 1817.0, 1818.0, 1819.0, 1820.0, 1821.0, 1822.0, 1823.0, 1824.0, 1825.0, 1826.0, 1827.0, 1828.0, 1829.0, 1830.0, 1831.0, 1832.0, 1833.0, 1834.0, 1835.0, 1836.0, 1837.0, 1838.0, 1839.0, 1840.0, 1841.0, 1842.0, 1843.0, 1844.0, 1845.0, 1846.0, 1847.0, 1848.0, 1849.0, 1850.0, 1851.0, 1852.0, 1853.0, 1854.0, 1855.0, 1856.0, 1857.0, 1858.0, 1859.0, 1860.0, 1861.0, 1862.0, 1863.0, 1864.0, 1865.0, 1866.0, 1867.0, 1868.0, 1869.0, 1870.0, 1871.0, 1872.0, 1873.0, 1874.0, 1875.0, 1876.0, 1877.0, 1878.0, 1879.0, 1880.0, 1881.0, 1882.0, 1883.0, 1884.0, 1885.0, 1886.0, 1887.0, 1888.0, 1889.0, 1890.0, 1891.0, 1892.0, 1893.0, 1894.0, 1895.0, 1896.0, 1897.0, 1898.0, 1899.0, 1900.0, 1901.0, 1902.0, 1903.0, 1904.0, 1905.0, 1906.0, 1907.0, 1908.0, 1909.0, 1910.0, 1911.0, 1912.0, 1913.0, 1914.0, 1915.0, 1916.0, 1917.0, 1918.0, 1919.0, 1920.0, 1921.0, 1922.0, 1923.0, 1924.0, 1925.0, 1926.0, 1927.0, 1928.0, 1929.0, 1930.0, 1931.0, 1932.0, 1933.0, 1934.0, 1935.0, 1936.0, 1937.0, 1938.0, 1939.0, 1940.0, 1941.0, 1942.0, 1943.0, 1944.0, 1945.0, 1946.0, 1947.0, 1948.0, 1949.0, 1950.0, 1951.0, 1952.0, 1953.0, 1954.0, 1955.0, 1956.0, 1957.0, 1958.0, 1959.0, 1960.0, 1961.0, 1962.0, 1963.0, 1964.0, 1965.0, 1966.0, 1967.0, 1968.0, 1969.0, 1970.0, 1971.0, 1972.0, 1973.0, 1974.0, 1975.0, 1976.0, 1977.0, 1978.0, 1979.0, 1980.0, 1981.0, 1982.0, 1983.0, 1984.0, 1985.0, 1986.0, 1987.0, 1988.0, 1989.0, 1990.0, 1991.0, 1992.0, 1993.0, 1994.0, 1995.0, 1996.0, 1997.0, 1998.0, 1999.0, 2000.0, 2001.0, 2002.0, 2003.0, 2004.0, 2005.0, 2006.0, 2007.0, 2008.0, 2009.0, 2010.0, 2011.0, 2012.0, 2013.0, 2014.0, 2015.0, 2016.0, 2017.0, 2018.0, 2019.0, 2020.0, 2021.0, 2022.0, 2023.0, 2024.0, 2025.0, 2026.0, 2027.0, 2028.0, 2029.0, 2030.0, 2031.0, 2032.0, 2033.0, 2034.0, 2035.0, 2036.0, 2037.0, 2038.0, 2039.0, 2040.0, 2041.0, 2042.0, 2043.0, 2044.0, 2045.0, 2046.0, 2047.0, 2048.0, 2049.0, 2050.0, 2051.0, 2052.0, 2053.0, 2054.0, 2055.0, 2056.0, 2057.0, 2058.0, 2059.0, 2060.0, 2061.0, 2062.0, 2063.0, 2064.0, 2065.0, 2066.0, 2067.0, 2068.0, 2069.0, 2070.0, 2071.0, 2072.0, 2073.0, 2074.0, 2075.0, 2076.0, 2077.0, 2078.0, 2079.0, 2080.0, 2081.0, 2082.0, 2083.0, 2084.0, 2085.0, 2086.0, 2087.0, 2088.0, 2089.0, 2090.0, 2091.0, 2092.0, 2093.0, 2094.0, 2095.0, 2096.0, 2097.0, 2098.0, 2099.0, 2100.0, 2101.0, 2102.0, 2103.0, 2104.0, 2105.0, 2106.0, 2107.0, 2108.0, 2109.0, 2110.0, 2111.0, 2112.0, 2113.0, 2114.0, 2115.0, 2116.0, 2117.0, 2118.0, 2119.0, 2120.0, 2121.0, 2122.0, 2123.0, 2124.0, 2125.0, 2126.0, 2127.0, 2128.0, 2129.0, 2130.0, 2131.0, 2132.0, 2133.0, 2134.0, 2135.0, 2136.0, 2137.0, 2138.0, 2139.0, 2140.0, 2141.0, 2142.0, 2143.0, 2144.0, 2145.0, 2146.0, 2147.0, 2148.0, 2149.0, 2150.0, 2151.0, 2152.0, 2153.0, 2154.0, 2155.0, 2156.0, 2157.0, 2158.0, 2159.0, 2160.0, 2161.0, 2162.0, 2163.0, 2164.0, 2165.0, 2166.0, 2167.0, 2168.0, 2169.0, 2170.0, 2171.0, 2172.0, 2173.0, 2174.0, 2175.0, 2176.0, 2177.0, 2178.0, 2179.0, 2180.0, 2181.0, 2182.0, 2183.0, 2184.0, 2185.0, 2186.0, 2187.0, 2188.0, 2189.0, 2190.0, 2191.0, 2192.0, 2193.0, 2194.0, 2195.0, 2196.0, 2197.0, 2198.0, 2199.0, 2200.0, 2201.0, 2202.0, 2203.0, 2204.0, 2205.0, 2206.0, 2207.0, 2208.0, 2209.0, 2210.0, 2211.0, 2212.0, 2213.0, 2214.0, 2215.0, 2216.0, 2217.0, 2218.0, 2219.0, 2220.0, 2221.0, 2222.0, 2223.0, 2224.0, 2225.0, 2226.0, 2227.0, 2228.0, 2229.0, 2230.0, 2231.0, 2232.0, 2233.0, 2234.0, 2235.0, 2236.0, 2237.0, 2238.0, 2239.0, 2240.0, 2241.0, 2242.0, 2243.0, 2244.0, 2245.0, 2246.0, 2247.0, 2248.0, 2249.0, 2250.0, 2251.0, 2252.0, 2253.0, 2254.0, 2255.0, 2256.0, 2257.0, 2258.0, 2259.0, 2260.0, 2261.0, 2262.0, 2263.0, 2264.0, 2265.0, 2266.0, 2267.0, 2268.0, 2269.0, 2270.0, 2271.0, 2272.0, 2273.0, 2274.0, 2275.0, 2276.0, 2277.0, 2278.0, 2279.0, 2280.0, 2281.0, 2282.0, 2283.0, 2284.0, 2285.0, 2286.0, 2287.0, 2288.0, 2289.0, 2290.0, 2291.0, 2292.0, 2293.0, 2294.0, 2295.0, 2296.0, 2297.0, 2298.0, 2299.0, 2300.0, 2301.0, 2302.0, 2303.0, 2304.0, 2305.0, 2306.0, 2307.0, 2308.0, 2309.0, 2310.0, 2311.0, 2312.0, 2313.0, 2314.0, 2315.0, 2316.0, 2317.0, 2318.0, 2319.0, 2320.0, 2321.0, 2322.0, 2323.0, 2324.0, 2325.0, 2326.0, 2327.0, 2328.0, 2329.0, 2330.0, 2331.0, 2332.0, 2333.0, 2334.0, 2335.0, 2336.0, 2337.0, 2338.0, 2339.0, 2340.0, 2341.0, 2342.0, 2343.0, 2344.0, 2345.0, 2346.0, 2347.0, 2348.0, 2349.0, 2350.0, 2351.0, 2352.0, 2353.0, 2354.0, 2355.0, 2356.0, 2357.0, 2358.0, 2359.0, 2360.0, 2361.0, 2362.0, 2363.0, 2364.0, 2365.0, 2366.0, 2367.0, 2368.0, 2369.0, 2370.0, 2371.0, 2372.0, 2373.0, 2374.0, 2375.0, 2376.0, 2377.0, 2378.0, 2379.0, 2380.0, 2381.0, 2382.0, 2383.0, 2384.0, 2385.0, 2386.0, 2387.0, 2388.0, 2389.0, 2390.0, 2391.0, 2392.0, 2393.0, 2394.0, 2395.0, 2396.0, 2397.0, 2398.0, 2399.0, 2400.0, 2401.0, 2402.0, 2403.0, 2404.0, 2405.0, 2406.0, 2407.0, 2408.0, 2409.0, 2410.0, 2411.0, 2412.0, 2413.0, 2414.0, 2415.0, 2416.0, 2417.0, 2418.0, 2419.0, 2420.0, 2421.0, 2422.0, 2423.0, 2424.0, 2425.0, 2426.0, 2427.0, 2428.0, 2429.0, 2430.0, 2431.0, 2432.0, 2433.0, 2434.0, 2435.0, 2436.0, 2437.0, 2438.0, 2439.0, 2440.0, 2441.0, 2442.0, 2443.0, 2444.0, 2445.0, 2446.0, 2447.0, 2448.0, 2449.0, 2450.0, 2451.0, 2452.0, 2453.0, 2454.0, 2455.0, 2456.0, 2457.0, 2458.0, 2459.0, 2460.0, 2461.0, 2462.0, 2463.0, 2464.0, 2465.0, 2466.0, 2467.0, 2468.0, 2469.0, 2470.0, 2471.0, 2472.0, 2473.0, 2474.0, 2475.0, 2476.0, 2477.0, 2478.0, 2479.0, 2480.0, 2481.0, 2482.0, 2483.0, 2484.0, 2485.0, 2486.0, 2487.0, 2488.0, 2489.0, 2490.0, 2491.0, 2492.0, 2493.0, 2494.0, 2495.0, 2496.0, 2497.0, 2498.0, 2499.0, 2500.0, 2501.0, 2502.0, 2503.0, 2504.0, 2505.0, 2506.0, 2507.0, 2508.0, 2509.0, 2510.0, 2511.0, 2512.0, 2513.0, 2514.0, 2515.0, 2516.0, 2517.0, 2518.0, 2519.0, 2520.0, 2521.0, 2522.0, 2523.0, 2524.0, 2525.0, 2526.0, 2527.0, 2528.0, 2529.0, 2530.0, 2531.0, 2532.0, 2533.0, 2534.0, 2535.0, 2536.0, 2537.0, 2538.0, 2539.0, 2540.0, 2541.0, 2542.0, 2543.0, 2544.0, 2545.0, 2546.0, 2547.0, 2548.0, 2549.0, 2550.0, 2551.0, 2552.0, 2553.0, 2554.0, 2555.0, 2556.0, 2557.0, 2558.0, 2559.0, 2560.0, 2561.0, 2562.0, 2563.0, 2564.0, 2565.0, 2566.0, 2567.0, 2568.0, 2569.0, 2570.0, 2571.0, 2572.0, 2573.0, 2574.0, 2575.0, 2576.0, 2577.0, 2578.0, 2579.0, 2580.0, 2581.0, 2582.0, 2583.0, 2584.0, 2585.0, 2586.0, 2587.0, 2588.0, 2589.0, 2590.0, 2591.0, 2592.0, 2593.0, 2594.0, 2595.0, 2596.0, 2597.0, 2598.0, 2599.0, 2600.0, 2601.0, 2602.0, 2603.0, 2604.0, 2605.0, 2606.0, 2607.0, 2608.0, 2609.0, 2610.0, 2611.0, 2612.0, 2613.0, 2614.0, 2615.0, 2616.0, 2617.0, 2618.0, 2619.0, 2620.0, 2621.0, 2622.0, 2623.0, 2624.0, 2625.0, 2626.0, 2627.0, 2628.0, 2629.0, 2630.0, 2631.0, 2632.0, 2633.0, 2634.0, 2635.0, 2636.0, 2637.0, 2638.0, 2639.0, 2640.0, 2641.0, 2642.0, 2643.0, 2644.0, 2645.0, 2646.0, 2647.0, 2648.0, 2649.0, 2650.0, 2651.0, 2652.0, 2653.0, 2654.0, 2655.0, 2656.0, 2657.0, 2658.0, 2659.0, 2660.0, 2661.0, 2662.0, 2663.0, 2664.0, 2665.0, 2666.0, 2667.0, 2668.0, 2669.0, 2670.0, 2671.0, 2672.0, 2673.0, 2674.0, 2675.0, 2676.0, 2677.0, 2678.0, 2679.0, 2680.0, 2681.0, 2682.0, 2683.0, 2684.0, 2685.0, 2686.0, 2687.0, 2688.0, 2689.0, 2690.0, 2691.0, 2692.0, 2693.0, 2694.0, 2695.0, 2696.0, 2697.0, 2698.0, 2699.0, 2700.0, 2701.0, 2702.0, 2703.0, 2704.0, 2705.0, 2706.0, 2707.0, 2708.0, 2709.0, 2710.0, 2711.0, 2712.0, 2713.0, 2714.0, 2715.0, 2716.0, 2717.0, 2718.0, 2719.0, 2720.0, 2721.0, 2722.0, 2723.0, 2724.0, 2725.0, 2726.0, 2727.0, 2728.0, 2729.0, 2730.0, 2731.0, 2732.0, 2733.0, 2734.0, 2735.0, 2736.0, 2737.0, 2738.0, 2739.0, 2740.0, 2741.0, 2742.0, 2743.0, 2744.0, 2745.0, 2746.0, 2747.0, 2748.0, 2749.0, 2750.0, 2751.0, 2752.0, 2753.0, 2754.0, 2755.0, 2756.0, 2757.0, 2758.0, 2759.0, 2760.0, 2761.0, 2762.0, 2763.0, 2764.0], \"y\": [17.827499389648438, 18.12070083618164, 18.43670082092285, 18.751300811767578, 19.041400909423828, 19.277299880981445, 19.536699295043945, 19.73069953918457, 19.96929931640625, 20.14069938659668, 20.32670021057129, 20.47130012512207, 20.909299850463867, 21.42530059814453, 21.84670066833496, 22.15730094909668, 22.40399932861328, 22.73069953918457, 22.937299728393555, 23.200000762939453, 23.43600082397461, 23.667999267578125, 23.851999282836914, 24.021299362182617, 24.141300201416016, 24.26799964904785, 24.3799991607666, 24.07069969177246, 23.58799934387207, 23.286699295043945, 23.031999588012695, 22.774700164794922, 22.553300857543945, 22.351999282836914, 22.122699737548828, 21.93470001220703, 21.713300704956055, 21.53730010986328, 21.347999572753906, 21.148000717163086, 20.981300354003906, 20.810699462890625, 20.65999984741211, 20.475299835205078, 20.314699172973633, 20.163999557495117, 19.996700286865234, 19.84600067138672, 19.67729949951172, 19.525999069213867, 19.373300552368164, 19.20870018005371, 19.05270004272461, 18.897300720214844, 18.733999252319336, 18.58329963684082, 18.41670036315918, 18.2726993560791, 18.097299575805664, 17.95330047607422, 17.81730079650879, 17.65399932861328, 17.515300750732422, 17.32670021057129, 17.15530014038086, 17.025299072265625, 16.893999099731445, 16.74329948425293, 16.607999801635742, 16.430700302124023, 16.29330062866211, 16.173999786376953, 16.035999298095703, 15.922699928283691, 15.860699653625488, 15.739999771118164, 15.6427001953125, 15.530699729919434, 15.475299835205078, 15.377300262451172, 15.679300308227539, 16.2273006439209, 16.647300720214844, 17.025299072265625, 17.398700714111328, 17.792699813842773, 18.2632999420166, 18.711999893188477, 19.266700744628906, 19.806699752807617, 20.341299057006836, 20.845300674438477, 21.45199966430664, 21.788000106811523, 21.836000442504883, 21.617300033569336, 21.423999786376953, 21.600000381469727, 21.858699798583984, 22.057300567626953, 22.19070053100586, 22.34000015258789, 22.470699310302734, 22.6200008392334, 22.624000549316406, 22.691999435424805, 22.734699249267578, 22.780000686645508, 22.81599998474121, 22.821300506591797, 22.808000564575195, 22.775999069213867, 22.734699249267578, 22.69070053100586, 22.607999801635742, 22.56130027770996, 22.483999252319336, 22.386699676513672, 22.2987003326416, 22.178699493408203, 22.06399917602539, 21.95199966430664, 21.861299514770508, 21.739999771118164, 21.624000549316406, 21.496000289916992, 21.386699676513672, 21.250699996948242, 21.12929916381836, 21.027999877929688, 20.895999908447266, 20.81599998474121, 20.681299209594727, 20.57200050354004, 20.417299270629883, 20.308000564575195, 20.14069938659668, 19.998699188232422, 19.90329933166504, 19.783300399780273, 19.658000946044922, 19.520000457763672, 19.402700424194336, 19.3572998046875, 19.578699111938477, 19.672000885009766, 19.700000762939453, 19.70330047607422, 19.68400001525879, 19.648000717163086, 19.549999237060547, 19.433300018310547, 19.381999969482422, 19.31529998779297, 19.299999237060547, 19.273300170898438, 19.226699829101562, 19.136699676513672, 19.1299991607666, 19.113300323486328, 19.086700439453125, 19.059999465942383, 19.04800033569336, 19.003999710083008, 19.0, 19.0, 18.989999771118164, 18.944700241088867, 18.920700073242188, 18.860700607299805, 18.795299530029297, 18.726699829101562, 18.672000885009766, 18.606700897216797, 18.540000915527344, 18.5, 18.496000289916992, 18.520000457763672, 18.490699768066406, 18.187299728393555, 18.03070068359375, 18.040000915527344, 18.035999298095703, 18.075300216674805, 18.166000366210938, 18.20400047302246, 18.31599998474121, 18.46470069885254, 18.619300842285156, 18.794700622558594, 18.961299896240234, 19.171300888061523, 19.355300903320312, 19.531999588012695, 19.724000930786133, 19.899999618530273, 20.0132999420166, 20.19930076599121, 20.351999282836914, 20.47599983215332, 20.577299118041992, 20.643999099731445, 20.702699661254883, 20.743999481201172, 20.81329917907715, 20.8439998626709, 20.810699462890625, 20.818700790405273, 20.837299346923828, 20.834699630737305, 20.801300048828125, 20.79199981689453, 20.73200035095215, 20.676000595092773, 20.628000259399414, 20.549299240112305, 20.45400047302246, 20.360000610351562, 20.273300170898438, 20.162700653076172, 20.047300338745117, 19.93670082092285, 19.856000900268555, 19.75670051574707, 19.643299102783203, 19.520000457763672, 19.43670082092285, 19.33799934387207, 19.219999313354492, 19.11669921875, 18.979299545288086, 18.891300201416016, 18.79129981994629, 18.68670082092285, 18.579999923706055, 18.440000534057617, 18.33329963684082, 18.224700927734375, 18.077299118041992, 17.979999542236328, 17.86199951171875, 17.766000747680664, 17.615299224853516, 17.516000747680664, 17.420000076293945, 17.312000274658203, 17.181299209594727, 17.057300567626953, 16.915300369262695, 16.780000686645508, 16.65730094909668, 16.530000686645508, 16.384000778198242, 16.290000915527344, 16.148700714111328, 16.031999588012695, 15.936699867248535, 15.831299781799316, 15.712699890136719, 15.584699630737305, 15.468700408935547, 15.359299659729004, 15.211999893188477, 15.119999885559082, 14.99530029296875, 14.862700462341309, 14.76669979095459, 14.650699615478516, 14.555999755859375, 14.458000183105469, 14.40999984741211, 14.342000007629395, 14.306699752807617, 14.273300170898438, 14.296699523925781, 14.375300407409668, 14.472000122070312, 14.593999862670898, 14.76669979095459, 14.98270034790039, 15.188699722290039, 15.437999725341797, 15.684000015258789, 15.956700325012207, 16.243999481201172, 16.558000564575195, 16.8439998626709, 17.142000198364258, 17.418699264526367, 17.68199920654297, 17.95199966430664, 18.166000366210938, 18.415300369262695, 18.615299224853516, 18.797300338745117, 19.00200080871582, 19.18470001220703, 19.305299758911133, 19.454700469970703, 19.59000015258789, 19.694000244140625, 19.77669906616211, 19.799999237060547, 19.837299346923828, 19.893999099731445, 19.920000076293945, 19.93000030517578, 19.889299392700195, 19.88599967956543, 19.84670066833496, 19.77669906616211, 19.746700286865234, 19.68400001525879, 19.600000381469727, 19.54199981689453, 19.45330047607422, 19.388700485229492, 19.327999114990234, 19.286699295043945, 19.18400001525879, 19.136699676513672, 19.064699172973633, 18.96269989013672, 18.895999908447266, 18.81529998779297, 18.722700119018555, 18.617300033569336, 18.520000457763672, 18.457300186157227, 18.35930061340332, 18.23200035095215, 18.16469955444336, 18.086700439453125, 17.994699478149414, 17.855300903320312, 17.80069923400879, 17.705299377441406, 17.606700897216797, 17.507999420166016, 17.40329933166504, 17.352699279785156, 17.242700576782227, 17.143299102783203, 17.054000854492188, 16.943300247192383, 16.84269905090332, 16.722000122070312, 16.623300552368164, 16.530000686645508, 16.42329978942871, 16.326000213623047, 16.224700927734375, 16.103300094604492, 15.99470043182373, 15.903300285339355, 15.813300132751465, 15.718700408935547, 15.63070011138916, 15.544699668884277, 15.436699867248535, 15.324700355529785, 15.260000228881836, 15.180700302124023, 15.074000358581543, 15.003999710083008, 14.953300476074219, 14.894700050354004, 14.868000030517578, 14.83329963684082, 14.855999946594238, 14.89330005645752, 14.989299774169922, 15.123299598693848, 15.316699981689453, 15.520000457763672, 15.77869987487793, 16.04330062866211, 16.351299285888672, 16.678699493408203, 17.009300231933594, 17.373300552368164, 17.73270034790039, 18.081300735473633, 18.461999893188477, 18.810699462890625, 19.167999267578125, 19.51129913330078, 19.84269905090332, 20.145999908447266, 20.44729995727539, 20.739999771118164, 20.997299194335938, 21.198699951171875, 21.479999542236328, 21.700000762939453, 21.899999618530273, 22.081300735473633, 22.233299255371094, 22.362699508666992, 22.42799949645996, 22.545299530029297, 22.607999801635742, 22.6560001373291, 22.698699951171875, 22.693300247192383, 22.72130012512207, 22.70669937133789, 22.700000762939453, 22.672000885009766, 22.663999557495117, 22.6200008392334, 22.579999923706055, 22.545299530029297, 22.459999084472656, 22.41469955444336, 22.3439998626709, 22.312000274658203, 22.239999771118164, 22.141300201416016, 22.06399917602539, 21.944000244140625, 21.834699630737305, 21.726699829101562, 21.641300201416016, 21.542699813842773, 21.440000534057617, 21.332000732421875, 21.243999481201172, 21.13330078125, 21.01729965209961, 20.926700592041016, 20.81329917907715, 20.702699661254883, 20.607999801635742, 20.485300064086914, 20.392000198364258, 20.30069923400879, 20.187999725341797, 20.1072998046875, 20.0, 19.94930076599121, 19.893299102783203, 19.773300170898438, 19.739999771118164, 19.649999618530273, 19.54669952392578, 19.47800064086914, 19.40329933166504, 19.31529998779297, 19.20400047302246, 19.11669921875, 18.988000869750977, 18.89929962158203, 18.80069923400879, 18.670700073242188, 18.600000381469727, 18.500699996948242, 18.361299514770508, 18.266700744628906, 18.18000030517578, 18.09000015258789, 18.012699127197266, 17.926700592041016, 17.8799991607666, 17.847999572753906, 17.851999282836914, 17.906700134277344, 17.9773006439209, 18.071300506591797, 18.27400016784668, 18.466699600219727, 18.669300079345703, 18.89069938659668, 19.124000549316406, 19.35930061340332, 19.61199951171875, 19.895999908447266, 20.178699493408203, 20.48069953918457, 20.739999771118164, 21.007999420166016, 21.243999481201172, 21.54400062561035, 21.79199981689453, 22.033300399780273, 22.23200035095215, 22.413299560546875, 22.607999801635742, 22.777299880981445, 22.923999786376953, 23.058700561523438, 23.181299209594727, 23.26129913330078, 23.368000030517578, 23.422700881958008, 23.45599937438965, 23.5, 23.511999130249023, 23.503999710083008, 23.483999252319336, 23.4773006439209, 23.433300018310547, 23.375999450683594, 23.327999114990234, 23.24799919128418, 23.165300369262695, 23.08799934387207, 22.978700637817383, 22.908000946044922, 22.812000274658203, 22.73200035095215, 22.6200008392334, 22.549299240112305, 22.43600082397461, 22.351999282836914, 22.27199935913086, 22.162700653076172, 22.069299697875977, 21.978700637817383, 21.860000610351562, 21.78529930114746, 21.667999267578125, 21.56399917602539, 21.42930030822754, 21.332000732421875, 21.205299377441406, 21.106700897216797, 20.95199966430664, 20.82670021057129, 20.72800064086914, 20.586700439453125, 20.459999084472656, 20.33329963684082, 20.18400001525879, 20.051300048828125, 19.9512996673584, 19.82069969177246, 19.70800018310547, 19.507299423217773, 19.402700424194336, 19.280000686645508, 19.158700942993164, 18.983299255371094, 18.867300033569336, 18.74329948425293, 18.59670066833496, 18.472000122070312, 18.305999755859375, 18.17799949645996, 18.06800079345703, 17.943300247192383, 17.810699462890625, 17.676000595092773, 17.507999420166016, 17.41670036315918, 17.284000396728516, 17.15130043029785, 17.049999237060547, 16.93670082092285, 16.89929962158203, 16.851999282836914, 16.836700439453125, 16.799999237060547, 16.81329917907715, 16.884000778198242, 16.940000534057617, 16.959999084472656, 16.997299194335938, 17.110000610351562, 17.235300064086914, 17.465299606323242, 17.696699142456055, 17.961299896240234, 18.270700454711914, 18.544700622558594, 18.7987003326416, 18.963300704956055, 19.143999099731445, 19.351299285888672, 19.557300567626953, 19.68269920349121, 19.79330062866211, 19.93199920654297, 20.08930015563965, 20.20599937438965, 20.326000213623047, 20.41670036315918, 20.507999420166016, 20.56399917602539, 20.583999633789062, 20.639999389648438, 20.6560001373291, 20.624000549316406, 20.604000091552734, 20.57200050354004, 20.516000747680664, 20.481300354003906, 20.420000076293945, 20.327999114990234, 20.233299255371094, 20.150699615478516, 20.066699981689453, 19.978700637817383, 19.889299392700195, 19.79669952392578, 19.711999893188477, 19.586000442504883, 19.444000244140625, 19.355300903320312, 19.266700744628906, 19.152700424194336, 19.01799964904785, 18.897300720214844, 18.762699127197266, 18.631999969482422, 18.486000061035156, 18.388700485229492, 18.27669906616211, 18.16670036315918, 18.016700744628906, 17.912700653076172, 17.818700790405273, 17.715299606323242, 17.573299407958984, 17.489299774169922, 17.40999984741211, 17.301300048828125, 17.187999725341797, 17.126699447631836, 17.027999877929688, 16.933300018310547, 16.86400032043457, 16.788700103759766, 16.719999313354492, 16.631999969482422, 16.507999420166016, 16.426000595092773, 16.31999969482422, 16.213300704956055, 16.126699447631836, 16.066699981689453, 16.009300231933594, 15.90470027923584, 15.830699920654297, 15.738699913024902, 15.650699615478516, 15.526000022888184, 15.4399995803833, 15.340700149536133, 15.22130012512207, 15.077300071716309, 14.946700096130371, 14.786700248718262, 14.672699928283691, 14.570699691772461, 14.498000144958496, 14.413299560546875, 14.34469985961914, 14.260000228881836, 14.16670036315918, 14.126700401306152, 14.068699836730957, 14.052000045776367, 13.98330020904541, 13.960000038146973, 13.930000305175781, 13.906700134277344, 13.85669994354248, 13.829299926757812, 13.826000213623047, 13.794699668884277, 13.776700019836426, 13.770000457763672, 13.698699951171875, 13.654000282287598, 13.678000450134277, 13.682000160217285, 13.626700401306152, 13.626700401306152, 13.616700172424316, 13.61400032043457, 13.609999656677246, 13.586700439453125, 13.569999694824219, 13.550000190734863, 13.536700248718262, 13.477999687194824, 13.44729995727539, 13.420700073242188, 13.41469955444336, 13.378000259399414, 13.315999984741211, 13.302000045776367, 13.272000312805176, 13.229999542236328, 13.178000450134277, 13.153300285339355, 13.093299865722656, 13.033300399780273, 12.956700325012207, 12.852700233459473, 12.796699523925781, 12.708000183105469, 12.637999534606934, 12.596699714660645, 12.566699981689453, 12.47130012512207, 12.386699676513672, 12.331999778747559, 12.276700019836426, 12.249300003051758, 12.215299606323242, 12.210700035095215, 12.168700218200684, 12.136699676513672, 12.102700233459473, 12.059300422668457, 12.024700164794922, 11.949999809265137, 11.920000076293945, 11.890000343322754, 11.89330005645752, 11.883299827575684, 11.854700088500977, 11.849300384521484, 11.855299949645996, 11.838000297546387, 11.865300178527832, 11.896699905395508, 11.89330005645752, 11.886699676513672, 11.906700134277344, 11.9399995803833, 11.9266996383667, 11.920000076293945, 11.903300285339355, 11.890000343322754, 11.876700401306152, 11.890000343322754, 11.848699569702148, 11.838000297546387, 11.850000381469727, 11.838000297546387, 11.826000213623047, 11.806699752807617, 11.773300170898438, 11.763299942016602, 11.736700057983398, 11.726699829101562, 11.684700012207031, 11.685999870300293, 11.657999992370605, 11.638699531555176, 11.623299598693848, 11.619999885559082, 11.623299598693848, 11.623299598693848, 11.649999618530273, 11.748000144958496, 11.890000343322754, 12.011300086975098, 12.127300262451172, 12.249300003051758, 12.446000099182129, 12.672699928283691, 12.941300392150879, 13.250699996948242, 13.550700187683105, 13.91670036315918, 15.189299583435059, 15.706000328063965, 15.814000129699707, 16.382699966430664, 16.41670036315918, 16.46470069885254, 16.575300216674805, 16.697999954223633, 16.797300338745117, 16.916000366210938, 16.969999313354492, 17.05929946899414, 17.110000610351562, 17.351999282836914, 17.611299514770508, 17.7367000579834, 17.744699478149414, 17.507299423217773, 17.3927001953125, 17.280000686645508, 17.20669937133789, 17.106700897216797, 17.00670051574707, 16.897300720214844, 16.765300750732422, 16.687299728393555, 16.562700271606445, 16.466699600219727, 16.402700424194336, 16.304000854492188, 16.18869972229004, 16.07200050354004, 15.96399974822998, 15.85669994354248, 15.72599983215332, 15.581299781799316, 15.47130012512207, 15.343999862670898, 15.229299545288086, 15.103300094604492, 15.002699851989746, 14.87600040435791, 14.699999809265137, 14.557299613952637, 14.406700134277344, 14.276700019836426, 14.120699882507324, 13.986000061035156, 13.87600040435791, 13.75, 13.651300430297852, 13.530699729919434, 13.4266996383667, 13.33329963684082, 13.255999565124512, 13.140000343322754, 13.047300338745117, 12.930000305175781, 12.836700439453125, 12.708000183105469, 12.609999656677246, 12.501299858093262, 12.388699531555176, 12.286700248718262, 12.16469955444336, 12.061300277709961, 11.956700325012207, 11.862000465393066, 11.739999771118164, 11.645299911499023, 11.545299530029297, 11.420000076293945, 11.319999694824219, 11.224699974060059, 11.144000053405762, 11.089300155639648, 11.076000213623047, 11.078700065612793, 11.10669994354248, 11.151300430297852, 11.224699974060059, 11.34529972076416, 11.508700370788574, 11.72130012512207, 11.941300392150879, 12.171299934387207, 12.445300102233887, 12.728699684143066, 13.045999526977539, 13.369999885559082, 13.736000061035156, 14.091300010681152, 14.4399995803833, 14.794699668884277, 15.137299537658691, 15.461999893188477, 15.783300399780273, 16.054000854492188, 16.41200065612793, 16.702699661254883, 16.996700286865234, 17.15329933166504, 17.30929946899414, 17.441299438476562, 17.59670066833496, 17.7106990814209, 17.80470085144043, 17.904699325561523, 17.979999542236328, 18.069299697875977, 18.11669921875, 18.143299102783203, 18.279300689697266, 18.31999969482422, 18.27669906616211, 18.246700286865234, 18.20800018310547, 18.146699905395508, 18.103300094604492, 18.06999969482422, 18.00469970703125, 17.93000030517578, 17.86400032043457, 17.7987003326416, 17.733299255371094, 17.63330078125, 17.57670021057129, 17.507999420166016, 17.43000030517578, 17.35930061340332, 17.239999771118164, 17.172700881958008, 17.08329963684082, 16.99530029296875, 16.916000366210938, 16.810699462890625, 16.70870018005371, 16.610000610351562, 16.497299194335938, 16.384700775146484, 16.29669952392578, 16.19930076599121, 16.103300094604492, 16.008699417114258, 15.90470027923584, 15.817299842834473, 15.71399974822998, 15.608699798583984, 15.503299713134766, 15.406700134277344, 15.283300399780273, 15.177300453186035, 15.07129955291748, 14.993300437927246, 14.923299789428711, 14.8233003616333, 14.722700119018555, 14.627300262451172, 14.561300277709961, 14.461299896240234, 14.36929988861084, 14.256699562072754, 14.159299850463867, 14.079299926757812, 13.963299751281738, 13.886699676513672, 13.777999877929688, 13.672699928283691, 13.593299865722656, 13.506699562072754, 13.444000244140625, 13.380000114440918, 13.318699836730957, 13.303999900817871, 13.3100004196167, 13.309300422668457, 13.347299575805664, 13.408699989318848, 13.530699729919434, 13.690699577331543, 13.792699813842773, 13.979299545288086, 14.247300148010254, 14.50529956817627, 14.785300254821777, 15.07800006866455, 15.416000366210938, 15.75529956817627, 16.055999755859375, 16.351999282836914, 16.662700653076172, 16.935300827026367, 17.23069953918457, 17.497299194335938, 17.746000289916992, 17.993999481201172, 18.185300827026367, 18.369300842285156, 18.554000854492188, 18.739299774169922, 18.87470054626465, 18.98270034790039, 19.123300552368164, 19.253299713134766, 19.332700729370117, 19.375999450683594, 19.420000076293945, 19.440000534057617, 19.492000579833984, 19.5, 19.503999710083008, 19.47330093383789, 19.479999542236328, 19.43670082092285, 19.393299102783203, 19.31399917602539, 19.283300399780273, 19.19930076599121, 19.143999099731445, 19.079999923706055, 18.968700408935547, 18.926000595092773, 18.854000091552734, 18.760000228881836, 18.726699829101562, 18.648000717163086, 18.56999969482422, 18.476699829101562, 18.382699966430664, 18.347999572753906, 18.25670051574707, 18.18869972229004, 18.110000610351562, 18.00469970703125, 17.92329978942871, 17.827299118041992, 17.74329948425293, 17.638700485229492, 17.56999969482422, 17.488000869750977, 17.420000076293945, 17.31529998779297, 17.246700286865234, 17.154699325561523, 17.06399917602539, 16.943300247192383, 16.8799991607666, 16.782699584960938, 16.689300537109375, 16.59000015258789, 16.51930046081543, 16.406700134277344, 16.29669952392578, 16.192699432373047, 16.08329963684082, 15.99470043182373, 15.900699615478516, 15.779999732971191, 15.723999977111816, 15.616000175476074, 15.518699645996094, 15.40999984741211, 15.273300170898438, 15.196000099182129, 15.09000015258789, 14.98069953918457, 14.906700134277344, 14.839300155639648, 14.793299674987793, 14.746700286865234, 14.736700057983398, 14.692700386047363, 14.729999542236328, 14.760000228881836, 14.842700004577637, 14.991999626159668, 15.13599967956543, 15.318699836730957, 15.552000045776367, 15.798700332641602, 16.040700912475586, 16.31599998474121, 16.604000091552734, 16.893999099731445, 17.195999145507812, 17.497299194335938, 17.78070068359375, 18.05929946899414, 18.331300735473633, 18.45330047607422, 18.53070068359375, 18.714000701904297, 18.87929916381836, 19.025999069213867, 19.20330047607422, 19.246700286865234, 19.253299713134766, 19.29669952392578, 19.356000900268555, 19.38330078125, 19.43000030517578, 19.503999710083008, 19.535999298095703, 19.483999252319336, 19.51930046081543, 19.531299591064453, 19.540000915527344, 19.527999877929688, 19.464000701904297, 19.43000030517578, 19.413299560546875, 19.36400032043457, 19.31329917907715, 19.2632999420166, 19.170000076293945, 19.103300094604492, 19.040000915527344, 18.969999313354492, 18.898700714111328, 18.81329917907715, 18.753299713134766, 18.663999557495117, 18.573299407958984, 18.53529930114746, 18.450000762939453, 18.362699508666992, 18.270000457763672, 18.15329933166504, 18.093299865722656, 17.998699188232422, 17.867300033569336, 17.818700790405273, 17.739999771118164, 17.649999618530273, 17.55929946899414, 17.467300415039062, 17.356000900268555, 17.283300399780273, 17.195999145507812, 17.110000610351562, 17.010700225830078, 16.908000946044922, 16.808000564575195, 16.70870018005371, 16.59000015258789, 16.48270034790039, 16.378000259399414, 16.273300170898438, 16.15999984741211, 16.086700439453125, 15.98069953918457, 15.880000114440918, 15.758000373840332, 15.67199993133545, 15.595999717712402, 15.501299858093262, 15.371299743652344, 15.287300109863281, 15.163299560546875, 15.086700439453125, 14.963299751281738, 14.899299621582031, 14.837300300598145, 14.746700286865234, 14.726699829101562, 14.673999786376953, 14.637999534606934, 14.613300323486328, 14.654000282287598, 14.724699974060059, 14.834699630737305, 14.982000350952148, 15.156700134277344, 15.37600040435791, 15.605299949645996, 15.878000259399414, 16.16469955444336, 16.46929931640625, 16.78529930114746, 17.088699340820312, 17.415300369262695, 17.759300231933594, 18.053300857543945, 18.408700942993164, 18.67799949645996, 18.979999542236328, 19.2273006439209, 19.472700119018555, 19.693300247192383, 19.909299850463867, 20.09469985961914, 20.261999130249023, 20.444700241088867, 20.57069969177246, 20.65999984741211, 20.788000106811523, 20.845300674438477, 20.91200065612793, 20.981300354003906, 21.02400016784668, 21.035999298095703, 21.052000045776367, 21.059999465942383, 21.027999877929688, 20.9867000579834, 20.96269989013672, 20.908000946044922, 20.837299346923828, 20.76799964904785, 20.709299087524414, 20.615999221801758, 20.553300857543945, 20.426700592041016, 20.351999282836914, 20.266700744628906, 20.138700485229492, 20.06399917602539, 19.969999313354492, 19.855300903320312, 19.783300399780273, 19.694000244140625, 19.559999465942383, 19.4867000579834, 19.356700897216797, 19.2632999420166, 19.14929962158203, 18.97599983215332, 18.8572998046875, 18.733299255371094, 18.613300323486328, 18.49799919128418, 18.374000549316406, 18.219999313354492, 18.113300323486328, 17.981300354003906, 17.84269905090332, 17.74329948425293, 17.604700088500977, 17.474000930786133, 17.384000778198242, 17.244699478149414, 17.106700897216797, 17.005300521850586, 16.899999618530273, 16.762699127197266, 16.632699966430664, 16.493999481201172, 16.363300323486328, 16.273300170898438, 16.170000076293945, 16.079299926757812, 15.973999977111816, 15.871999740600586, 15.74530029296875, 15.684000015258789, 15.581999778747559, 15.468700408935547, 15.340700149536133, 15.237299919128418, 15.160699844360352, 15.109999656677246, 15.027299880981445, 15.0, 14.976699829101562, 15.003999710083008, 15.078700065612793, 15.182700157165527, 15.33329963684082, 15.498700141906738, 15.69729995727539, 15.927300453186035, 16.18670082092285, 16.468700408935547, 16.79599952697754, 17.24530029296875, 17.693300247192383, 18.106000900268555, 18.479299545288086, 18.867300033569336, 19.259300231933594, 19.607999801635742, 19.98870086669922, 20.31599998474121, 20.610700607299805, 20.861299514770508, 21.09869956970215, 21.28529930114746, 21.470699310302734, 21.605300903320312, 21.781299591064453, 21.88800048828125, 21.996000289916992, 22.08799934387207, 22.158700942993164, 22.20800018310547, 22.22800064086914, 22.243999481201172, 22.260000228881836, 22.23200035095215, 22.205299377441406, 22.163999557495117, 22.091999053955078, 22.025299072265625, 21.95599937438965, 21.86400032043457, 21.76129913330078, 21.662700653076172, 21.577299118041992, 21.46269989013672, 21.38129997253418, 21.29330062866211, 21.191999435424805, 21.100000381469727, 21.0, 20.88800048828125, 20.814699172973633, 20.693300247192383, 20.60930061340332, 20.503999710083008, 20.369300842285156, 20.246000289916992, 20.13800048828125, 20.025299072265625, 19.880699157714844, 19.783300399780273, 19.621299743652344, 19.515300750732422, 19.406700134277344, 19.273300170898438, 19.170700073242188, 19.02869987487793, 18.906700134277344, 18.80069923400879, 18.68600082397461, 18.559999465942383, 18.464000701904297, 18.347999572753906, 18.222700119018555, 18.113300323486328, 17.996700286865234, 17.845300674438477, 17.746700286865234, 17.635299682617188, 17.503999710083008, 17.40999984741211, 17.30069923400879, 17.187999725341797, 17.06730079650879, 16.93670082092285, 16.823299407958984, 16.709299087524414, 16.562700271606445, 16.433300018310547, 16.328699111938477, 16.280000686645508, 16.187299728393555, 16.110000610351562, 16.086700439453125, 16.059999465942383, 16.016000747680664, 16.040000915527344, 16.07270050048828, 16.173999786376953, 16.27669906616211, 16.452699661254883, 16.6299991607666, 16.84869956970215, 17.081300735473633, 17.345300674438477, 17.569299697875977, 17.840700149536133, 18.102699279785156, 18.373300552368164, 18.68199920654297, 18.96269989013672, 19.27400016784668, 19.489999771118164, 19.756000518798828, 19.97800064086914, 20.128700256347656, 20.333999633789062, 20.472000122070312, 20.607999801635742, 20.758699417114258, 20.84000015258789, 20.92930030822754, 21.055999755859375, 21.130699157714844, 21.167999267578125, 21.191999435424805, 21.23870086669922, 21.263999938964844, 21.260000228881836, 21.246700286865234, 21.217300415039062, 21.138700485229492, 21.025299072265625, 20.954700469970703, 20.853300094604492, 20.724000930786133, 20.63599967956543, 20.52400016784668, 20.385299682617188, 20.249300003051758, 20.087299346923828, 19.923999786376953, 19.809999465942383, 19.668699264526367, 19.49329948425293, 19.373300552368164, 19.24530029296875, 19.082700729370117, 18.955299377441406, 18.825300216674805, 18.72330093383789, 18.59670066833496, 18.43400001525879, 18.318700790405273, 18.170700073242188, 18.027999877929688, 17.896699905395508, 17.759300231933594, 17.597999572753906, 17.500699996948242, 17.374000549316406, 17.209299087524414, 17.11669921875, 16.98870086669922, 16.81800079345703, 16.72599983215332, 16.604000091552734, 16.4512996673584, 16.308000564575195, 16.2106990814209, 16.06399917602539, 15.936699867248535, 15.8100004196167, 15.706000328063965, 15.595999717712402, 15.48799991607666, 15.41670036315918, 15.293299674987793, 15.160699844360352, 15.065299987792969, 14.960000038146973, 14.880000114440918, 14.779999732971191, 14.666000366210938, 14.586000442504883, 14.47130012512207, 14.434700012207031, 14.371299743652344, 14.380000114440918, 14.359299659729004, 14.383299827575684, 14.423999786376953, 14.50730037689209, 14.624699592590332, 14.79800033569336, 15.003999710083008, 15.248000144958496, 15.523300170898438, 15.865300178527832, 16.19529914855957, 16.5226993560791, 16.871299743652344, 17.216699600219727, 17.54800033569336, 17.88330078125, 18.244699478149414, 18.604000091552734, 18.889299392700195, 19.19529914855957, 19.422700881958008, 19.674699783325195, 19.895299911499023, 20.068700790405273, 20.241300582885742, 20.466699600219727, 20.663999557495117, 21.014699935913086, 21.426700592041016, 21.689300537109375, 21.749300003051758, 21.73200035095215, 21.743999481201172, 21.77199935913086, 21.82270050048828, 21.947999954223633, 21.981300354003906, 22.0, 21.989299774169922, 21.97599983215332, 21.95199966430664, 21.869300842285156, 21.82670021057129, 21.758699417114258, 21.70400047302246, 21.61870002746582, 21.555999755859375, 21.45199966430664, 21.38129997253418, 21.29330062866211, 21.191999435424805, 21.121299743652344, 21.035999298095703, 20.950700759887695, 20.86400032043457, 20.780000686645508, 20.695999145507812, 20.597299575805664, 20.492700576782227, 20.36199951171875, 20.2632999420166, 20.114700317382812, 20.020700454711914, 19.90730094909668, 19.75, 19.606700897216797, 19.507999420166016, 19.393299102783203, 19.280000686645508, 19.132699966430664, 19.012699127197266, 18.895299911499023, 18.75670051574707, 18.6299991607666, 18.53730010986328, 18.38330078125, 18.270000457763672, 18.15399932861328, 18.06529998779297, 17.93470001220703, 17.830699920654297, 17.719999313354492, 17.635299682617188, 17.515300750732422, 17.42329978942871, 17.31599998474121, 17.198699951171875, 17.060699462890625, 16.959999084472656, 16.81800079345703, 16.72130012512207, 16.623300552368164, 16.551300048828125, 16.41670036315918, 16.347999572753906, 16.316699981689453, 16.273300170898438, 16.2367000579834, 16.226699829101562, 16.229299545288086, 16.30069923400879, 16.40329933166504, 16.54129981994629, 16.724000930786133, 16.917299270629883, 17.152700424194336, 17.41469955444336, 17.698699951171875, 17.964000701904297, 18.30929946899414, 18.62470054626465, 18.93600082397461, 19.266700744628906, 19.518699645996094, 19.850000381469727, 20.1200008392334, 20.42930030822754, 20.667999267578125, 20.920000076293945, 21.137300491333008, 21.32270050048828, 21.562700271606445, 21.749300003051758, 21.92799949645996, 22.081300735473633, 22.219999313354492, 22.305299758911133, 22.43470001220703, 22.542699813842773, 22.591999053955078, 22.68400001525879, 22.72130012512207, 22.784000396728516, 22.79599952697754, 22.757299423217773, 22.743999481201172, 22.678699493408203, 22.672000885009766, 22.581300735473633, 22.54400062561035, 22.464000701904297, 22.386699676513672, 22.306699752807617, 22.22800064086914, 22.12529945373535, 22.03070068359375, 21.94930076599121, 21.847999572753906, 21.749300003051758, 21.6560001373291, 21.529300689697266, 21.423999786376953, 21.263999938964844, 21.131999969482422, 21.0, 20.861299514770508, 20.749300003051758, 20.605300903320312, 20.4512996673584, 20.340700149536133, 20.217300415039062, 20.06529998779297, 19.963300704956055, 19.83930015563965, 19.739999771118164, 19.611299514770508, 19.475299835205078, 19.388700485229492, 19.290000915527344, 19.15329933166504, 19.06529998779297, 18.944000244140625, 18.81329917907715, 18.739999771118164, 18.631999969482422, 18.52400016784668, 18.426700592041016, 18.31529998779297, 18.18199920654297, 18.066699981689453, 17.966699600219727, 17.856000900268555, 17.724700927734375, 17.59000015258789, 17.508699417114258, 17.41670036315918, 17.301300048828125, 17.17729949951172, 17.075300216674805, 16.946699142456055, 16.8572998046875, 16.768699645996094, 16.755300521850586, 16.74329948425293, 16.726699829101562, 16.7367000579834, 16.81730079650879, 16.941999435424805, 17.09269905090332, 17.305999755859375, 17.54330062866211, 17.81800079345703, 18.13129997253418, 18.444000244140625, 18.81329917907715, 19.173999786376953, 19.540700912475586, 19.88800048828125, 20.294700622558594, 20.652000427246094, 21.042699813842773, 21.444000244140625, 21.733299255371094, 22.045299530029297, 22.373300552368164, 22.650699615478516, 22.91469955444336, 23.174699783325195, 23.43600082397461, 23.665300369262695, 23.8799991607666, 24.06130027770996, 24.249300003051758, 24.402700424194336, 24.52669906616211, 24.62929916381836, 24.737300872802734, 24.801300048828125, 24.87470054626465, 24.91200065612793, 24.944000244140625, 24.944000244140625, 24.944000244140625, 24.895999908447266, 24.8799991607666, 24.82670021057129, 24.794700622558594, 24.724000930786133, 24.650699615478516, 24.58930015563965, 24.497299194335938, 24.418699264526367, 24.349300384521484, 24.26129913330078, 24.14929962158203, 24.038700103759766, 23.930700302124023, 23.821300506591797, 23.69729995727539, 23.57200050354004, 23.47330093383789, 23.36400032043457, 23.28529930114746, 23.162700653076172, 23.055999755859375, 22.95870018005371, 22.83329963684082, 22.74799919128418, 22.617300033569336, 22.521299362182617, 22.3799991607666, 22.290700912475586, 22.14929962158203, 22.055999755859375, 21.92530059814453, 21.797300338745117, 21.645299911499023, 21.53730010986328, 21.398700714111328, 21.29199981689453, 21.162700653076172, 21.055999755859375, 20.954700469970703, 20.851999282836914, 20.73069953918457, 20.624000549316406, 20.485300064086914, 20.38800048828125, 20.2632999420166, 20.122699737548828, 19.998699188232422, 19.911300659179688, 19.79330062866211, 19.68600082397461, 19.59000015258789, 19.507999420166016, 19.440000534057617, 19.360000610351562, 19.34000015258789, 19.304000854492188, 19.280000686645508, 19.327999114990234, 19.382699966430664, 19.490699768066406, 19.639999389648438, 19.786699295043945, 19.972700119018555, 20.215999603271484, 20.48200035095215, 20.722700119018555, 20.966699600219727, 21.195999145507812, 21.46929931640625, 21.743999481201172, 22.034700393676758, 22.345300674438477, 22.6200008392334, 22.832000732421875, 23.020000457763672, 23.18400001525879, 23.33329963684082, 23.43600082397461, 23.540000915527344, 23.583999633789062, 23.58799934387207, 23.639999389648438, 23.691999435424805, 23.695999145507812, 23.718700408935547, 23.739999771118164, 23.726699829101562, 23.739999771118164, 23.739999771118164, 23.694700241088867, 23.672000885009766, 23.600000381469727, 23.56399917602539, 23.507999420166016, 23.464000701904297, 23.3799991607666, 23.332000732421875, 23.266700744628906, 23.200000762939453, 23.124000549316406, 23.052000045776367, 22.95870018005371, 22.87470054626465, 22.7987003326416, 22.70669937133789, 22.615999221801758, 22.53730010986328, 22.413299560546875, 22.330699920654297, 22.243999481201172, 22.126699447631836, 22.035999298095703, 21.92799949645996, 21.80270004272461, 21.687999725341797, 21.54669952392578, 21.446699142456055, 21.31999969482422, 21.17729949951172, 21.08530044555664, 20.930700302124023, 20.836000442504883, 20.7106990814209, 20.576000213623047, 20.42729949951172, 20.294700622558594, 20.13599967956543, 19.984699249267578, 19.889299392700195, 19.766700744628906, 19.59670066833496, 19.49799919128418, 19.385299682617188, 19.247299194335938, 19.1200008392334, 19.0, 18.858699798583984, 18.78529930114746, 18.68000030517578, 18.540000915527344, 18.46470069885254, 18.34469985961914, 18.236000061035156, 18.1200008392334, 17.99530029296875, 17.922700881958008, 17.821300506591797, 17.746700286865234, 17.648700714111328, 17.603300094604492, 17.54199981689453, 17.52400016784668, 17.5, 17.53070068359375, 17.600000381469727, 17.717300415039062, 17.840700149536133, 18.038700103759766, 18.234699249267578, 18.493999481201172, 18.75200080871582, 19.007999420166016, 19.294700622558594, 19.5393009185791, 19.847299575805664, 20.13599967956543, 20.426000595092773, 20.72130012512207, 21.002700805664062, 21.2893009185791, 21.54400062561035, 21.782699584960938, 22.021299362182617, 22.23069953918457, 22.40399932861328, 22.583999633789062, 22.756000518798828, 22.873300552368164, 22.97599983215332, 23.121299743652344, 23.236000061035156, 23.273300170898438, 23.327999114990234, 23.347999572753906, 23.395999908447266, 23.392000198364258, 23.408000946044922, 23.399999618530273, 23.416000366210938, 23.38800048828125, 23.34000015258789, 23.31329917907715, 23.273300170898438, 23.20800018310547, 23.130699157714844, 23.07200050354004, 22.979999542236328, 22.899999618530273, 22.821300506591797, 22.72800064086914, 22.652000427246094, 22.559999465942383, 22.464000701904297, 22.39069938659668, 22.297300338745117, 22.217300415039062, 22.131999969482422, 22.02400016784668, 21.940000534057617, 21.84000015258789, 21.737300872802734, 21.61199951171875, 21.529300689697266, 21.459999084472656, 21.368000030517578, 21.26129913330078, 21.154699325561523, 21.07200050354004, 20.968000411987305, 20.892000198364258, 20.788000106811523, 20.709299087524414, 20.59469985961914, 20.518699645996094, 20.40329933166504, 20.340700149536133, 20.242700576782227, 20.14069938659668, 20.09670066833496, 20.0, 19.950000762939453, 19.86669921875, 19.82670021057129, 19.74329948425293, 19.709999084472656, 19.62470054626465, 19.54669952392578, 19.52400016784668, 19.450000762939453, 19.399999618530273, 19.310699462890625, 19.27669906616211, 19.226699829101562, 19.154699325561523, 19.113300323486328, 19.066699981689453, 19.02400016784668, 18.996700286865234, 18.976699829101562, 18.9867000579834, 19.016000747680664, 19.08329963684082, 19.161300659179688, 19.23270034790039, 19.337299346923828, 19.374000549316406, 19.571300506591797, 19.7632999420166, 19.849300384521484, 20.027999877929688, 20.19529914855957, 20.233299255371094, 20.357999801635742, 20.669300079345703, 20.82670021057129, 20.818700790405273, 20.81599998474121, 20.895999908447266, 20.988000869750977, 21.02400016784668, 21.02400016784668, 21.06399917602539, 21.06399917602539, 21.04800033569336, 20.981300354003906, 20.989299774169922, 20.8572998046875, 20.726699829101562, 20.631999969482422, 20.63599967956543, 20.591999053955078, 20.424699783325195, 20.420000076293945, 20.41670036315918, 20.68400001525879, 20.868000030517578, 20.916000366210938, 20.884000778198242, 20.892000198364258, 20.84000015258789, 20.82270050048828, 20.76799964904785, 20.737300872802734, 20.652000427246094, 20.643999099731445, 20.58530044555664, 20.535999298095703, 20.503999710083008, 20.443300247192383, 20.40329933166504, 20.3439998626709, 20.25, 20.22330093383789, 20.167999267578125, 20.097299575805664, 20.06329917907715, 19.991300582885742, 19.95330047607422, 19.93000030517578, 19.878700256347656, 19.83329963684082, 19.806699752807617, 19.74329948425293, 19.68400001525879, 19.61669921875, 19.52669906616211, 19.47330093383789, 19.40999984741211, 19.33329963684082, 19.27669906616211, 19.195999145507812, 19.110000610351562, 19.024700164794922, 18.931299209594727, 18.81599998474121, 18.770000457763672, 18.68000030517578, 18.59670066833496, 18.531999588012695, 18.47330093383789, 18.413299560546875, 18.33799934387207, 18.2632999420166, 18.246700286865234, 18.200000762939453, 18.149999618530273, 18.110000610351562, 18.06999969482422, 18.04400062561035, 18.003999710083008, 17.996700286865234, 18.0, 18.0, 18.02400016784668, 18.035999298095703, 18.082000732421875, 18.134700775146484, 18.239999771118164, 18.33329963684082, 18.41670036315918, 18.51930046081543, 18.733999252319336, 18.86870002746582, 19.027999877929688, 19.251300811767578, 19.487300872802734, 19.749300003051758, 20.084699630737305, 20.305299758911133, 20.606700897216797, 20.7893009185791, 20.91200065612793, 21.11199951171875, 21.354700088500977, 21.472000122070312, 21.53730010986328, 21.658700942993164, 21.780000686645508, 21.93199920654297, 22.04400062561035, 22.059999465942383, 22.059999465942383, 22.001300811767578, 21.920000076293945, 21.899999618530273, 21.851999282836914, 21.782699584960938, 21.780000686645508, 21.80270004272461, 21.808000564575195, 21.84000015258789, 21.784000396728516, 21.74799919128418, 21.715999603271484, 21.601299285888672, 21.531999588012695, 21.459999084472656, 21.440000534057617, 21.34000015258789, 21.273300170898438, 21.181299209594727, 21.10930061340332, 21.003999710083008, 20.950700759887695, 20.86669921875, 20.760000228881836, 20.674699783325195, 20.6200008392334, 20.549299240112305, 20.45400047302246, 20.406700134277344, 20.32469940185547, 20.242000579833984, 20.1299991607666, 20.09469985961914, 20.002700805664062, 19.952699661254883, 19.893999099731445, 19.809999465942383, 19.726699829101562, 19.691299438476562, 19.61669921875, 19.52400016784668, 19.450000762939453, 19.40999984741211, 19.360000610351562, 19.283300399780273, 19.260000228881836, 19.191999435424805, 19.1299991607666, 19.049299240112305, 18.97330093383789, 18.931299209594727, 18.858699798583984, 18.782699584960938, 18.733299255371094, 18.676000595092773, 18.603300094604492, 18.559999465942383, 18.516000747680664, 18.474000930786133, 18.399999618530273, 18.38330078125, 18.336000442504883, 18.29669952392578, 18.229999542236328, 18.229999542236328, 18.219999313354492, 18.18400001525879, 18.14069938659668, 18.16200065612793, 18.215999603271484, 18.253299713134766, 18.290000915527344, 18.371999740600586, 18.420000076293945, 18.496700286865234, 18.531999588012695, 18.556699752807617, 18.586700439453125, 18.610000610351562, 18.715999603271484, 18.806699752807617, 18.90399932861328, 19.031999588012695, 19.251300811767578, 19.455299377441406, 19.72130012512207, 19.931299209594727, 20.1427001953125, 20.340700149536133, 20.576000213623047, 20.691999435424805, 20.763999938964844, 20.92799949645996, 21.052000045776367, 21.137300491333008, 21.18400001525879, 21.215999603271484, 21.18000030517578, 21.107999801635742, 21.020000457763672, 20.970699310302734, 20.908000946044922, 20.82670021057129, 20.753299713134766, 20.687999725341797, 20.615999221801758, 20.538700103759766, 20.450000762939453, 20.37470054626465, 20.290000915527344, 20.173999786376953, 20.105300903320312, 20.005300521850586, 19.93670082092285, 19.845300674438477, 19.75670051574707, 19.694000244140625, 19.593299865722656, 19.549299240112305, 19.45800018310547, 19.389999389648438, 19.3439998626709, 19.2632999420166, 19.222700119018555, 19.143999099731445, 19.073299407958984, 19.0, 18.966699600219727, 18.913999557495117, 18.829299926757812, 18.805299758911133, 18.753299713134766, 18.667299270629883, 18.652000427246094, 18.600000381469727, 18.52400016784668, 18.492000579833984, 18.466699600219727, 18.42329978942871, 18.371999740600586, 18.32069969177246, 18.27669906616211, 18.239999771118164, 18.195999145507812, 18.13330078125, 18.09670066833496, 18.079999923706055, 18.031999588012695, 17.976699829101562, 17.93670082092285, 17.90999984741211, 17.856000900268555, 17.821300506591797, 17.780000686645508, 17.709299087524414, 17.65999984741211, 17.6200008392334, 17.573299407958984, 17.566699981689453, 17.516000747680664, 17.483999252319336, 17.469999313354492, 17.433300018310547, 17.413299560546875, 17.42329978942871, 17.45669937133789, 17.515300750732422, 17.678699493408203, 17.807300567626953, 18.007299423217773, 18.215999603271484, 18.423999786376953, 18.678699493408203, 18.888700485229492, 19.059999465942383, 19.2273006439209, 19.49329948425293, 19.81599998474121, 20.09469985961914, 20.34469985961914, 20.583999633789062, 20.774700164794922, 21.010700225830078, 21.1560001373291, 21.34000015258789, 21.503999710083008, 21.569299697875977, 21.583999633789062, 21.631999969482422, 21.59600067138672, 21.61199951171875, 21.639999389648438, 21.676000595092773, 21.691999435424805, 21.729299545288086, 21.715999603271484, 21.7106990814209, 21.713300704956055, 21.691999435424805, 21.6200008392334, 21.56529998779297, 21.507999420166016, 21.45599937438965, 21.393299102783203, 21.290700912475586, 21.191999435424805, 21.11870002746582, 20.994699478149414, 20.91200065612793, 20.814699172973633, 20.713300704956055, 20.58530044555664, 20.500699996948242, 20.385299682617188, 20.308700561523438, 20.211999893188477, 20.117300033569336, 20.051300048828125, 19.937999725341797, 19.77669906616211, 19.647300720214844, 19.489999771118164, 19.35930061340332, 19.25, 19.14069938659668, 19.03529930114746, 18.889999389648438, 18.823999404907227, 18.75, 18.68000030517578, 18.600000381469727, 18.490699768066406, 18.43000030517578, 18.351999282836914, 18.253299713134766, 18.169300079345703, 18.103300094604492, 18.024700164794922, 17.93670082092285, 17.827999114990234, 17.779300689697266, 17.69070053100586, 17.600000381469727, 17.516000747680664, 17.45330047607422, 17.363300323486328, 17.270000457763672, 17.16200065612793, 17.038000106811523, 16.969999313354492, 16.87929916381836, 16.781999588012695, 16.70870018005371, 16.644699096679688, 16.566699981689453, 16.511999130249023, 16.47330093383789, 16.396699905395508, 16.38330078125, 16.327999114990234, 16.260000228881836, 16.24329948425293, 16.162700653076172, 16.126699447631836, 16.100000381469727, 16.027299880981445, 16.016000747680664, 16.027999877929688, 16.16670036315918, 16.297300338745117, 16.32069969177246, 16.303300857543945, 16.447999954223633, 16.673999786376953, 16.917999267578125, 17.170700073242188, 17.3799991607666, 17.634000778198242, 17.88129997253418, 18.1072998046875, 18.33799934387207, 18.535999298095703, 18.748699188232422, 18.93269920349121, 19.09469985961914, 19.2632999420166, 19.365299224853516, 19.48270034790039, 19.566699981689453, 19.649999618530273, 19.726699829101562, 19.773300170898438, 19.803300857543945, 19.82670021057129, 19.84000015258789, 19.84000015258789, 19.84670066833496, 19.809999465942383, 19.766700744628906, 19.733299255371094, 19.695999145507812, 19.6200008392334, 19.559999465942383, 19.476699829101562, 19.377300262451172, 19.347999572753906, 19.270000457763672, 19.148700714111328, 19.05069923400879, 18.983999252319336, 18.90399932861328, 18.81529998779297, 18.70199966430664, 18.603300094604492, 18.534700393676758, 18.43000030517578, 18.34000015258789, 18.25, 18.13800048828125, 18.031999588012695, 17.875999450683594, 17.766700744628906, 17.667299270629883, 17.579999923706055, 17.470699310302734, 17.377300262451172, 17.260000228881836, 17.13129997253418, 17.02869987487793, 16.917999267578125, 16.795299530029297, 16.68600082397461, 16.579299926757812, 16.45400047302246, 16.326000213623047, 16.2367000579834, 16.143299102783203, 16.068700790405273, 15.963299751281738, 15.868000030517578, 15.748000144958496, 15.6766996383667, 15.5826997756958, 15.493300437927246, 15.402700424194336, 15.325300216674805, 15.243300437927246, 15.152000427246094, 15.086700439453125, 15.001999855041504, 14.953300476074219, 14.911999702453613, 14.899999618530273, 14.85200023651123, 14.840700149536133, 14.883999824523926, 14.943300247192383, 15.029999732971191, 15.177300453186035, 15.319299697875977, 15.508000373840332, 15.646699905395508, 15.821999549865723, 15.949999809265137, 16.054000854492188, 16.19930076599121, 16.36400032043457, 16.54330062866211, 16.79599952697754, 16.969999313354492, 17.093299865722656, 17.234699249267578, 17.336700439453125, 17.601299285888672, 17.812000274658203, 18.021299362182617, 18.187999725341797, 18.372699737548828, 18.521299362182617, 18.656700134277344, 18.841999053955078, 18.954700469970703, 19.16069984436035, 19.319299697875977, 19.450000762939453, 19.562700271606445, 19.672700881958008, 19.766700744628906, 19.79330062866211, 19.857999801635742, 19.902000427246094, 19.88599967956543, 19.874000549316406, 19.843299865722656, 19.79330062866211, 19.766700744628906, 19.70330047607422, 19.663999557495117, 19.610000610351562, 19.518699645996094, 19.45669937133789, 19.399999618530273, 19.29330062866211, 19.25, 19.148700714111328, 19.06329917907715, 19.002700805664062, 18.928699493408203, 18.836000442504883, 18.773300170898438, 18.719999313354492, 18.6200008392334, 18.559999465942383, 18.48200035095215, 18.385299682617188, 18.25, 18.187999725341797, 18.09670066833496, 18.02400016784668, 17.933300018310547, 17.828699111938477, 17.718700408935547, 17.636699676513672, 17.555999755859375, 17.466699600219727, 17.406700134277344, 17.308000564575195, 17.236000061035156, 17.13330078125, 17.06529998779297, 16.95330047607422, 16.878700256347656, 16.786699295043945, 16.705299377441406, 16.610000610351562, 16.520000457763672, 16.42329978942871, 16.31529998779297, 16.200000762939453, 16.136699676513672, 16.06130027770996, 15.93529987335205, 15.824000358581543, 15.76669979095459, 15.682000160217285, 15.581999778747559, 15.496000289916992, 15.4266996383667, 15.331999778747559, 15.324000358581543, 15.319999694824219, 15.33329963684082, 15.399999618530273, 15.488699913024902, 15.644700050354004, 15.804699897766113, 15.998700141906738, 16.24799919128418, 16.507299423217773, 16.786699295043945, 17.080699920654297, 17.334699630737305, 17.586000442504883, 17.87929916381836, 18.198699951171875, 18.52669906616211, 18.81800079345703, 19.1560001373291, 19.46929931640625, 19.761999130249023, 20.032699584960938, 20.369300842285156, 20.665300369262695, 20.94930076599121, 21.187999725341797, 21.394699096679688, 21.56800079345703, 21.702699661254883, 21.86400032043457, 21.961299896240234, 22.100000381469727, 22.20400047302246, 22.281299591064453, 22.31599998474121, 22.3799991607666, 22.409299850463867, 22.420000076293945, 22.40399932861328, 22.420000076293945, 22.38129997253418, 22.351999282836914, 22.29330062866211, 22.239999771118164, 22.158700942993164, 22.091999053955078, 22.0226993560791, 21.957300186157227, 21.86400032043457, 21.7987003326416, 21.693300247192383, 21.600000381469727, 21.527999877929688, 21.416000366210938, 21.31599998474121, 21.219999313354492, 21.107999801635742, 21.002700805664062, 20.899999618530273, 20.788000106811523, 20.661300659179688, 20.559999465942383, 20.450700759887695, 20.297300338745117, 20.213300704956055, 20.101999282836914, 19.96929931640625, 19.881999969482422, 19.806699752807617, 19.70330047607422, 19.603300094604492, 19.493999481201172, 19.406700134277344, 19.327999114990234, 19.242700576782227, 19.13129997253418, 19.01799964904785, 18.872699737548828, 18.75, 18.66069984436035, 18.54400062561035, 18.459999084472656, 18.358699798583984, 18.244699478149414, 18.126699447631836, 18.035999298095703, 17.946699142456055, 17.82670021057129, 17.733299255371094, 17.614700317382812, 17.49329948425293, 17.41670036315918, 17.319299697875977, 17.233299255371094, 17.15730094909668, 17.07670021057129, 17.055999755859375, 17.086700439453125, 17.110000610351562, 17.150699615478516, 17.243999481201172, 17.37529945373535, 17.511999130249023, 17.69729995727539, 17.840700149536133, 18.099300384521484, 18.376699447631836, 18.670700073242188, 18.983299255371094, 19.2632999420166, 19.55069923400879, 19.853300094604492, 20.15399932861328, 20.428699493408203, 20.70400047302246, 20.93199920654297, 21.211999893188477, 21.45330047607422, 21.69070053100586, 21.895999908447266, 22.08530044555664, 22.266700744628906, 22.397300720214844, 22.518699645996094, 22.591999053955078, 22.722700119018555, 22.80929946899414, 22.889299392700195, 22.95199966430664, 22.974700927734375, 23.029300689697266, 23.04800033569336, 23.04800033569336, 23.014699935913086, 23.003999710083008, 22.978700637817383, 22.92799949645996, 22.865299224853516, 22.801300048828125, 22.702699661254883, 22.628000259399414, 22.518699645996094, 22.408000946044922, 22.312000274658203, 22.20400047302246, 22.102699279785156, 21.97599983215332, 21.884000778198242, 21.749300003051758, 21.648000717163086, 21.516000747680664, 21.433300018310547, 21.30929946899414, 21.20669937133789, 21.079999923706055, 20.994699478149414, 20.878700256347656, 20.801300048828125, 20.69729995727539, 20.59869956970215, 20.50469970703125, 20.38330078125, 20.283300399780273, 20.195999145507812, 20.066699981689453, 19.9867000579834, 19.908000946044922, 19.81329917907715, 19.71470069885254, 19.62929916381836, 19.559999465942383, 19.461299896240234, 19.38129997253418, 19.332000732421875, 19.27669906616211, 19.18000030517578, 19.1200008392334, 19.015300750732422, 18.941999435424805, 18.877300262451172, 18.775299072265625, 18.746700286865234, 18.68400001525879, 18.600000381469727, 18.54330062866211, 18.492000579833984, 18.41670036315918, 18.327999114990234, 18.309999465942383, 18.24329948425293, 18.215999603271484, 18.16469955444336, 18.139999389648438, 18.110000610351562, 18.106700897216797, 18.086700439453125, 18.1200008392334, 18.156700134277344, 18.20330047607422, 18.290700912475586, 18.447999954223633, 18.61400032043457, 18.729999542236328, 18.872699737548828, 19.080699920654297, 19.338699340820312, 19.614700317382812, 19.891300201416016, 20.229299545288086, 20.625999450683594, 20.908000946044922, 21.073299407958984, 21.37070083618164, 21.717300415039062, 22.042699813842773, 22.354700088500977, 22.643999099731445, 22.8799991607666, 23.163999557495117, 23.408000946044922, 23.583999633789062, 23.799999237060547, 23.983999252319336, 24.124000549316406, 24.265300750732422, 24.37070083618164, 24.470699310302734, 24.535999298095703, 24.605300903320312, 24.650699615478516, 24.687999725341797, 24.724000930786133, 24.73200035095215, 24.734699249267578, 24.734699249267578, 24.71470069885254, 24.68400001525879, 24.639999389648438, 24.583999633789062, 24.509300231933594, 24.44529914855957, 24.38800048828125, 24.29330062866211, 24.236000061035156, 24.162700653076172, 24.106700897216797, 24.02400016784668, 23.978700637817383, 23.90399932861328, 23.81599998474121, 23.729299545288086, 23.663999557495117, 23.56529998779297, 23.505300521850586, 23.408000946044922, 23.31999969482422, 23.243999481201172, 23.11870002746582, 23.055999755859375, 22.942699432373047, 22.861299514770508, 22.760000228881836, 22.68000030517578, 22.581300735473633, 22.488000869750977, 22.406700134277344, 22.32670021057129, 22.22800064086914, 22.14929962158203, 22.073299407958984, 21.97599983215332, 21.895999908447266, 21.784000396728516, 21.7012996673584, 21.600000381469727, 21.502700805664062, 21.413299560546875, 21.304000854492188, 21.215999603271484, 21.10930061340332, 21.001300811767578, 20.895999908447266, 20.818700790405273, 20.705299377441406, 20.582700729370117, 20.520000457763672, 20.440000534057617]}],\n",
              "                        {\"template\": {\"data\": {\"bar\": [{\"error_x\": {\"color\": \"#2a3f5f\"}, \"error_y\": {\"color\": \"#2a3f5f\"}, \"marker\": {\"line\": {\"color\": \"#E5ECF6\", \"width\": 0.5}}, \"type\": \"bar\"}], \"barpolar\": [{\"marker\": {\"line\": {\"color\": \"#E5ECF6\", \"width\": 0.5}}, \"type\": \"barpolar\"}], \"carpet\": [{\"aaxis\": {\"endlinecolor\": \"#2a3f5f\", \"gridcolor\": \"white\", \"linecolor\": \"white\", \"minorgridcolor\": \"white\", \"startlinecolor\": \"#2a3f5f\"}, \"baxis\": {\"endlinecolor\": \"#2a3f5f\", \"gridcolor\": \"white\", \"linecolor\": \"white\", \"minorgridcolor\": \"white\", \"startlinecolor\": \"#2a3f5f\"}, \"type\": \"carpet\"}], \"choropleth\": [{\"colorbar\": {\"outlinewidth\": 0, \"ticks\": \"\"}, \"type\": \"choropleth\"}], \"contour\": [{\"colorbar\": {\"outlinewidth\": 0, \"ticks\": \"\"}, \"colorscale\": [[0.0, \"#0d0887\"], [0.1111111111111111, \"#46039f\"], [0.2222222222222222, \"#7201a8\"], [0.3333333333333333, \"#9c179e\"], [0.4444444444444444, \"#bd3786\"], [0.5555555555555556, \"#d8576b\"], [0.6666666666666666, \"#ed7953\"], [0.7777777777777778, \"#fb9f3a\"], [0.8888888888888888, \"#fdca26\"], [1.0, \"#f0f921\"]], \"type\": \"contour\"}], \"contourcarpet\": [{\"colorbar\": {\"outlinewidth\": 0, \"ticks\": \"\"}, \"type\": \"contourcarpet\"}], \"heatmap\": [{\"colorbar\": {\"outlinewidth\": 0, \"ticks\": \"\"}, \"colorscale\": [[0.0, \"#0d0887\"], [0.1111111111111111, \"#46039f\"], [0.2222222222222222, \"#7201a8\"], [0.3333333333333333, \"#9c179e\"], [0.4444444444444444, \"#bd3786\"], [0.5555555555555556, \"#d8576b\"], [0.6666666666666666, \"#ed7953\"], [0.7777777777777778, \"#fb9f3a\"], [0.8888888888888888, \"#fdca26\"], [1.0, \"#f0f921\"]], \"type\": \"heatmap\"}], \"heatmapgl\": [{\"colorbar\": {\"outlinewidth\": 0, \"ticks\": \"\"}, \"colorscale\": [[0.0, \"#0d0887\"], [0.1111111111111111, \"#46039f\"], [0.2222222222222222, \"#7201a8\"], [0.3333333333333333, \"#9c179e\"], [0.4444444444444444, \"#bd3786\"], [0.5555555555555556, \"#d8576b\"], [0.6666666666666666, \"#ed7953\"], [0.7777777777777778, \"#fb9f3a\"], [0.8888888888888888, \"#fdca26\"], [1.0, \"#f0f921\"]], \"type\": \"heatmapgl\"}], \"histogram\": [{\"marker\": {\"colorbar\": {\"outlinewidth\": 0, \"ticks\": \"\"}}, \"type\": \"histogram\"}], \"histogram2d\": [{\"colorbar\": {\"outlinewidth\": 0, \"ticks\": \"\"}, \"colorscale\": [[0.0, \"#0d0887\"], [0.1111111111111111, \"#46039f\"], [0.2222222222222222, \"#7201a8\"], [0.3333333333333333, \"#9c179e\"], [0.4444444444444444, \"#bd3786\"], [0.5555555555555556, \"#d8576b\"], [0.6666666666666666, \"#ed7953\"], [0.7777777777777778, \"#fb9f3a\"], [0.8888888888888888, \"#fdca26\"], [1.0, \"#f0f921\"]], \"type\": \"histogram2d\"}], \"histogram2dcontour\": [{\"colorbar\": {\"outlinewidth\": 0, \"ticks\": \"\"}, \"colorscale\": [[0.0, \"#0d0887\"], [0.1111111111111111, \"#46039f\"], [0.2222222222222222, \"#7201a8\"], [0.3333333333333333, \"#9c179e\"], [0.4444444444444444, \"#bd3786\"], [0.5555555555555556, \"#d8576b\"], [0.6666666666666666, \"#ed7953\"], [0.7777777777777778, \"#fb9f3a\"], [0.8888888888888888, \"#fdca26\"], [1.0, \"#f0f921\"]], \"type\": \"histogram2dcontour\"}], \"mesh3d\": [{\"colorbar\": {\"outlinewidth\": 0, \"ticks\": \"\"}, \"type\": \"mesh3d\"}], \"parcoords\": [{\"line\": {\"colorbar\": {\"outlinewidth\": 0, \"ticks\": \"\"}}, \"type\": \"parcoords\"}], \"pie\": [{\"automargin\": true, \"type\": \"pie\"}], \"scatter\": [{\"marker\": {\"colorbar\": {\"outlinewidth\": 0, \"ticks\": \"\"}}, \"type\": \"scatter\"}], \"scatter3d\": [{\"line\": {\"colorbar\": {\"outlinewidth\": 0, \"ticks\": \"\"}}, \"marker\": {\"colorbar\": {\"outlinewidth\": 0, \"ticks\": \"\"}}, \"type\": \"scatter3d\"}], \"scattercarpet\": [{\"marker\": {\"colorbar\": {\"outlinewidth\": 0, \"ticks\": \"\"}}, \"type\": \"scattercarpet\"}], \"scattergeo\": [{\"marker\": {\"colorbar\": {\"outlinewidth\": 0, \"ticks\": \"\"}}, \"type\": \"scattergeo\"}], \"scattergl\": [{\"marker\": {\"colorbar\": {\"outlinewidth\": 0, \"ticks\": \"\"}}, \"type\": \"scattergl\"}], \"scattermapbox\": [{\"marker\": {\"colorbar\": {\"outlinewidth\": 0, \"ticks\": \"\"}}, \"type\": \"scattermapbox\"}], \"scatterpolar\": [{\"marker\": {\"colorbar\": {\"outlinewidth\": 0, \"ticks\": \"\"}}, \"type\": \"scatterpolar\"}], \"scatterpolargl\": [{\"marker\": {\"colorbar\": {\"outlinewidth\": 0, \"ticks\": \"\"}}, \"type\": \"scatterpolargl\"}], \"scatterternary\": [{\"marker\": {\"colorbar\": {\"outlinewidth\": 0, \"ticks\": \"\"}}, \"type\": \"scatterternary\"}], \"surface\": [{\"colorbar\": {\"outlinewidth\": 0, \"ticks\": \"\"}, \"colorscale\": [[0.0, \"#0d0887\"], [0.1111111111111111, \"#46039f\"], [0.2222222222222222, \"#7201a8\"], [0.3333333333333333, \"#9c179e\"], [0.4444444444444444, \"#bd3786\"], [0.5555555555555556, \"#d8576b\"], [0.6666666666666666, \"#ed7953\"], [0.7777777777777778, \"#fb9f3a\"], [0.8888888888888888, \"#fdca26\"], [1.0, \"#f0f921\"]], \"type\": \"surface\"}], \"table\": [{\"cells\": {\"fill\": {\"color\": \"#EBF0F8\"}, \"line\": {\"color\": \"white\"}}, \"header\": {\"fill\": {\"color\": \"#C8D4E3\"}, \"line\": {\"color\": \"white\"}}, \"type\": \"table\"}]}, \"layout\": {\"annotationdefaults\": {\"arrowcolor\": \"#2a3f5f\", \"arrowhead\": 0, \"arrowwidth\": 1}, \"coloraxis\": {\"colorbar\": {\"outlinewidth\": 0, \"ticks\": \"\"}}, \"colorscale\": {\"diverging\": [[0, \"#8e0152\"], [0.1, \"#c51b7d\"], [0.2, \"#de77ae\"], [0.3, \"#f1b6da\"], [0.4, \"#fde0ef\"], [0.5, \"#f7f7f7\"], [0.6, \"#e6f5d0\"], [0.7, \"#b8e186\"], [0.8, \"#7fbc41\"], [0.9, \"#4d9221\"], [1, \"#276419\"]], \"sequential\": [[0.0, \"#0d0887\"], [0.1111111111111111, \"#46039f\"], [0.2222222222222222, \"#7201a8\"], [0.3333333333333333, \"#9c179e\"], [0.4444444444444444, \"#bd3786\"], [0.5555555555555556, \"#d8576b\"], [0.6666666666666666, \"#ed7953\"], [0.7777777777777778, \"#fb9f3a\"], [0.8888888888888888, \"#fdca26\"], [1.0, \"#f0f921\"]], \"sequentialminus\": [[0.0, \"#0d0887\"], [0.1111111111111111, \"#46039f\"], [0.2222222222222222, \"#7201a8\"], [0.3333333333333333, \"#9c179e\"], [0.4444444444444444, \"#bd3786\"], [0.5555555555555556, \"#d8576b\"], [0.6666666666666666, \"#ed7953\"], [0.7777777777777778, \"#fb9f3a\"], [0.8888888888888888, \"#fdca26\"], [1.0, \"#f0f921\"]]}, \"colorway\": [\"#636efa\", \"#EF553B\", \"#00cc96\", \"#ab63fa\", \"#FFA15A\", \"#19d3f3\", \"#FF6692\", \"#B6E880\", \"#FF97FF\", \"#FECB52\"], \"font\": {\"color\": \"#2a3f5f\"}, \"geo\": {\"bgcolor\": \"white\", \"lakecolor\": \"white\", \"landcolor\": \"#E5ECF6\", \"showlakes\": true, \"showland\": true, \"subunitcolor\": \"white\"}, \"hoverlabel\": {\"align\": \"left\"}, \"hovermode\": \"closest\", \"mapbox\": {\"style\": \"light\"}, \"paper_bgcolor\": \"white\", \"plot_bgcolor\": \"#E5ECF6\", \"polar\": {\"angularaxis\": {\"gridcolor\": \"white\", \"linecolor\": \"white\", \"ticks\": \"\"}, \"bgcolor\": \"#E5ECF6\", \"radialaxis\": {\"gridcolor\": \"white\", \"linecolor\": \"white\", \"ticks\": \"\"}}, \"scene\": {\"xaxis\": {\"backgroundcolor\": \"#E5ECF6\", \"gridcolor\": \"white\", \"gridwidth\": 2, \"linecolor\": \"white\", \"showbackground\": true, \"ticks\": \"\", \"zerolinecolor\": \"white\"}, \"yaxis\": {\"backgroundcolor\": \"#E5ECF6\", \"gridcolor\": \"white\", \"gridwidth\": 2, \"linecolor\": \"white\", \"showbackground\": true, \"ticks\": \"\", \"zerolinecolor\": \"white\"}, \"zaxis\": {\"backgroundcolor\": \"#E5ECF6\", \"gridcolor\": \"white\", \"gridwidth\": 2, \"linecolor\": \"white\", \"showbackground\": true, \"ticks\": \"\", \"zerolinecolor\": \"white\"}}, \"shapedefaults\": {\"line\": {\"color\": \"#2a3f5f\"}}, \"ternary\": {\"aaxis\": {\"gridcolor\": \"white\", \"linecolor\": \"white\", \"ticks\": \"\"}, \"baxis\": {\"gridcolor\": \"white\", \"linecolor\": \"white\", \"ticks\": \"\"}, \"bgcolor\": \"#E5ECF6\", \"caxis\": {\"gridcolor\": \"white\", \"linecolor\": \"white\", \"ticks\": \"\"}}, \"title\": {\"x\": 0.05}, \"xaxis\": {\"automargin\": true, \"gridcolor\": \"white\", \"linecolor\": \"white\", \"ticks\": \"\", \"title\": {\"standoff\": 15}, \"zerolinecolor\": \"white\", \"zerolinewidth\": 2}, \"yaxis\": {\"automargin\": true, \"gridcolor\": \"white\", \"linecolor\": \"white\", \"ticks\": \"\", \"title\": {\"standoff\": 15}, \"zerolinecolor\": \"white\", \"zerolinewidth\": 2}}}, \"xaxis\": {\"rangeslider\": {\"visible\": true}}, \"yaxis\": {\"autorange\": true, \"fixedrange\": false}},\n",
              "                        {\"responsive\": true}\n",
              "                    ).then(function(){\n",
              "                            \n",
              "var gd = document.getElementById('ced40ad9-8f6f-4777-b974-6ac7332ba7a1');\n",
              "var x = new MutationObserver(function (mutations, observer) {{\n",
              "        var display = window.getComputedStyle(gd).display;\n",
              "        if (!display || display === 'none') {{\n",
              "            console.log([gd, 'removed!']);\n",
              "            Plotly.purge(gd);\n",
              "            observer.disconnect();\n",
              "        }}\n",
              "}});\n",
              "\n",
              "// Listen for the removal of the full notebook cells\n",
              "var notebookContainer = gd.closest('#notebook-container');\n",
              "if (notebookContainer) {{\n",
              "    x.observe(notebookContainer, {childList: true});\n",
              "}}\n",
              "\n",
              "// Listen for the clearing of the current output cell\n",
              "var outputEl = gd.closest('.output');\n",
              "if (outputEl) {{\n",
              "    x.observe(outputEl, {childList: true});\n",
              "}}\n",
              "\n",
              "                        })\n",
              "                };\n",
              "                \n",
              "            </script>\n",
              "        </div>\n",
              "</body>\n",
              "</html>"
            ]
          },
          "metadata": {
            "tags": []
          }
        }
      ]
    },
    {
      "cell_type": "markdown",
      "metadata": {
        "id": "j8CVmrVUCMh5"
      },
      "source": [
        "# Séparation des données de test et d'entrainement"
      ]
    },
    {
      "cell_type": "code",
      "metadata": {
        "id": "hKbWLsWRCMh6",
        "colab": {
          "base_uri": "https://localhost:8080/"
        },
        "outputId": "d533a328-94fe-4a70-dd4a-ee5ba7cca459"
      },
      "source": [
        "# Sépare les données en entrainement et tests\n",
        "pourcentage = 0.8\n",
        "temps_separation = int(len(df_etude.values) * pourcentage)\n",
        "date_separation = df_etude.index[temps_separation]\n",
        "\n",
        "serie_entrainement_X = np.array(df_etude.values[:temps_separation],dtype=np.float32)\n",
        "serie_test_X = np.array(df_etude.values[temps_separation:],dtype=np.float32)\n",
        "\n",
        "print(\"Taille de l'entrainement : %d\" %len(serie_entrainement_X))\n",
        "print(\"Taille de la validation : %d\" %len(serie_test_X))"
      ],
      "execution_count": 9,
      "outputs": [
        {
          "output_type": "stream",
          "text": [
            "Taille de l'entrainement : 2211\n",
            "Taille de la validation : 553\n"
          ],
          "name": "stdout"
        }
      ]
    },
    {
      "cell_type": "markdown",
      "metadata": {
        "id": "GsZWwM0-CMh7"
      },
      "source": [
        "**Normalisation des données :**"
      ]
    },
    {
      "cell_type": "markdown",
      "metadata": {
        "id": "yniWB2X8CMh8"
      },
      "source": [
        "On normalise les données à l'aide de la fonction [MinMaxScaler](https://scikit-learn.org/stable/modules/generated/sklearn.preprocessing.MinMaxScaler.html)"
      ]
    },
    {
      "cell_type": "code",
      "metadata": {
        "id": "emf7MqosCMh8"
      },
      "source": [
        "from sklearn import preprocessing\n",
        "\n",
        "# Constrution des séries\n",
        "serie_entrainement_X_norm = []\n",
        "serie_test_X_norm = []\n",
        "\n",
        "for i in range(0,len(df_etude.columns)):\n",
        "  serie_entrainement_X_norm.append(serie_entrainement_X[:,i])\n",
        "  serie_test_X_norm.append(serie_test_X[:,i])\n",
        "\n",
        "serie_entrainement_X_norm = tf.convert_to_tensor(serie_entrainement_X_norm)\n",
        "serie_entrainement_X_norm = tf.transpose(serie_entrainement_X_norm)\n",
        "serie_test_X_norm = tf.convert_to_tensor(serie_test_X_norm)\n",
        "serie_test_X_norm = tf.transpose(serie_test_X_norm)\n",
        "\n",
        "# Initialisaton du MinMaxScaler\n",
        "min_max_scaler = preprocessing.MinMaxScaler()\n",
        "min_max_scaler.fit(serie_entrainement_X_norm)\n",
        "\n",
        "# Normalisation des séries\n",
        "serie_entrainement_X_norm = min_max_scaler.transform(serie_entrainement_X_norm)\n",
        "serie_test_X_norm = min_max_scaler.transform(serie_test_X_norm)"
      ],
      "execution_count": 10,
      "outputs": []
    },
    {
      "cell_type": "code",
      "metadata": {
        "id": "zoBbMQIICMh9",
        "colab": {
          "base_uri": "https://localhost:8080/"
        },
        "outputId": "18047e09-3c7c-4b75-dfa4-2e13dbb8a736"
      },
      "source": [
        "print(serie_entrainement_X_norm.shape)\n",
        "print(serie_test_X_norm.shape)"
      ],
      "execution_count": 11,
      "outputs": [
        {
          "output_type": "stream",
          "text": [
            "(2211, 19)\n",
            "(553, 19)\n"
          ],
          "name": "stdout"
        }
      ]
    },
    {
      "cell_type": "code",
      "metadata": {
        "id": "y6THNLf2CMh-",
        "colab": {
          "base_uri": "https://localhost:8080/",
          "height": 0
        },
        "outputId": "b76a149b-b416-468e-e50a-715735a954b1"
      },
      "source": [
        "# Affiche quelques séries\n",
        "fig, ax = plt.subplots(constrained_layout=True, figsize=(15,5))\n",
        "\n",
        "ax.plot(df_etude.index[:temps_separation].values,serie_entrainement_X_norm[:,0:5], label=\"X_Ent\")\n",
        "ax.plot(df_etude.index[temps_separation:].values,serie_test_X_norm[:,0:5], label=\"X_Val\")\n",
        "\n",
        "ax.legend()\n",
        "plt.show()"
      ],
      "execution_count": 12,
      "outputs": [
        {
          "output_type": "display_data",
          "data": {
            "image/png": "[encoded data removed]",
            "text/plain": [
              "<Figure size 1080x360 with 1 Axes>"
            ]
          },
          "metadata": {
            "tags": [],
            "needs_background": "light"
          }
        }
      ]
    },
    {
      "cell_type": "markdown",
      "metadata": {
        "id": "YNJjTisMlfgQ"
      },
      "source": [
        "# Création des datasets"
      ]
    },
    {
      "cell_type": "markdown",
      "metadata": {
        "id": "i817Q5rwIL_x"
      },
      "source": [
        "Les datasets sont créés de la manière suivante :"
      ]
    },
    {
      "cell_type": "markdown",
      "metadata": {
        "id": "EwssikbyIEzc"
      },
      "source": [
        "  <img src='https://github.com/AlexandreBourrieau/FICHIERS/blob/main/Series_Temporelles/Seq2SeqMulti/images/Datasets_DSTP.png?raw=true' width=700/>"
      ]
    },
    {
      "cell_type": "markdown",
      "metadata": {
        "id": "HoiHptoQyTxL"
      },
      "source": [
        "**1. Exemple de dataset**"
      ]
    },
    {
      "cell_type": "code",
      "metadata": {
        "id": "cQQTRH_5wjrc",
        "colab": {
          "base_uri": "https://localhost:8080/"
        },
        "outputId": "35ab16bf-ab95-419b-fcf3-da35ba0534ed"
      },
      "source": [
        "X1 = np.linspace(1,100,100)\n",
        "X2 = np.linspace(101,200,100)\n",
        "X3 = np.linspace(201,300,100)\n",
        "Y = np.linspace(301,400,100)\n",
        "\n",
        "X1 = tf.expand_dims(X1,-1)\n",
        "X2 = tf.expand_dims(X2,-1)\n",
        "X3 = tf.expand_dims(X3,-1)\n",
        "Y = tf.expand_dims(Y,-1)\n",
        "\n",
        "Serie_X = tf.concat([X1,X2,X3],axis=1)\n",
        "Serie_Y = Y\n",
        "print(Serie_X.shape)\n",
        "\n",
        "# Fonction permettant de créer un dataset à partir des données de la série temporelle\n",
        "# X = {((X1_1,X1_2,...,X1_T),((X2_1,X2_2,...,X2_T),(X3_1,X3_2,...,X3_T)),\n",
        "#       (Y1,Y2,...,YT)}\n",
        "# Y = YT+1, YT+2, YT+3, ...\n",
        "\n",
        "def prepare_dataset_XY(seriesX, serieY, longueur_sequence, longueur_sortie, batch_size,shift):\n",
        "  datasetX = tf.data.Dataset.from_tensor_slices(seriesX)\n",
        "  datasetX = datasetX.window(longueur_sequence+longueur_sortie, shift=shift, drop_remainder=True)\n",
        "  datasetX = datasetX.flat_map(lambda x: x.batch(longueur_sequence + longueur_sortie))\n",
        "  datasetX = datasetX.map(lambda x: (x[0:longueur_sequence][:,:]))\n",
        "  datasetX = datasetX.batch(batch_size,drop_remainder=True).prefetch(1)\n",
        "\n",
        "  datasetY = tf.data.Dataset.from_tensor_slices(serieY)\n",
        "  datasetY = datasetY.window(longueur_sequence+longueur_sortie, shift=shift, drop_remainder=True)\n",
        "  datasetY = datasetY.flat_map(lambda x: x.batch(longueur_sequence + longueur_sortie))\n",
        "  datasetY = datasetY.map(lambda x: (x[0:longueur_sequence][:,:]))\n",
        "  datasetY = datasetY.batch(batch_size,drop_remainder=True).prefetch(1)\n",
        "\n",
        "  datasetYPred = tf.data.Dataset.from_tensor_slices(serieY)\n",
        "  datasetYPred = datasetYPred.window(longueur_sequence+longueur_sortie+1, shift=shift, drop_remainder=True)\n",
        "  datasetYPred = datasetYPred.flat_map(lambda x: x.batch(longueur_sequence + longueur_sortie+1))\n",
        "  datasetYPred = datasetYPred.map(lambda x: (x[0:-1][-longueur_sortie:,:]))\n",
        "  datasetYPred = datasetYPred.batch(batch_size,drop_remainder=True).prefetch(1)\n",
        "\n",
        "\n",
        "  dataset = tf.data.Dataset.zip((datasetX,datasetY))\n",
        "  dataset = tf.data.Dataset.zip((dataset,datasetYPred))\n",
        "\n",
        "  return dataset\n",
        "\n",
        "test_dataset = prepare_dataset_XY(Serie_X,Serie_Y,10,4,1,1)\n",
        "\n",
        "print(len(list(test_dataset.as_numpy_iterator())))\n",
        "for element in test_dataset.take(2):\n",
        "  print(element)"
      ],
      "execution_count": 13,
      "outputs": [
        {
          "output_type": "stream",
          "text": [
            "(100, 3)\n",
            "86\n",
            "((<tf.Tensor: shape=(1, 10, 3), dtype=float64, numpy=\n",
            "array([[[  1., 101., 201.],\n",
            "        [  2., 102., 202.],\n",
            "        [  3., 103., 203.],\n",
            "        [  4., 104., 204.],\n",
            "        [  5., 105., 205.],\n",
            "        [  6., 106., 206.],\n",
            "        [  7., 107., 207.],\n",
            "        [  8., 108., 208.],\n",
            "        [  9., 109., 209.],\n",
            "        [ 10., 110., 210.]]])>, <tf.Tensor: shape=(1, 10, 1), dtype=float64, numpy=\n",
            "array([[[301.],\n",
            "        [302.],\n",
            "        [303.],\n",
            "        [304.],\n",
            "        [305.],\n",
            "        [306.],\n",
            "        [307.],\n",
            "        [308.],\n",
            "        [309.],\n",
            "        [310.]]])>), <tf.Tensor: shape=(1, 4, 1), dtype=float64, numpy=\n",
            "array([[[311.],\n",
            "        [312.],\n",
            "        [313.],\n",
            "        [314.]]])>)\n",
            "((<tf.Tensor: shape=(1, 10, 3), dtype=float64, numpy=\n",
            "array([[[  2., 102., 202.],\n",
            "        [  3., 103., 203.],\n",
            "        [  4., 104., 204.],\n",
            "        [  5., 105., 205.],\n",
            "        [  6., 106., 206.],\n",
            "        [  7., 107., 207.],\n",
            "        [  8., 108., 208.],\n",
            "        [  9., 109., 209.],\n",
            "        [ 10., 110., 210.],\n",
            "        [ 11., 111., 211.]]])>, <tf.Tensor: shape=(1, 10, 1), dtype=float64, numpy=\n",
            "array([[[302.],\n",
            "        [303.],\n",
            "        [304.],\n",
            "        [305.],\n",
            "        [306.],\n",
            "        [307.],\n",
            "        [308.],\n",
            "        [309.],\n",
            "        [310.],\n",
            "        [311.]]])>), <tf.Tensor: shape=(1, 4, 1), dtype=float64, numpy=\n",
            "array([[[312.],\n",
            "        [313.],\n",
            "        [314.],\n",
            "        [315.]]])>)\n"
          ],
          "name": "stdout"
        }
      ]
    },
    {
      "cell_type": "markdown",
      "metadata": {
        "id": "uLEjFxNnyWse"
      },
      "source": [
        "**2. Préparation des datasets**"
      ]
    },
    {
      "cell_type": "code",
      "metadata": {
        "id": "0Y67w_LmnpiP"
      },
      "source": [
        "# Fonction permettant de créer un dataset à partir des données de la série temporelle\n",
        "# X = {((X1_1,X1_2,...,X1_T),((X2_1,X2_2,...,X2_T),(X3_1,X3_2,...,X3_T)),\n",
        "#       (Y1,Y2,...,YT)}\n",
        "# Y = YT+1, YT+2, YT+3, ...\n",
        "\n",
        "def prepare_dataset_XY(seriesX, serieY, longueur_sequence, longueur_sortie, batch_size,shift):\n",
        "  datasetX = tf.data.Dataset.from_tensor_slices(seriesX)\n",
        "  datasetX = datasetX.window(longueur_sequence+longueur_sortie, shift=shift, drop_remainder=True)\n",
        "  datasetX = datasetX.flat_map(lambda x: x.batch(longueur_sequence + longueur_sortie))\n",
        "  datasetX = datasetX.map(lambda x: (x[0:longueur_sequence][:,:]))\n",
        "  datasetX = datasetX.batch(batch_size,drop_remainder=True).prefetch(1)\n",
        "\n",
        "  datasetY = tf.data.Dataset.from_tensor_slices(serieY)\n",
        "  datasetY = datasetY.window(longueur_sequence+longueur_sortie, shift=shift, drop_remainder=True)\n",
        "  datasetY = datasetY.flat_map(lambda x: x.batch(longueur_sequence + longueur_sortie))\n",
        "  datasetY = datasetY.map(lambda x: (x[0:longueur_sequence][:,:]))\n",
        "  datasetY = datasetY.batch(batch_size,drop_remainder=True).prefetch(1)\n",
        "\n",
        "  datasetYPred = tf.data.Dataset.from_tensor_slices(serieY)\n",
        "  datasetYPred = datasetYPred.window(longueur_sequence+longueur_sortie+1, shift=shift, drop_remainder=True)\n",
        "  datasetYPred = datasetYPred.flat_map(lambda x: x.batch(longueur_sequence + longueur_sortie+1))\n",
        "  datasetYPred = datasetYPred.map(lambda x: (x[0:-1][-longueur_sortie:,:]))\n",
        "  datasetYPred = datasetYPred.batch(batch_size,drop_remainder=True).prefetch(1)\n",
        "\n",
        "\n",
        "  dataset = tf.data.Dataset.zip((datasetX,datasetY))\n",
        "  dataset = tf.data.Dataset.zip((dataset,datasetYPred))\n",
        "\n",
        "  return dataset"
      ],
      "execution_count": 14,
      "outputs": []
    },
    {
      "cell_type": "code",
      "metadata": {
        "id": "ghhUzmxdlj0g"
      },
      "source": [
        "# Définition des caractéristiques du dataset que l'on souhaite créer\n",
        "batch_size = 128\n",
        "longueur_sequence = 20\n",
        "longueur_sortie = 5\n",
        "shift=1\n",
        "\n",
        "# Création du dataset\n",
        "dataset = prepare_dataset_XY(serie_entrainement_X_norm[:,0:-1],serie_entrainement_X_norm[:,-1:], longueur_sequence,longueur_sortie,batch_size,shift)\n",
        "dataset_val = prepare_dataset_XY(serie_test_X_norm[:,0:-1],serie_test_X_norm[:,-1:],longueur_sequence,longueur_sortie,batch_size,shift)"
      ],
      "execution_count": 15,
      "outputs": []
    },
    {
      "cell_type": "code",
      "metadata": {
        "id": "6mJX_otLmJ7w",
        "colab": {
          "base_uri": "https://localhost:8080/"
        },
        "outputId": "bb54c65f-127b-4dbb-ae68-2d324eb79359"
      },
      "source": [
        "print(len(list(dataset.as_numpy_iterator())))\n",
        "for element in dataset.take(1):\n",
        "  print(element[0][0].shape)            # ((X1),(X2),...) = ((X1_1,X1_2,...,X1_T),(X2_1,X2_2,...,X2_T),...)\n",
        "  print(element[0][1].shape)            # (Y1,Y2,...,YT)\n",
        "  print(element[1].shape)               # YT+1, YT+2, YT+3, ..."
      ],
      "execution_count": 16,
      "outputs": [
        {
          "output_type": "stream",
          "text": [
            "17\n",
            "(128, 20, 18)\n",
            "(128, 20, 1)\n",
            "(128, 5, 1)\n"
          ],
          "name": "stdout"
        }
      ]
    },
    {
      "cell_type": "code",
      "metadata": {
        "id": "5qKsAMMRn2JI",
        "colab": {
          "base_uri": "https://localhost:8080/"
        },
        "outputId": "e0d6c029-eeb2-494f-e2ae-097b054d90ed"
      },
      "source": [
        "print(len(list(dataset_val.as_numpy_iterator())))\n",
        "for element in dataset_val.take(1):\n",
        "  print(element[0][0].shape)            # ((X1),(X2),...) = ((X1_1,X1_2,...,X1_T),(X2_1,X2_2,...,X2_T),...)\n",
        "  print(element[0][1].shape)            # Y1,Y2,...,YT\n",
        "  print(element[1].shape)               # YT+1,YT+2, YT+3..."
      ],
      "execution_count": 17,
      "outputs": [
        {
          "output_type": "stream",
          "text": [
            "4\n",
            "(128, 20, 18)\n",
            "(128, 20, 1)\n",
            "(128, 5, 1)\n"
          ],
          "name": "stdout"
        }
      ]
    },
    {
      "cell_type": "markdown",
      "metadata": {
        "id": "RuecK3H6GUeX"
      },
      "source": [
        "**3. Préparation des X/Y**"
      ]
    },
    {
      "cell_type": "code",
      "metadata": {
        "id": "MpCqWrvonaB3",
        "colab": {
          "base_uri": "https://localhost:8080/"
        },
        "outputId": "e6c60699-af7b-464d-b35f-7884a45efe79"
      },
      "source": [
        "X1 = []\n",
        "X2 = []\n",
        "\n",
        "# Extrait les X,Y du dataset\n",
        "x,y = tuple(zip(*dataset))              # x=43x((BS,10,3),(BS,9,1))\n",
        "                                        # y=43x(BS,1,1)\n",
        "for i in range(len(x)):\n",
        "  X1.append(x[i][0])          \n",
        "  X2.append(x[i][1])\n",
        "\n",
        "X1 = tf.convert_to_tensor(X1)           # (43,BS,10,3)\n",
        "X2 = tf.convert_to_tensor(X2)           # (43,BS,9,1)\n",
        "\n",
        "X1 = np.asarray(X1,dtype=np.float32)    # (43,BS,10,3)\n",
        "X2 = np.asarray(X2,dtype=np.float32)    # (43,BS,10,3)   \n",
        "\n",
        "# Recombine les données\n",
        "y = np.asarray(y,dtype=np.float32)      # 43x(BS,1,1) => (43xBS,1,1)\n",
        "X1 = np.reshape(X1,(X1.shape[0]*X1.shape[1],X1.shape[2],X1.shape[3]))   # (43,BS,10,3) => (43xBS,10,3)\n",
        "X2 = np.reshape(X2,(X2.shape[0]*X2.shape[1],X2.shape[2],X2.shape[3]))   # (43,BS,9,1) => (43*BS,9,1)\n",
        "\n",
        "x_train = [X1,X2]\n",
        "y_train = np.asarray(tf.reshape(y,shape=(y.shape[0]*y.shape[1],longueur_sortie,y.shape[3])))\n",
        "\n",
        "# Affiche les formats\n",
        "print(x_train[0].shape)\n",
        "print(x_train[1].shape)\n",
        "print(y_train.shape)\n"
      ],
      "execution_count": 18,
      "outputs": [
        {
          "output_type": "stream",
          "text": [
            "(2176, 20, 18)\n",
            "(2176, 20, 1)\n",
            "(2176, 5, 1)\n"
          ],
          "name": "stdout"
        }
      ]
    },
    {
      "cell_type": "code",
      "metadata": {
        "id": "JnDnemp8NujA",
        "colab": {
          "base_uri": "https://localhost:8080/"
        },
        "outputId": "689e60d4-ae04-4aa5-e394-282d3fc5e0cd"
      },
      "source": [
        "X1 = []\n",
        "X2 = []\n",
        "\n",
        "# Extrait les X,Y du dataset\n",
        "x,y = tuple(zip(*dataset_val))              # x=43x((BS,10,3),(BS,9,1))\n",
        "                                        # y=43x(BS,1,1)\n",
        "for i in range(len(x)):\n",
        "  X1.append(x[i][0])          \n",
        "  X2.append(x[i][1])\n",
        "\n",
        "X1 = tf.convert_to_tensor(X1)           # (43,BS,10,3)\n",
        "X2 = tf.convert_to_tensor(X2)           # (43,BS,9,1)\n",
        "\n",
        "X1 = np.asarray(X1,dtype=np.float32)    # (43,BS,10,3)\n",
        "X2 = np.asarray(X2,dtype=np.float32)    # (43,BS,10,3)   \n",
        "\n",
        "# Recombine les données\n",
        "y = np.asarray(y,dtype=np.float32)      # 43x(BS,1,1) => (43xBS,1,1)\n",
        "X1 = np.reshape(X1,(X1.shape[0]*X1.shape[1],X1.shape[2],X1.shape[3]))   # (43,BS,10,3) => (43xBS,10,3)\n",
        "X2 = np.reshape(X2,(X2.shape[0]*X2.shape[1],X2.shape[2],X2.shape[3]))   # (43,BS,9,1) => (43*BS,9,1)\n",
        "\n",
        "x_val = [X1,X2]\n",
        "y_val = np.asarray(tf.reshape(y,shape=(y.shape[0]*y.shape[1],longueur_sortie,y.shape[3])))\n",
        "\n",
        "# Affiche les formats\n",
        "print(x_val[0].shape)\n",
        "print(x_val[1].shape)\n",
        "print(y_val.shape)\n"
      ],
      "execution_count": 19,
      "outputs": [
        {
          "output_type": "stream",
          "text": [
            "(512, 20, 18)\n",
            "(512, 20, 1)\n",
            "(512, 5, 1)\n"
          ],
          "name": "stdout"
        }
      ]
    },
    {
      "cell_type": "markdown",
      "metadata": {
        "id": "wNV_5uXS4eaS"
      },
      "source": [
        "# Affichage des séries"
      ]
    },
    {
      "cell_type": "code",
      "metadata": {
        "id": "h9aPVTcDn6TQ",
        "colab": {
          "base_uri": "https://localhost:8080/",
          "height": 0
        },
        "outputId": "a5c8b91f-6a3d-4f7e-c0d0-c00d4c056d3c"
      },
      "source": [
        "# Affiche la série\n",
        "fig, ax = plt.subplots(constrained_layout=True, figsize=(15,5))\n",
        "\n",
        "ax.plot(np.linspace(0,longueur_sequence-1,longueur_sequence),x_train[0][0,:,0:20],label=\"X\")\n",
        "ax.plot(np.linspace(0,longueur_sequence-1,longueur_sequence),x_train[1][0,:,:],label=\"Y\")\n",
        "ax.plot(np.linspace(longueur_sequence,longueur_sequence+longueur_sortie-1,longueur_sortie),y_train[0,:,:],label=\"Y\")\n",
        "\n",
        "ax.legend(loc=\"upper right\")\n",
        "plt.show()"
      ],
      "execution_count": 20,
      "outputs": [
        {
          "output_type": "display_data",
          "data": {
            "image/png": "[encoded data removed]",
            "text/plain": [
              "<Figure size 1080x360 with 1 Axes>"
            ]
          },
          "metadata": {
            "tags": [],
            "needs_background": "light"
          }
        }
      ]
    },
    {
      "cell_type": "markdown",
      "metadata": {
        "id": "_KvuPUL1nXpX"
      },
      "source": [
        "# Création du modèle HRHN"
      ]
    },
    {
      "cell_type": "markdown",
      "metadata": {
        "id": "baPyGG3QaZNb"
      },
      "source": [
        "Dans cette version, on effectue des prédictions multistep à l'image des modèles séquences vers séquences de type Bahadanau ou Luong :"
      ]
    },
    {
      "cell_type": "markdown",
      "metadata": {
        "id": "C6P5l0vgaX-A"
      },
      "source": [
        "<img src='https://github.com/AlexandreBourrieau/FICHIERS/blob/main/Series_Temporelles/Seq2SeqMulti/images/RHN_Multistep2.png?raw=true'>"
      ]
    },
    {
      "cell_type": "markdown",
      "metadata": {
        "id": "LBvAzS8KtFlp"
      },
      "source": [
        "Le modèle HRHN est décrit dans ce document de recherche : [Hierarchical Attention-Based Recurrent Highway Networks for Time Series Prediction](https://arxiv.org/pdf/1806.00685)"
      ]
    },
    {
      "cell_type": "markdown",
      "metadata": {
        "id": "gKq0mqg2ts2w"
      },
      "source": [
        "<img src='https://github.com/AlexandreBourrieau/FICHIERS/blob/main/Series_Temporelles/Multi/images/Mod%C3%A8leHRHN1.png?raw=true' width=700>"
      ]
    },
    {
      "cell_type": "markdown",
      "metadata": {
        "id": "IrCCnwy8nXp4"
      },
      "source": [
        "**1. Création de l'encodeur**"
      ]
    },
    {
      "cell_type": "markdown",
      "metadata": {
        "id": "9tn5xnfnuehY"
      },
      "source": [
        "L'encodeur a pour but de créer des représentations cachées des séries exogènes qui prennent en compte les relations spatiales entre ces séries ainsi que les relations temporelles.  \n",
        "Les relations spatiales sont extraitent à l'aide d'un ensemble de réseaux de convolution qui produisent des représentations w1, w2... w(T-1).  \n",
        "Ces représentations sont ensuites codées par un réseau RHN à 3 couches afin d'en extraire les relations temporelles. En sortie de ce réseau RHN, on extrait 3 tenseurs dont chacun contient les (T-1) états cachés de chaque couche du réseau RHN."
      ]
    },
    {
      "cell_type": "markdown",
      "metadata": {
        "id": "I0mq5BSauQUq"
      },
      "source": [
        "<img src='https://github.com/AlexandreBourrieau/FICHIERS/blob/main/Series_Temporelles/Multi/images/HRHN_Encodeur_VueEnsemble.png?raw=true'>"
      ]
    },
    {
      "cell_type": "markdown",
      "metadata": {
        "id": "IJ-boowSGDp3"
      },
      "source": [
        "***a. Création des CNN parallèlisés***"
      ]
    },
    {
      "cell_type": "markdown",
      "metadata": {
        "id": "s6dF5Cp9vzWB"
      },
      "source": [
        "La structure d'un réseau de convolution est composée de trois couches CNN-1D + Max-pooling :"
      ]
    },
    {
      "cell_type": "markdown",
      "metadata": {
        "id": "jga5_ZzKv6CI"
      },
      "source": [
        "<img src='https://github.com/AlexandreBourrieau/FICHIERS/blob/main/Series_Temporelles/Multi/images/HRHN_Encodeur_CNN1.png?raw=true'>"
      ]
    },
    {
      "cell_type": "markdown",
      "metadata": {
        "id": "0CMXl2tgwJ76"
      },
      "source": [
        "L'intégration de caque réseau dans Keras est parallélisée :"
      ]
    },
    {
      "cell_type": "markdown",
      "metadata": {
        "id": "gtR-u7ZqwjTL"
      },
      "source": [
        "<img src='https://github.com/AlexandreBourrieau/FICHIERS/blob/main/Series_Temporelles/Multi/images/HRHN_Encodeur_CNN2.png?raw=true'>"
      ]
    },
    {
      "cell_type": "code",
      "metadata": {
        "id": "5ETqqvAIGKLi"
      },
      "source": [
        "# Arguments de la méthode __init__\n",
        "#   dim_filtres_cnn   :   liste dimension des filtres ex: [3,3,3]\n",
        "#   nbr_filtres_cnn   :   liste nbr de filtre sur chaque couche ex: [16,32,64]\n",
        "#   dim_max_pooling   :   liste dimension max pooling après chaque couche ex: [3,3,3]\n",
        "\n",
        "class Encodeur_CNN(tf.keras.layers.Layer):\n",
        "  def __init__(self, dim_filtres_cnn, nbr_filtres_cnn, dim_max_pooling,dim_motif):\n",
        "    self.dim_filtres_cnn = dim_filtres_cnn\n",
        "    self.nbr_filtres_cnn = nbr_filtres_cnn\n",
        "    self.dim_max_pooling = dim_max_pooling\n",
        "    self.dim_motif = dim_motif\n",
        "    super().__init__()                # Appel du __init__() de la classe Layer\n",
        "  \n",
        "  # Création de Tin réseaux de convolution + max_pooling en //\n",
        "  ############################################################\n",
        "  def build(self,input_shape):\n",
        "    convs = []\n",
        "    input_cnns = []\n",
        "\n",
        "    # Création des Tin entrées des réseaux CNN\n",
        "    for i in range(input_shape[1]):\n",
        "        input_cnns.append(tf.keras.Input(shape=(input_shape[2],1)))       # input = Tin*(batch_size,#dim,1)\n",
        "\n",
        "    # Création des Tin réseaux CNN\n",
        "    for i in range(input_shape[1]):\n",
        "      conv = tf.keras.layers.Conv1D(filters=self.nbr_filtres_cnn[0],      # conv : (batch_size,#dim,16)\n",
        "                                    kernel_size=self.dim_filtres_cnn[0],\n",
        "                                    activation='relu',\n",
        "                                    padding='same',\n",
        "                                    strides=1)(input_cnns[i])\n",
        "      conv = tf.keras.layers.MaxPool1D(pool_size=self.dim_max_pooling[0],      # conv : (batch_size,#pooling1,16)\n",
        "                                       padding='same')(conv)\n",
        "      for n in range(1,len(self.dim_filtres_cnn)):\n",
        "        conv = tf.keras.layers.Conv1D(filters=self.nbr_filtres_cnn[n],    # conv : (batch_size,#pooling_x,dim_filtres_cnn[n])\n",
        "                                      kernel_size=self.dim_filtres_cnn[n],\n",
        "                                      activation='relu',\n",
        "                                      padding='same',\n",
        "                                      strides=1)(conv)\n",
        "        conv = tf.keras.layers.MaxPool1D(pool_size=self.dim_max_pooling[n],    # conv : (batch_size,#pooling_x,dim_filtres_cnn[n])\n",
        "                                         padding='same')(conv)\n",
        "      convs.append(conv)\n",
        "    \n",
        "    # Création de la sortie concaténée des Tin réseaux CNN\n",
        "    out = tf.convert_to_tensor(convs)                                     # out : (Tin,batch_size,#pooling,64)\n",
        "    out = tf.transpose(out,perm=[1,0,2,3])                                # out : (batch_size,Tin,#pooling,64)\n",
        "    out = tf.keras.layers.Reshape(                                        # out : (batch_size,Tin,#pooling*64)\n",
        "        target_shape=(out.shape[1],out.shape[2]*out.shape[3]))(out)\n",
        "\n",
        "    if self.dim_motif == 0:\n",
        "      out = tf.keras.layers.Dense(units=out.shape[2])(out)                  # out : (batch_size,Tin,dim_motif = #pooling*64) \n",
        "    else:\n",
        "      out = tf.keras.layers.Dense(units=self.dim_motif)(out)                # out : (batch_size,Tin,dim_motif) \n",
        "\n",
        "    # Création du modèle global\n",
        "    self.conv_model = tf.keras.Model(inputs=input_cnns,outputs=out)\n",
        "\n",
        "    super().build(input_shape)        # Appel de la méthode build()\n",
        "    \n",
        "  # Entrées :\n",
        "  #     input:  Entrée séries exogènes  : (batch_size,Tin,#dim)\n",
        "  # Sorties :\n",
        "  #     w:      Sorties des motifs CNN  : (batch_size,Tin,#dim_motif)\n",
        "  #                                       (taille dernier filtre=64)\n",
        "  def call(self, input):\n",
        "    # Coupes temporelles sur les séries exogènes\n",
        "    # au format : Tin*(batch_size,#dim,1)\n",
        "    input_list = []\n",
        "    for i in range(input.shape[1]):\n",
        "      input_list.append(tf.transpose(input[:,i:i+1,:],perm=[0,2,1]))      # (batch_size,#dim,1)\n",
        "    # Convolutions spatiales des séries exogènes\n",
        "    w = self.conv_model(input_list)                                       # (batch_size,Tin,dim_motif)\n",
        "    return w"
      ],
      "execution_count": 21,
      "outputs": []
    },
    {
      "cell_type": "markdown",
      "metadata": {
        "id": "0_y68mmiRpR1"
      },
      "source": [
        "***b. Création des cellules RHN***"
      ]
    },
    {
      "cell_type": "markdown",
      "metadata": {
        "id": "2FQ47zOsxHpx"
      },
      "source": [
        "<img src='https://github.com/AlexandreBourrieau/FICHIERS/blob/main/Series_Temporelles/Multi/images/HRHN_Encodeur_RHN.png?raw=true'>"
      ]
    },
    {
      "cell_type": "markdown",
      "metadata": {
        "id": "lvNrS-wQ1B5C"
      },
      "source": [
        "On crée une cellule RHN en reprenant le code précédent auquel :  \n",
        "- On ajoute la possibilité de retourner tous les états cachés de chaque couche\n",
        "- On ajoute la prise en compte de la dimension d'entrée correspondant à la dimension des motifs en sortie des réseaux CNN (dim_motif)"
      ]
    },
    {
      "cell_type": "markdown",
      "metadata": {
        "id": "CygD9DXbBTDJ"
      },
      "source": [
        "<img src='https://github.com/AlexandreBourrieau/FICHIERS/blob/main/Series_Temporelles/Multi/images/Structure_RHN4.png?raw=true'>"
      ]
    },
    {
      "cell_type": "code",
      "metadata": {
        "id": "9HldCwl9z3fY"
      },
      "source": [
        "class Cellule_RHN(tf.keras.layers.Layer):\n",
        "  def __init__(self, dim_RHN, nbr_couches, return_all_states = False, dim_input=1):\n",
        "    self.dim_RHN = dim_RHN\n",
        "    self.nbr_couches = nbr_couches\n",
        "    self.dim_input = dim_input\n",
        "    self.return_all_states = return_all_states\n",
        "    super().__init__()                # Appel du __init__() de la classe Layer\n",
        "  \n",
        "  def build(self,input_shape):\n",
        "    self.Wh = self.add_weight(shape=(input_shape[2],self.dim_RHN),initializer=\"normal\",name=\"Wh\")       # (#dim, #RHN)\n",
        "    self.Wt = self.add_weight(shape=(input_shape[2],self.dim_RHN),initializer=\"normal\",name=\"Wt\")       # (#dim, #RHN)\n",
        "    self.Wc = self.add_weight(shape=(input_shape[2],self.dim_RHN),initializer=\"normal\",name=\"Wc\")       # (#dim, #RHN)\n",
        "\n",
        "    self.Rh = self.add_weight(shape=(self.nbr_couches,self.dim_RHN,self.dim_RHN),initializer=\"normal\",name=\"Rh\")      # (n_couches,#RHN, #RHN)\n",
        "    self.Rt = self.add_weight(shape=(self.nbr_couches,self.dim_RHN,self.dim_RHN),initializer=\"normal\",name=\"Rt\")      # (n_couches,#RHN, #RHN)\n",
        "    self.Rc = self.add_weight(shape=(self.nbr_couches,self.dim_RHN,self.dim_RHN),initializer=\"normal\",name=\"Rc\")      # (n_couches,#RHN, #RHN)\n",
        "\n",
        "    self.bh = self.add_weight(shape=(self.nbr_couches,self.dim_RHN,1),initializer=\"normal\",name=\"bh\")        # (n_couches,#RHN, 1)\n",
        "    self.bt = self.add_weight(shape=(self.nbr_couches,self.dim_RHN,1),initializer=\"normal\",name=\"bt\")        # (n_couches,#RHN, 1)\n",
        "    self.bc = self.add_weight(shape=(self.nbr_couches,self.dim_RHN,1),initializer=\"normal\",name=\"bc\")        # (n_couches,#RHN, 1)\n",
        "\n",
        "    super().build(input_shape)        # Appel de la méthode build()\n",
        "\n",
        "    # Initialisation des masques de dropout\n",
        "  def InitMasquesDropout(self,drop=0.0):\n",
        "    self.Wh_ = tf.convert_to_tensor(np.random.binomial(n=1,p=1.0-drop,size=(self.dim_input,1)),dtype=tf.float32)                 # (#dim,1)\n",
        "    self.Wt_ = tf.convert_to_tensor(np.random.binomial(n=1,p=1.0-drop,size=(self.dim_input,1)),dtype=tf.float32)                 # (#dim,1)\n",
        "    self.Wc_ = tf.convert_to_tensor(np.random.binomial(n=1,p=1.0-drop,size=(self.dim_input,1)),dtype=tf.float32)                 # (#dim,1)\n",
        "    self.Rh_ = tf.convert_to_tensor(np.random.binomial(n=1,p=1.0-drop,size=(self.nbr_couches,self.dim_RHN,1)),dtype=tf.float32)  # (n_couches,#RHN,1)\n",
        "    self.Rt_ = tf.convert_to_tensor(np.random.binomial(n=1,p=1.0-drop,size=(self.nbr_couches,self.dim_RHN,1)),dtype=tf.float32)  # (n_couches,#RHN,1)\n",
        "    self.Rc_ = tf.convert_to_tensor(np.random.binomial(n=1,p=1.0-drop,size=(self.nbr_couches,self.dim_RHN,1)),dtype=tf.float32)  # (n_couches,#RHN,1)\n",
        "\n",
        "  # Entrées :\n",
        "  #     input:          Entrées X[t]        : (batch_size,1,#dim)\n",
        "  #     init_hidden:    Etat caché Init.    : (batch_size,#RHN)\n",
        "  # Sorties :\n",
        "  #     sL:             Etat caché de la dernière couche       : (batch_size,#RHN) \n",
        "  #           ou        Etats cachés de chaque couche SL[t]    : (batch_size,nbr_couches,#RHN)\n",
        "  def call(self, input, init_hidden=None):\n",
        "    # Construction d'un vecteur d'état nul si besoin\n",
        "    if init_hidden == None:\n",
        "      init_hidden = tf.matmul(tf.zeros(shape=(self.dim_RHN,input.shape[2])), # (#RHN,#dim)X(batch_size,#dim,1) = (batch_size,#RHN,1)\n",
        "                              tf.transpose(input,perm=[0,2,1]))\n",
        "      init_hidden = tf.squeeze(init_hidden,-1)                               # (batch_size,#RHN,1) => (batch_size,#RHN)\n",
        "  \n",
        "    liste_sl = []                                                            # Liste pour  enregistrer les états cachés de chaque couche\n",
        "    # Calcul de hl, tl et cl\n",
        "    for i in range(self.nbr_couches):\n",
        "      if i==0:\n",
        "        # Applique le masque aux poids\n",
        "        Rh = tf.multiply(self.Rh_[0,:,:],self.Rh[0,:,:])                      # (#RHN,1)_x_(#RHN,#RHN) = (#RHN,#RHN)\n",
        "        Rt = tf.multiply(self.Rt_[0,:,:],self.Rt[0,:,:])\n",
        "        Rc = tf.multiply(self.Rc_[0,:,:],self.Rc[0,:,:])\n",
        "\n",
        "        Wh = tf.multiply(self.Wh_,self.Wh)                                    # (#dim,1)_x_(#dim,#RHN) = (#dim,#RHN)\n",
        "        Wt = tf.multiply(self.Wt_,self.Wt)\n",
        "        Wc = tf.multiply(self.Wc_,self.Wc)\n",
        "   \n",
        "        # Calcul de hl\n",
        "        hl = tf.matmul(Rh,tf.expand_dims(init_hidden,-1))                   # (#RHN,#RHN)X(batch_size,#RHN,1) = (batch_size,#RHN,1)\n",
        "        hl = hl + self.bh[0,:,:]                                            # (batch_size,#RHN,1) + (#RHN,1) = (batch_size,#RHN,1)\n",
        "        hl = hl + tf.matmul(tf.transpose(Wh),\n",
        "                            tf.transpose(input,perm=[0,2,1]))               # (#RHN,#dim)X(batch_size,#dim,1) = (batch_size,#RHN,1)\n",
        "        hl = tf.squeeze(hl,-1)                                              # (batch_size,#RHN)\n",
        "        hl = K.tanh(hl)\n",
        "\n",
        "        # Calcul de tl\n",
        "        tl = tf.matmul(Rt,tf.expand_dims(init_hidden,-1))                   # (#RHN,#RHN)X(batch_size,#RHN,1) = (batch_size,#RHN,1)\n",
        "        tl = tl + self.bt[0,:,:]                                            # (batch_size,#RHN,1) + (#RHN,1) = (batch_size,#RHN,1)\n",
        "        tl = tl + tf.matmul(tf.transpose(Wt),\n",
        "                            tf.transpose(input,perm=[0,2,1]))               # (#RHN,#dim)X(batch_size,#dim,1) = (batch_size,#RHN,1)\n",
        "        tl = tf.squeeze(tl,-1)                                              # (batch_size,#RHN)\n",
        "        tl = tf.keras.activations.sigmoid(tl)\n",
        "\n",
        "        # Calcul de cl\n",
        "        cl = tf.matmul(Rc,tf.expand_dims(init_hidden,-1))                   # (#RHN,#RHN)X(batch_size,#RHN,1) = (batch_size,#RHN,1)\n",
        "        cl = cl + self.bc[0,:,:]                                            # (batch_size,#RHN,1) + (#RHN,1) = (batch_size,#RHN,1)\n",
        "        cl = cl + tf.matmul(tf.transpose(Wc),\n",
        "                            tf.transpose(input,perm=[0,2,1]))               # (#RHN,#dim)X(batch_size,#dim,1) = (batch_size,#RHN,1)\n",
        "        cl = tf.squeeze(cl,-1)                                              # (batch_size,#RHN)\n",
        "        cl = tf.keras.activations.sigmoid(cl)\n",
        "\n",
        "      else:\n",
        "        # Applique le masque aux poids\n",
        "        Rh = tf.multiply(self.Rh_[i,:,:],self.Rh[i,:,:])\n",
        "        Rt = tf.multiply(self.Rt_[i,:,:],self.Rt[i,:,:])\n",
        "        Rc = tf.multiply(self.Rc_[i,:,:],self.Rc[i,:,:])\n",
        "\n",
        "        # Calcul de hl\n",
        "        hl = tf.matmul(Rh,tf.expand_dims(init_hidden,-1))                   # (#RHN,#RHN)X(batch_size,#RHN,1) = (batch_size,#RHN,1)\n",
        "        hl = hl + self.bh[i,:,:]                                            # (batch_size,#RHN,1) + (#RHN,1) = (batch_size,#RHN,1)\n",
        "        hl = tf.squeeze(hl,-1)                                              # (batch_size,#RHN)\n",
        "        hl = K.tanh(hl)\n",
        "\n",
        "        # Calcul de tl\n",
        "        tl = tf.matmul(Rt,tf.expand_dims(init_hidden,-1))                   # (#RHN,#RHN)X(batch_size,#RHN,1) = (batch_size,#RHN,1)\n",
        "        tl = tl + self.bt[i,:,:]                                            # (batch_size,#RHN,1) + (#RHN,1) = (batch_size,#RHN,1)\n",
        "        tl = tf.squeeze(tl,-1)                                              # (batch_size,#RHN)\n",
        "        tl = tf.keras.activations.sigmoid(tl)\n",
        "\n",
        "        # Calcul de cl\n",
        "        cl = tf.matmul(Rc,tf.expand_dims(init_hidden,-1))                   # (#RHN,#RHN)X(batch_size,#RHN,1) = (batch_size,#RHN,1)\n",
        "        cl = cl + self.bc[i,:,:]                                            # (batch_size,#RHN,1) + (#RHN,1) = (batch_size,#RHN,1)\n",
        "        cl = tf.squeeze(cl,-1)                                              # (batch_size,#RHN)\n",
        "        cl = tf.keras.activations.sigmoid(cl)\n",
        "      \n",
        "      # Calcul de sl\n",
        "      sl = tf.keras.layers.multiply([hl,tl])                                # (batch_size,#RHN)\n",
        "      sl = sl + tf.keras.layers.multiply([init_hidden,cl])                  # (batch_size,#RHN)\n",
        "      liste_sl.append(sl)       # Sauvegarde l'état caché de la couche courante\n",
        "      init_hidden = sl\n",
        "    if self.return_all_states == False:\n",
        "      return sl\n",
        "    else:\n",
        "      liste_sl = tf.convert_to_tensor(liste_sl)                             # (nbr_couches,batch_size,#RHN)\n",
        "      liste_sl = tf.transpose(liste_sl,perm=[1,0,2])                        # (batch_size,nbr_couches,#RHN)\n",
        "      return liste_sl"
      ],
      "execution_count": 22,
      "outputs": []
    },
    {
      "cell_type": "markdown",
      "metadata": {
        "id": "wJY-TY7W55ZF"
      },
      "source": [
        "***c. Création de l'encodeur : Convolutions + RHN***"
      ]
    },
    {
      "cell_type": "markdown",
      "metadata": {
        "id": "wMT8C8-UVe2O"
      },
      "source": [
        "<img src='https://github.com/AlexandreBourrieau/FICHIERS/blob/main/Series_Temporelles/Multi/images/HRHN_Encodeur_VueEnsemble.png?raw=true'>"
      ]
    },
    {
      "cell_type": "code",
      "metadata": {
        "id": "HYQu67IfBdel"
      },
      "source": [
        "# Arguments de la méthode __init__\n",
        "#   dim_filtres_cnn   :   liste dimension des filtres ex: [3,3,3]\n",
        "#   nbr_filtres_cnn   :   liste nbr de filtre sur chaque couche ex: [16,32,64]\n",
        "#   dim_max_pooling   :   liste dimension max pooling après chaque couche ex: [3,3,3]\n",
        "#   dim_motif         :   dimension du motif en sortie du CNN\n",
        "#   dim_RHN           :   dimension du vecteur caché RHN\n",
        "#   nbr_couches_RHN   :   nombre de couches du RHN\n",
        "#   dropout           :   dropout variationnel pour le RHN ex: [0.1]\n",
        "\n",
        "class Encodeur(tf.keras.layers.Layer):\n",
        "  def __init__(self, dim_filtres_cnn, nbr_filtres_cnn, dim_max_pooling, dim_motif,dim_RHN,nbr_couches_RHN, dropout=0.0):\n",
        "    self.dim_filtres_cnn = dim_filtres_cnn\n",
        "    self.nbr_filtres_cnn = nbr_filtres_cnn\n",
        "    self.dim_max_pooling = dim_max_pooling\n",
        "    self.dim_motif = dim_motif\n",
        "    self.dim_RHN = dim_RHN\n",
        "    self.nbr_couches_RHN = nbr_couches_RHN\n",
        "    self.dropout = dropout\n",
        "    super().__init__()                # Appel du __init__() de la classe Layer\n",
        "  \n",
        "  def build(self,input_shape):\n",
        "    self.encodeur_cnn = Encodeur_CNN(dim_filtres_cnn=self.dim_filtres_cnn,nbr_filtres_cnn=self.nbr_filtres_cnn,dim_max_pooling=self.dim_max_pooling,dim_motif=self.dim_motif)\n",
        "    self.RHN = Cellule_RHN(dim_RHN=self.dim_RHN,nbr_couches=self.nbr_couches_RHN,return_all_states=True,dim_input=self.dim_motif)\n",
        "    super().build(input_shape)        # Appel de la méthode build()\n",
        "    \n",
        "  # Entrées :\n",
        "  #     input:          Entrées X         : (batch_size,Tin,#dim)\n",
        "  # Sorties :\n",
        "  #     hidden_states   Vecteurs cachés   : (batch_size,nbr_couches,Tin,#RHN)\n",
        "  def call(self, input):\n",
        "    # Convolutions spatiales des séries exogènes\n",
        "    w = self.encodeur_cnn(input)      #  (batch_size,Tin,dim_motif)\n",
        "\n",
        "    # Encodage des motifs CNN avec les cellules RHN\n",
        "    sequence = []\n",
        "    hidden = None\n",
        "\n",
        "    # Initialisation des masques de dropout pour tous les pas de temps\n",
        "    self.RHN.InitMasquesDropout(self.dropout)\n",
        "\n",
        "    # Applique la cellule RHN à chaque pas de temps\n",
        "    for i in range(input.shape[1]):\n",
        "      hidden = self.RHN(w[:,i:i+1,:],hidden)          # Envoie (batch_size,1,dim_motif)\n",
        "      sequence.append(hidden)                         # Sauve (batch_size,nbr_couches,#RHN)\n",
        "\n",
        "      # Le premier état caché du prochain instant\n",
        "      # est l'état caché de la dernière couche précédente\n",
        "      hidden = hidden[:,self.nbr_couches_RHN-1,:]       # (batch_size,#RHN)\n",
        "\n",
        "    # Traite le format des vecteurs cachés de l'encodeur\n",
        "    sequence = tf.convert_to_tensor(sequence)               # (Tin,batch_size,nbr_couches,#RHN)\n",
        "    hidden_states = tf.transpose(sequence,perm=[1,2,0,3])   # (batch_size,nbr_couches,Tin,#RHN)  \n",
        "\n",
        "    return hidden_states"
      ],
      "execution_count": 23,
      "outputs": []
    },
    {
      "cell_type": "markdown",
      "metadata": {
        "id": "__CJ4O7yJne3"
      },
      "source": [
        "**2. Création du décodeur**"
      ]
    },
    {
      "cell_type": "markdown",
      "metadata": {
        "id": "Lt2yWQeaJwNn"
      },
      "source": [
        "Le décodeur prend en entrée et à chaque pas de temps :  \n",
        "- Le tenseur en sortie de l'encodeur RHN qui contient l'ensemble des vecteurs cachés des différentes couches : (batch_size,Nbr_couches,Tin,#RHN)\n",
        "- L'état caché de la dernière couche du décodeur RHN précédent : (batch_size,#RHN)\n",
        "- La valeur de la série cible à l'instant courant : (batch_size,1,1)"
      ]
    },
    {
      "cell_type": "markdown",
      "metadata": {
        "id": "DtYLxAoIK8Xn"
      },
      "source": [
        "<img src='https://github.com/AlexandreBourrieau/FICHIERS/blob/main/Series_Temporelles/Multi/images/HRHN_VueEnsembleDecodeur2.png?raw=true'>"
      ]
    },
    {
      "cell_type": "markdown",
      "metadata": {
        "id": "vjHiRZZbLief"
      },
      "source": [
        "**a. Création de la couche d'attention hiérarchique**"
      ]
    },
    {
      "cell_type": "markdown",
      "metadata": {
        "id": "9JX5hGeWNN8w"
      },
      "source": [
        "<img src='https://github.com/AlexandreBourrieau/FICHIERS/blob/main/Series_Temporelles/Multi/images/HRHN_AttentionHierarchique.png?raw=true'>"
      ]
    },
    {
      "cell_type": "markdown",
      "metadata": {
        "id": "l9p7ylHmY6gS"
      },
      "source": [
        "On commence par créer la fonction permettant de calculer les scores. Cette fonction sera appelée avec la méthode TimeDistributed de Keras."
      ]
    },
    {
      "cell_type": "code",
      "metadata": {
        "id": "MvaGAb0uY1XL"
      },
      "source": [
        "class CalculScore(tf.keras.layers.Layer):\n",
        "  def __init__(self):\n",
        "    super().__init__()                # Appel du __init__() de la classe Layer\n",
        "  \n",
        "  def build(self,input_shape):\n",
        "    self.T = self.add_weight(shape=(input_shape[1],input_shape[1]),initializer=\"normal\",name=\"T\")            # (#RHN, #RHN)\n",
        "    self.U = self.add_weight(shape=(input_shape[1],input_shape[1]),initializer=\"normal\",name=\"U\")            # (#RHN, #RHN)\n",
        "    self.b = self.add_weight(shape=(input_shape[1],1),initializer=\"normal\",name=\"b\")                         # (#RHN, 1)\n",
        "    self.v = self.add_weight(shape=(input_shape[1],1),initializer=\"normal\",name=\"v\")                         # (#RHN, 1)\n",
        "    super().build(input_shape)        # Appel de la méthode build()\n",
        "\n",
        "  #     hid_state:  Etat initial RHN          : (batch_size,#RHN)\n",
        "  def SetInitState(self,hid_state):\n",
        "    self.hid_state = hid_state\n",
        "\n",
        "  def compute_output_shape(self,input_shape):\n",
        "    return(input_shape[0],1)\n",
        "\n",
        "  # Entrées :\n",
        "  #     input:      1 sortie encodeur RHN     : (batch_size,#RHN)\n",
        "  # Sorties :\n",
        "  #     score:      score                     : (batch_size,1,1)\n",
        "  def call(self, input):\n",
        "    score = tf.matmul(self.U,tf.expand_dims(input,-1))                      # (#RHN,#RHN)x(batch_size,#RHN,1) = (batch_size,#RHN,1)\n",
        "    score = score + tf.matmul(self.T,tf.expand_dims(self.hid_state,-1))     # (batch_size,#RHN,1)\n",
        "    score = score + self.b                                                  # (batch_size,#RHN,1)\n",
        "    score = K.tanh(score)\n",
        "    score = tf.matmul(tf.transpose(self.v),score)                           # (1,#RHN)x(batch_size,#RHN,1) = (batch_size,1,1)\n",
        "    return tf.squeeze(score,-1)                                             # (batch_size,1)"
      ],
      "execution_count": 24,
      "outputs": []
    },
    {
      "cell_type": "markdown",
      "metadata": {
        "id": "0pF02ysdbxWU"
      },
      "source": [
        "On crée maintenant la couche d'attention hiérarchique :"
      ]
    },
    {
      "cell_type": "code",
      "metadata": {
        "id": "8kxnR9fSVXDC"
      },
      "source": [
        "class AttentionHierarchique(tf.keras.layers.Layer):\n",
        "  def __init__(self):\n",
        "    super().__init__()                # Appel du __init__() de la classe Layer\n",
        "  \n",
        "  def build(self,input_shape):\n",
        "    self.couche_score = CalculScore()\n",
        "    super().build(input_shape)        # Appel de la méthode build()\n",
        "    \n",
        "  # Entrées :\n",
        "  #     input:      Sorties d'une couche encodeur RHN       : (batch_size,Tin,#RHN)\n",
        "  #     hid_state:  Etat initial RHN                        : (batch_size,#RHN)\n",
        "  # Sorties :\n",
        "  #     vc:         SousVecteur contexte                    : (batch_size,1,RHN)\n",
        "  def call(self, input, hid_state):\n",
        "    # Calcul des scores\n",
        "    self.couche_score.SetInitState(hid_state)\n",
        "    scores = tf.keras.layers.TimeDistributed(self.couche_score)(input)        # (batch_size,Tin,#RHN) : Timestep = Tin\n",
        "                                                                              # (batch_size,#RHN) envoyé Tin fois\n",
        "                                                                              # (batch_size,Tin,1) retourné\n",
        "    scores = tf.keras.activations.softmax(scores,axis=1)                      # (batch_size,Tin,1)\n",
        "\n",
        "    # Applique les scores aux sorties de la couche RHN\n",
        "    poids = tf.multiply(input,scores)             # (batch_size,Tin,#RHN)_x_(batch_size,Tin,1) = (batch_size,Tin,#RHN)\n",
        "\n",
        "    # Calcul le sous-vecteur contexte\n",
        "    vc = K.sum(poids,axis=1)                      # (batch_size,#RHN)\n",
        "    return tf.expand_dims(vc,1)                   # (batch_size,1,#RHN)"
      ],
      "execution_count": 25,
      "outputs": []
    },
    {
      "cell_type": "markdown",
      "metadata": {
        "id": "slCSUTmyifEY"
      },
      "source": [
        "**b. Création du décodeur**"
      ]
    },
    {
      "cell_type": "markdown",
      "metadata": {
        "id": "l_efbOikfRwt"
      },
      "source": [
        "Dans le décodeur, on parallélise autant de couches d'attention que nécessaire afin de créer un modèle d'attention multi-entrées."
      ]
    },
    {
      "cell_type": "markdown",
      "metadata": {
        "id": "wCElCxBcnUHj"
      },
      "source": [
        "<img src='https://github.com/AlexandreBourrieau/FICHIERS/blob/main/Series_Temporelles/Multi/images/ParaDecodeur.png?raw=true'>"
      ]
    },
    {
      "cell_type": "code",
      "metadata": {
        "id": "k2nZG3Rrjv3O"
      },
      "source": [
        "class Decodeur(tf.keras.layers.Layer):\n",
        "  def __init__(self,dim_RHN,nbr_couches_RHN,dropout=0.0):\n",
        "    self.dim_RHN = dim_RHN\n",
        "    self.nbr_couches_RHN = nbr_couches_RHN\n",
        "    self.dropout = dropout\n",
        "    super().__init__()                # Appel du __init__() de la classe Layer\n",
        "  \n",
        "  def build(self,input_shape):\n",
        "    attentions = []\n",
        "    inputs_attention = []\n",
        "\n",
        "    # Création des \"nbr_couches\" entrées des attentions\n",
        "    # Chaque entrée est une liste : [input,init_state] = [((batch_size,Tin,#RHN)),((batch_size,#RHN))]\n",
        "    for i in range(input_shape[1]):\n",
        "      inputs_attention.append([tf.keras.Input(shape=(input_shape[2],input_shape[3])),          # input = \"nbr_couches\"*(batch_size,Tin,#RHN)\n",
        "                                 tf.keras.Input(shape=(input_shape[3]))])                      # init_state = \"nbr_couches\"*(batch_size,#RHN)\n",
        "\n",
        "    # Création des \"nbr_couches\" couches d'attentions hierarchiques\n",
        "    for i in range(input_shape[1]):\n",
        "      att = AttentionHierarchique()(inputs_attention[i][0],                 # inputs_attention[i][0] : (batch_size,Tin,#RHN)\n",
        "                                    inputs_attention[i][1])                 # inputs_attention[i][1] : (batch_size,#RHN)\n",
        "      attentions.append(att)\n",
        "\n",
        "    # Création de la sortie concaténée des \"nbr_couches\" couches d'attentions\n",
        "    out = tf.convert_to_tensor(attentions)                                # out : (nbr_couches,batch_size,1,#RHN)\n",
        "    out = tf.transpose(out,perm=[1,0,2,3])                                # out : (batch_size,nbr_couches,1,#RHN)\n",
        "\n",
        "    # Création du modèle global\n",
        "    self.att_model = tf.keras.Model(inputs=inputs_attention,outputs=out)\n",
        "\n",
        "    # Création des poids\n",
        "    self.Wtilda = tf.keras.layers.Dense(units=1,activation=None,use_bias=None)\n",
        "    self.Vtilda = tf.keras.layers.Dense(units=1,activation=None,use_bias=True)\n",
        "\n",
        "    # Création du décodeur RHN\n",
        "    self.dec_RHN = Cellule_RHN(dim_RHN=self.dim_RHN,nbr_couches=self.nbr_couches_RHN,return_all_states=False,dim_input=1)\n",
        "   \n",
        "    super().build(input_shape)        # Appel de la méthode build()\n",
        "    \n",
        "  # Entrées :\n",
        "  #     input:      Sorties des couches de l'encodeur RHN   : (batch_size,nbr_couches,Tin,#RHN)\n",
        "  #     hid_state:  Etat initial RHN                        : (batch_size,#RHN)\n",
        "  #     Y:          Valeur de la série cible                : (batch_size,1)\n",
        "  #     only_att    Si =True ne calcul que le vecteur ctx   : True/False\n",
        "  # Sorties :\n",
        "  #     d:          Vecteur contexte                        : (batch_size,nbr_couches*RHN)\n",
        "  #     s:          Vecteur caché décodeur RHN              : (batch_size,#RHN)\n",
        "  def call(self, input, hid_state, Y, only_att):\n",
        "    # Initialisation de l'état caché à 0 si besoin\n",
        "    # Construit le tenseur nul au format (batch_size,#RHN)\n",
        "    if hid_state == None:\n",
        "      coef = tf.expand_dims(input[:,0,0,0],-1)                        # (batch_size,1)\n",
        "      coef = tf.expand_dims(coef,-1)                                  # (batch_size,1,1)\n",
        "      hid_state = tf.matmul(coef,tf.zeros(shape=(1,input.shape[3])))  # (batch_size,1,1)X(1,#RHN) = (batch_size,1,#RHN)\n",
        "      hid_state = tf.squeeze(hid_state,axis=1)                        # (batch_size,#RHN)\n",
        "\n",
        "    # Construction de l'entrée du modèle\n",
        "    # nbr_couches*[((batch_size,Tin,#RHN)),((batch_size,#RHN))]\n",
        "    input_model = []\n",
        "    for i in range(input.shape[1]):\n",
        "      input_model.append([input[:,i,:,:],hid_state])    # [((batch_size,Tin,#RHN)),((batch_size,#RHN))]\n",
        "    \n",
        "    # Calcul des sous-vecteurs contextes\n",
        "    # avec le modèle d'attention hiérarchique parallélisé\n",
        "    d = self.att_model(input_model)                     # d : (batch_size,nbr_couches,1,#RHN)\n",
        "\n",
        "    # Concaténation des sous-vecteurs contextes\n",
        "    d = tf.squeeze(d,axis=2)                            # (batch_size,nbr_couches,#RHN)\n",
        "    d = tf.keras.layers.Flatten()(d)                    # (batch_size,nbr_couches*RHN)\n",
        "\n",
        "    if only_att == False :\n",
        "      # Calcul de y_tilda\n",
        "      ytilda = self.Wtilda(Y)                             # (batch_size,1)\n",
        "      ytilda = ytilda + self.Vtilda(d)                    # (batch_size,1)\n",
        "\n",
        "      # Initialisation des masques de dropout pour tous les pas de temps\n",
        "      self.dec_RHN.InitMasquesDropout(self.dropout)\n",
        "\n",
        "      # Décodage avec le réseau RHN\n",
        "      s = self.dec_RHN(tf.expand_dims(ytilda,-1),hid_state)                  # (batch_size,#RHN)\n",
        "      return d,s\n",
        "    else:\n",
        "      return d"
      ],
      "execution_count": 26,
      "outputs": []
    },
    {
      "cell_type": "markdown",
      "metadata": {
        "id": "o_Zmh_AfNbgC"
      },
      "source": [
        "# Création du modèle HRHN Multistep + VAR + PID"
      ]
    },
    {
      "cell_type": "markdown",
      "metadata": {
        "id": "yAur8DfiZrD6"
      },
      "source": [
        "<img src=\"https://github.com/AlexandreBourrieau/FICHIERS/blob/main/Series_Temporelles/Multi/images/VARPIDMULTI2.png?raw=true\">"
      ]
    },
    {
      "cell_type": "markdown",
      "metadata": {
        "id": "7nwZjtlOoUUc"
      },
      "source": [
        "**1. Création de la couche VAR**"
      ]
    },
    {
      "cell_type": "markdown",
      "metadata": {
        "id": "Pjzwaw8JZ7Bh"
      },
      "source": [
        "On met en place l'équation suivante :"
      ]
    },
    {
      "cell_type": "markdown",
      "metadata": {
        "id": "jOSbv3jhbGMN"
      },
      "source": [
        "${\\phi _{T + t}} = \\sum\\limits_{i = 1}^T {{A_i} \\cdot {x_i}}  + \\sum\\limits_{i = 1}^{t - 1} {{A_{T + i}} \\cdot {{\\hat Y}_{T + i}} + \\xi }$"
      ]
    },
    {
      "cell_type": "code",
      "metadata": {
        "id": "A_DWfLohe8jn"
      },
      "source": [
        "class VAR(tf.keras.layers.Layer):\n",
        "  def __init__(self,longueur_sortie):\n",
        "    self.longueur_sortie = longueur_sortie\n",
        "    super().__init__()                # Appel du __init__() de la classe Layer\n",
        "  \n",
        "  def build(self,input_shape):\n",
        "    self.Avar = self.add_weight(shape=(input_shape[1],input_shape[2]+1,input_shape[2]+1),initializer=\"normal\",name=\"Avar\")          # (Tin,#dim+1,#dim+1)\n",
        "    self.Apred = self.add_weight(shape=(self.longueur_sortie,1),initializer=\"normal\",name=\"Apred\")                                # (longueur_sortie,1)\n",
        "    self.zeta = self.add_weight(shape=(1,1),initializer=\"normal\",name=\"zeta\")                                                       # (1,1)\n",
        "    super().build(input_shape)        # Appel de la méthode build()\n",
        "  \n",
        "  # Entrées\n",
        "  #     series_X  : Séries exogènes X             : (batch_size,Tin,#dim)\n",
        "  #     cible_Y   : cible                         : (batch_size,Tin,1)\n",
        "  #     y_pred_1  : Prédictions globales à (t-1)  : (batch_size,t,1)\n",
        "  # Sorties\n",
        "  #     phi       : Prédiction VAR              : (batch_size,1)\n",
        "  def call(self,series_X,cible_Y,y_pred_1):\n",
        "    # Concaténation des séries exogènes et de la cible\n",
        "    entree = tf.keras.layers.concatenate([series_X,cible_Y],axis=2)                 # (batch_size,Tin,#dim+1)\n",
        "    entree = tf.transpose(entree,perm=[0,2,1])                                      # (batch_size,#dim+1,Tin)\n",
        "\n",
        "    # Algorithme VAR\n",
        "    sortie = []\n",
        "    for i in range(series_X.shape[1]):\n",
        "      sortie.append(tf.matmul(self.Avar[i,:,:],entree[:,:,i:i+1]))                  # (#dim+1,#dim+1)x(batch_size,#dim+1,1)=(batch_size,#dim+1,1)\n",
        "    sortie = tf.convert_to_tensor(sortie)                                           # (Tin,batch_size,#dim+1,1)\n",
        "    sortie = tf.transpose(sortie,perm=[1,0,2,3])                                    # (batch_size,Tin,#dim+1,1)\n",
        "    sortie = K.sum(sortie,axis=1)                                                   # (batch_size,#dim+1,1)\n",
        "\n",
        "    # Récupère la prédiction de la cible\n",
        "    sortie = tf.expand_dims(sortie[:,-1,:],-1)                                      # (batch_size,1,1)\n",
        "\n",
        "    # Ajoute la combinaison linéaire des prédictions globales aux instants précédents\n",
        "    for i in range(y_pred_1.shape[1]):\n",
        "      sortie = sortie + tf.matmul(self.Apred[i:i+1,:],y_pred_1[:,i:i+1,:])  # (batch_size,1,1) + (1,1)x(batch_size,1,1) = (batch_size,1,1)\n",
        "\n",
        "    sortie = tf.squeeze(sortie,-1) + self.zeta                                      # (batch_size,1)\n",
        "    return sortie"
      ],
      "execution_count": 79,
      "outputs": []
    },
    {
      "cell_type": "markdown",
      "metadata": {
        "id": "uEWxDydrYgzi"
      },
      "source": [
        "**2. Ajout du correcteur PID**"
      ]
    },
    {
      "cell_type": "code",
      "metadata": {
        "id": "qofproTuWmlW"
      },
      "source": [
        "class Correcteur_PID(tf.keras.layers.Layer):\n",
        "  def __init__(self,batch_size,couche):\n",
        "    super().__init__()                # Appel du __init__() de la classe Layer\n",
        "    self.erreur_1 = tf.Variable(shape=(batch_size,1),trainable=False,initial_value=tf.zeros(shape=(batch_size,1)),name=\"erreur_1\")               # (BS,1) = 0\n",
        "    self.num_iteration = tf.Variable(shape=(batch_size,1),trainable=False,initial_value=tf.ones(shape=(batch_size,1)),name=\"iteration\")          # (BS,1) = 1\n",
        "    self.couche = couche\n",
        "  \n",
        "  def build(self,input_shape):\n",
        "    self.Couche_Dense_P = tf.keras.layers.Dense(units=1,use_bias=False,kernel_initializer=tf.keras.initializers.Ones(),trainable=True,name=\"CoucheP\")\n",
        "    self.Couche_Dense_I = tf.keras.layers.Dense(units=1,use_bias=False,kernel_initializer=tf.keras.initializers.Zeros(),trainable=True,name=\"CoucheI\")\n",
        "    self.Couche_Dense_D = tf.keras.layers.Dense(units=1,use_bias=False,kernel_initializer=tf.keras.initializers.Zeros(),trainable=True,name=\"CoucheD\")\n",
        "    self.Couche_DenseII = tf.keras.layers.Dense(units=1,use_bias=False,kernel_initializer=tf.keras.initializers.Ones(),trainable=True,activation=self.couche,name=\"CoucheFNNII\")\n",
        "    super().build(input_shape)        # Appel de la méthode build()\n",
        "  \n",
        "\n",
        "  # Entrées\n",
        "  #     y_tilda_1 :   Prédiction initiale à (t-1) :   (batch_size,1)\n",
        "  #     y_pred_1  :   Prédiction globale à (t-1)  :   (batch_size,t,1)\n",
        "  # Sorties\n",
        "  #     PID(erreur) : Erreur traitée par PID      :   (batch_size,1)\n",
        "  def call(self, y_tilda_1,y_pred_1):\n",
        "    # Calcul de l'erreur courante\n",
        "    erreur = y_pred_1[:,-1,:] -y_tilda_1                                          # (batch_size,1)\n",
        "\n",
        "    # Calcul de la partie proportionnelle\n",
        "    P = self.Couche_Dense_P(erreur)                                               # (batch_size,1)\n",
        "\n",
        "    # Calcul de la partie intégrale\n",
        "    I = (1/self.num_iteration)*self.Couche_Dense_I(self.erreur_1+erreur)          # (batch_size,1)\n",
        "\n",
        "    # Calcul de la partie dérivée\n",
        "    D = self.Couche_Dense_D(erreur-self.erreur_1)                                 # (batch_size,1)\n",
        "    \n",
        "    # Sauvegarde des erreurs et #itérations\n",
        "    self.num_iteration.assign(self.num_iteration+1)                               # (batch_size,1)\n",
        "    self.erreur_1.assign(erreur + self.erreur_1)                                  # (batch_size,1)\n",
        "\n",
        "    return self.Couche_DenseII(tf.keras.layers.Concatenate(axis=1)([P,I,D]))        # (batch_size,1)"
      ],
      "execution_count": 80,
      "outputs": []
    },
    {
      "cell_type": "markdown",
      "metadata": {
        "id": "UYOTdM7fZT65"
      },
      "source": [
        "**3. Création de la couche HRHN+VAR+PID**"
      ]
    },
    {
      "cell_type": "code",
      "metadata": {
        "id": "8PCEHUDEZ1bt"
      },
      "source": [
        "class Net_HRHN_VARPID(tf.keras.layers.Layer):\n",
        "  def __init__(self,encodeur,decodeur,pred_VAR, correcteur_PID, longueur_sequence, longueur_sortie, dim_RHN, nbr_couches_sortie, regul=0.0, drop = 0.0):\n",
        "    self.encodeur = encodeur\n",
        "    self.decodeur = decodeur\n",
        "    self.pred_VAR = pred_VAR\n",
        "    self.correcteur_PID = correcteur_PID\n",
        "    self.longueur_sequence = longueur_sequence\n",
        "    self.longueur_sortie = longueur_sortie\n",
        "    self.regul = regul\n",
        "    self.drop = drop\n",
        "    self.dim_RHN = dim_RHN\n",
        "    self.nbr_couches_sortie = nbr_couches_sortie\n",
        "    super().__init__()                # Appel du __init__() de la classe Layer\n",
        "  \n",
        "  def build(self,input_shape):\n",
        "    self.W = self.add_weight(shape=(self.longueur_sortie,self.dim_RHN,1),initializer=\"normal\",name=\"W\")                                 # (longueur_sortie,#RHN, 1)\n",
        "    self.V = self.add_weight(shape=(self.longueur_sortie,self.nbr_couches_sortie*self.dim_RHN,1),initializer=\"normal\",name=\"V\")         # (longueur_sortie,nbr_couches_sortie*#RHN, 1)\n",
        "    self.b = self.add_weight(shape=(self.longueur_sortie,1,1),initializer=\"normal\",name=\"b\")                                            # (longueur_sortie,1, 1)\n",
        "    self.Couche_DenseI = tf.keras.layers.Dense(units=1,use_bias=True,name=\"CoucheFNNI\")\n",
        "    super().build(input_shape)        # Appel de la méthode build()\n",
        "\n",
        "  # Entrées :\n",
        "  #     input:          Entrées X           : (batch_size,Tin,#dim)\n",
        "  #     output_seq:     Sortie séquence Y   : (batch_size,Tin,1)\n",
        "  # Sorties :\n",
        "  #     sortie:         Prédiction Y        : (batch_size,1,1)\n",
        "  def call(self,input,output_seq):\n",
        "    # Appel de l'encodeur\n",
        "    # Récupère l'ensemble des états cachés de l'encodeur RHN\n",
        "    H = self.encodeur(input)                # (batch_size,nbr_couches,Tin,#RHN)\n",
        "\n",
        "    # Décodage des (T-1) valeurs cibles\n",
        "    hidden_state = None\n",
        "    for t in range(input.shape[1]-1):\n",
        "      vc, hidden_state = self.decodeur(H,hidden_state,output_seq[:,t:t+1,0],only_att = False)\n",
        "    \n",
        "    # Prédictions\n",
        "    sorties = []\n",
        "    y_pred_1 = tf.matmul(input[:,0:1,0:1],tf.zeros(shape=(1,1)))             # (batch_size,1,1)x(1,1) = (batch_size,1,1)\n",
        "    y_pred_initial_1 = tf.matmul(input[:,0:1,0:1],tf.zeros(shape=(1,1)))     # (batch_size,1,1)x(1,1) = (batch_size,1,1)\n",
        "    y_pred_initial_1 = tf.squeeze(y_pred_initial_1,-1)            # (batch_size,1)\n",
        "\n",
        "    for i in range(0,self.longueur_sortie):\n",
        "      # Prédiction HRHN\n",
        "      vc = self.decodeur(H,hidden_state,output_seq[:,0,0],only_att=True)\n",
        "      y_hrhn = tf.matmul(tf.transpose(self.W[i,:,:]),tf.expand_dims(hidden_state,-1))   # (1,#RHN)*(batch_size,#RHN,1) = (batch_size,1,1)\n",
        "      y_hrhn = y_hrhn +  tf.matmul(tf.transpose(self.V[i,:,:]),tf.expand_dims(vc,-1))        # (1,3*#RHN)*(batch_size,3*#RHN,1) = (batch_size,1,1)\n",
        "      y_hrhn = y_hrhn + self.b[i,:,:]                                                        # (batch_size,1,1)\n",
        "      y_hrhn = tf.squeeze(y_hrhn,-1)                                                         # (batch_size,1)\n",
        "\n",
        "      # Prédiction VAR\n",
        "      y_var = self.pred_VAR(input,output_seq,y_pred_1)                                       # (batch_size,1)\n",
        "\n",
        "      # Prédiction initiale\n",
        "      pred_initial = self.Couche_DenseI(tf.keras.layers.Concatenate(axis=1)([y_hrhn,y_var]))        # (batch_size,1)\n",
        "\n",
        "      # Calcul de l'erreur avec le PID à partir des prédictions initiales et globales à (t-1)\n",
        "      erreur = self.correcteur_PID(y_pred_initial_1,y_pred_1)                               # (batch_size,1)\n",
        "\n",
        "      # Applique l'erreur à la prédiction initiale\n",
        "      y_pred = pred_initial + erreur                                                        # (batchs_size,1)\n",
        "\n",
        "      # Sauvegarde la prédiction\n",
        "      sorties.append(y_pred)\n",
        "\n",
        "      # Met à jour les prédictions à (t-1)\n",
        "      y_pred_initial_1 = pred_initial\n",
        "      y_pred_1 = tf.concat([y_pred_1,tf.expand_dims(y_pred,-1)],axis=1)                     # (batch_size,t,1)\n",
        "\n",
        "      # Calcul le vecteur contexte et le hidden state pour l'itération suivante\n",
        "      vc, hidden_state = self.decodeur(H,hidden_state,y_pred,only_att = False)\n",
        "    sorties = tf.convert_to_tensor(sorties)               # (longueur_sortie,batch_size,1)\n",
        "    sorties = tf.transpose(sorties,perm=[1,0,2])          # (batch_size,longueur_sortie,1)\n",
        "    return sorties"
      ],
      "execution_count": 84,
      "outputs": []
    },
    {
      "cell_type": "markdown",
      "metadata": {
        "id": "rh5MO6QCZbfv"
      },
      "source": [
        "#Création du modèle global"
      ]
    },
    {
      "cell_type": "code",
      "metadata": {
        "id": "NKu1vn97Zbfv"
      },
      "source": [
        "dim_RHN = 128\n",
        "nbr_filtres_cnn = [16,32,64]\n",
        "dim_filtres_cnn = [3,3,3]\n",
        "dim_max_pooling = [3,3,3]\n",
        "nbr_couches_RHN = 3\n",
        "dim_motif = Encodeur_CNN(dim_filtres_cnn=dim_filtres_cnn,nbr_filtres_cnn=nbr_filtres_cnn,dim_max_pooling=dim_max_pooling,dim_motif=0)(x_train[0][0:1,:,:]).shape[2]\n",
        "drop=0.00\n",
        "\n",
        "def get_model():\n",
        "  entrees_sequences = tf.keras.layers.Input(shape=(longueur_sequence,x_train[0].shape[2]),batch_size=batch_size)\n",
        "  sorties_sequence = tf.keras.layers.Input(shape=(longueur_sequence,1),batch_size=batch_size)\n",
        "\n",
        "  encodeur = Encodeur(dim_filtres_cnn=dim_filtres_cnn,nbr_filtres_cnn=nbr_filtres_cnn,dim_max_pooling=dim_max_pooling,dim_motif=dim_motif,dim_RHN=dim_RHN,nbr_couches_RHN=nbr_couches_RHN,dropout=drop)\n",
        "  decodeur = Decodeur(dim_RHN=dim_RHN,nbr_couches_RHN=nbr_couches_RHN,dropout=drop)\n",
        "  pred_VAR = VAR(longueur_sortie=longueur_sortie)\n",
        "  correcteur = Correcteur_PID(batch_size=int(batch_size/8),couche=\"linear\")\n",
        "\n",
        "  sortie = Net_HRHN_VARPID(encodeur,decodeur,pred_VAR, correcteur, longueur_sequence=longueur_sequence,longueur_sortie=longueur_sortie,nbr_couches_sortie=nbr_couches_RHN,dim_RHN=dim_RHN,drop=drop)(entrees_sequences,sorties_sequence)\n",
        "\n",
        "  model = tf.keras.Model([entrees_sequences,sorties_sequence],sortie)\n",
        "  return model"
      ],
      "execution_count": 86,
      "outputs": []
    },
    {
      "cell_type": "markdown",
      "metadata": {
        "id": "FtbX0QyB8Rvr"
      },
      "source": [
        "# Entrainement TPU"
      ]
    },
    {
      "cell_type": "code",
      "metadata": {
        "id": "0-cNt57Q8RIT",
        "outputId": "b995bbae-47a9-44c8-f680-803d3ea6e7d4",
        "colab": {
          "base_uri": "https://localhost:8080/"
        }
      },
      "source": [
        "from google.colab import files\n",
        "\n",
        "max_periodes = 500\n",
        "\n",
        "strategy = tf.distribute.TPUStrategy(resolver)\n",
        "with strategy.scope():\n",
        "  # Création du modèle\n",
        "  model = get_model()\n",
        "\n",
        "  # Définition des paramètres liés à l'évolution du taux d'apprentissage\n",
        "  lr_schedule = tf.keras.optimizers.schedules.InverseTimeDecay(\n",
        "      initial_learning_rate=0.001,\n",
        "      decay_steps=50,\n",
        "      decay_rate=0.01)\n",
        "\n",
        "  optimiseur=tf.keras.optimizers.Adam(learning_rate=lr_schedule)\n",
        "\n",
        "  # Utilisation de la méthode ModelCheckPoint\n",
        "  CheckPoint = tf.keras.callbacks.ModelCheckpoint(\"poids_train.hdf5\", monitor='loss', verbose=1, save_best_only=True, save_weights_only = True, mode='auto', save_freq='epoch')\n",
        "\n",
        "  # Compile le modèle\n",
        "  model.compile(loss=\"mse\", optimizer=optimiseur)\n",
        "\n",
        "  # Entraine le modèle\n",
        "  historique = model.fit(x=dataset,validation_data=dataset_val, epochs=max_periodes,verbose=1, callbacks=[CheckPoint,tf.keras.callbacks.EarlyStopping(monitor='loss', patience=100)])\n",
        "\n",
        "files.download('poids_train.hdf5')"
      ],
      "execution_count": null,
      "outputs": [
        {
          "output_type": "stream",
          "text": [
            "INFO:tensorflow:Found TPU system:\n"
          ],
          "name": "stdout"
        },
        {
          "output_type": "stream",
          "text": [
            "INFO:tensorflow:Found TPU system:\n"
          ],
          "name": "stderr"
        },
        {
          "output_type": "stream",
          "text": [
            "INFO:tensorflow:*** Num TPU Cores: 8\n"
          ],
          "name": "stdout"
        },
        {
          "output_type": "stream",
          "text": [
            "INFO:tensorflow:*** Num TPU Cores: 8\n"
          ],
          "name": "stderr"
        },
        {
          "output_type": "stream",
          "text": [
            "INFO:tensorflow:*** Num TPU Workers: 1\n"
          ],
          "name": "stdout"
        },
        {
          "output_type": "stream",
          "text": [
            "INFO:tensorflow:*** Num TPU Workers: 1\n"
          ],
          "name": "stderr"
        },
        {
          "output_type": "stream",
          "text": [
            "INFO:tensorflow:*** Num TPU Cores Per Worker: 8\n"
          ],
          "name": "stdout"
        },
        {
          "output_type": "stream",
          "text": [
            "INFO:tensorflow:*** Num TPU Cores Per Worker: 8\n"
          ],
          "name": "stderr"
        },
        {
          "output_type": "stream",
          "text": [
            "INFO:tensorflow:*** Available Device: _DeviceAttributes(/job:localhost/replica:0/task:0/device:CPU:0, CPU, 0, 0)\n"
          ],
          "name": "stdout"
        },
        {
          "output_type": "stream",
          "text": [
            "INFO:tensorflow:*** Available Device: _DeviceAttributes(/job:localhost/replica:0/task:0/device:CPU:0, CPU, 0, 0)\n"
          ],
          "name": "stderr"
        },
        {
          "output_type": "stream",
          "text": [
            "INFO:tensorflow:*** Available Device: _DeviceAttributes(/job:worker/replica:0/task:0/device:CPU:0, CPU, 0, 0)\n"
          ],
          "name": "stdout"
        },
        {
          "output_type": "stream",
          "text": [
            "INFO:tensorflow:*** Available Device: _DeviceAttributes(/job:worker/replica:0/task:0/device:CPU:0, CPU, 0, 0)\n"
          ],
          "name": "stderr"
        },
        {
          "output_type": "stream",
          "text": [
            "INFO:tensorflow:*** Available Device: _DeviceAttributes(/job:worker/replica:0/task:0/device:TPU:0, TPU, 0, 0)\n"
          ],
          "name": "stdout"
        },
        {
          "output_type": "stream",
          "text": [
            "INFO:tensorflow:*** Available Device: _DeviceAttributes(/job:worker/replica:0/task:0/device:TPU:0, TPU, 0, 0)\n"
          ],
          "name": "stderr"
        },
        {
          "output_type": "stream",
          "text": [
            "INFO:tensorflow:*** Available Device: _DeviceAttributes(/job:worker/replica:0/task:0/device:TPU:1, TPU, 0, 0)\n"
          ],
          "name": "stdout"
        },
        {
          "output_type": "stream",
          "text": [
            "INFO:tensorflow:*** Available Device: _DeviceAttributes(/job:worker/replica:0/task:0/device:TPU:1, TPU, 0, 0)\n"
          ],
          "name": "stderr"
        },
        {
          "output_type": "stream",
          "text": [
            "INFO:tensorflow:*** Available Device: _DeviceAttributes(/job:worker/replica:0/task:0/device:TPU:2, TPU, 0, 0)\n"
          ],
          "name": "stdout"
        },
        {
          "output_type": "stream",
          "text": [
            "INFO:tensorflow:*** Available Device: _DeviceAttributes(/job:worker/replica:0/task:0/device:TPU:2, TPU, 0, 0)\n"
          ],
          "name": "stderr"
        },
        {
          "output_type": "stream",
          "text": [
            "INFO:tensorflow:*** Available Device: _DeviceAttributes(/job:worker/replica:0/task:0/device:TPU:3, TPU, 0, 0)\n"
          ],
          "name": "stdout"
        },
        {
          "output_type": "stream",
          "text": [
            "INFO:tensorflow:*** Available Device: _DeviceAttributes(/job:worker/replica:0/task:0/device:TPU:3, TPU, 0, 0)\n"
          ],
          "name": "stderr"
        },
        {
          "output_type": "stream",
          "text": [
            "INFO:tensorflow:*** Available Device: _DeviceAttributes(/job:worker/replica:0/task:0/device:TPU:4, TPU, 0, 0)\n"
          ],
          "name": "stdout"
        },
        {
          "output_type": "stream",
          "text": [
            "INFO:tensorflow:*** Available Device: _DeviceAttributes(/job:worker/replica:0/task:0/device:TPU:4, TPU, 0, 0)\n"
          ],
          "name": "stderr"
        },
        {
          "output_type": "stream",
          "text": [
            "INFO:tensorflow:*** Available Device: _DeviceAttributes(/job:worker/replica:0/task:0/device:TPU:5, TPU, 0, 0)\n"
          ],
          "name": "stdout"
        },
        {
          "output_type": "stream",
          "text": [
            "INFO:tensorflow:*** Available Device: _DeviceAttributes(/job:worker/replica:0/task:0/device:TPU:5, TPU, 0, 0)\n"
          ],
          "name": "stderr"
        },
        {
          "output_type": "stream",
          "text": [
            "INFO:tensorflow:*** Available Device: _DeviceAttributes(/job:worker/replica:0/task:0/device:TPU:6, TPU, 0, 0)\n"
          ],
          "name": "stdout"
        },
        {
          "output_type": "stream",
          "text": [
            "INFO:tensorflow:*** Available Device: _DeviceAttributes(/job:worker/replica:0/task:0/device:TPU:6, TPU, 0, 0)\n"
          ],
          "name": "stderr"
        },
        {
          "output_type": "stream",
          "text": [
            "INFO:tensorflow:*** Available Device: _DeviceAttributes(/job:worker/replica:0/task:0/device:TPU:7, TPU, 0, 0)\n"
          ],
          "name": "stdout"
        },
        {
          "output_type": "stream",
          "text": [
            "INFO:tensorflow:*** Available Device: _DeviceAttributes(/job:worker/replica:0/task:0/device:TPU:7, TPU, 0, 0)\n"
          ],
          "name": "stderr"
        },
        {
          "output_type": "stream",
          "text": [
            "INFO:tensorflow:*** Available Device: _DeviceAttributes(/job:worker/replica:0/task:0/device:TPU_SYSTEM:0, TPU_SYSTEM, 0, 0)\n"
          ],
          "name": "stdout"
        },
        {
          "output_type": "stream",
          "text": [
            "INFO:tensorflow:*** Available Device: _DeviceAttributes(/job:worker/replica:0/task:0/device:TPU_SYSTEM:0, TPU_SYSTEM, 0, 0)\n"
          ],
          "name": "stderr"
        },
        {
          "output_type": "stream",
          "text": [
            "INFO:tensorflow:*** Available Device: _DeviceAttributes(/job:worker/replica:0/task:0/device:XLA_CPU:0, XLA_CPU, 0, 0)\n"
          ],
          "name": "stdout"
        },
        {
          "output_type": "stream",
          "text": [
            "INFO:tensorflow:*** Available Device: _DeviceAttributes(/job:worker/replica:0/task:0/device:XLA_CPU:0, XLA_CPU, 0, 0)\n"
          ],
          "name": "stderr"
        },
        {
          "output_type": "stream",
          "text": [
            "Epoch 1/500\n",
            "17/17 [==============================] - 249s 3s/step - loss: 0.1196 - val_loss: 0.0393\n",
            "\n",
            "Epoch 00001: loss improved from inf to 0.11961, saving model to poids_train.hdf5\n",
            "Epoch 2/500\n",
            "17/17 [==============================] - 2s 102ms/step - loss: 0.0400 - val_loss: 0.0219\n",
            "\n",
            "Epoch 00002: loss improved from 0.11961 to 0.03997, saving model to poids_train.hdf5\n",
            "Epoch 3/500\n",
            "17/17 [==============================] - 2s 104ms/step - loss: 0.0242 - val_loss: 0.0121\n",
            "\n",
            "Epoch 00003: loss improved from 0.03997 to 0.02419, saving model to poids_train.hdf5\n",
            "Epoch 4/500\n",
            "17/17 [==============================] - 2s 101ms/step - loss: 0.0161 - val_loss: 0.0103\n",
            "\n",
            "Epoch 00004: loss improved from 0.02419 to 0.01613, saving model to poids_train.hdf5\n",
            "Epoch 5/500\n",
            "17/17 [==============================] - 2s 102ms/step - loss: 0.0138 - val_loss: 0.0096\n",
            "\n",
            "Epoch 00005: loss improved from 0.01613 to 0.01379, saving model to poids_train.hdf5\n",
            "Epoch 6/500\n",
            "17/17 [==============================] - 2s 103ms/step - loss: 0.0106 - val_loss: 0.0079\n",
            "\n",
            "Epoch 00006: loss improved from 0.01379 to 0.01055, saving model to poids_train.hdf5\n",
            "Epoch 7/500\n",
            "17/17 [==============================] - 2s 101ms/step - loss: 0.0088 - val_loss: 0.0073\n",
            "\n",
            "Epoch 00007: loss improved from 0.01055 to 0.00880, saving model to poids_train.hdf5\n",
            "Epoch 8/500\n",
            "17/17 [==============================] - 2s 102ms/step - loss: 0.0075 - val_loss: 0.0086\n",
            "\n",
            "Epoch 00008: loss improved from 0.00880 to 0.00755, saving model to poids_train.hdf5\n",
            "Epoch 9/500\n",
            "17/17 [==============================] - 2s 102ms/step - loss: 0.0093 - val_loss: 0.0076\n",
            "\n",
            "Epoch 00009: loss did not improve from 0.00755\n",
            "Epoch 10/500\n",
            "17/17 [==============================] - 2s 102ms/step - loss: 0.0065 - val_loss: 0.0058\n",
            "\n",
            "Epoch 00010: loss improved from 0.00755 to 0.00647, saving model to poids_train.hdf5\n",
            "Epoch 11/500\n",
            "17/17 [==============================] - 2s 101ms/step - loss: 0.0060 - val_loss: 0.0055\n",
            "\n",
            "Epoch 00011: loss improved from 0.00647 to 0.00604, saving model to poids_train.hdf5\n",
            "Epoch 12/500\n",
            "17/17 [==============================] - 2s 104ms/step - loss: 0.0060 - val_loss: 0.0058\n",
            "\n",
            "Epoch 00012: loss improved from 0.00604 to 0.00598, saving model to poids_train.hdf5\n",
            "Epoch 13/500\n",
            "17/17 [==============================] - 2s 102ms/step - loss: 0.0058 - val_loss: 0.0057\n",
            "\n",
            "Epoch 00013: loss improved from 0.00598 to 0.00579, saving model to poids_train.hdf5\n",
            "Epoch 14/500\n",
            "17/17 [==============================] - 2s 102ms/step - loss: 0.0055 - val_loss: 0.0055\n",
            "\n",
            "Epoch 00014: loss improved from 0.00579 to 0.00551, saving model to poids_train.hdf5\n",
            "Epoch 15/500\n",
            "17/17 [==============================] - 2s 102ms/step - loss: 0.0052 - val_loss: 0.0053\n",
            "\n",
            "Epoch 00015: loss improved from 0.00551 to 0.00523, saving model to poids_train.hdf5\n",
            "Epoch 16/500\n",
            "17/17 [==============================] - 2s 103ms/step - loss: 0.0050 - val_loss: 0.0052\n",
            "\n",
            "Epoch 00016: loss improved from 0.00523 to 0.00502, saving model to poids_train.hdf5\n",
            "Epoch 17/500\n",
            "17/17 [==============================] - 2s 102ms/step - loss: 0.0049 - val_loss: 0.0051\n",
            "\n",
            "Epoch 00017: loss improved from 0.00502 to 0.00489, saving model to poids_train.hdf5\n",
            "Epoch 18/500\n",
            "17/17 [==============================] - 2s 102ms/step - loss: 0.0047 - val_loss: 0.0050\n",
            "\n",
            "Epoch 00018: loss improved from 0.00489 to 0.00471, saving model to poids_train.hdf5\n",
            "Epoch 19/500\n",
            "17/17 [==============================] - 2s 103ms/step - loss: 0.0045 - val_loss: 0.0049\n",
            "\n",
            "Epoch 00019: loss improved from 0.00471 to 0.00453, saving model to poids_train.hdf5\n",
            "Epoch 20/500\n",
            "17/17 [==============================] - 2s 103ms/step - loss: 0.0044 - val_loss: 0.0048\n",
            "\n",
            "Epoch 00020: loss improved from 0.00453 to 0.00442, saving model to poids_train.hdf5\n",
            "Epoch 21/500\n",
            "17/17 [==============================] - 2s 102ms/step - loss: 0.0043 - val_loss: 0.0049\n",
            "\n",
            "Epoch 00021: loss improved from 0.00442 to 0.00433, saving model to poids_train.hdf5\n",
            "Epoch 22/500\n",
            "17/17 [==============================] - 2s 103ms/step - loss: 0.0042 - val_loss: 0.0050\n",
            "\n",
            "Epoch 00022: loss improved from 0.00433 to 0.00416, saving model to poids_train.hdf5\n",
            "Epoch 23/500\n",
            "17/17 [==============================] - 2s 103ms/step - loss: 0.0041 - val_loss: 0.0049\n",
            "\n",
            "Epoch 00023: loss improved from 0.00416 to 0.00407, saving model to poids_train.hdf5\n",
            "Epoch 24/500\n",
            "17/17 [==============================] - 2s 101ms/step - loss: 0.0040 - val_loss: 0.0049\n",
            "\n",
            "Epoch 00024: loss improved from 0.00407 to 0.00399, saving model to poids_train.hdf5\n",
            "Epoch 25/500\n",
            "17/17 [==============================] - 2s 102ms/step - loss: 0.0039 - val_loss: 0.0049\n",
            "\n",
            "Epoch 00025: loss improved from 0.00399 to 0.00387, saving model to poids_train.hdf5\n",
            "Epoch 26/500\n",
            "17/17 [==============================] - 2s 102ms/step - loss: 0.0037 - val_loss: 0.0049\n",
            "\n",
            "Epoch 00026: loss improved from 0.00387 to 0.00374, saving model to poids_train.hdf5\n",
            "Epoch 27/500\n",
            "17/17 [==============================] - 2s 102ms/step - loss: 0.0037 - val_loss: 0.0049\n",
            "\n",
            "Epoch 00027: loss improved from 0.00374 to 0.00366, saving model to poids_train.hdf5\n",
            "Epoch 28/500\n",
            "17/17 [==============================] - 2s 102ms/step - loss: 0.0036 - val_loss: 0.0049\n",
            "\n",
            "Epoch 00028: loss improved from 0.00366 to 0.00359, saving model to poids_train.hdf5\n",
            "Epoch 29/500\n",
            "17/17 [==============================] - 2s 103ms/step - loss: 0.0035 - val_loss: 0.0048\n",
            "\n",
            "Epoch 00029: loss improved from 0.00359 to 0.00350, saving model to poids_train.hdf5\n",
            "Epoch 30/500\n",
            "17/17 [==============================] - 2s 102ms/step - loss: 0.0034 - val_loss: 0.0049\n",
            "\n",
            "Epoch 00030: loss improved from 0.00350 to 0.00338, saving model to poids_train.hdf5\n",
            "Epoch 31/500\n",
            "17/17 [==============================] - 2s 105ms/step - loss: 0.0033 - val_loss: 0.0048\n",
            "\n",
            "Epoch 00031: loss improved from 0.00338 to 0.00328, saving model to poids_train.hdf5\n",
            "Epoch 32/500\n",
            "17/17 [==============================] - 2s 101ms/step - loss: 0.0032 - val_loss: 0.0049\n",
            "\n",
            "Epoch 00032: loss improved from 0.00328 to 0.00321, saving model to poids_train.hdf5\n",
            "Epoch 33/500\n",
            "17/17 [==============================] - 2s 103ms/step - loss: 0.0032 - val_loss: 0.0049\n",
            "\n",
            "Epoch 00033: loss improved from 0.00321 to 0.00318, saving model to poids_train.hdf5\n",
            "Epoch 34/500\n",
            "17/17 [==============================] - 2s 102ms/step - loss: 0.0031 - val_loss: 0.0049\n",
            "\n",
            "Epoch 00034: loss improved from 0.00318 to 0.00313, saving model to poids_train.hdf5\n",
            "Epoch 35/500\n",
            "17/17 [==============================] - 2s 103ms/step - loss: 0.0030 - val_loss: 0.0050\n",
            "\n",
            "Epoch 00035: loss improved from 0.00313 to 0.00303, saving model to poids_train.hdf5\n",
            "Epoch 36/500\n",
            "17/17 [==============================] - 2s 102ms/step - loss: 0.0029 - val_loss: 0.0049\n",
            "\n",
            "Epoch 00036: loss improved from 0.00303 to 0.00295, saving model to poids_train.hdf5\n",
            "Epoch 37/500\n",
            "17/17 [==============================] - 2s 102ms/step - loss: 0.0029 - val_loss: 0.0049\n",
            "\n",
            "Epoch 00037: loss improved from 0.00295 to 0.00287, saving model to poids_train.hdf5\n",
            "Epoch 38/500\n",
            "17/17 [==============================] - 2s 104ms/step - loss: 0.0028 - val_loss: 0.0049\n",
            "\n",
            "Epoch 00038: loss improved from 0.00287 to 0.00283, saving model to poids_train.hdf5\n",
            "Epoch 39/500\n",
            "17/17 [==============================] - 2s 102ms/step - loss: 0.0028 - val_loss: 0.0048\n",
            "\n",
            "Epoch 00039: loss improved from 0.00283 to 0.00279, saving model to poids_train.hdf5\n",
            "Epoch 40/500\n",
            "17/17 [==============================] - 2s 102ms/step - loss: 0.0027 - val_loss: 0.0048\n",
            "\n",
            "Epoch 00040: loss improved from 0.00279 to 0.00272, saving model to poids_train.hdf5\n",
            "Epoch 41/500\n",
            "17/17 [==============================] - 2s 103ms/step - loss: 0.0026 - val_loss: 0.0049\n",
            "\n",
            "Epoch 00041: loss improved from 0.00272 to 0.00264, saving model to poids_train.hdf5\n",
            "Epoch 42/500\n",
            "17/17 [==============================] - 2s 102ms/step - loss: 0.0026 - val_loss: 0.0050\n",
            "\n",
            "Epoch 00042: loss improved from 0.00264 to 0.00259, saving model to poids_train.hdf5\n",
            "Epoch 43/500\n",
            "17/17 [==============================] - 2s 103ms/step - loss: 0.0025 - val_loss: 0.0050\n",
            "\n",
            "Epoch 00043: loss improved from 0.00259 to 0.00253, saving model to poids_train.hdf5\n",
            "Epoch 44/500\n",
            "17/17 [==============================] - 2s 102ms/step - loss: 0.0025 - val_loss: 0.0050\n",
            "\n",
            "Epoch 00044: loss improved from 0.00253 to 0.00249, saving model to poids_train.hdf5\n",
            "Epoch 45/500\n",
            "17/17 [==============================] - 2s 103ms/step - loss: 0.0025 - val_loss: 0.0050\n",
            "\n",
            "Epoch 00045: loss improved from 0.00249 to 0.00246, saving model to poids_train.hdf5\n",
            "Epoch 46/500\n",
            "17/17 [==============================] - 2s 102ms/step - loss: 0.0024 - val_loss: 0.0048\n",
            "\n",
            "Epoch 00046: loss improved from 0.00246 to 0.00243, saving model to poids_train.hdf5\n",
            "Epoch 47/500\n",
            "17/17 [==============================] - 2s 102ms/step - loss: 0.0025 - val_loss: 0.0046\n",
            "\n",
            "Epoch 00047: loss did not improve from 0.00243\n",
            "Epoch 48/500\n",
            "17/17 [==============================] - 2s 102ms/step - loss: 0.0023 - val_loss: 0.0046\n",
            "\n",
            "Epoch 00048: loss improved from 0.00243 to 0.00227, saving model to poids_train.hdf5\n",
            "Epoch 49/500\n",
            "17/17 [==============================] - 2s 103ms/step - loss: 0.0022 - val_loss: 0.0048\n",
            "\n",
            "Epoch 00049: loss improved from 0.00227 to 0.00223, saving model to poids_train.hdf5\n",
            "Epoch 50/500\n",
            "17/17 [==============================] - 2s 102ms/step - loss: 0.0022 - val_loss: 0.0052\n",
            "\n",
            "Epoch 00050: loss improved from 0.00223 to 0.00223, saving model to poids_train.hdf5\n",
            "Epoch 51/500\n",
            "17/17 [==============================] - 2s 102ms/step - loss: 0.0022 - val_loss: 0.0052\n",
            "\n",
            "Epoch 00051: loss did not improve from 0.00223\n",
            "Epoch 52/500\n",
            "17/17 [==============================] - 2s 99ms/step - loss: 0.0022 - val_loss: 0.0053\n",
            "\n",
            "Epoch 00052: loss improved from 0.00223 to 0.00221, saving model to poids_train.hdf5\n",
            "Epoch 53/500\n",
            "17/17 [==============================] - 2s 101ms/step - loss: 0.0022 - val_loss: 0.0055\n",
            "\n",
            "Epoch 00053: loss improved from 0.00221 to 0.00219, saving model to poids_train.hdf5\n",
            "Epoch 54/500\n",
            "17/17 [==============================] - 2s 101ms/step - loss: 0.0022 - val_loss: 0.0055\n",
            "\n",
            "Epoch 00054: loss improved from 0.00219 to 0.00216, saving model to poids_train.hdf5\n",
            "Epoch 55/500\n",
            "17/17 [==============================] - 2s 102ms/step - loss: 0.0022 - val_loss: 0.0054\n",
            "\n",
            "Epoch 00055: loss improved from 0.00216 to 0.00215, saving model to poids_train.hdf5\n",
            "Epoch 56/500\n",
            "17/17 [==============================] - 2s 102ms/step - loss: 0.0021 - val_loss: 0.0056\n",
            "\n",
            "Epoch 00056: loss improved from 0.00215 to 0.00211, saving model to poids_train.hdf5\n",
            "Epoch 57/500\n",
            "17/17 [==============================] - 2s 103ms/step - loss: 0.0021 - val_loss: 0.0056\n",
            "\n",
            "Epoch 00057: loss improved from 0.00211 to 0.00206, saving model to poids_train.hdf5\n",
            "Epoch 58/500\n",
            "17/17 [==============================] - 2s 101ms/step - loss: 0.0019 - val_loss: 0.0039\n",
            "\n",
            "Epoch 00058: loss improved from 0.00206 to 0.00194, saving model to poids_train.hdf5\n",
            "Epoch 59/500\n",
            "17/17 [==============================] - 2s 102ms/step - loss: 0.0018 - val_loss: 0.0053\n",
            "\n",
            "Epoch 00059: loss improved from 0.00194 to 0.00180, saving model to poids_train.hdf5\n",
            "Epoch 60/500\n",
            "17/17 [==============================] - 2s 102ms/step - loss: 0.0019 - val_loss: 0.0049\n",
            "\n",
            "Epoch 00060: loss did not improve from 0.00180\n",
            "Epoch 61/500\n",
            "17/17 [==============================] - 2s 102ms/step - loss: 0.0017 - val_loss: 0.0049\n",
            "\n",
            "Epoch 00061: loss improved from 0.00180 to 0.00175, saving model to poids_train.hdf5\n",
            "Epoch 62/500\n",
            "17/17 [==============================] - 2s 101ms/step - loss: 0.0018 - val_loss: 0.0054\n",
            "\n",
            "Epoch 00062: loss did not improve from 0.00175\n",
            "Epoch 63/500\n",
            "17/17 [==============================] - 2s 104ms/step - loss: 0.0018 - val_loss: 0.0055\n",
            "\n",
            "Epoch 00063: loss did not improve from 0.00175\n",
            "Epoch 64/500\n",
            "17/17 [==============================] - 2s 103ms/step - loss: 0.0018 - val_loss: 0.0061\n",
            "\n",
            "Epoch 00064: loss did not improve from 0.00175\n",
            "Epoch 65/500\n",
            "17/17 [==============================] - 2s 103ms/step - loss: 0.0019 - val_loss: 0.0065\n",
            "\n",
            "Epoch 00065: loss did not improve from 0.00175\n",
            "Epoch 66/500\n",
            "17/17 [==============================] - 2s 103ms/step - loss: 0.0021 - val_loss: 0.0064\n",
            "\n",
            "Epoch 00066: loss did not improve from 0.00175\n",
            "Epoch 67/500\n",
            "17/17 [==============================] - 2s 104ms/step - loss: 0.0019 - val_loss: 0.0029\n",
            "\n",
            "Epoch 00067: loss did not improve from 0.00175\n",
            "Epoch 68/500\n",
            "17/17 [==============================] - 2s 102ms/step - loss: 0.0020 - val_loss: 0.0047\n",
            "\n",
            "Epoch 00068: loss did not improve from 0.00175\n",
            "Epoch 69/500\n",
            "17/17 [==============================] - 2s 102ms/step - loss: 0.0016 - val_loss: 0.0046\n",
            "\n",
            "Epoch 00069: loss improved from 0.00175 to 0.00165, saving model to poids_train.hdf5\n",
            "Epoch 70/500\n",
            "17/17 [==============================] - 2s 103ms/step - loss: 0.0015 - val_loss: 0.0053\n",
            "\n",
            "Epoch 00070: loss improved from 0.00165 to 0.00153, saving model to poids_train.hdf5\n",
            "Epoch 71/500\n",
            "17/17 [==============================] - 2s 102ms/step - loss: 0.0016 - val_loss: 0.0061\n",
            "\n",
            "Epoch 00071: loss did not improve from 0.00153\n",
            "Epoch 72/500\n",
            "17/17 [==============================] - 2s 102ms/step - loss: 0.0017 - val_loss: 0.0066\n",
            "\n",
            "Epoch 00072: loss did not improve from 0.00153\n",
            "Epoch 73/500\n",
            "17/17 [==============================] - 2s 102ms/step - loss: 0.0018 - val_loss: 0.0078\n",
            "\n",
            "Epoch 00073: loss did not improve from 0.00153\n",
            "Epoch 74/500\n",
            "17/17 [==============================] - 2s 102ms/step - loss: 0.0020 - val_loss: 0.0081\n",
            "\n",
            "Epoch 00074: loss did not improve from 0.00153\n",
            "Epoch 75/500\n",
            "17/17 [==============================] - 2s 103ms/step - loss: 0.0021 - val_loss: 0.0105\n",
            "\n",
            "Epoch 00075: loss did not improve from 0.00153\n",
            "Epoch 76/500\n",
            "17/17 [==============================] - 2s 102ms/step - loss: 0.0024 - val_loss: 0.0105\n",
            "\n",
            "Epoch 00076: loss did not improve from 0.00153\n",
            "Epoch 77/500\n",
            "17/17 [==============================] - 2s 101ms/step - loss: 0.0026 - val_loss: 0.0134\n",
            "\n",
            "Epoch 00077: loss did not improve from 0.00153\n",
            "Epoch 78/500\n",
            "17/17 [==============================] - 2s 102ms/step - loss: 0.0031 - val_loss: 0.0136\n",
            "\n",
            "Epoch 00078: loss did not improve from 0.00153\n",
            "Epoch 79/500\n",
            "17/17 [==============================] - 2s 101ms/step - loss: 0.0031 - val_loss: 0.0145\n"
          ],
          "name": "stdout"
        }
      ]
    }
  ]
}