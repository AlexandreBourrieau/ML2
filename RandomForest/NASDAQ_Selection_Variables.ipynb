{
  "nbformat": 4,
  "nbformat_minor": 0,
  "metadata": {
    "colab": {
      "name": "Copie de NASDAQ_Selection_Variables.ipynb",
      "provenance": [],
      "machine_shape": "hm"
    },
    "kernelspec": {
      "name": "python3",
      "display_name": "Python 3"
    },
    "language_info": {
      "name": "python"
    },
    "accelerator": "GPU"
  },
  "cells": [
    {
      "cell_type": "code",
      "metadata": {
        "id": "9Luvr5mg72jn"
      },
      "source": [
        "import tensorflow as tf\n",
        "from tensorflow import keras\n",
        "import pandas as pd\n",
        "\n",
        "import random\n",
        "import numpy as np\n",
        "import matplotlib.pyplot as plt\n",
        "\n",
        "from sklearn.ensemble import RandomForestRegressor\n",
        "\n",
        "from keras import backend as K"
      ],
      "execution_count": null,
      "outputs": []
    },
    {
      "cell_type": "markdown",
      "metadata": {
        "id": "ArXLu7v7ZiZP"
      },
      "source": [
        "# Chargement et correction des données"
      ]
    },
    {
      "cell_type": "markdown",
      "metadata": {
        "id": "mg8UqC4JTMqD"
      },
      "source": [
        "Le dataset utilisé contient les prix des actions des 81 principales compagnies du NASDAQ100. La valeur de l'index du NASDAQ est utilisé comme cible.  \n",
        "La fréquence des information est d'une minute, depuis le 26 juillet 2016 jusqu'au 22 décembre 2016, soit 105 jours au total (les samedi et dimanche ne sont pas comptés, ainsi que le 25 novembre qui ne possède que 210 données et le 22 décembre qui n'en possède que 180)."
      ]
    },
    {
      "cell_type": "markdown",
      "metadata": {
        "id": "eNPjm5bA9_u8"
      },
      "source": [
        "**1. Chargement des données**"
      ]
    },
    {
      "cell_type": "code",
      "metadata": {
        "id": "2WwTu0bDquT2"
      },
      "source": [
        "!rm *.csv\n",
        "!curl --location --remote-header-name --remote-name \"https://github.com/AlexandreBourrieau/FICHIERS/raw/main/Series_Temporelles/Multi/Data/nasdaq100_padding.csv\""
      ],
      "execution_count": null,
      "outputs": []
    },
    {
      "cell_type": "markdown",
      "metadata": {
        "id": "z66721h8-CY1"
      },
      "source": [
        "**2. Analyse et correction des données**"
      ]
    },
    {
      "cell_type": "code",
      "metadata": {
        "id": "ffclRRHzqxYO"
      },
      "source": [
        "# Création de la série sous Pandas\n",
        "df_etude = pd.read_csv(\"nasdaq100_padding.csv\",dtype=\"float32\")\n",
        "df_etude"
      ],
      "execution_count": null,
      "outputs": []
    },
    {
      "cell_type": "markdown",
      "metadata": {
        "id": "7J2st85d9AKo"
      },
      "source": [
        "Affiche les types :"
      ]
    },
    {
      "cell_type": "code",
      "metadata": {
        "id": "INH5D4lncQRY"
      },
      "source": [
        "df_etude.dtypes"
      ],
      "execution_count": null,
      "outputs": []
    },
    {
      "cell_type": "markdown",
      "metadata": {
        "id": "FXCWWy_kBmpZ"
      },
      "source": [
        "**5. Affiche les données**"
      ]
    },
    {
      "cell_type": "code",
      "metadata": {
        "id": "X0rshQNtq2P-"
      },
      "source": [
        "import plotly.graph_objects as go\n",
        "\n",
        "fig = go.Figure()\n",
        "\n",
        "fig.add_trace(go.Scatter(x=np.linspace(0,len(df_etude),len(df_etude)+1),y=df_etude['NDX'], line=dict(color='blue', width=1),name=\"Index\"))\n",
        "fig.update_xaxes(rangeslider_visible=True)\n",
        "yaxis=dict(autorange = True,fixedrange= False)\n",
        "fig.update_yaxes(yaxis)\n",
        "fig.show()"
      ],
      "execution_count": null,
      "outputs": []
    },
    {
      "cell_type": "markdown",
      "metadata": {
        "id": "Jlwx8Q9gXV5p"
      },
      "source": [
        "# Corrélations entre les variables"
      ]
    },
    {
      "cell_type": "markdown",
      "metadata": {
        "id": "QvrfTiwsaLux"
      },
      "source": [
        "**1. Corrélation de l'ensemble des variables**"
      ]
    },
    {
      "cell_type": "code",
      "metadata": {
        "id": "Ep6ptUMzXV5y"
      },
      "source": [
        "import seaborn as sns\n",
        "\n",
        "corr = df_etude.corr()\n",
        "\n",
        "# Generate a mask for the upper triangle\n",
        "mask = np.triu(np.ones_like(corr, dtype=np.bool))\n",
        "\n",
        "# Set up the matplotlib figure\n",
        "f, ax = plt.subplots(figsize=(15, 8))\n",
        "\n",
        "sns.heatmap(corr,mask=mask, cmap='coolwarm',annot=True, fmt='.2f')"
      ],
      "execution_count": null,
      "outputs": []
    },
    {
      "cell_type": "markdown",
      "metadata": {
        "id": "0BTUnlL12cdG"
      },
      "source": [
        "# Choix des paramètres de l'algorithme Random Forest"
      ]
    },
    {
      "cell_type": "markdown",
      "metadata": {
        "id": "ioStkfEuPt71"
      },
      "source": [
        "**1. Création des données X et Y**"
      ]
    },
    {
      "cell_type": "code",
      "metadata": {
        "id": "Jq4nm1qa3GPq"
      },
      "source": [
        "X = df_etude.iloc[:,0:-1]\n",
        "X"
      ],
      "execution_count": null,
      "outputs": []
    },
    {
      "cell_type": "code",
      "metadata": {
        "id": "WfrqueEuP5cr"
      },
      "source": [
        "Y = df_etude.iloc[:,-1:]\n",
        "Y"
      ],
      "execution_count": null,
      "outputs": []
    },
    {
      "cell_type": "markdown",
      "metadata": {
        "id": "-4EGKKK6hMF3"
      },
      "source": [
        "**2. Choix du nombre d'arbres**"
      ]
    },
    {
      "cell_type": "markdown",
      "metadata": {
        "id": "UAUyNpNJQF9r"
      },
      "source": [
        "Parmi les paramètres de l'algorithme [RandomForestRegressor](https://scikit-learn.org/stable/modules/generated/sklearn.ensemble.RandomForestRegressor.html) nous trouvons :\n",
        " - **n_estimators** : C'est le nombre d'arbres utilisés\n",
        " - **bootstrap** : Choix d'utiliser ou non la méthode du bootstrap pour construire les arbres. Si le bootstrap n'est pas activé, tous les arbres seront constuits avec le même dataset.  \n",
        " - **oob_score** : Choix d'utiliser les échantillons out-of-bag pour calculer le score moyen des prédictions (uniquement utilisable si l'option bootstrap est activée)\n",
        " - **max_sample** : Si le bootstrap est activé, permet de choisir le nombre d'échantillons à prendre dans le dataset initial pour construire chaque estimateur.  \n",
        " - **max_features** : Le nombre de données prises aléatoirement pour découper découper un noeud de l'arbre (mtry)  "
      ]
    },
    {
      "cell_type": "markdown",
      "metadata": {
        "id": "99HZU2Fn8gcD"
      },
      "source": [
        "On commence par regarder comment évolue le score de l'OOB sur une 10ène d'essais avec un nombre d'arbres croissant, tout en gardant une valeur de mtry par défaut (racine carrée du nombre de variables en classification et nombre de variables divisé par 3 en régression). On choisira le nombre d'arbre tel qu'il soit minimal et que le score OOB soit stabilisé.  "
      ]
    },
    {
      "cell_type": "code",
      "metadata": {
        "id": "F8nkYhBd21Vo"
      },
      "source": [
        "# Informations sur les données\n",
        "n = 40560             # Nombre d'observations\n",
        "p = 81                # Nombre de variables\n",
        "\n",
        "n_arbres_max = 2000\n",
        "\n",
        "n_arbres = np.linspace(50,n_arbres_max,10).astype(np.int32)\n",
        "mtry = p/3\n",
        "OOB_err = []\n",
        "\n",
        "for i in n_arbres:\n",
        "  print(\"#Arbres : %d\" %i)\n",
        "  clf = RandomForestRegressor(n_estimators=i, bootstrap=True, oob_score=True, max_samples = n, max_features = mtry, n_jobs=-1)\n",
        "  clf.fit(X,tf.squeeze(np.asarray(Y),1))\n",
        "  OOB_err.append(1 - clf.oob_score_)"
      ],
      "execution_count": null,
      "outputs": []
    },
    {
      "cell_type": "code",
      "metadata": {
        "id": "he6wWnD7QT6v"
      },
      "source": [
        "plt.plot(n_arbres,OOB_err)"
      ],
      "execution_count": null,
      "outputs": []
    },
    {
      "cell_type": "markdown",
      "metadata": {
        "id": "ZMGHoJQA67Wf"
      },
      "source": [
        "**3. Choix du mtry**"
      ]
    },
    {
      "cell_type": "markdown",
      "metadata": {
        "id": "bHdRqgSy8GMu"
      },
      "source": [
        "On regarde comment évolue le score de l'OOB sur une 10ène d'essais avec un nombre d'arbres fixé à la valeur trouvée précédemment, puis en faisant varier la valeur de mtry de la moitié de sa valeur par défaut jusqu'à son maximum possible. On choisira la valeur de mtry telle qu'elle soit minimale et que le score OOB soit stabilisé.  "
      ]
    },
    {
      "cell_type": "code",
      "metadata": {
        "id": "spNaZJCV7s39"
      },
      "source": [
        "# Informations sur les données\n",
        "n = 40560             # Nombre d'observations\n",
        "p = 81                # Nombre de variables\n",
        "\n",
        "n_arbres = 2000\n",
        "\n",
        "mtry_0 = np.int32(0.5*(p/3))\n",
        "\n",
        "m_try = np.linspace(mtry_0,p,10).astype(np.int32)\n",
        "\n",
        "OOB_err = []\n",
        "\n",
        "for i in m_try:\n",
        "   print(\"mtry = %s\" %i)\n",
        "   clf = RandomForestRegressor(n_estimators=n_arbres, bootstrap=True, oob_score=True, max_features=i, n_jobs=-1)\n",
        "   clf.fit(X,tf.squeeze(np.asarray(Y),1))\n",
        "   OOB_err.append(1 - clf.oob_score_)"
      ],
      "execution_count": null,
      "outputs": []
    },
    {
      "cell_type": "code",
      "metadata": {
        "id": "UXxui5IDI1_Q"
      },
      "source": [
        "plt.plot(m_try,OOB_err)"
      ],
      "execution_count": null,
      "outputs": []
    },
    {
      "cell_type": "markdown",
      "metadata": {
        "id": "2cZuYSbrQYtu"
      },
      "source": [
        "On choisir n_arbres = 2000 et on utilise m_try = 20"
      ]
    },
    {
      "cell_type": "markdown",
      "metadata": {
        "id": "R50LkwoXhA4Z"
      },
      "source": [
        "# Importance des variables : Importance sans permutations (Gini Importance)"
      ]
    },
    {
      "cell_type": "markdown",
      "metadata": {
        "id": "LqhQIBES9oVw"
      },
      "source": [
        "**1. Entrainement de la forêt**"
      ]
    },
    {
      "cell_type": "code",
      "metadata": {
        "id": "iHyhGi8qhEEJ"
      },
      "source": [
        "from sklearn.inspection import permutation_importance\n",
        "\n",
        "# Informations sur les données\n",
        "n = 40560             # Nombre d'observations\n",
        "p = 81                # Nombre de variables\n",
        "n_arbres = 2000\n",
        "m_try = 20\n",
        "\n",
        "clf = RandomForestRegressor(n_estimators=n_arbres, bootstrap=True, oob_score=True, max_features=m_try, n_jobs=-1)\n",
        "clf.fit(X,tf.squeeze(np.asarray(Y),1))"
      ],
      "execution_count": null,
      "outputs": []
    },
    {
      "cell_type": "markdown",
      "metadata": {
        "id": "DeFCobxh9t7Z"
      },
      "source": [
        "**2. Affichage de l'importance des variables**"
      ]
    },
    {
      "cell_type": "code",
      "metadata": {
        "id": "hJqQQhlchR5w"
      },
      "source": [
        "col_sorted_by_importance=np.argsort(-clf.feature_importances_)\n",
        "\n",
        "feat_imp = pd.DataFrame({'cols':X.columns[col_sorted_by_importance],'imps':clf.feature_importances_[col_sorted_by_importance]})\n",
        "feat_imp"
      ],
      "execution_count": null,
      "outputs": []
    },
    {
      "cell_type": "code",
      "metadata": {
        "id": "OZ9qGeLShWbZ"
      },
      "source": [
        "!pip install plotly_express --upgrade -q"
      ],
      "execution_count": null,
      "outputs": []
    },
    {
      "cell_type": "code",
      "metadata": {
        "id": "lWyOziwshYoZ"
      },
      "source": [
        "import plotly_express as px\n",
        "import plotly.offline as po\n",
        "\n",
        "px.bar(feat_imp.sort_values(['imps'], ascending=False)[:30], x='cols', y='imps', labels={'cols':'column', 'imps':'feature importance'})"
      ],
      "execution_count": null,
      "outputs": []
    },
    {
      "cell_type": "markdown",
      "metadata": {
        "id": "jewtGcSbKWRU"
      },
      "source": [
        "<img src=\"https://github.com/AlexandreBourrieau/FICHIERS/blob/main/Series_Temporelles/Multi/images/NASDAQ_1.png?raw=true\">"
      ]
    },
    {
      "cell_type": "markdown",
      "metadata": {
        "id": "jej6wUUKoAyF"
      },
      "source": [
        "<img src=\"https://github.com/AlexandreBourrieau/FICHIERS/blob/main/Series_Temporelles/Multi/images/NASDAQ_1.png?raw=true\">"
      ]
    },
    {
      "cell_type": "markdown",
      "metadata": {
        "id": "02NKzth3hl0w"
      },
      "source": [
        "# Importance des variables - Méthode par permutations"
      ]
    },
    {
      "cell_type": "markdown",
      "metadata": {
        "id": "_tqAQxfPyG6D"
      },
      "source": [
        "Le calcul de l'importance par la méthode des permutations est une technique dans laquelle on mélange les valeurs d'une colonne afin d'observer l'impact sur le score obtenu. Si le score est beaucoup affecté, cela signifie que la variable permutée est très importante."
      ]
    },
    {
      "cell_type": "markdown",
      "metadata": {
        "id": "8fwcLhqUM7LP"
      },
      "source": [
        "On utilise la méthode de Scikit-learn [permutation_importance](https://scikit-learn.org/stable/modules/generated/sklearn.inspection.permutation_importance.html#sklearn.inspection.permutation_importance)"
      ]
    },
    {
      "cell_type": "code",
      "metadata": {
        "id": "m2hGPtGLMm09"
      },
      "source": [
        "from sklearn.inspection import permutation_importance\n",
        "\n",
        "# Informations sur les données\n",
        "n = 40560             # Nombre d'observations\n",
        "p = 81                # Nombre de variables\n",
        "n_arbres = 2000\n",
        "m_try = 20\n",
        "\n",
        "clf = RandomForestRegressor(n_estimators=n_arbres, bootstrap=True, oob_score=True, max_features=m_try, n_jobs=1)\n",
        "clf.fit(X,tf.squeeze(np.asarray(Y),1))\n",
        "result = permutation_importance(clf, X, Y, n_repeats=10,n_jobs=1)"
      ],
      "execution_count": null,
      "outputs": []
    },
    {
      "cell_type": "code",
      "metadata": {
        "id": "yaArYL_tOOEW"
      },
      "source": [
        "result"
      ],
      "execution_count": null,
      "outputs": []
    },
    {
      "cell_type": "code",
      "metadata": {
        "id": "uf-o9cz6O4uD"
      },
      "source": [
        "scores={c:[] for c in X.columns}\n",
        "i=0\n",
        "for c in scores:\n",
        "  scores[c].append(result.importances_mean[i])\n",
        "  i = i+1"
      ],
      "execution_count": null,
      "outputs": []
    },
    {
      "cell_type": "code",
      "metadata": {
        "id": "gL9ZEl1LQZjz"
      },
      "source": [
        "scores"
      ],
      "execution_count": null,
      "outputs": []
    },
    {
      "cell_type": "code",
      "metadata": {
        "id": "8X1-50Z7T7gu"
      },
      "source": [
        "pd.DataFrame.from_dict(scores).melt().groupby(['variable']).mean().reset_index().sort_values(['value'], ascending=False)"
      ],
      "execution_count": null,
      "outputs": []
    },
    {
      "cell_type": "code",
      "metadata": {
        "id": "70_JkYdu6gd8"
      },
      "source": [
        "px.bar(\n",
        "    pd.DataFrame.from_dict(scores).melt().groupby(['variable']).mean().reset_index().sort_values(['value'], ascending=False),\n",
        "    x='variable',y='value',labels={'variable':'column','value':'% change in recall'})"
      ],
      "execution_count": null,
      "outputs": []
    },
    {
      "cell_type": "markdown",
      "metadata": {
        "id": "CGhRNgotkJOP"
      },
      "source": [
        "<img src=\"https://github.com/AlexandreBourrieau/FICHIERS/blob/main/Series_Temporelles/Multi/images/SML_PermImportance.png?raw=true\">"
      ]
    },
    {
      "cell_type": "markdown",
      "metadata": {
        "id": "Ff96TbRjyddL"
      },
      "source": [
        "# Comparaison entre les deux méthodes"
      ]
    },
    {
      "cell_type": "code",
      "metadata": {
        "id": "14NvUUYR0AjV"
      },
      "source": [
        "# Calcul des écarts-types et des moyennes\n",
        "scores_std = {}\n",
        "scores_mean = {}\n",
        "for element in scores:\n",
        "  scores_std[element] = np.std(scores[element])\n",
        "  scores_mean[element] = np.mean(scores[element])\n",
        "\n",
        "df_perm = pd.DataFrame.from_dict([scores_std, scores_mean]).transpose()\n",
        "df_perm = df_perm.rename(columns={0:\"std\",1:\"mean\"})\n",
        "df_perm = df_perm.sort_values(by=['mean'],ascending=False)\n",
        "df_perm"
      ],
      "execution_count": null,
      "outputs": []
    },
    {
      "cell_type": "code",
      "metadata": {
        "id": "G9WRJi_SyxKX"
      },
      "source": [
        "feature_perm = df_perm\n",
        "feature_imp = feat_imp.sort_values(['imps'],ascending=False)\n",
        "feature_imp = feature_imp\n",
        "\n",
        "tree_indices = np.arange(0, len(feature_imp)) + 0.5\n",
        "\n",
        "fig, (ax1, ax2) = plt.subplots(1, 2, figsize=(12, 8))\n",
        "\n",
        "ax1.barh(tree_indices,feature_imp['imps'].values, height=0.7)\n",
        "ax1.set_yticks(tree_indices)\n",
        "ax1.set_yticklabels(feature_imp['cols'].values)\n",
        "ax1.set_ylim((0, len(feature_imp)))\n",
        "\n",
        "ax2.boxplot(feature_perm, vert=False,labels=feature_perm.index.values)\n",
        "fig.tight_layout()\n",
        "plt.show()"
      ],
      "execution_count": null,
      "outputs": []
    },
    {
      "cell_type": "markdown",
      "metadata": {
        "id": "qArFn4tH07vG"
      },
      "source": [
        "<img src=\"https://github.com/AlexandreBourrieau/FICHIERS/blob/main/Series_Temporelles/Multi/images/NASDAQ_FEATURE3.png?raw=true\">"
      ]
    },
    {
      "cell_type": "markdown",
      "metadata": {
        "id": "zh_PRuZxRDI8"
      },
      "source": [
        "# Sélection des variables par méthode RFE-CV"
      ]
    },
    {
      "cell_type": "code",
      "metadata": {
        "id": "8iI_zoEYRIH3"
      },
      "source": [
        "from sklearn.feature_selection import RFECV\n",
        "\n",
        "# Informations sur les données\n",
        "n = 40560             # Nombre d'observations\n",
        "p = 81                # Nombre de variables\n",
        "n_arbres = 2000\n",
        "m_try = p\n",
        "\n",
        "min_features_to_select = 3\n",
        "\n",
        "clf = RandomForestRegressor(n_estimators=n_arbres, bootstrap=True, oob_score=True, max_features=\"auto\", n_jobs=-1)\n",
        "rfecv = RFECV(estimator=clf, step=1, cv=5, scoring='neg_mean_absolute_error',min_features_to_select=min_features_to_select, verbose=1)\n",
        "rfecv.fit(X, tf.squeeze(np.asarray(Y),1))"
      ],
      "execution_count": null,
      "outputs": []
    },
    {
      "cell_type": "code",
      "metadata": {
        "id": "ae_uCqstTMaM"
      },
      "source": [
        "print(\"Optimal number of features : %d\" % rfecv.n_features_)\n",
        "\n",
        "# Plot number of features VS. cross-validation scores\n",
        "plt.figure()\n",
        "plt.xlabel(\"Number of features selected\")\n",
        "plt.ylabel(\"Cross validation score (nb of correct classifications)\")\n",
        "plt.plot(range(min_features_to_select,\n",
        "               len(rfecv.grid_scores_) + min_features_to_select),\n",
        "         rfecv.grid_scores_)\n",
        "plt.show()"
      ],
      "execution_count": null,
      "outputs": []
    },
    {
      "cell_type": "markdown",
      "metadata": {
        "id": "bPnaudK5MC1U"
      },
      "source": [
        "<img src=\"https://github.com/AlexandreBourrieau/FICHIERS/blob/main/Series_Temporelles/Multi/images/ResultRFECV_Nasdaq.png?raw=true\" width=400>"
      ]
    },
    {
      "cell_type": "code",
      "metadata": {
        "id": "WZdJR6ylcIfh"
      },
      "source": [
        "rfecv.ranking_"
      ],
      "execution_count": null,
      "outputs": []
    },
    {
      "cell_type": "markdown",
      "metadata": {
        "id": "VtKCflBYMKO7"
      },
      "source": [
        "<img src=\"https://github.com/AlexandreBourrieau/FICHIERS/blob/main/Series_Temporelles/Multi/images/ResultRFECV_Nasdaq2.png?raw=true\" width=700>"
      ]
    },
    {
      "cell_type": "code",
      "metadata": {
        "id": "6Gg71L3NDpRf"
      },
      "source": [
        "selected = np.asarray([66,1,9,1,50,1,42,16,6,15,10,55,1,1,1,1,19,21,56,36,53,7,62,2,29,40,35,63,1,60,17,32,30,4,61,68,33,1,12,38,28,1,54,22,49,41,3,44,1,58,5,48,64,57,27,13,67,1,31,37,24,11,20,8,69,59,43,51,26,52,65,47,18,34,45,39,25,46,14,1,23])\n",
        "df_selected = pd.DataFrame()\n",
        "\n",
        "for i in range(len(X.columns)):\n",
        "  if selected[i] == 1:\n",
        "    df_selected[X.columns[i]] = X[X.columns[i]]\n",
        "\n",
        "df_selected"
      ],
      "execution_count": null,
      "outputs": []
    },
    {
      "cell_type": "markdown",
      "metadata": {
        "id": "39J5USNqNNDU"
      },
      "source": [
        "**Corrélation entre les variables**"
      ]
    },
    {
      "cell_type": "code",
      "metadata": {
        "id": "NM8Sfwe2NQCU"
      },
      "source": [
        "import seaborn as sns\n",
        "\n",
        "corr = df_selected.corr()\n",
        "\n",
        "# Generate a mask for the upper triangle\n",
        "mask = np.triu(np.ones_like(corr, dtype=np.bool))\n",
        "\n",
        "# Set up the matplotlib figure\n",
        "f, ax = plt.subplots(figsize=(15, 8))\n",
        "\n",
        "sns.heatmap(corr,mask=mask, cmap='coolwarm',annot=True, fmt='.2f')"
      ],
      "execution_count": null,
      "outputs": []
    },
    {
      "cell_type": "markdown",
      "metadata": {
        "id": "_AF2AwJc57gx"
      },
      "source": [
        "**Exportation du dataframe :**"
      ]
    },
    {
      "cell_type": "code",
      "metadata": {
        "id": "VOda4Qhs590p"
      },
      "source": [
        "cible = Y['NDX']\n",
        "df_selected.insert(len(df_selected.columns),\"NDX\",cible)"
      ],
      "execution_count": null,
      "outputs": []
    },
    {
      "cell_type": "code",
      "metadata": {
        "id": "8hj0lBbn6H02"
      },
      "source": [
        "df_selected"
      ],
      "execution_count": null,
      "outputs": []
    },
    {
      "cell_type": "code",
      "metadata": {
        "id": "S-Nb_rs56TQ6"
      },
      "source": [
        "from google.colab import files\n",
        "\n",
        "df_selected.to_csv(\"NASDAQ_RFE-CV.csv\")\n",
        "files.download(\"NASDAQ_RFE-CV.csv\")"
      ],
      "execution_count": null,
      "outputs": []
    },
    {
      "cell_type": "markdown",
      "metadata": {
        "id": "8NO2lIaH0U9S"
      },
      "source": [
        "#Extraction des données pour VSURF"
      ]
    },
    {
      "cell_type": "code",
      "metadata": {
        "id": "TEF_S7Zy0X2b"
      },
      "source": [
        "X = df_etude.iloc[:,:-1]\n",
        "X"
      ],
      "execution_count": null,
      "outputs": []
    },
    {
      "cell_type": "code",
      "metadata": {
        "id": "qQ6dLZeK0jES"
      },
      "source": [
        "Y = df_etude.iloc[:,-1:]\n",
        "Y"
      ],
      "execution_count": null,
      "outputs": []
    },
    {
      "cell_type": "code",
      "metadata": {
        "id": "dPoZIfyR0pPi"
      },
      "source": [
        "from google.colab import files\n",
        "\n",
        "X.to_csv(\"XNAS.csv\")\n",
        "Y.to_csv(\"YNAS.csv\")\n",
        "\n",
        "files.download(\"XNAS.csv\")\n",
        "files.download(\"YNAS.csv\")"
      ],
      "execution_count": null,
      "outputs": []
    },
    {
      "cell_type": "markdown",
      "metadata": {
        "id": "h0qs5cacJ-kn"
      },
      "source": [
        "**2. Résultats**"
      ]
    },
    {
      "cell_type": "markdown",
      "metadata": {
        "id": "3NvVlTtUI9Mv"
      },
      "source": [
        "Résultats :"
      ]
    },
    {
      "cell_type": "markdown",
      "metadata": {
        "id": "jdj9aiHOJFX7"
      },
      "source": [
        "> print(thres_nasdaq$varselect.thres)\n",
        " [1]  2 49  6 80 67 38 39 63 11 13  4 29 81 24 50  5 47 12 41 56 21  3 26 73 16 34 45 36  9 40\n",
        "[31] 44 66 14 59 17 51 30 20 35 58 60 72 42 78 33 19 55 18 64 70 15 53 10 69 77 43 32 25 22 61\n",
        "[61] 27  1 62 76  7 46  8 68 75 48 23 31 52 57 54 74 28 37 71 79 65"
      ]
    },
    {
      "cell_type": "markdown",
      "metadata": {
        "id": "zprf3hYVJAgg"
      },
      "source": [
        "> print(interp_nasdaq$varselect.interp)\n",
        " [1]  2 49  6 80 67 38 39 63 11 13  4 29 81 24 50  5 47 12 41 56 21  3 26 73 16 34 45 36  9 40\n",
        "[31] 44 66 14 59 17 51 30 20 35 58 60 72 42 78 33 19 55 18 64 70 15 53 10 69 77 43 32 25 22 61\n",
        "[61] 27  1 62 76  7 46  8 68 75 48 23 31 52"
      ]
    },
    {
      "cell_type": "markdown",
      "metadata": {
        "id": "Ujpk-3BPKCif"
      },
      "source": [
        "**3. Création du dataframe**"
      ]
    },
    {
      "cell_type": "code",
      "metadata": {
        "id": "IZp9hn0GKBCz"
      },
      "source": [
        "selected_pred = np.asarray([2,49,6,80,67,38,39,63,11,13,4,29,81,24,50,5,47,12,41,56,21,3,26,73,16,34,45,36,9,40,44,66,14,59,17,51,30,20,35,58,60,72,42,78,33,19,55,18,64,70,15,53,10,69,77,43,32,25,22,61,27,1,62,76,7,46,8,68,75,48,23,31,52])\n",
        "selected_VSURF_pred = pd.DataFrame()\n",
        "\n",
        "for i in range(len(selected_pred)):\n",
        "    selected_VSURF_pred[X.columns[selected_pred[i]-1]] = X[X.columns[selected_pred[i]-1]]\n",
        "\n",
        "selected_VSURF_pred['NDX'] = Y['NDX']\n",
        "selected_VSURF_pred"
      ],
      "execution_count": null,
      "outputs": []
    },
    {
      "cell_type": "code",
      "metadata": {
        "id": "xtV1KjFi3LV6"
      },
      "source": [
        "from google.colab import files\n",
        "\n",
        "selected_VSURF_pred.to_csv(\"NASDAQselected_VSURF_pred.csv\")\n",
        "\n",
        "files.download(\"NASDAQselected_VSURF_pred.csv\")\n"
      ],
      "execution_count": null,
      "outputs": []
    },
    {
      "cell_type": "markdown",
      "metadata": {
        "id": "5aSeVmSnNe4D"
      },
      "source": [
        "**Corrélation entre les variables**"
      ]
    },
    {
      "cell_type": "code",
      "metadata": {
        "id": "brStUayNNhxS"
      },
      "source": [
        "import seaborn as sns\n",
        "\n",
        "corr = selected_VSURF_pred.corr()\n",
        "\n",
        "# Generate a mask for the upper triangle\n",
        "mask = np.triu(np.ones_like(corr, dtype=np.bool))\n",
        "\n",
        "# Set up the matplotlib figure\n",
        "f, ax = plt.subplots(figsize=(15, 8))\n",
        "\n",
        "sns.heatmap(corr,mask=mask, cmap='coolwarm',annot=True, fmt='.2f')"
      ],
      "execution_count": null,
      "outputs": []
    }
  ]
}