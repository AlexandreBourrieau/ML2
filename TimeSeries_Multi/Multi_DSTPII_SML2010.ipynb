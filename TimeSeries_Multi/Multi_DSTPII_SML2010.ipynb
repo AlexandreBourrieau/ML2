{
  "nbformat": 4,
  "nbformat_minor": 0,
  "metadata": {
    "colab": {
      "name": "Multi_DSTPII_SML2010.ipynb",
      "provenance": [],
      "machine_shape": "hm",
      "include_colab_link": true
    },
    "kernelspec": {
      "name": "python3",
      "display_name": "Python 3"
    },
    "language_info": {
      "name": "python"
    },
    "accelerator": "TPU"
  },
  "cells": [
    {
      "cell_type": "markdown",
      "metadata": {
        "id": "view-in-github",
        "colab_type": "text"
      },
      "source": [
        "<a href=\"https://colab.research.google.com/github/AlexandreBourrieau/ML2/blob/main/TimeSeries_Multi/Multi_DSTPII_SML2010.ipynb\" target=\"_parent\"><img src=\"https://colab.research.google.com/assets/colab-badge.svg\" alt=\"Open In Colab\"/></a>"
      ]
    },
    {
      "cell_type": "code",
      "metadata": {
        "id": "9Luvr5mg72jn"
      },
      "source": [
        "import tensorflow as tf\n",
        "from tensorflow import keras\n",
        "import pandas as pd\n",
        "\n",
        "import random\n",
        "import numpy as np\n",
        "import matplotlib.pyplot as plt\n",
        "\n",
        "from sklearn.ensemble import RandomForestRegressor\n",
        "\n",
        "from keras import backend as K"
      ],
      "execution_count": null,
      "outputs": []
    },
    {
      "cell_type": "markdown",
      "metadata": {
        "id": "SngD1T5rE09j"
      },
      "source": [
        "# Initialisation TPU"
      ]
    },
    {
      "cell_type": "code",
      "metadata": {
        "id": "azq2F27MXmeS"
      },
      "source": [
        "import os\n",
        "\n",
        "use_tpu = True\n",
        "\n",
        "if use_tpu:\n",
        "    assert 'COLAB_TPU_ADDR' in os.environ, 'Missing TPU; did you request a TPU in Notebook Settings?'\n",
        "\n",
        "if 'COLAB_TPU_ADDR' in os.environ:\n",
        "  TPU_ADDRESS = 'grpc://{}'.format(os.environ['COLAB_TPU_ADDR'])\n",
        "else:\n",
        "  TPU_ADDRESS = ''\n",
        "\n",
        "resolver = tf.distribute.cluster_resolver.TPUClusterResolver(tpu=TPU_ADDRESS)\n",
        "tf.config.experimental_connect_to_cluster(resolver)\n",
        "tf.tpu.experimental.initialize_tpu_system(resolver)\n",
        "print(\"All devices: \", tf.config.list_logical_devices('TPU'))"
      ],
      "execution_count": null,
      "outputs": []
    },
    {
      "cell_type": "markdown",
      "metadata": {
        "id": "ArXLu7v7ZiZP"
      },
      "source": [
        "# Chargement et correction des données"
      ]
    },
    {
      "cell_type": "markdown",
      "metadata": {
        "id": "mg8UqC4JTMqD"
      },
      "source": [
        "Ce dataset est utilisé pour effectuer la prédiction de la température d'une pièce en fonction de plusieurs paramètres mesurés. La fréquence originale des données est d'une minute, puis a été modifiée à 15minutes avec un filtrage. L'ensemble correspond environ à une durée de 40 jours.  \n",
        "Nous allons utiliser ici la température de la chambre comme cible et sélectionner 18 séries exogènes. "
      ]
    },
    {
      "cell_type": "markdown",
      "metadata": {
        "id": "eNPjm5bA9_u8"
      },
      "source": [
        "**1. Chargement des données**"
      ]
    },
    {
      "cell_type": "code",
      "metadata": {
        "id": "2WwTu0bDquT2"
      },
      "source": [
        "!rm *.txt\n",
        "!curl --location --remote-header-name --remote-name \"https://github.com/AlexandreBourrieau/FICHIERS/raw/main/Series_Temporelles/Multi/Data/NEW-DATA-1.T15.txt\""
      ],
      "execution_count": null,
      "outputs": []
    },
    {
      "cell_type": "markdown",
      "metadata": {
        "id": "z66721h8-CY1"
      },
      "source": [
        "**2. Analyse et correction des données**"
      ]
    },
    {
      "cell_type": "code",
      "metadata": {
        "id": "ffclRRHzqxYO"
      },
      "source": [
        "# Création de la série sous Pandas\n",
        "df_etude = pd.read_csv(\"NEW-DATA-1.T15.txt\",sep=\" \")\n",
        "df_etude"
      ],
      "execution_count": null,
      "outputs": []
    },
    {
      "cell_type": "markdown",
      "metadata": {
        "id": "OtpJcijfabsQ"
      },
      "source": [
        "Supprime les colonnes non utiles :\n",
        " - Date et heure\n",
        " - Exterior Entalpic 1, 2 et turbo  \n",
        "   \n",
        "Déplace la cible (4:Temperature_Habitacion_Sensor) en dernière colonne :"
      ]
    },
    {
      "cell_type": "code",
      "metadata": {
        "id": "0oElnLHPailF"
      },
      "source": [
        "df_etude = df_etude.drop(['Date','Time','19:Exterior_Entalpic_1', '20:Exterior_Entalpic_2', '21:Exterior_Entalpic_turbo'],axis=1)\n",
        "cible = df_etude.pop(\"4:Temperature_Habitacion_Sensor\")\n",
        "df_etude.insert(len(df_etude.columns),\"Temperature_Habitacion_Sensor\",cible)\n",
        "df_etude"
      ],
      "execution_count": null,
      "outputs": []
    },
    {
      "cell_type": "markdown",
      "metadata": {
        "id": "7J2st85d9AKo"
      },
      "source": [
        "Affiche les types :"
      ]
    },
    {
      "cell_type": "code",
      "metadata": {
        "id": "INH5D4lncQRY"
      },
      "source": [
        "df_etude.dtypes"
      ],
      "execution_count": null,
      "outputs": []
    },
    {
      "cell_type": "markdown",
      "metadata": {
        "id": "igyc5qUTcdXo"
      },
      "source": [
        "Modifie les type en float32 :"
      ]
    },
    {
      "cell_type": "code",
      "metadata": {
        "id": "d_0svvF8chHQ"
      },
      "source": [
        "df_etude = df_etude.astype(dtype='float32')\n",
        "df_etude.dtypes"
      ],
      "execution_count": null,
      "outputs": []
    },
    {
      "cell_type": "markdown",
      "metadata": {
        "id": "FXCWWy_kBmpZ"
      },
      "source": [
        "**5. Affiche les données**"
      ]
    },
    {
      "cell_type": "code",
      "metadata": {
        "id": "X0rshQNtq2P-"
      },
      "source": [
        "import plotly.graph_objects as go\n",
        "\n",
        "fig = go.Figure()\n",
        "\n",
        "fig.add_trace(go.Scatter(x=np.linspace(0,len(df_etude),len(df_etude)+1),y=df_etude['Temperature_Habitacion_Sensor'], line=dict(color='blue', width=1),name=\"Index\"))\n",
        "fig.update_xaxes(rangeslider_visible=True)\n",
        "yaxis=dict(autorange = True,fixedrange= False)\n",
        "fig.update_yaxes(yaxis)\n",
        "fig.show()"
      ],
      "execution_count": null,
      "outputs": []
    },
    {
      "cell_type": "markdown",
      "metadata": {
        "id": "j8CVmrVUCMh5"
      },
      "source": [
        "# Séparation des données de test et d'entrainement"
      ]
    },
    {
      "cell_type": "code",
      "metadata": {
        "id": "hKbWLsWRCMh6"
      },
      "source": [
        "# Sépare les données en entrainement et tests\n",
        "pourcentage = 0.8\n",
        "temps_separation = int(len(df_etude.values) * pourcentage)\n",
        "date_separation = df_etude.index[temps_separation]\n",
        "\n",
        "serie_entrainement_X = np.array(df_etude.values[:temps_separation],dtype=np.float32)\n",
        "serie_test_X = np.array(df_etude.values[temps_separation:],dtype=np.float32)\n",
        "\n",
        "print(\"Taille de l'entrainement : %d\" %len(serie_entrainement_X))\n",
        "print(\"Taille de la validation : %d\" %len(serie_test_X))"
      ],
      "execution_count": null,
      "outputs": []
    },
    {
      "cell_type": "markdown",
      "metadata": {
        "id": "GsZWwM0-CMh7"
      },
      "source": [
        "**Normalisation des données :**"
      ]
    },
    {
      "cell_type": "markdown",
      "metadata": {
        "id": "yniWB2X8CMh8"
      },
      "source": [
        "On normalise les données à l'aide de la fonction [MinMaxScaler](https://scikit-learn.org/stable/modules/generated/sklearn.preprocessing.MinMaxScaler.html)"
      ]
    },
    {
      "cell_type": "code",
      "metadata": {
        "id": "emf7MqosCMh8"
      },
      "source": [
        "from sklearn import preprocessing\n",
        "\n",
        "# Constrution des séries\n",
        "serie_entrainement_X_norm = []\n",
        "serie_test_X_norm = []\n",
        "\n",
        "for i in range(0,len(df_etude.columns)):\n",
        "  serie_entrainement_X_norm.append(serie_entrainement_X[:,i])\n",
        "  serie_test_X_norm.append(serie_test_X[:,i])\n",
        "\n",
        "serie_entrainement_X_norm = tf.convert_to_tensor(serie_entrainement_X_norm)\n",
        "serie_entrainement_X_norm = tf.transpose(serie_entrainement_X_norm)\n",
        "serie_test_X_norm = tf.convert_to_tensor(serie_test_X_norm)\n",
        "serie_test_X_norm = tf.transpose(serie_test_X_norm)\n",
        "\n",
        "# Initialisaton du MinMaxScaler\n",
        "min_max_scaler = preprocessing.MinMaxScaler()\n",
        "min_max_scaler.fit(serie_entrainement_X_norm)\n",
        "\n",
        "# Normalisation des séries\n",
        "serie_entrainement_X_norm = min_max_scaler.transform(serie_entrainement_X_norm)\n",
        "serie_test_X_norm = min_max_scaler.transform(serie_test_X_norm)"
      ],
      "execution_count": null,
      "outputs": []
    },
    {
      "cell_type": "code",
      "metadata": {
        "id": "zoBbMQIICMh9"
      },
      "source": [
        "print(serie_entrainement_X_norm.shape)\n",
        "print(serie_test_X_norm.shape)"
      ],
      "execution_count": null,
      "outputs": []
    },
    {
      "cell_type": "code",
      "metadata": {
        "id": "y6THNLf2CMh-"
      },
      "source": [
        "# Affiche quelques séries\n",
        "fig, ax = plt.subplots(constrained_layout=True, figsize=(15,5))\n",
        "\n",
        "ax.plot(df_etude.index[:temps_separation].values,serie_entrainement_X_norm[:,0:5], label=\"X_Ent\")\n",
        "ax.plot(df_etude.index[temps_separation:].values,serie_test_X_norm[:,0:5], label=\"X_Val\")\n",
        "\n",
        "ax.legend()\n",
        "plt.show()"
      ],
      "execution_count": null,
      "outputs": []
    },
    {
      "cell_type": "markdown",
      "metadata": {
        "id": "YNJjTisMlfgQ"
      },
      "source": [
        "# Création des datasets"
      ]
    },
    {
      "cell_type": "code",
      "metadata": {
        "id": "0Y67w_LmnpiP"
      },
      "source": [
        "# Fonction permettant de créer un dataset à partir des données de la série temporelle\n",
        "# X = {((X1_1,X1_2,...,X1_T),(X2_1,X2_2,...,X2_T),(X3_1,X3_2,...,X3_T)),\n",
        "#       (Y1,Y2,...,YT)}\n",
        "# Y = YT+1\n",
        "\n",
        "def prepare_dataset_XY(seriesX, serieY, longueur_sequence, longueur_sortie, batch_size,shift):\n",
        "  datasetX = tf.data.Dataset.from_tensor_slices(seriesX)\n",
        "  datasetX = datasetX.window(longueur_sequence+longueur_sortie, shift=shift, drop_remainder=True)\n",
        "  datasetX = datasetX.flat_map(lambda x: x.batch(longueur_sequence + longueur_sortie))\n",
        "  datasetX = datasetX.map(lambda x: (x[0:longueur_sequence][:,:]))\n",
        "  datasetX = datasetX.batch(batch_size,drop_remainder=True).prefetch(1)\n",
        "\n",
        "  datasetY = tf.data.Dataset.from_tensor_slices(serieY)\n",
        "  datasetY = datasetY.window(longueur_sequence+longueur_sortie, shift=shift, drop_remainder=True)\n",
        "  datasetY = datasetY.flat_map(lambda x: x.batch(longueur_sequence + longueur_sortie))\n",
        "  datasetY = datasetY.map(lambda x: (x[0:longueur_sequence][:,:]))\n",
        "  datasetY = datasetY.batch(batch_size,drop_remainder=True).prefetch(1)\n",
        "\n",
        "  datasetYPred = tf.data.Dataset.from_tensor_slices(serieY)\n",
        "  datasetYPred = datasetYPred.window(longueur_sequence+longueur_sortie+1, shift=shift, drop_remainder=True)\n",
        "  datasetYPred = datasetYPred.flat_map(lambda x: x.batch(longueur_sequence + longueur_sortie+1))\n",
        "  datasetYPred = datasetYPred.map(lambda x: (x[0:-1][-longueur_sortie:,:]))\n",
        "  datasetYPred = datasetYPred.batch(batch_size,drop_remainder=True).prefetch(1)\n",
        "\n",
        "\n",
        "  dataset = tf.data.Dataset.zip((datasetX,datasetY))\n",
        "  dataset = tf.data.Dataset.zip((dataset,datasetYPred))\n",
        "\n",
        "  return dataset"
      ],
      "execution_count": null,
      "outputs": []
    },
    {
      "cell_type": "code",
      "metadata": {
        "id": "ghhUzmxdlj0g"
      },
      "source": [
        "# Définition des caractéristiques du dataset que l'on souhaite créer\n",
        "batch_size = 128\n",
        "longueur_sequence = 20\n",
        "longueur_sortie = 1\n",
        "shift=1\n",
        "\n",
        "# Création du dataset\n",
        "dataset = prepare_dataset_XY(serie_entrainement_X_norm[:,0:-1],serie_entrainement_X_norm[:,-1:], longueur_sequence,longueur_sortie,batch_size,shift)\n",
        "dataset_val = prepare_dataset_XY(serie_test_X_norm[:,0:-1],serie_test_X_norm[:,-1:],longueur_sequence,longueur_sortie,batch_size,shift)"
      ],
      "execution_count": null,
      "outputs": []
    },
    {
      "cell_type": "code",
      "metadata": {
        "id": "6mJX_otLmJ7w"
      },
      "source": [
        "print(len(list(dataset.as_numpy_iterator())))\n",
        "for element in dataset.take(1):\n",
        "  print(element[0][0].shape)            # ((X1),(X2),...) = ((X1_1,X1_2,...,X1_T),(X2_1,X2_2,...,X2_T),...)\n",
        "  print(element[0][1].shape)            # (Y1,Y2,...,YT)\n",
        "  print(element[1].shape)               # YT+1"
      ],
      "execution_count": null,
      "outputs": []
    },
    {
      "cell_type": "code",
      "metadata": {
        "id": "5qKsAMMRn2JI"
      },
      "source": [
        "print(len(list(dataset_val.as_numpy_iterator())))\n",
        "for element in dataset_val.take(1):\n",
        "  print(element[0][0].shape)            # ((X1),(X2),...) = ((X1_1,X1_2,...,X1_T),(X2_1,X2_2,...,X2_T),...)\n",
        "  print(element[0][1].shape)            # Y1,Y2,...,YT\n",
        "  print(element[1].shape)               # YT+1"
      ],
      "execution_count": null,
      "outputs": []
    },
    {
      "cell_type": "markdown",
      "metadata": {
        "id": "RuecK3H6GUeX"
      },
      "source": [
        "**3. Préparation des X/Y**"
      ]
    },
    {
      "cell_type": "code",
      "metadata": {
        "id": "MpCqWrvonaB3"
      },
      "source": [
        "X1 = []\n",
        "X2 = []\n",
        "\n",
        "# Extrait les X,Y du dataset\n",
        "x,y = tuple(zip(*dataset))              # x=43x((BS,10,3),(BS,9,1))\n",
        "                                        # y=43x(BS,1,1)\n",
        "for i in range(len(x)):\n",
        "  X1.append(x[i][0])          \n",
        "  X2.append(x[i][1])\n",
        "\n",
        "X1 = tf.convert_to_tensor(X1)           # (43,BS,10,3)\n",
        "X2 = tf.convert_to_tensor(X2)           # (43,BS,9,1)\n",
        "\n",
        "X1 = np.asarray(X1,dtype=np.float32)    # (43,BS,10,3)\n",
        "X2 = np.asarray(X2,dtype=np.float32)    # (43,BS,10,3)   \n",
        "\n",
        "# Recombine les données\n",
        "y = np.asarray(y,dtype=np.float32)      # 43x(BS,1,1) => (43xBS,1,1)\n",
        "X1 = np.reshape(X1,(X1.shape[0]*X1.shape[1],X1.shape[2],X1.shape[3]))   # (43,BS,10,3) => (43xBS,10,3)\n",
        "X2 = np.reshape(X2,(X2.shape[0]*X2.shape[1],X2.shape[2],X2.shape[3]))   # (43,BS,9,1) => (43*BS,9,1)\n",
        "\n",
        "x_train = [X1,X2]\n",
        "y_train = np.asarray(tf.reshape(y,shape=(y.shape[0]*y.shape[1],longueur_sortie,y.shape[3])))\n",
        "\n",
        "# Affiche les formats\n",
        "print(x_train[0].shape)\n",
        "print(x_train[1].shape)\n",
        "print(y_train.shape)\n"
      ],
      "execution_count": null,
      "outputs": []
    },
    {
      "cell_type": "code",
      "metadata": {
        "id": "JnDnemp8NujA"
      },
      "source": [
        "X1 = []\n",
        "X2 = []\n",
        "\n",
        "# Extrait les X,Y du dataset\n",
        "x,y = tuple(zip(*dataset_val))              # x=43x((BS,10,3),(BS,9,1))\n",
        "                                        # y=43x(BS,1,1)\n",
        "for i in range(len(x)):\n",
        "  X1.append(x[i][0])          \n",
        "  X2.append(x[i][1])\n",
        "\n",
        "X1 = tf.convert_to_tensor(X1)           # (43,BS,10,3)\n",
        "X2 = tf.convert_to_tensor(X2)           # (43,BS,9,1)\n",
        "\n",
        "X1 = np.asarray(X1,dtype=np.float32)    # (43,BS,10,3)\n",
        "X2 = np.asarray(X2,dtype=np.float32)    # (43,BS,10,3)   \n",
        "\n",
        "# Recombine les données\n",
        "y = np.asarray(y,dtype=np.float32)      # 43x(BS,1,1) => (43xBS,1,1)\n",
        "X1 = np.reshape(X1,(X1.shape[0]*X1.shape[1],X1.shape[2],X1.shape[3]))   # (43,BS,10,3) => (43xBS,10,3)\n",
        "X2 = np.reshape(X2,(X2.shape[0]*X2.shape[1],X2.shape[2],X2.shape[3]))   # (43,BS,9,1) => (43*BS,9,1)\n",
        "\n",
        "x_val = [X1,X2]\n",
        "y_val = np.asarray(tf.reshape(y,shape=(y.shape[0]*y.shape[1],longueur_sortie,y.shape[3])))\n",
        "\n",
        "# Affiche les formats\n",
        "print(x_val[0].shape)\n",
        "print(x_val[1].shape)\n",
        "print(y_val.shape)\n"
      ],
      "execution_count": null,
      "outputs": []
    },
    {
      "cell_type": "markdown",
      "metadata": {
        "id": "wNV_5uXS4eaS"
      },
      "source": [
        "# Affichage des séries"
      ]
    },
    {
      "cell_type": "code",
      "metadata": {
        "id": "w2VZ45y73VTh"
      },
      "source": [
        "# Affiche la série\n",
        "fig, ax = plt.subplots(constrained_layout=True, figsize=(15,5))\n",
        "\n",
        "ax.plot(np.linspace(0,longueur_sequence,longueur_sequence),x_train[0][0,:,0:3],label=\"X_train (X)\")\n",
        "ax.plot(np.linspace(0,longueur_sequence,longueur_sequence),x_train[1][0,:,:],label=\"X_train (Y)\")\n",
        "\n",
        "ax.plot(np.linspace(longueur_sequence+1,longueur_sequence+2,1),y_train[0,:,:],label=\"Y_train\",marker=\"*\")\n",
        "\n",
        "ax.legend()\n",
        "plt.show()"
      ],
      "execution_count": null,
      "outputs": []
    },
    {
      "cell_type": "markdown",
      "metadata": {
        "id": "_KvuPUL1nXpX"
      },
      "source": [
        "# Création du modèle DSTPII-RNN"
      ]
    },
    {
      "cell_type": "markdown",
      "metadata": {
        "id": "c0lDwKjfzzPh"
      },
      "source": [
        "Le modèle DSTP-RNN implanté est le suivant :"
      ]
    },
    {
      "cell_type": "markdown",
      "metadata": {
        "id": "pFTrTbJ5zuqj"
      },
      "source": [
        "<img src='https://github.com/AlexandreBourrieau/FICHIERS/blob/main/Series_Temporelles/Seq2SeqMulti/images/DSTPRNN-VueEnsemble.png?raw=true'>"
      ]
    },
    {
      "cell_type": "markdown",
      "metadata": {
        "id": "IrCCnwy8nXp4"
      },
      "source": [
        "**1. Création de la couche d'attention spatiale de l'étage n°1 / Phase 1**"
      ]
    },
    {
      "cell_type": "markdown",
      "metadata": {
        "id": "mmThmaJnoyEF"
      },
      "source": [
        "On commence par créer la couche permettant de calculer le score. Cette fonction calcule le score de l'encodeur, c'est-à-dire le score à attribuer à chaque série d'entrée.  \n",
        "Cette fonction est appellée par l'encodeur à l'aide de la méthode TimeDistribued de Keras, pour chaque série d'entrée."
      ]
    },
    {
      "cell_type": "markdown",
      "metadata": {
        "id": "Rx3ac1_G00Ga"
      },
      "source": [
        "<img src='https://github.com/AlexandreBourrieau/FICHIERS/blob/main/Series_Temporelles/Seq2SeqMulti/images/CalculScore__.png?raw=true' width=900>"
      ]
    },
    {
      "cell_type": "code",
      "metadata": {
        "id": "EiCdmR0dnXp4"
      },
      "source": [
        "class CalculScores_Encodeur_Phase1(tf.keras.layers.Layer):\n",
        "  def __init__(self, dim_LSTM):\n",
        "    self.dim_LSTM = dim_LSTM\n",
        "    super().__init__()                # Appel du __init__() de la classe Layer\n",
        "  \n",
        "  def build(self,input_shape):\n",
        "    self.Wf = self.add_weight(shape=(input_shape[1],2*self.dim_LSTM),initializer=\"normal\",name=\"Wf\")    # (Tin, 2x#LSTM)\n",
        "    self.Uf = self.add_weight(shape=(input_shape[1],input_shape[1]),initializer=\"normal\",name=\"Uf\")     # (Tin, Tin)\n",
        "    self.bf = self.add_weight(shape=(input_shape[1],1),initializer=\"normal\",name=\"bf\")                  # (Tin, 1)\n",
        "    self.vf = self.add_weight(shape=(input_shape[1],1),initializer=\"normal\",name=\"vf\")                  # (Tin, 1)\n",
        "    super().build(input_shape)        # Appel de la méthode build()\n",
        "    \n",
        "  def compute_output_shape(self, input_shape):\n",
        "    return (input_shape[0], 1)\n",
        "\n",
        "  #     hidd_state:     hidden_state        : (batch_size,#LSTM)\n",
        "  #     cell_state:     Cell state          : (batch_size,#LSTM)]\n",
        "  def SetStates(self,hidd_state, cell_state):\n",
        "    self.hidd_state = hidd_state\n",
        "    self.cell_state = cell_state\n",
        "\n",
        "  # Entrées :\n",
        "  #     input:          Entrées X           : (batch_size,Tin,1)\n",
        "  # Sorties :\n",
        "  #     score:          Score               : (batch_size,1,1)\n",
        "  def call(self, input):\n",
        "    if self.hidd_state is not None:\n",
        "        hs = tf.keras.layers.concatenate([self.hidd_state,self.cell_state],axis=1)        # (batch_size,2x#LSTM)\n",
        "        hs = tf.expand_dims(hs,-1)                                              # (batch_size,2x#LSTM) => (batch_size,2#LSTM,1)\n",
        "        e = tf.matmul(self.Wf,hs)                                               # (Tin,2x#LSTM)x(batch_size,2x#LSTM,1) = (batch_size,Tin,1)\n",
        "        e = e + tf.matmul(self.Uf,input)                                        # (Tin,Tin)x(batch_size,Tin,1) = (batch_size,Tin,1)\n",
        "        e = e + self.bf                                                         # (batch_size,Tin,1)\n",
        "    else:\n",
        "        e = tf.matmul(self.Uf,input)                                            # (Tin,Tin)x(batch_size,Tin,1) = (batch_size,Tin,1)\n",
        "        e = e + self.bf                                                         # (batch_size,Tin,1)\n",
        "    e = K.tanh(e)\n",
        "    score = tf.matmul(tf.transpose(self.vf),e)                                  # (1,Tin)x(batch_size,Tin,1) = (batch_size,1,1)\n",
        "    return tf.squeeze(score,-1)                                                 # (batch_size,1)"
      ],
      "execution_count": 20,
      "outputs": []
    },
    {
      "cell_type": "markdown",
      "metadata": {
        "id": "SM8tVDxynXp4"
      },
      "source": [
        "Puis maintenant la couche d'attention :"
      ]
    },
    {
      "cell_type": "markdown",
      "metadata": {
        "id": "IMlE2tNF1XRB"
      },
      "source": [
        "<img src='https://github.com/AlexandreBourrieau/FICHIERS/blob/main/Series_Temporelles/Seq2SeqMulti/images/EncodeurPhase1__.png?raw=true' width=900>"
      ]
    },
    {
      "cell_type": "code",
      "metadata": {
        "id": "XX8n_qKEnXp4"
      },
      "source": [
        "class Encodeur_Phase1(tf.keras.layers.Layer):\n",
        "  def __init__(self, dim_LSTM, regul=0.0, drop=0.0):\n",
        "    self.regul = regul\n",
        "    self.dim_LSTM = dim_LSTM          # Dimension des vecteurs cachés\n",
        "    self.drop = drop\n",
        "    super().__init__()                # Appel du __init__() de la classe Layer\n",
        "  \n",
        "  def build(self,input_shape):\n",
        "    self.couche_LSTM = tf.keras.layers.LSTM(self.dim_LSTM,kernel_regularizer=tf.keras.regularizers.l2(self.regul),return_sequences=False,return_state=True,dropout=self.drop,recurrent_dropout=self.drop, name=\"LSTM_Encodeur\")\n",
        "    self.CalculScores_Encodeur_Phase1 = CalculScores_Encodeur_Phase1(dim_LSTM=self.dim_LSTM)\n",
        "    super().build(input_shape)        # Appel de la méthode build()\n",
        "\n",
        "  # Entrées :\n",
        "  #     input:          Entrées X           : (batch_size,Tin,#dim)\n",
        "  #     hidd_state:     hidden_state        : (batch_size,#LSTM)\n",
        "  #     cell_state:     Cell state          : (batch_size,#LSTM)]\n",
        "  #     index:          index série         : (1)\n",
        "  # Sorties :\n",
        "  #     out_hid : Sortie vecteur caché      : (batch_size,#LSTM)\n",
        "  #     out_cell: Sortie cell state         : (btach_size,#LSTM)\n",
        "  #     x_tilda : Coupe temporelle pondérée : (batch_size,1,#dim)\n",
        "  def call(self, input, hidd_state, cell_state, index):\n",
        "    # Calcul des scores\n",
        "    input_TD = tf.transpose(input,perm=[0,2,1])                               # (batch_size,Tin,#dim) => (batch_size,#dim,Tin)\n",
        "    input_TD = tf.expand_dims(input_TD,axis=-1)                               # (batch_size,#dim,Tin) => (batch_size,#dim,Tin,1)\n",
        "    self.CalculScores_Encodeur_Phase1.SetStates(hidd_state,cell_state)\n",
        "    a = tf.keras.layers.TimeDistributed(\n",
        "        self.CalculScores_Encodeur_Phase1)(input_TD)                          # (batch_size,#dim,Tin,1) : Timestep=#dim\n",
        "                                                                              # (batch_size,Tin,1) envoyé #dim fois en //\n",
        "                                                                              # (batch_size,#dim,1) retourné\n",
        "    # Normalisation des scores alpha\n",
        "    a = tf.keras.activations.softmax(a,axis=1)                                # (batch_size,#dim,1)\n",
        "\n",
        "    # Applique les poids normalisés à la coupe temporelle des séries exogènes\n",
        "    x_tilda = tf.multiply(tf.expand_dims(input[:,index,:],-1),a)              # (batch_size,#dim,1) _x_ (batch_size,#dim,1) = (batch_size,#dim,1)\n",
        "    x_tilda = tf.transpose(x_tilda,perm=[0,2,1])                              # (batch_size,1,#dim)\n",
        "\n",
        "    # Applique x_tilda à la cellule LSTM\n",
        "    x_tilda = tf.transpose(x_tilda,perm=[0,2,1])                              # (batch_size,#dim,1)\n",
        "    out_dec, out_hid, out_cell = self.couche_LSTM(x_tilda)                    # out_dec et out_cell : (batch_size,#LSTM)\n",
        "    x_tilda = tf.transpose(x_tilda,perm=[0,2,1])                              # (batch_size,1,#dim)\n",
        "\n",
        "    return out_hid, out_cell, x_tilda\n"
      ],
      "execution_count": 21,
      "outputs": []
    },
    {
      "cell_type": "markdown",
      "metadata": {
        "id": "dI5YwkzX84Vi"
      },
      "source": [
        "**2. Création de la couche d'attention spatiale de l'étage n°1 / Phase 2**"
      ]
    },
    {
      "cell_type": "markdown",
      "metadata": {
        "id": "SN79pZ349FR6"
      },
      "source": [
        "<img src='https://github.com/AlexandreBourrieau/FICHIERS/blob/main/Series_Temporelles/Seq2SeqMulti/images/EncodeurPhase2_CalculScore__.png?raw=true'>"
      ]
    },
    {
      "cell_type": "markdown",
      "metadata": {
        "id": "H6pu4agmAtqB"
      },
      "source": [
        "On commence par créer le calcul  du score :"
      ]
    },
    {
      "cell_type": "markdown",
      "metadata": {
        "id": "d5pA1z8N-koF"
      },
      "source": [
        "<img src='https://github.com/AlexandreBourrieau/FICHIERS/blob/main/Series_Temporelles/Seq2SeqMulti/images/EncodeurPhase2_CalculScore2__.png?raw=true'>"
      ]
    },
    {
      "cell_type": "code",
      "metadata": {
        "id": "r-IiIBuJ-SKi"
      },
      "source": [
        "class CalculScores_Encodeur_Phase2(tf.keras.layers.Layer):\n",
        "  def __init__(self, dim_LSTM):\n",
        "    self.dim_LSTM = dim_LSTM\n",
        "    super().__init__()                # Appel du __init__() de la classe Layer\n",
        "  \n",
        "  def build(self,input_shape):\n",
        "    self.Ws = self.add_weight(shape=(input_shape[1],2*self.dim_LSTM),initializer=\"normal\",name=\"Ws\")    # (Tin, 2x#LSTM)\n",
        "    self.Us = self.add_weight(shape=(input_shape[1],input_shape[1]),initializer=\"normal\",name=\"Us\")     # (Tin, Tin)\n",
        "    self.bs = self.add_weight(shape=(input_shape[1],1),initializer=\"normal\",name=\"bs\")                  # (Tin, 1)\n",
        "    self.vs = self.add_weight(shape=(input_shape[1],1),initializer=\"normal\",name=\"vs\")                  # (Tin, 1)\n",
        "    super().build(input_shape)        # Appel de la méthode build()\n",
        "    \n",
        "  def compute_output_shape(self, input_shape):\n",
        "    return (input_shape[0], 1)\n",
        "\n",
        "  #     hidd_state:     hidden_state        : (batch_size,#LSTM)\n",
        "  #     cell_state:     Cell state          : (batch_size,#LSTM)]\n",
        "  def SetStates(self,hidd_state, cell_state):\n",
        "    self.hidd_state = hidd_state\n",
        "    self.cell_state = cell_state\n",
        "\n",
        "  # Entrées :\n",
        "  #     input:          Entrées Z           : (batch_size,Tin,1)\n",
        "  # Sorties :\n",
        "  #     score:          Score               : (batch_size,1,1)\n",
        "  def call(self, input):\n",
        "    if self.hidd_state is not None:\n",
        "        hs = tf.keras.layers.concatenate([self.hidd_state,self.cell_state],axis=1)        # (batch_size,2x#LSTM)\n",
        "        hs = tf.expand_dims(hs,-1)                                              # (batch_size,2x#LSTM) => (batch_size,2#LSTM,1)\n",
        "        e = tf.matmul(self.Ws,hs)                                               # (Tin,2x#LSTM)x(batch_size,2x#LSTM,1) = (batch_size,Tin,1)\n",
        "        e = e + tf.matmul(self.Us,input)                                        # (Tin,Tin)x(batch_size,Tin,1) = (batch_size,Tin,1)\n",
        "        e = e + self.bs                                                         # (batch_size,Tin,1)\n",
        "    else:\n",
        "        e = tf.matmul(self.Us,input)                                            # (Tin,Tin)x(batch_size,Tin,1) = (batch_size,Tin,1)\n",
        "        e = e + self.bs                                                         # (batch_size,Tin,1)\n",
        "    e = K.tanh(e)\n",
        "    score = tf.matmul(tf.transpose(self.vs),e)                                  # (1,Tin)x(batch_size,Tin,1) = (batch_size,1,1)\n",
        "    return tf.squeeze(score,-1)                                                 # (batch_size,1)"
      ],
      "execution_count": 22,
      "outputs": []
    },
    {
      "cell_type": "markdown",
      "metadata": {
        "id": "pe10l-HI_Nsb"
      },
      "source": [
        "Puis maintenant la couche d'attention :"
      ]
    },
    {
      "cell_type": "markdown",
      "metadata": {
        "id": "5WmZzmBV_p4D"
      },
      "source": [
        "<img src='https://github.com/AlexandreBourrieau/FICHIERS/blob/main/Series_Temporelles/Seq2SeqMulti/images/EncodeurPhase22__.png?raw=true'>"
      ]
    },
    {
      "cell_type": "code",
      "metadata": {
        "id": "P7elzJ8S_Rrd"
      },
      "source": [
        "class Encodeur_Phase2(tf.keras.layers.Layer):\n",
        "  def __init__(self, dim_LSTM, regul=0.0, drop=0.0):\n",
        "    self.regul = regul\n",
        "    self.dim_LSTM = dim_LSTM          # Dimension des vecteurs cachés\n",
        "    self.drop = drop\n",
        "    super().__init__()                # Appel du __init__() de la classe Layer\n",
        "  \n",
        "  def build(self,input_shape):\n",
        "    self.couche_LSTM = tf.keras.layers.LSTM(self.dim_LSTM,kernel_regularizer=tf.keras.regularizers.l2(self.regul),return_sequences=False,return_state=True,dropout=self.drop,recurrent_dropout=self.drop, name=\"LSTM_Encodeur\")\n",
        "    self.CalculScores_Encodeur_Phase2 = CalculScores_Encodeur_Phase2(dim_LSTM=self.dim_LSTM)\n",
        "    super().build(input_shape)        # Appel de la méthode build()\n",
        "\n",
        "  # Entrées :\n",
        "  #     input:          Entrées Z           : (batch_size,Tin,2*#dim+2)\n",
        "  #     hidd_state:     hidden_state        : (batch_size,#LSTM)\n",
        "  #     cell_state:     Cell state          : (batch_size,#LSTM)]\n",
        "  #     index:          index série         : (1)\n",
        "  # Sorties :\n",
        "  #     out_hid : Sortie vecteur caché      : (batch_size,#LSTM)\n",
        "  #     out_cell: Sortie cell state         : (btach_size,#LSTM)\n",
        "  def call(self, input, hidd_state, cell_state, index):\n",
        "    # Calcul des scores\n",
        "    input_TD = tf.transpose(input,perm=[0,2,1])                               # (batch_size,Tin,2*#dim+2) => (batch_size,2*#dim+2,Tin)\n",
        "    input_TD = tf.expand_dims(input_TD,axis=-1)                               # (batch_size,2*#dim+2,Tin) => (batch_size,2*#dim+2,Tin,1)\n",
        "    self.CalculScores_Encodeur_Phase2.SetStates(hidd_state,cell_state)\n",
        "    b = tf.keras.layers.TimeDistributed(\n",
        "        self.CalculScores_Encodeur_Phase2)(input_TD)                          # (batch_size,2*#dim+2,Tin,1) : Timestep=2*#dim+2\n",
        "                                                                              # (batch_size,Tin,1) envoyé 2*#dim+2 fois en //\n",
        "                                                                              # (batch_size,2*#dim+2,1) retourné\n",
        "    # Normalisation des scores beta\n",
        "    b = tf.keras.activations.softmax(b,axis=1)                                # (batch_size,2*#dim+2,1)\n",
        "\n",
        "    # Applique les poids normalisés à la série\n",
        "    z_tilda = tf.multiply(tf.expand_dims(input[:,index,:],-1),b)              # (batch_size,2*#dim+2,1) _x_ (batch_size,2*#dim+2,1) = (batch_size,2*#dim+2,1)\n",
        "    z_tilda = tf.transpose(z_tilda,perm=[0,2,1])                              # (batch_size,1,2*#dim+2)\n",
        "\n",
        "    # Applique z_tilda à la cellule LSTM\n",
        "    z_tilda = tf.transpose(z_tilda,perm=[0,2,1])                              # (batch_size,2*#dim+2,1)\n",
        "    out_dec, out_hid, out_cell = self.couche_LSTM(z_tilda)                    # out_dec et out_cell : (batch_size,#LSTM)\n",
        "    z_tilda = tf.transpose(z_tilda,perm=[0,2,1])                              # (batch_size,1,2*#dim+2)\n",
        "\n",
        "    return out_hid, out_cell\n"
      ],
      "execution_count": 23,
      "outputs": []
    },
    {
      "cell_type": "markdown",
      "metadata": {
        "id": "qLuRur14AWxz"
      },
      "source": [
        "**3. Création de la couche d'attention du décodeur**"
      ]
    },
    {
      "cell_type": "markdown",
      "metadata": {
        "id": "7-_zhkmaDucJ"
      },
      "source": [
        "<img src='https://github.com/AlexandreBourrieau/FICHIERS/blob/main/Series_Temporelles/Seq2SeqMulti/images/CalculScoreDecodeur3.png?raw=true'>"
      ]
    },
    {
      "cell_type": "markdown",
      "metadata": {
        "id": "LyjAVbSbAama"
      },
      "source": [
        "On commence par créer la couche de calcul du score du décodeur.  \n",
        "Cette fonction calcule le score du décodeur, c'est-à-dire le score à attribuer à chaque hidden-state en sortie de l'encodeur.  \n",
        "Cette fonction est appellée par la couche d'attention temporelle du décodeur à l'aide de la méthode TimeDistribued de Keras."
      ]
    },
    {
      "cell_type": "markdown",
      "metadata": {
        "id": "FPqAY_fBByOC"
      },
      "source": [
        "<img src='https://github.com/AlexandreBourrieau/FICHIERS/blob/main/Series_Temporelles/Seq2SeqMulti/images/CalculScoreDecodeur4.png?raw=true'>"
      ]
    },
    {
      "cell_type": "code",
      "metadata": {
        "id": "ohWFJ93YCc9i"
      },
      "source": [
        "class CalculScores_Decodeur(tf.keras.layers.Layer):\n",
        "  def __init__(self,dim_LSTM):\n",
        "    self.dim_LSTM = dim_LSTM            # Dimension des vecteurs cachés\n",
        "    super().__init__()                  # Appel du __init__() de la classe Layer\n",
        "  \n",
        "  def build(self,input_shape):\n",
        "    self.Wd = self.add_weight(shape=(self.dim_LSTM,2*self.dim_LSTM),initializer=\"normal\",name=\"Wd\")     # (#LSTM, 2x#LSTM)\n",
        "    self.Ud = self.add_weight(shape=(self.dim_LSTM,self.dim_LSTM),initializer=\"normal\",name=\"Ud\")       # (#LSTM, #LSTM)\n",
        "    self.bd = self.add_weight(shape=(self.dim_LSTM,1),initializer=\"normal\",name=\"bd\")                   # (#LSTM, 1)\n",
        "    self.vd = self.add_weight(shape=(self.dim_LSTM,1),initializer=\"normal\",name=\"vd\")                   # (#LSTM, 1)\n",
        "    super().build(input_shape)        # Appel de la méthode build()\n",
        "\n",
        "  def compute_output_shape(self, input_shape):\n",
        "    return (input_shape[0], 1)\n",
        "\n",
        "\n",
        "  #     hidd_state:     hidden_state        : (batch_size,#LSTM)\n",
        "  #     cell_state:     Cell state          : (batch_size,#LSTM)\n",
        "  def SetStates(self,hidd_state, cell_state):\n",
        "    self.hidd_state = hidd_state\n",
        "    self.cell_state = cell_state\n",
        "\n",
        "  # Entrées :\n",
        "  #     input:        Entrée score décodeur : (batch_size,#LSTM)\n",
        "  # Sorties :\n",
        "  #     score:        score                 : (batch_size,1)\n",
        "  def call(self,input):\n",
        "    input = tf.expand_dims(input,-1)\n",
        "    if self.hidd_state is not None:\n",
        "        hs = tf.keras.layers.concatenate([self.hidd_state,self.cell_state],axis=1)        # (batch_size,2x#LSTM)\n",
        "        hs = tf.expand_dims(hs,-1)                                              # (batch_size,2x#LSTM) => (batch_size,2#LSTM,1)\n",
        "        e = tf.matmul(self.Wd,hs)                                               # (#LSTM,2x#LSTM)x(batch_size,2x#LSTM,1) = (batch_size,#LSTM,1)\n",
        "        e = e + tf.matmul(self.Ud,input)                                        # (#LSTM,#LSTM)x(batch_size,#LSTM,1) = (batch_size,#LSTM,1)\n",
        "        e = e + self.bd                                                         # (batch_size,#LSTM,1)\n",
        "    else:\n",
        "        e = tf.matmul(self.Ud,input)                                            # (#LSTM,#LSTM)x(batch_size,#LSTM,1) = (batch_size,#LSTM,1)\n",
        "        e = e + self.bd                                                         # (batch_size,#LSTM,1)\n",
        "    e = K.tanh(e)\n",
        "    score = tf.matmul(tf.transpose(self.vd),e)                                  # (1,#LSTM)x(batch_size,#LSTM,1) = (batch_size,1,1)\n",
        "    score = tf.squeeze(score,-1)                                                # (batch_size,1)\n",
        "    return score"
      ],
      "execution_count": 24,
      "outputs": []
    },
    {
      "cell_type": "markdown",
      "metadata": {
        "id": "4BeYO8p6DZ6b"
      },
      "source": [
        "Puis maintenant la couche d'attention :"
      ]
    },
    {
      "cell_type": "markdown",
      "metadata": {
        "id": "diFuNNIpEf6i"
      },
      "source": [
        "<img src='https://github.com/AlexandreBourrieau/FICHIERS/blob/main/Series_Temporelles/Seq2SeqMulti/images/CalculScoreDecodeur5.png?raw=true'>"
      ]
    },
    {
      "cell_type": "code",
      "metadata": {
        "id": "2v5qRdB9DpJC"
      },
      "source": [
        "class CalculAttention_Decodeur(tf.keras.layers.Layer):\n",
        "  def __init__(self, dim_LSTM):\n",
        "    self.dim_LSTM = dim_LSTM          # Dimension des vecteurs cachés\n",
        "    super().__init__()                # Appel du __init__() de la classe Layer\n",
        "  \n",
        "  def build(self,input_shape):\n",
        "    self.couche_CalculScores_Decodeur = CalculScores_Decodeur(dim_LSTM=self.dim_LSTM)\n",
        "    super().build(input_shape)        # Appel de la méthode build()\n",
        "\n",
        "  #     hidd_state:     hidden_state        : (batch_size,#LSTM)\n",
        "  #     cell_state:     Cell state          : (batch_size,#LSTM)\n",
        "  def SetStates(self,hidd_state, cell_state):\n",
        "    self.hidd_state = hidd_state\n",
        "    self.cell_state = cell_state\n",
        "\n",
        "  # Entrées :\n",
        "  #     input:          Entrées X           : (batch_size,Tin,#LSTM)\n",
        "  # Sorties :\n",
        "  #     vect_contexte   Vecteur Contexte    : (batch_size,1,#LSTM)\n",
        "  def call(self, input):\n",
        "    # Calcul des scores\n",
        "    self.couche_CalculScores_Decodeur.SetStates(self.hidd_state,self.cell_state)\n",
        "    g = tf.keras.layers.TimeDistributed(\n",
        "        self.couche_CalculScores_Decodeur)(input)                             # (batch_size,Tin,#LSTM) : Timestep=Tin\n",
        "                                                                              # (batch_size,#LSTM) envoyé Tin fois en //\n",
        "                                                                              # (batch_size,Tin,1) retourné\n",
        "    # Normalisation des scores gama\n",
        "    g = tf.keras.activations.softmax(g,axis=1)                                # (batch_size,Tin,1)\n",
        "\n",
        "    # Calcul du vecteur contexte\n",
        "    C = tf.multiply(input,g)        # (batch_size,Tin,#LSTM)_x_(batch_size,Tin,1) = (batch_size,Tin,#LSTM)\n",
        "    C = K.sum(C,axis=1)             # (batch_size,#LSTM)\n",
        "    C = tf.expand_dims(C,1)         # (batch_size,1,#LSTM)\n",
        "    return C\n"
      ],
      "execution_count": 25,
      "outputs": []
    },
    {
      "cell_type": "markdown",
      "metadata": {
        "id": "Xbk9Nbn8EvEx"
      },
      "source": [
        "**4. Création de la couche de décodeur**"
      ]
    },
    {
      "cell_type": "markdown",
      "metadata": {
        "id": "L72CzheDExup"
      },
      "source": [
        "<img src='https://github.com/AlexandreBourrieau/FICHIERS/blob/main/Series_Temporelles/Seq2SeqMulti/images/CoucheDecodeurAll.png?raw=true'>"
      ]
    },
    {
      "cell_type": "code",
      "metadata": {
        "id": "1tJnICP9FStv"
      },
      "source": [
        "class Decodeur(tf.keras.layers.Layer):\n",
        "  def __init__(self,dim_LSTM, regul=0.0, drop=0.0):\n",
        "    self.regul = regul\n",
        "    self.dim_LSTM = dim_LSTM            # Dimension des vecteurs cachés\n",
        "    self.drop = drop\n",
        "    super().__init__()                # Appel du __init__() de la classe Layer\n",
        "  \n",
        "  def build(self,input_shape):\n",
        "    self.couche_Attention_Decodeur = CalculAttention_Decodeur(dim_LSTM=self.dim_LSTM)\n",
        "    self.couche_LSTM = tf.keras.layers.LSTM(self.dim_LSTM,kernel_regularizer=tf.keras.regularizers.l2(self.regul),return_sequences=False,return_state=True,dropout=self.drop,recurrent_dropout=self.drop, name=\"LSTM_Decodeur\")\n",
        "    self.W = self.add_weight(shape=(self.dim_LSTM+1,1),initializer=\"normal\",name=\"W\")                   # (#LSTM+1, 1)\n",
        "    self.b = self.add_weight(shape=(1,1),initializer=\"normal\",name=\"b\")                                 # (1, 1)\n",
        "    super().build(input_shape)        # Appel de la méthode build()\n",
        "\n",
        "  # Entrées :\n",
        "  #     input:        Entrée décodeur       : (batch_size,Tin,#LSTM)\n",
        "  #     Y:            Yt                    : (batch_size,1,1)\n",
        "  #     hid_state:    hidden state          : (batch_size,#LSTM)\n",
        "  #     cell_state:   cell_state            : (batch_size,#LSTM)\n",
        "  # Sorties :\n",
        "  #     out_hid :     hidden_state          : (batch_size,#LSTM)\n",
        "  #     out_cell :    cell_state            : (batch_size,#LSTM)\n",
        "  #     v_contexte:   vecteur contexte      : (batch_size,#LSTM)\n",
        "  def call(self,input,Y,hid_state,cell_state):\n",
        "    # Calcul du vecteur contexte\n",
        "    self.couche_Attention_Decodeur.SetStates(hid_state,cell_state)\n",
        "    C = self.couche_Attention_Decodeur(input)           # (batch_size,1,#LSTM)\n",
        "\n",
        "    # Calcul de Y_tilda\n",
        "    add = tf.keras.layers.concatenate([Y,C],axis=2)     # (batch_size,1,#LSTM+1)\n",
        "    add = tf.transpose(add,perm=[0,2,1])                # (batch_size,#LSTM+1,1)\n",
        "    Y_tilda = tf.matmul(tf.transpose(self.W),add)       # (1,#LSTM+1) x (batch_size,#LSTM+1,1) = (batch_size,1,1)\n",
        "    Y_tilda = Y_tilda + self.b\n",
        "\n",
        "    # Calcul des hidden state et cell state\n",
        "    if hid_state is not None:\n",
        "      out_, out_hid, out_cell = self.couche_LSTM(Y_tilda,initial_state=[hid_state,cell_state])\n",
        "    else:\n",
        "      out_, out_hid, out_cell = self.couche_LSTM(Y_tilda)\n",
        "\n",
        "    return out_hid,out_cell, C"
      ],
      "execution_count": 26,
      "outputs": []
    },
    {
      "cell_type": "markdown",
      "metadata": {
        "id": "cJz4ghULFn6a"
      },
      "source": [
        "**5. Création de la structure complète**"
      ]
    },
    {
      "cell_type": "markdown",
      "metadata": {
        "id": "b8pXmw_bFxoJ"
      },
      "source": [
        "Il ne reste plus qu'à créer l'architecture complète et d'ajouter l'estimation de la sortie :"
      ]
    },
    {
      "cell_type": "markdown",
      "metadata": {
        "id": "E4qpMf0rFtsJ"
      },
      "source": [
        "<img src='https://github.com/AlexandreBourrieau/FICHIERS/blob/main/Series_Temporelles/Seq2SeqMulti/images/DSTPRNN-VueEnsemble.png?raw=true'>"
      ]
    },
    {
      "cell_type": "markdown",
      "metadata": {
        "id": "Pfqj7m9il6Em"
      },
      "source": [
        "<img src='https://github.com/AlexandreBourrieau/FICHIERS/blob/main/Series_Temporelles/Multi/images/DSTPII.png?raw=true'>"
      ]
    },
    {
      "cell_type": "code",
      "metadata": {
        "id": "cD5OoZc4K7SJ"
      },
      "source": [
        "class Net_DSTPRNNII(tf.keras.layers.Layer):\n",
        "  def __init__(self,encodeur_phase1_I, encodeur_phase1_II, encodeur_phase2,decodeur,longueur_sequence, longueur_sortie, dim_LSTM, regul=0.0, drop = 0.0):\n",
        "    self.encodeur_phase1_I = encodeur_phase1_I\n",
        "    self.encodeur_phase1_II = encodeur_phase1_II\n",
        "    self.encodeur_phase2 = encodeur_phase2\n",
        "    self.decodeur = decodeur\n",
        "    self.longueur_sequence = longueur_sequence\n",
        "    self.longueur_sortie = longueur_sortie\n",
        "    self.regul = regul\n",
        "    self.drop = drop\n",
        "    self.dim_LSTM = dim_LSTM\n",
        "    super().__init__()                # Appel du __init__() de la classe Layer\n",
        "  \n",
        "  def build(self,input_shape):\n",
        "    self.Wy = self.add_weight(shape=(self.longueur_sortie,self.dim_LSTM,2*self.dim_LSTM),initializer=\"normal\",name=\"Wy\")        # (longueur_sortie,#LSTM, 2x#LSTM)\n",
        "    self.by = self.add_weight(shape=(self.longueur_sortie,self.dim_LSTM,1),initializer=\"normal\",name=\"by\")                      # (longueur_sortie,#LSTM, 1)\n",
        "    self.vy = self.add_weight(shape=(self.longueur_sortie,self.dim_LSTM,1),initializer=\"normal\",name=\"vy\")                      # (longueur_sortie,#LSTM,1)\n",
        "    super().build(input_shape)        # Appel de la méthode build()\n",
        "\n",
        "  # Entrées :\n",
        "  #     input:          Entrées X           : (batch_size,Tin,#dim)\n",
        "  #     output_seq:     Sortie séquence Y   : (batch_size,Tin,1)\n",
        "  # Sorties :\n",
        "  #     sortie:         Prédiction Y        : (batch_size,longueur_sortie,1)\n",
        "  def call(self,input,output_seq):\n",
        "    # Phase n°1-I d'encodage\n",
        "    # Calcul les représentations spatiales pondérées\n",
        "    # des coupes temporelles des séries exogènes en entrée\n",
        "    # x_tilda_1\n",
        "    x_tilda_1 = []\n",
        "    hid_state = None\n",
        "    cell_state = None\n",
        "    for i in range(input.shape[1]):\n",
        "      hid_state, cell_state, x_t = self.encodeur_phase1_I(input,hid_state,cell_state,i)\n",
        "      x_t = tf.squeeze(x_t,1)                         # (batch_size,1,#dim) => (batch_size,#dim)\n",
        "      x_tilda_1.append(x_t)                           # (batch_size,#dim)\n",
        "    x_tilda_1 = tf.convert_to_tensor(x_tilda_1)       # (Tin,batch_size,#dim)\n",
        "    x_tilda_1 = tf.transpose(x_tilda_1,perm=[1,0,2])  # (batch_size,Tin,#dim)\n",
        "\n",
        "    # Phase n°1-II d'encodage\n",
        "    # Calcul les représentations spatiales pondérées\n",
        "    # des coupes temporelles des séries exogènes en entrée\n",
        "    # x_tilda_2\n",
        "    x_tilda_2 = []\n",
        "    hid_state = None\n",
        "    cell_state = None\n",
        "    for i in range(input.shape[1]):\n",
        "      hid_state, cell_state, x_t = self.encodeur_phase1_II(tf.keras.layers.concatenate([input,output_seq],axis=2),hid_state,cell_state,i)\n",
        "      x_t = tf.squeeze(x_t,1)                           # (batch_size,1,#dim+1) => (batch_size,#dim+1)\n",
        "      x_tilda_2.append(x_t)                             # (batch_size,#dim+1)\n",
        "    x_tilda_2 = tf.convert_to_tensor(x_tilda_2)         # (Tin,batch_size,#dim+1)\n",
        "    x_tilda_2 = tf.transpose(x_tilda_2,perm=[1,0,2])    # (batch_size,Tin,#dim+1)\n",
        "\n",
        "    # Concaténation des sorties des phases 1-II et de la série cible\n",
        "    Z2 = []\n",
        "    for i in range(input.shape[1]):\n",
        "      z = tf.keras.layers.concatenate([x_tilda_2[:,i,:],                  # (batch_size,#dim+1)\n",
        "                                       output_seq[:,i,:]]                 # (batch_size,1)\n",
        "                                      ,axis=1)                            # = (batch_size,#dim+2)\n",
        "      Z2.append(z)\n",
        "    Z2 = tf.convert_to_tensor(Z2)                   # (Tin,batch_size,#dim+2)\n",
        "    Z2 = tf.transpose(Z2,perm=[1,0,2])              # (batch_size,Tin,#dim+2)\n",
        "\n",
        "    # Concaténation des sorties des phases 1-I avec Z2\n",
        "    Z = tf.keras.layers.concatenate([x_tilda_1,Z2],axis=2)  # (batch_size,Tin,2*#dim+2)\n",
        "\n",
        "    # Phase n°2 d'encodage\n",
        "    # Création des représentations cachées des\n",
        "    # concaténations précédentes\n",
        "    hid = []\n",
        "    hid_state = None\n",
        "    cell_state = None\n",
        "    for i in range(input.shape[1]):\n",
        "      hid_state, cell_state = self.encodeur_phase2(Z,hid_state,cell_state,i)\n",
        "      hid.append(hid_state)\n",
        "    hid = tf.convert_to_tensor(hid)               # (Tin,batch_size,#LSTM)\n",
        "    hid = tf.transpose(hid,perm=[1,0,2])          # (batch_size,Tin,#LSTM)\n",
        "\n",
        "\n",
        "    # Phase de décodage\n",
        "    # Récupère les états cachés à (T-1)\n",
        "    hid_ = None\n",
        "    cell_ = None\n",
        "    for i in range(0,output_seq.shape[1]-1):\n",
        "      hid_, cell_, vc = self.decodeur(hid,output_seq[:,i:i+1,:],hid_,cell_)\n",
        "    \n",
        "    # hid_  : hT-1    : hidden state à t=T-1\n",
        "    # cell_ : sT-1    : cell state à t=T-1\n",
        "    # vc    : CT-1    : vecteur contexte à t=T-1\n",
        "    \n",
        "    # Estimation des sorties\n",
        "    # hid_ : (batch_size,#LSTM)\n",
        "    # vc   : (batch_size,1,#LSTM)\n",
        "    Y = []\n",
        "    y = tf.expand_dims(output_seq[:,-1,:],-1)        # y = YT : (batch_size,1,1)\n",
        "    \n",
        "    for i in range(0,self.longueur_sortie):\n",
        "      hid_, cell_, vc = self.decodeur(hid,y,hid_,cell_)\n",
        "      add = tf.keras.layers.concatenate([tf.expand_dims(hid_,1),vc],axis=2)         # (batch_size,1,2x#LSTM)\n",
        "      add = tf.transpose(add,perm=[0,2,1])                                          # (batch_size,2x#LSTM,1)\n",
        "      sortie = tf.matmul(self.Wy[i,:,:],add)                                      # (#LSTM,2x#LSTM) x (batch_size,2x#LSTM+1,1) = (batch_size,#LSTM,1)\n",
        "      sortie = sortie + self.by[i,:,:]                                            # (batch_size,#LSTM,1)\n",
        "      sortie = tf.matmul(tf.transpose(self.vy[i,:,:]),sortie)                     # (1,#LSTM)x(batch_size,#LSTM,1) = (batch_size,1,1)\n",
        "      y = sortie\n",
        "      Y.append(y)\n",
        "\n",
        "    Y = tf.convert_to_tensor(Y)           # Y = (longueur_sortie,batch_size,1,1)\n",
        "    Y = tf.transpose(Y,perm=[1,0,2,3])    # Y = (batch_size,longueur_sortie,1,1)\n",
        "    Y = tf.squeeze(Y,-1)                  # Y = (batch_size,longueur_sortie,1)\n",
        "    return Y"
      ],
      "execution_count": 27,
      "outputs": []
    },
    {
      "cell_type": "markdown",
      "metadata": {
        "id": "Nj12PHWgPTjD"
      },
      "source": [
        "**6. Création du modèle**"
      ]
    },
    {
      "cell_type": "code",
      "metadata": {
        "id": "QZ9tj9S2PWqM"
      },
      "source": [
        "dim_LSTM = 128\n",
        "drop=0.0\n",
        "l2reg=0.0\n",
        "\n",
        "def get_model():\n",
        "  entrees_sequences = tf.keras.layers.Input(shape=(longueur_sequence,x_train[0].shape[2]))\n",
        "  sorties_sequence = tf.keras.layers.Input(shape=(longueur_sequence,1))\n",
        "\n",
        "  encodeur_P1_I = Encodeur_Phase1(dim_LSTM=dim_LSTM,drop=drop,regul=l2reg)\n",
        "  encodeur_P1_II = Encodeur_Phase1(dim_LSTM=dim_LSTM,drop=drop,regul=l2reg)\n",
        "  encodeur_P2 = Encodeur_Phase2(dim_LSTM=dim_LSTM,drop=drop,regul=l2reg)\n",
        "  decodeur = Decodeur(dim_LSTM=dim_LSTM,drop=drop,regul=l2reg)\n",
        "\n",
        "  sortie = Net_DSTPRNNII(encodeur_P1_I,encodeur_P1_II,encodeur_P2,decodeur,longueur_sequence=longueur_sequence,longueur_sortie=longueur_sortie, dim_LSTM=dim_LSTM,regul=l2reg,drop=drop)(entrees_sequences,sorties_sequence)\n",
        "\n",
        "  model = tf.keras.Model([entrees_sequences,sorties_sequence],sortie)\n",
        "  return model"
      ],
      "execution_count": 28,
      "outputs": []
    },
    {
      "cell_type": "markdown",
      "metadata": {
        "id": "GZWHVAO0auHZ"
      },
      "source": [
        "# Entrainement avec TPU"
      ]
    },
    {
      "cell_type": "code",
      "metadata": {
        "id": "LkAWNR0jq-90",
        "outputId": "91d5067f-0872-43d2-8001-53afebee5918",
        "colab": {
          "base_uri": "https://localhost:8080/"
        }
      },
      "source": [
        "from google.colab import files\n",
        "\n",
        "max_periodes = 500\n",
        "\n",
        "strategy = tf.distribute.TPUStrategy(resolver)\n",
        "with strategy.scope():\n",
        "  # Création du modèle\n",
        "  model = get_model()\n",
        "\n",
        "  # Définition des paramètres liés à l'évolution du taux d'apprentissage\n",
        "  lr_schedule = tf.keras.optimizers.schedules.InverseTimeDecay(\n",
        "      initial_learning_rate=0.001,\n",
        "      decay_steps=50,\n",
        "      decay_rate=0.01)\n",
        "\n",
        "  optimiseur=tf.keras.optimizers.Adam(learning_rate=lr_schedule)\n",
        "#  optimiseur=tf.keras.optimizers.SGD(learning_rate=lr_schedule,momentum=0.9)\n",
        "\n",
        "  # Utilisation de la méthode ModelCheckPoint\n",
        "  CheckPoint = tf.keras.callbacks.ModelCheckpoint(\"poids_train.hdf5\", monitor='loss', verbose=1, save_best_only=True, save_weights_only = True, mode='auto', save_freq='epoch')\n",
        "\n",
        "  # Compile le modèle\n",
        "  model.compile(loss=\"mse\", optimizer=optimiseur, metrics=\"mse\")\n",
        "\n",
        "  # Entraine le modèle\n",
        "  historique = model.fit(x=[x_train[0],x_train[1]],y=y_train,validation_data=([x_val[0],x_val[1]],y_val), epochs=max_periodes,verbose=1, callbacks=[CheckPoint,tf.keras.callbacks.EarlyStopping(monitor='loss', patience=200)],batch_size=batch_size)\n",
        "\n",
        "files.download('poids_train.hdf5')"
      ],
      "execution_count": null,
      "outputs": [
        {
          "output_type": "stream",
          "text": [
            "INFO:tensorflow:Found TPU system:\n"
          ],
          "name": "stdout"
        },
        {
          "output_type": "stream",
          "text": [
            "INFO:tensorflow:Found TPU system:\n"
          ],
          "name": "stderr"
        },
        {
          "output_type": "stream",
          "text": [
            "INFO:tensorflow:*** Num TPU Cores: 8\n"
          ],
          "name": "stdout"
        },
        {
          "output_type": "stream",
          "text": [
            "INFO:tensorflow:*** Num TPU Cores: 8\n"
          ],
          "name": "stderr"
        },
        {
          "output_type": "stream",
          "text": [
            "INFO:tensorflow:*** Num TPU Workers: 1\n"
          ],
          "name": "stdout"
        },
        {
          "output_type": "stream",
          "text": [
            "INFO:tensorflow:*** Num TPU Workers: 1\n"
          ],
          "name": "stderr"
        },
        {
          "output_type": "stream",
          "text": [
            "INFO:tensorflow:*** Num TPU Cores Per Worker: 8\n"
          ],
          "name": "stdout"
        },
        {
          "output_type": "stream",
          "text": [
            "INFO:tensorflow:*** Num TPU Cores Per Worker: 8\n"
          ],
          "name": "stderr"
        },
        {
          "output_type": "stream",
          "text": [
            "INFO:tensorflow:*** Available Device: _DeviceAttributes(/job:localhost/replica:0/task:0/device:CPU:0, CPU, 0, 0)\n"
          ],
          "name": "stdout"
        },
        {
          "output_type": "stream",
          "text": [
            "INFO:tensorflow:*** Available Device: _DeviceAttributes(/job:localhost/replica:0/task:0/device:CPU:0, CPU, 0, 0)\n"
          ],
          "name": "stderr"
        },
        {
          "output_type": "stream",
          "text": [
            "INFO:tensorflow:*** Available Device: _DeviceAttributes(/job:worker/replica:0/task:0/device:CPU:0, CPU, 0, 0)\n"
          ],
          "name": "stdout"
        },
        {
          "output_type": "stream",
          "text": [
            "INFO:tensorflow:*** Available Device: _DeviceAttributes(/job:worker/replica:0/task:0/device:CPU:0, CPU, 0, 0)\n"
          ],
          "name": "stderr"
        },
        {
          "output_type": "stream",
          "text": [
            "INFO:tensorflow:*** Available Device: _DeviceAttributes(/job:worker/replica:0/task:0/device:TPU:0, TPU, 0, 0)\n"
          ],
          "name": "stdout"
        },
        {
          "output_type": "stream",
          "text": [
            "INFO:tensorflow:*** Available Device: _DeviceAttributes(/job:worker/replica:0/task:0/device:TPU:0, TPU, 0, 0)\n"
          ],
          "name": "stderr"
        },
        {
          "output_type": "stream",
          "text": [
            "INFO:tensorflow:*** Available Device: _DeviceAttributes(/job:worker/replica:0/task:0/device:TPU:1, TPU, 0, 0)\n"
          ],
          "name": "stdout"
        },
        {
          "output_type": "stream",
          "text": [
            "INFO:tensorflow:*** Available Device: _DeviceAttributes(/job:worker/replica:0/task:0/device:TPU:1, TPU, 0, 0)\n"
          ],
          "name": "stderr"
        },
        {
          "output_type": "stream",
          "text": [
            "INFO:tensorflow:*** Available Device: _DeviceAttributes(/job:worker/replica:0/task:0/device:TPU:2, TPU, 0, 0)\n"
          ],
          "name": "stdout"
        },
        {
          "output_type": "stream",
          "text": [
            "INFO:tensorflow:*** Available Device: _DeviceAttributes(/job:worker/replica:0/task:0/device:TPU:2, TPU, 0, 0)\n"
          ],
          "name": "stderr"
        },
        {
          "output_type": "stream",
          "text": [
            "INFO:tensorflow:*** Available Device: _DeviceAttributes(/job:worker/replica:0/task:0/device:TPU:3, TPU, 0, 0)\n"
          ],
          "name": "stdout"
        },
        {
          "output_type": "stream",
          "text": [
            "INFO:tensorflow:*** Available Device: _DeviceAttributes(/job:worker/replica:0/task:0/device:TPU:3, TPU, 0, 0)\n"
          ],
          "name": "stderr"
        },
        {
          "output_type": "stream",
          "text": [
            "INFO:tensorflow:*** Available Device: _DeviceAttributes(/job:worker/replica:0/task:0/device:TPU:4, TPU, 0, 0)\n"
          ],
          "name": "stdout"
        },
        {
          "output_type": "stream",
          "text": [
            "INFO:tensorflow:*** Available Device: _DeviceAttributes(/job:worker/replica:0/task:0/device:TPU:4, TPU, 0, 0)\n"
          ],
          "name": "stderr"
        },
        {
          "output_type": "stream",
          "text": [
            "INFO:tensorflow:*** Available Device: _DeviceAttributes(/job:worker/replica:0/task:0/device:TPU:5, TPU, 0, 0)\n"
          ],
          "name": "stdout"
        },
        {
          "output_type": "stream",
          "text": [
            "INFO:tensorflow:*** Available Device: _DeviceAttributes(/job:worker/replica:0/task:0/device:TPU:5, TPU, 0, 0)\n"
          ],
          "name": "stderr"
        },
        {
          "output_type": "stream",
          "text": [
            "INFO:tensorflow:*** Available Device: _DeviceAttributes(/job:worker/replica:0/task:0/device:TPU:6, TPU, 0, 0)\n"
          ],
          "name": "stdout"
        },
        {
          "output_type": "stream",
          "text": [
            "INFO:tensorflow:*** Available Device: _DeviceAttributes(/job:worker/replica:0/task:0/device:TPU:6, TPU, 0, 0)\n"
          ],
          "name": "stderr"
        },
        {
          "output_type": "stream",
          "text": [
            "INFO:tensorflow:*** Available Device: _DeviceAttributes(/job:worker/replica:0/task:0/device:TPU:7, TPU, 0, 0)\n"
          ],
          "name": "stdout"
        },
        {
          "output_type": "stream",
          "text": [
            "INFO:tensorflow:*** Available Device: _DeviceAttributes(/job:worker/replica:0/task:0/device:TPU:7, TPU, 0, 0)\n"
          ],
          "name": "stderr"
        },
        {
          "output_type": "stream",
          "text": [
            "INFO:tensorflow:*** Available Device: _DeviceAttributes(/job:worker/replica:0/task:0/device:TPU_SYSTEM:0, TPU_SYSTEM, 0, 0)\n"
          ],
          "name": "stdout"
        },
        {
          "output_type": "stream",
          "text": [
            "INFO:tensorflow:*** Available Device: _DeviceAttributes(/job:worker/replica:0/task:0/device:TPU_SYSTEM:0, TPU_SYSTEM, 0, 0)\n"
          ],
          "name": "stderr"
        },
        {
          "output_type": "stream",
          "text": [
            "INFO:tensorflow:*** Available Device: _DeviceAttributes(/job:worker/replica:0/task:0/device:XLA_CPU:0, XLA_CPU, 0, 0)\n"
          ],
          "name": "stdout"
        },
        {
          "output_type": "stream",
          "text": [
            "INFO:tensorflow:*** Available Device: _DeviceAttributes(/job:worker/replica:0/task:0/device:XLA_CPU:0, XLA_CPU, 0, 0)\n"
          ],
          "name": "stderr"
        },
        {
          "output_type": "stream",
          "text": [
            "Epoch 1/500\n",
            "17/17 [==============================] - 238s 3s/step - loss: 0.1487 - mse: 0.1487 - val_loss: 0.0729 - val_mse: 0.0729\n",
            "\n",
            "Epoch 00001: loss improved from inf to 0.14873, saving model to poids_train.hdf5\n",
            "Epoch 2/500\n",
            "17/17 [==============================] - 2s 101ms/step - loss: 0.0510 - mse: 0.0510 - val_loss: 0.0432 - val_mse: 0.0432\n",
            "\n",
            "Epoch 00002: loss improved from 0.14873 to 0.05099, saving model to poids_train.hdf5\n",
            "Epoch 3/500\n",
            "17/17 [==============================] - 2s 98ms/step - loss: 0.0453 - mse: 0.0453 - val_loss: 0.0372 - val_mse: 0.0372\n",
            "\n",
            "Epoch 00003: loss improved from 0.05099 to 0.04526, saving model to poids_train.hdf5\n",
            "Epoch 4/500\n",
            "17/17 [==============================] - 2s 99ms/step - loss: 0.0431 - mse: 0.0431 - val_loss: 0.0306 - val_mse: 0.0306\n",
            "\n",
            "Epoch 00004: loss improved from 0.04526 to 0.04312, saving model to poids_train.hdf5\n",
            "Epoch 5/500\n",
            "17/17 [==============================] - 2s 98ms/step - loss: 0.0394 - mse: 0.0394 - val_loss: 0.0252 - val_mse: 0.0252\n",
            "\n",
            "Epoch 00005: loss improved from 0.04312 to 0.03937, saving model to poids_train.hdf5\n",
            "Epoch 6/500\n",
            "17/17 [==============================] - 2s 98ms/step - loss: 0.0269 - mse: 0.0269 - val_loss: 0.0125 - val_mse: 0.0125\n",
            "\n",
            "Epoch 00006: loss improved from 0.03937 to 0.02688, saving model to poids_train.hdf5\n",
            "Epoch 7/500\n",
            "17/17 [==============================] - 2s 99ms/step - loss: 0.0153 - mse: 0.0153 - val_loss: 0.0080 - val_mse: 0.0080\n",
            "\n",
            "Epoch 00007: loss improved from 0.02688 to 0.01530, saving model to poids_train.hdf5\n",
            "Epoch 8/500\n",
            "17/17 [==============================] - 2s 100ms/step - loss: 0.0099 - mse: 0.0099 - val_loss: 0.0069 - val_mse: 0.0069\n",
            "\n",
            "Epoch 00008: loss improved from 0.01530 to 0.00993, saving model to poids_train.hdf5\n",
            "Epoch 9/500\n",
            "17/17 [==============================] - 2s 99ms/step - loss: 0.0081 - mse: 0.0081 - val_loss: 0.0063 - val_mse: 0.0063\n",
            "\n",
            "Epoch 00009: loss improved from 0.00993 to 0.00806, saving model to poids_train.hdf5\n",
            "Epoch 10/500\n",
            "17/17 [==============================] - 2s 98ms/step - loss: 0.0070 - mse: 0.0070 - val_loss: 0.0054 - val_mse: 0.0054\n",
            "\n",
            "Epoch 00010: loss improved from 0.00806 to 0.00698, saving model to poids_train.hdf5\n",
            "Epoch 11/500\n",
            "17/17 [==============================] - 2s 98ms/step - loss: 0.0062 - mse: 0.0062 - val_loss: 0.0049 - val_mse: 0.0049\n",
            "\n",
            "Epoch 00011: loss improved from 0.00698 to 0.00625, saving model to poids_train.hdf5\n",
            "Epoch 12/500\n",
            "17/17 [==============================] - 2s 100ms/step - loss: 0.0058 - mse: 0.0058 - val_loss: 0.0046 - val_mse: 0.0046\n",
            "\n",
            "Epoch 00012: loss improved from 0.00625 to 0.00582, saving model to poids_train.hdf5\n",
            "Epoch 13/500\n",
            "17/17 [==============================] - 2s 99ms/step - loss: 0.0055 - mse: 0.0055 - val_loss: 0.0043 - val_mse: 0.0043\n",
            "\n",
            "Epoch 00013: loss improved from 0.00582 to 0.00554, saving model to poids_train.hdf5\n",
            "Epoch 14/500\n",
            "17/17 [==============================] - 2s 98ms/step - loss: 0.0053 - mse: 0.0053 - val_loss: 0.0042 - val_mse: 0.0042\n",
            "\n",
            "Epoch 00014: loss improved from 0.00554 to 0.00531, saving model to poids_train.hdf5\n",
            "Epoch 15/500\n",
            "17/17 [==============================] - 2s 97ms/step - loss: 0.0052 - mse: 0.0052 - val_loss: 0.0041 - val_mse: 0.0041\n",
            "\n",
            "Epoch 00015: loss improved from 0.00531 to 0.00518, saving model to poids_train.hdf5\n",
            "Epoch 16/500\n",
            "17/17 [==============================] - 2s 99ms/step - loss: 0.0051 - mse: 0.0051 - val_loss: 0.0044 - val_mse: 0.0044\n",
            "\n",
            "Epoch 00016: loss improved from 0.00518 to 0.00512, saving model to poids_train.hdf5\n",
            "Epoch 17/500\n",
            "17/17 [==============================] - 2s 98ms/step - loss: 0.0050 - mse: 0.0050 - val_loss: 0.0039 - val_mse: 0.0039\n",
            "\n",
            "Epoch 00017: loss improved from 0.00512 to 0.00501, saving model to poids_train.hdf5\n",
            "Epoch 18/500\n",
            "17/17 [==============================] - 2s 98ms/step - loss: 0.0050 - mse: 0.0050 - val_loss: 0.0039 - val_mse: 0.0039\n",
            "\n",
            "Epoch 00018: loss improved from 0.00501 to 0.00496, saving model to poids_train.hdf5\n",
            "Epoch 19/500\n",
            "17/17 [==============================] - 2s 98ms/step - loss: 0.0049 - mse: 0.0049 - val_loss: 0.0038 - val_mse: 0.0038\n",
            "\n",
            "Epoch 00019: loss improved from 0.00496 to 0.00491, saving model to poids_train.hdf5\n",
            "Epoch 20/500\n",
            "17/17 [==============================] - 2s 98ms/step - loss: 0.0048 - mse: 0.0048 - val_loss: 0.0038 - val_mse: 0.0038\n",
            "\n",
            "Epoch 00020: loss improved from 0.00491 to 0.00484, saving model to poids_train.hdf5\n",
            "Epoch 21/500\n",
            "17/17 [==============================] - 2s 98ms/step - loss: 0.0049 - mse: 0.0049 - val_loss: 0.0040 - val_mse: 0.0040\n",
            "\n",
            "Epoch 00021: loss did not improve from 0.00484\n",
            "Epoch 22/500\n",
            "17/17 [==============================] - 2s 98ms/step - loss: 0.0047 - mse: 0.0047 - val_loss: 0.0036 - val_mse: 0.0036\n",
            "\n",
            "Epoch 00022: loss improved from 0.00484 to 0.00466, saving model to poids_train.hdf5\n",
            "Epoch 23/500\n",
            "17/17 [==============================] - 2s 98ms/step - loss: 0.0045 - mse: 0.0045 - val_loss: 0.0035 - val_mse: 0.0035\n",
            "\n",
            "Epoch 00023: loss improved from 0.00466 to 0.00446, saving model to poids_train.hdf5\n",
            "Epoch 24/500\n",
            "17/17 [==============================] - 2s 99ms/step - loss: 0.0042 - mse: 0.0042 - val_loss: 0.0031 - val_mse: 0.0031\n",
            "\n",
            "Epoch 00024: loss improved from 0.00446 to 0.00420, saving model to poids_train.hdf5\n",
            "Epoch 25/500\n",
            "17/17 [==============================] - 2s 99ms/step - loss: 0.0037 - mse: 0.0037 - val_loss: 0.0025 - val_mse: 0.0025\n",
            "\n",
            "Epoch 00025: loss improved from 0.00420 to 0.00371, saving model to poids_train.hdf5\n",
            "Epoch 26/500\n",
            "17/17 [==============================] - 2s 99ms/step - loss: 0.0031 - mse: 0.0031 - val_loss: 0.0021 - val_mse: 0.0021\n",
            "\n",
            "Epoch 00026: loss improved from 0.00371 to 0.00311, saving model to poids_train.hdf5\n",
            "Epoch 27/500\n",
            "17/17 [==============================] - 2s 98ms/step - loss: 0.0026 - mse: 0.0026 - val_loss: 0.0016 - val_mse: 0.0016\n",
            "\n",
            "Epoch 00027: loss improved from 0.00311 to 0.00259, saving model to poids_train.hdf5\n",
            "Epoch 28/500\n",
            "17/17 [==============================] - 2s 99ms/step - loss: 0.0021 - mse: 0.0021 - val_loss: 0.0013 - val_mse: 0.0013\n",
            "\n",
            "Epoch 00028: loss improved from 0.00259 to 0.00212, saving model to poids_train.hdf5\n",
            "Epoch 29/500\n",
            "17/17 [==============================] - 2s 98ms/step - loss: 0.0018 - mse: 0.0018 - val_loss: 9.8604e-04 - val_mse: 9.8604e-04\n",
            "\n",
            "Epoch 00029: loss improved from 0.00212 to 0.00178, saving model to poids_train.hdf5\n",
            "Epoch 30/500\n",
            "17/17 [==============================] - 2s 99ms/step - loss: 0.0015 - mse: 0.0015 - val_loss: 8.4716e-04 - val_mse: 8.4716e-04\n",
            "\n",
            "Epoch 00030: loss improved from 0.00178 to 0.00154, saving model to poids_train.hdf5\n",
            "Epoch 31/500\n",
            "17/17 [==============================] - 2s 98ms/step - loss: 0.0014 - mse: 0.0014 - val_loss: 8.2583e-04 - val_mse: 8.2583e-04\n",
            "\n",
            "Epoch 00031: loss improved from 0.00154 to 0.00141, saving model to poids_train.hdf5\n",
            "Epoch 32/500\n",
            "17/17 [==============================] - 2s 98ms/step - loss: 0.0013 - mse: 0.0013 - val_loss: 7.4667e-04 - val_mse: 7.4667e-04\n",
            "\n",
            "Epoch 00032: loss improved from 0.00141 to 0.00129, saving model to poids_train.hdf5\n",
            "Epoch 33/500\n",
            "17/17 [==============================] - 2s 98ms/step - loss: 0.0012 - mse: 0.0012 - val_loss: 6.7015e-04 - val_mse: 6.7015e-04\n",
            "\n",
            "Epoch 00033: loss improved from 0.00129 to 0.00122, saving model to poids_train.hdf5\n",
            "Epoch 34/500\n",
            "17/17 [==============================] - 2s 99ms/step - loss: 0.0012 - mse: 0.0012 - val_loss: 6.1200e-04 - val_mse: 6.1200e-04\n",
            "\n",
            "Epoch 00034: loss improved from 0.00122 to 0.00115, saving model to poids_train.hdf5\n",
            "Epoch 35/500\n",
            "17/17 [==============================] - 2s 98ms/step - loss: 0.0011 - mse: 0.0011 - val_loss: 7.2035e-04 - val_mse: 7.2035e-04\n",
            "\n",
            "Epoch 00035: loss improved from 0.00115 to 0.00112, saving model to poids_train.hdf5\n",
            "Epoch 36/500\n",
            "17/17 [==============================] - 2s 101ms/step - loss: 0.0011 - mse: 0.0011 - val_loss: 5.9034e-04 - val_mse: 5.9034e-04\n",
            "\n",
            "Epoch 00036: loss improved from 0.00112 to 0.00110, saving model to poids_train.hdf5\n",
            "Epoch 37/500\n",
            "17/17 [==============================] - 2s 98ms/step - loss: 0.0011 - mse: 0.0011 - val_loss: 6.2048e-04 - val_mse: 6.2048e-04\n",
            "\n",
            "Epoch 00037: loss improved from 0.00110 to 0.00106, saving model to poids_train.hdf5\n",
            "Epoch 38/500\n",
            "17/17 [==============================] - 2s 99ms/step - loss: 0.0011 - mse: 0.0011 - val_loss: 5.7479e-04 - val_mse: 5.7479e-04\n",
            "\n",
            "Epoch 00038: loss improved from 0.00106 to 0.00106, saving model to poids_train.hdf5\n",
            "Epoch 39/500\n",
            "17/17 [==============================] - 2s 98ms/step - loss: 0.0010 - mse: 0.0010 - val_loss: 5.8097e-04 - val_mse: 5.8097e-04\n",
            "\n",
            "Epoch 00039: loss improved from 0.00106 to 0.00104, saving model to poids_train.hdf5\n",
            "Epoch 40/500\n",
            "17/17 [==============================] - 2s 99ms/step - loss: 0.0010 - mse: 0.0010 - val_loss: 5.5792e-04 - val_mse: 5.5792e-04\n",
            "\n",
            "Epoch 00040: loss improved from 0.00104 to 0.00102, saving model to poids_train.hdf5\n",
            "Epoch 41/500\n",
            "17/17 [==============================] - 2s 103ms/step - loss: 0.0010 - mse: 0.0010 - val_loss: 5.4903e-04 - val_mse: 5.4903e-04\n",
            "\n",
            "Epoch 00041: loss improved from 0.00102 to 0.00102, saving model to poids_train.hdf5\n",
            "Epoch 42/500\n",
            "17/17 [==============================] - 2s 100ms/step - loss: 9.8015e-04 - mse: 9.8015e-04 - val_loss: 5.4553e-04 - val_mse: 5.4553e-04\n",
            "\n",
            "Epoch 00042: loss improved from 0.00102 to 0.00098, saving model to poids_train.hdf5\n",
            "Epoch 43/500\n",
            "17/17 [==============================] - 2s 99ms/step - loss: 9.6881e-04 - mse: 9.6881e-04 - val_loss: 5.3852e-04 - val_mse: 5.3852e-04\n",
            "\n",
            "Epoch 00043: loss improved from 0.00098 to 0.00097, saving model to poids_train.hdf5\n",
            "Epoch 44/500\n",
            "17/17 [==============================] - 2s 99ms/step - loss: 9.5483e-04 - mse: 9.5483e-04 - val_loss: 5.2707e-04 - val_mse: 5.2707e-04\n",
            "\n",
            "Epoch 00044: loss improved from 0.00097 to 0.00095, saving model to poids_train.hdf5\n",
            "Epoch 45/500\n",
            "17/17 [==============================] - 2s 100ms/step - loss: 9.5651e-04 - mse: 9.5651e-04 - val_loss: 5.3054e-04 - val_mse: 5.3054e-04\n",
            "\n",
            "Epoch 00045: loss did not improve from 0.00095\n",
            "Epoch 46/500\n",
            "17/17 [==============================] - 2s 101ms/step - loss: 9.4008e-04 - mse: 9.4008e-04 - val_loss: 5.3798e-04 - val_mse: 5.3798e-04\n",
            "\n",
            "Epoch 00046: loss improved from 0.00095 to 0.00094, saving model to poids_train.hdf5\n",
            "Epoch 47/500\n",
            "17/17 [==============================] - 2s 98ms/step - loss: 9.2942e-04 - mse: 9.2942e-04 - val_loss: 5.0690e-04 - val_mse: 5.0690e-04\n",
            "\n",
            "Epoch 00047: loss improved from 0.00094 to 0.00093, saving model to poids_train.hdf5\n",
            "Epoch 48/500\n",
            "17/17 [==============================] - 2s 98ms/step - loss: 9.0949e-04 - mse: 9.0949e-04 - val_loss: 5.8112e-04 - val_mse: 5.8112e-04\n",
            "\n",
            "Epoch 00048: loss improved from 0.00093 to 0.00091, saving model to poids_train.hdf5\n",
            "Epoch 49/500\n",
            "17/17 [==============================] - 2s 97ms/step - loss: 9.0956e-04 - mse: 9.0956e-04 - val_loss: 5.0093e-04 - val_mse: 5.0093e-04\n",
            "\n",
            "Epoch 00049: loss did not improve from 0.00091\n",
            "Epoch 50/500\n",
            "17/17 [==============================] - 2s 98ms/step - loss: 8.9171e-04 - mse: 8.9171e-04 - val_loss: 5.1800e-04 - val_mse: 5.1800e-04\n",
            "\n",
            "Epoch 00050: loss improved from 0.00091 to 0.00089, saving model to poids_train.hdf5\n",
            "Epoch 51/500\n",
            "17/17 [==============================] - 2s 98ms/step - loss: 9.0313e-04 - mse: 9.0313e-04 - val_loss: 4.9499e-04 - val_mse: 4.9499e-04\n",
            "\n",
            "Epoch 00051: loss did not improve from 0.00089\n",
            "Epoch 52/500\n",
            "17/17 [==============================] - 2s 98ms/step - loss: 8.8020e-04 - mse: 8.8020e-04 - val_loss: 5.3558e-04 - val_mse: 5.3558e-04\n",
            "\n",
            "Epoch 00052: loss improved from 0.00089 to 0.00088, saving model to poids_train.hdf5\n",
            "Epoch 53/500\n",
            "17/17 [==============================] - 2s 98ms/step - loss: 8.6725e-04 - mse: 8.6725e-04 - val_loss: 5.3284e-04 - val_mse: 5.3284e-04\n",
            "\n",
            "Epoch 00053: loss improved from 0.00088 to 0.00087, saving model to poids_train.hdf5\n",
            "Epoch 54/500\n",
            "17/17 [==============================] - 2s 99ms/step - loss: 8.4858e-04 - mse: 8.4858e-04 - val_loss: 4.8758e-04 - val_mse: 4.8758e-04\n",
            "\n",
            "Epoch 00054: loss improved from 0.00087 to 0.00085, saving model to poids_train.hdf5\n",
            "Epoch 55/500\n",
            "17/17 [==============================] - 2s 99ms/step - loss: 8.3349e-04 - mse: 8.3349e-04 - val_loss: 4.5133e-04 - val_mse: 4.5133e-04\n",
            "\n",
            "Epoch 00055: loss improved from 0.00085 to 0.00083, saving model to poids_train.hdf5\n",
            "Epoch 56/500\n",
            "17/17 [==============================] - 2s 99ms/step - loss: 8.3380e-04 - mse: 8.3380e-04 - val_loss: 4.6276e-04 - val_mse: 4.6276e-04\n",
            "\n",
            "Epoch 00056: loss did not improve from 0.00083\n",
            "Epoch 57/500\n",
            "17/17 [==============================] - 2s 98ms/step - loss: 8.1580e-04 - mse: 8.1580e-04 - val_loss: 4.3730e-04 - val_mse: 4.3730e-04\n",
            "\n",
            "Epoch 00057: loss improved from 0.00083 to 0.00082, saving model to poids_train.hdf5\n",
            "Epoch 58/500\n",
            "17/17 [==============================] - 2s 99ms/step - loss: 8.1988e-04 - mse: 8.1988e-04 - val_loss: 4.7029e-04 - val_mse: 4.7029e-04\n",
            "\n",
            "Epoch 00058: loss did not improve from 0.00082\n",
            "Epoch 59/500\n",
            "17/17 [==============================] - 2s 99ms/step - loss: 8.1524e-04 - mse: 8.1524e-04 - val_loss: 4.4340e-04 - val_mse: 4.4340e-04\n",
            "\n",
            "Epoch 00059: loss improved from 0.00082 to 0.00082, saving model to poids_train.hdf5\n",
            "Epoch 60/500\n",
            "17/17 [==============================] - 2s 98ms/step - loss: 7.9176e-04 - mse: 7.9176e-04 - val_loss: 4.2264e-04 - val_mse: 4.2264e-04\n",
            "\n",
            "Epoch 00060: loss improved from 0.00082 to 0.00079, saving model to poids_train.hdf5\n",
            "Epoch 61/500\n",
            "17/17 [==============================] - 2s 99ms/step - loss: 7.9689e-04 - mse: 7.9689e-04 - val_loss: 5.0364e-04 - val_mse: 5.0364e-04\n",
            "\n",
            "Epoch 00061: loss did not improve from 0.00079\n",
            "Epoch 62/500\n",
            "17/17 [==============================] - 2s 99ms/step - loss: 7.9694e-04 - mse: 7.9694e-04 - val_loss: 5.0279e-04 - val_mse: 5.0279e-04\n",
            "\n",
            "Epoch 00062: loss did not improve from 0.00079\n",
            "Epoch 63/500\n",
            "17/17 [==============================] - 2s 98ms/step - loss: 7.9402e-04 - mse: 7.9402e-04 - val_loss: 4.2110e-04 - val_mse: 4.2110e-04\n",
            "\n",
            "Epoch 00063: loss did not improve from 0.00079\n",
            "Epoch 64/500\n",
            "17/17 [==============================] - 2s 98ms/step - loss: 7.6161e-04 - mse: 7.6161e-04 - val_loss: 4.6099e-04 - val_mse: 4.6099e-04\n",
            "\n",
            "Epoch 00064: loss improved from 0.00079 to 0.00076, saving model to poids_train.hdf5\n",
            "Epoch 65/500\n",
            "17/17 [==============================] - 2s 99ms/step - loss: 7.7044e-04 - mse: 7.7044e-04 - val_loss: 4.0526e-04 - val_mse: 4.0526e-04\n",
            "\n",
            "Epoch 00065: loss did not improve from 0.00076\n",
            "Epoch 66/500\n",
            "17/17 [==============================] - 2s 100ms/step - loss: 7.4921e-04 - mse: 7.4921e-04 - val_loss: 4.3844e-04 - val_mse: 4.3844e-04\n",
            "\n",
            "Epoch 00066: loss improved from 0.00076 to 0.00075, saving model to poids_train.hdf5\n",
            "Epoch 67/500\n",
            "17/17 [==============================] - 2s 98ms/step - loss: 7.4830e-04 - mse: 7.4830e-04 - val_loss: 3.8329e-04 - val_mse: 3.8329e-04\n",
            "\n",
            "Epoch 00067: loss improved from 0.00075 to 0.00075, saving model to poids_train.hdf5\n",
            "Epoch 68/500\n",
            "17/17 [==============================] - 2s 98ms/step - loss: 7.3046e-04 - mse: 7.3046e-04 - val_loss: 3.9736e-04 - val_mse: 3.9736e-04\n",
            "\n",
            "Epoch 00068: loss improved from 0.00075 to 0.00073, saving model to poids_train.hdf5\n",
            "Epoch 69/500\n",
            "17/17 [==============================] - 2s 98ms/step - loss: 7.1598e-04 - mse: 7.1598e-04 - val_loss: 3.8637e-04 - val_mse: 3.8637e-04\n",
            "\n",
            "Epoch 00069: loss improved from 0.00073 to 0.00072, saving model to poids_train.hdf5\n",
            "Epoch 70/500\n",
            "17/17 [==============================] - 2s 98ms/step - loss: 7.1016e-04 - mse: 7.1016e-04 - val_loss: 3.7854e-04 - val_mse: 3.7854e-04\n",
            "\n",
            "Epoch 00070: loss improved from 0.00072 to 0.00071, saving model to poids_train.hdf5\n",
            "Epoch 71/500\n",
            "17/17 [==============================] - 2s 99ms/step - loss: 6.9522e-04 - mse: 6.9522e-04 - val_loss: 3.7022e-04 - val_mse: 3.7022e-04\n",
            "\n",
            "Epoch 00071: loss improved from 0.00071 to 0.00070, saving model to poids_train.hdf5\n",
            "Epoch 72/500\n",
            "17/17 [==============================] - 2s 99ms/step - loss: 6.9425e-04 - mse: 6.9425e-04 - val_loss: 3.8388e-04 - val_mse: 3.8388e-04\n",
            "\n",
            "Epoch 00072: loss improved from 0.00070 to 0.00069, saving model to poids_train.hdf5\n",
            "Epoch 73/500\n",
            "17/17 [==============================] - 2s 99ms/step - loss: 6.8849e-04 - mse: 6.8849e-04 - val_loss: 3.7685e-04 - val_mse: 3.7685e-04\n",
            "\n",
            "Epoch 00073: loss improved from 0.00069 to 0.00069, saving model to poids_train.hdf5\n",
            "Epoch 74/500\n",
            "17/17 [==============================] - 2s 98ms/step - loss: 6.8179e-04 - mse: 6.8179e-04 - val_loss: 3.7398e-04 - val_mse: 3.7398e-04\n",
            "\n",
            "Epoch 00074: loss improved from 0.00069 to 0.00068, saving model to poids_train.hdf5\n",
            "Epoch 75/500\n",
            "17/17 [==============================] - 2s 98ms/step - loss: 6.7473e-04 - mse: 6.7473e-04 - val_loss: 3.6376e-04 - val_mse: 3.6376e-04\n",
            "\n",
            "Epoch 00075: loss improved from 0.00068 to 0.00067, saving model to poids_train.hdf5\n",
            "Epoch 76/500\n",
            "17/17 [==============================] - 2s 98ms/step - loss: 6.6289e-04 - mse: 6.6289e-04 - val_loss: 3.7268e-04 - val_mse: 3.7268e-04\n",
            "\n",
            "Epoch 00076: loss improved from 0.00067 to 0.00066, saving model to poids_train.hdf5\n",
            "Epoch 77/500\n",
            "17/17 [==============================] - 2s 98ms/step - loss: 6.6581e-04 - mse: 6.6581e-04 - val_loss: 3.3910e-04 - val_mse: 3.3910e-04\n",
            "\n",
            "Epoch 00077: loss did not improve from 0.00066\n",
            "Epoch 78/500\n",
            "17/17 [==============================] - 2s 98ms/step - loss: 6.5836e-04 - mse: 6.5836e-04 - val_loss: 3.6180e-04 - val_mse: 3.6180e-04\n",
            "\n",
            "Epoch 00078: loss improved from 0.00066 to 0.00066, saving model to poids_train.hdf5\n",
            "Epoch 79/500\n",
            "17/17 [==============================] - 2s 98ms/step - loss: 6.4104e-04 - mse: 6.4104e-04 - val_loss: 3.4723e-04 - val_mse: 3.4723e-04\n",
            "\n",
            "Epoch 00079: loss improved from 0.00066 to 0.00064, saving model to poids_train.hdf5\n",
            "Epoch 80/500\n",
            "17/17 [==============================] - 2s 98ms/step - loss: 6.4343e-04 - mse: 6.4343e-04 - val_loss: 3.3785e-04 - val_mse: 3.3785e-04\n",
            "\n",
            "Epoch 00080: loss did not improve from 0.00064\n",
            "Epoch 81/500\n",
            "17/17 [==============================] - 2s 98ms/step - loss: 6.3117e-04 - mse: 6.3117e-04 - val_loss: 3.2588e-04 - val_mse: 3.2588e-04\n",
            "\n",
            "Epoch 00081: loss improved from 0.00064 to 0.00063, saving model to poids_train.hdf5\n",
            "Epoch 82/500\n",
            "17/17 [==============================] - 2s 98ms/step - loss: 6.2955e-04 - mse: 6.2955e-04 - val_loss: 3.3366e-04 - val_mse: 3.3366e-04\n",
            "\n",
            "Epoch 00082: loss improved from 0.00063 to 0.00063, saving model to poids_train.hdf5\n",
            "Epoch 83/500\n",
            "17/17 [==============================] - 2s 99ms/step - loss: 6.1760e-04 - mse: 6.1760e-04 - val_loss: 3.1935e-04 - val_mse: 3.1935e-04\n",
            "\n",
            "Epoch 00083: loss improved from 0.00063 to 0.00062, saving model to poids_train.hdf5\n",
            "Epoch 84/500\n",
            "17/17 [==============================] - 2s 98ms/step - loss: 6.0933e-04 - mse: 6.0933e-04 - val_loss: 3.1555e-04 - val_mse: 3.1555e-04\n",
            "\n",
            "Epoch 00084: loss improved from 0.00062 to 0.00061, saving model to poids_train.hdf5\n",
            "Epoch 85/500\n",
            "17/17 [==============================] - 2s 99ms/step - loss: 6.0224e-04 - mse: 6.0224e-04 - val_loss: 3.1068e-04 - val_mse: 3.1068e-04\n",
            "\n",
            "Epoch 00085: loss improved from 0.00061 to 0.00060, saving model to poids_train.hdf5\n",
            "Epoch 86/500\n",
            "17/17 [==============================] - 2s 99ms/step - loss: 6.0177e-04 - mse: 6.0177e-04 - val_loss: 3.1761e-04 - val_mse: 3.1761e-04\n",
            "\n",
            "Epoch 00086: loss improved from 0.00060 to 0.00060, saving model to poids_train.hdf5\n",
            "Epoch 87/500\n",
            "17/17 [==============================] - 2s 98ms/step - loss: 5.9016e-04 - mse: 5.9016e-04 - val_loss: 3.0764e-04 - val_mse: 3.0764e-04\n",
            "\n",
            "Epoch 00087: loss improved from 0.00060 to 0.00059, saving model to poids_train.hdf5\n",
            "Epoch 88/500\n",
            "17/17 [==============================] - 2s 99ms/step - loss: 5.8092e-04 - mse: 5.8092e-04 - val_loss: 3.0191e-04 - val_mse: 3.0191e-04\n",
            "\n",
            "Epoch 00088: loss improved from 0.00059 to 0.00058, saving model to poids_train.hdf5\n",
            "Epoch 89/500\n",
            "17/17 [==============================] - 2s 99ms/step - loss: 5.7433e-04 - mse: 5.7433e-04 - val_loss: 3.1664e-04 - val_mse: 3.1664e-04\n",
            "\n",
            "Epoch 00089: loss improved from 0.00058 to 0.00057, saving model to poids_train.hdf5\n",
            "Epoch 90/500\n",
            "17/17 [==============================] - 2s 98ms/step - loss: 5.6642e-04 - mse: 5.6642e-04 - val_loss: 2.9907e-04 - val_mse: 2.9907e-04\n",
            "\n",
            "Epoch 00090: loss improved from 0.00057 to 0.00057, saving model to poids_train.hdf5\n",
            "Epoch 91/500\n",
            "17/17 [==============================] - 2s 98ms/step - loss: 5.5984e-04 - mse: 5.5984e-04 - val_loss: 2.9085e-04 - val_mse: 2.9085e-04\n",
            "\n",
            "Epoch 00091: loss improved from 0.00057 to 0.00056, saving model to poids_train.hdf5\n",
            "Epoch 92/500\n",
            "17/17 [==============================] - 2s 98ms/step - loss: 5.5594e-04 - mse: 5.5594e-04 - val_loss: 2.8999e-04 - val_mse: 2.8999e-04\n",
            "\n",
            "Epoch 00092: loss improved from 0.00056 to 0.00056, saving model to poids_train.hdf5\n",
            "Epoch 93/500\n",
            "17/17 [==============================] - 2s 98ms/step - loss: 5.4639e-04 - mse: 5.4639e-04 - val_loss: 2.9413e-04 - val_mse: 2.9413e-04\n",
            "\n",
            "Epoch 00093: loss improved from 0.00056 to 0.00055, saving model to poids_train.hdf5\n",
            "Epoch 94/500\n",
            "17/17 [==============================] - 2s 99ms/step - loss: 5.4174e-04 - mse: 5.4174e-04 - val_loss: 3.0579e-04 - val_mse: 3.0579e-04\n",
            "\n",
            "Epoch 00094: loss improved from 0.00055 to 0.00054, saving model to poids_train.hdf5\n",
            "Epoch 95/500\n",
            "17/17 [==============================] - 2s 98ms/step - loss: 5.3671e-04 - mse: 5.3671e-04 - val_loss: 2.8107e-04 - val_mse: 2.8107e-04\n",
            "\n",
            "Epoch 00095: loss improved from 0.00054 to 0.00054, saving model to poids_train.hdf5\n",
            "Epoch 96/500\n",
            "17/17 [==============================] - 2s 99ms/step - loss: 5.6313e-04 - mse: 5.6313e-04 - val_loss: 3.4437e-04 - val_mse: 3.4437e-04\n",
            "\n",
            "Epoch 00096: loss did not improve from 0.00054\n",
            "Epoch 97/500\n",
            "17/17 [==============================] - 2s 98ms/step - loss: 5.3696e-04 - mse: 5.3696e-04 - val_loss: 3.1701e-04 - val_mse: 3.1701e-04\n",
            "\n",
            "Epoch 00097: loss did not improve from 0.00054\n",
            "Epoch 98/500\n",
            "17/17 [==============================] - 2s 99ms/step - loss: 5.4579e-04 - mse: 5.4579e-04 - val_loss: 2.8750e-04 - val_mse: 2.8750e-04\n",
            "\n",
            "Epoch 00098: loss did not improve from 0.00054\n",
            "Epoch 99/500\n",
            "17/17 [==============================] - 2s 99ms/step - loss: 5.2710e-04 - mse: 5.2710e-04 - val_loss: 2.7442e-04 - val_mse: 2.7442e-04\n",
            "\n",
            "Epoch 00099: loss improved from 0.00054 to 0.00053, saving model to poids_train.hdf5\n",
            "Epoch 100/500\n",
            "17/17 [==============================] - 2s 99ms/step - loss: 5.1223e-04 - mse: 5.1223e-04 - val_loss: 2.7201e-04 - val_mse: 2.7201e-04\n",
            "\n",
            "Epoch 00100: loss improved from 0.00053 to 0.00051, saving model to poids_train.hdf5\n",
            "Epoch 101/500\n",
            "17/17 [==============================] - 2s 100ms/step - loss: 5.0631e-04 - mse: 5.0631e-04 - val_loss: 2.7049e-04 - val_mse: 2.7049e-04\n",
            "\n",
            "Epoch 00101: loss improved from 0.00051 to 0.00051, saving model to poids_train.hdf5\n",
            "Epoch 102/500\n",
            "17/17 [==============================] - 2s 99ms/step - loss: 5.0499e-04 - mse: 5.0499e-04 - val_loss: 2.6061e-04 - val_mse: 2.6061e-04\n",
            "\n",
            "Epoch 00102: loss improved from 0.00051 to 0.00050, saving model to poids_train.hdf5\n",
            "Epoch 103/500\n",
            "17/17 [==============================] - 2s 98ms/step - loss: 4.9571e-04 - mse: 4.9571e-04 - val_loss: 2.8612e-04 - val_mse: 2.8612e-04\n",
            "\n",
            "Epoch 00103: loss improved from 0.00050 to 0.00050, saving model to poids_train.hdf5\n",
            "Epoch 104/500\n",
            "17/17 [==============================] - 4s 244ms/step - loss: 4.9293e-04 - mse: 4.9293e-04 - val_loss: 2.6240e-04 - val_mse: 2.6240e-04\n",
            "\n",
            "Epoch 00104: loss improved from 0.00050 to 0.00049, saving model to poids_train.hdf5\n",
            "Epoch 105/500\n",
            "17/17 [==============================] - 2s 98ms/step - loss: 4.8902e-04 - mse: 4.8902e-04 - val_loss: 2.5991e-04 - val_mse: 2.5991e-04\n",
            "\n",
            "Epoch 00105: loss improved from 0.00049 to 0.00049, saving model to poids_train.hdf5\n",
            "Epoch 106/500\n",
            "17/17 [==============================] - 2s 99ms/step - loss: 4.7923e-04 - mse: 4.7923e-04 - val_loss: 2.6057e-04 - val_mse: 2.6057e-04\n",
            "\n",
            "Epoch 00106: loss improved from 0.00049 to 0.00048, saving model to poids_train.hdf5\n",
            "Epoch 107/500\n",
            "17/17 [==============================] - 2s 99ms/step - loss: 4.7207e-04 - mse: 4.7207e-04 - val_loss: 2.5099e-04 - val_mse: 2.5099e-04\n",
            "\n",
            "Epoch 00107: loss improved from 0.00048 to 0.00047, saving model to poids_train.hdf5\n",
            "Epoch 108/500\n",
            "17/17 [==============================] - 2s 99ms/step - loss: 4.6732e-04 - mse: 4.6732e-04 - val_loss: 2.5262e-04 - val_mse: 2.5262e-04\n",
            "\n",
            "Epoch 00108: loss improved from 0.00047 to 0.00047, saving model to poids_train.hdf5\n",
            "Epoch 109/500\n",
            "17/17 [==============================] - 2s 100ms/step - loss: 4.6362e-04 - mse: 4.6362e-04 - val_loss: 2.6592e-04 - val_mse: 2.6592e-04\n",
            "\n",
            "Epoch 00109: loss improved from 0.00047 to 0.00046, saving model to poids_train.hdf5\n",
            "Epoch 110/500\n",
            "17/17 [==============================] - 2s 99ms/step - loss: 4.6420e-04 - mse: 4.6420e-04 - val_loss: 2.5057e-04 - val_mse: 2.5057e-04\n",
            "\n",
            "Epoch 00110: loss did not improve from 0.00046\n",
            "Epoch 111/500\n",
            "17/17 [==============================] - 2s 102ms/step - loss: 4.5087e-04 - mse: 4.5087e-04 - val_loss: 2.4465e-04 - val_mse: 2.4465e-04\n",
            "\n",
            "Epoch 00111: loss improved from 0.00046 to 0.00045, saving model to poids_train.hdf5\n",
            "Epoch 112/500\n",
            "17/17 [==============================] - 2s 99ms/step - loss: 4.4504e-04 - mse: 4.4504e-04 - val_loss: 2.4917e-04 - val_mse: 2.4917e-04\n",
            "\n",
            "Epoch 00112: loss improved from 0.00045 to 0.00045, saving model to poids_train.hdf5\n",
            "Epoch 113/500\n",
            "17/17 [==============================] - 2s 98ms/step - loss: 4.5914e-04 - mse: 4.5914e-04 - val_loss: 2.5765e-04 - val_mse: 2.5765e-04\n",
            "\n",
            "Epoch 00113: loss did not improve from 0.00045\n",
            "Epoch 114/500\n",
            "17/17 [==============================] - 2s 98ms/step - loss: 4.4733e-04 - mse: 4.4733e-04 - val_loss: 2.5725e-04 - val_mse: 2.5725e-04\n",
            "\n",
            "Epoch 00114: loss did not improve from 0.00045\n",
            "Epoch 115/500\n",
            "17/17 [==============================] - 2s 98ms/step - loss: 4.3013e-04 - mse: 4.3013e-04 - val_loss: 2.2985e-04 - val_mse: 2.2985e-04\n",
            "\n",
            "Epoch 00115: loss improved from 0.00045 to 0.00043, saving model to poids_train.hdf5\n",
            "Epoch 116/500\n",
            "17/17 [==============================] - 2s 98ms/step - loss: 4.2530e-04 - mse: 4.2530e-04 - val_loss: 2.3168e-04 - val_mse: 2.3168e-04\n",
            "\n",
            "Epoch 00116: loss improved from 0.00043 to 0.00043, saving model to poids_train.hdf5\n",
            "Epoch 117/500\n",
            "17/17 [==============================] - 2s 99ms/step - loss: 4.1927e-04 - mse: 4.1927e-04 - val_loss: 2.5035e-04 - val_mse: 2.5035e-04\n",
            "\n",
            "Epoch 00117: loss improved from 0.00043 to 0.00042, saving model to poids_train.hdf5\n",
            "Epoch 118/500\n",
            "17/17 [==============================] - 2s 98ms/step - loss: 4.1738e-04 - mse: 4.1738e-04 - val_loss: 2.3304e-04 - val_mse: 2.3304e-04\n",
            "\n",
            "Epoch 00118: loss improved from 0.00042 to 0.00042, saving model to poids_train.hdf5\n",
            "Epoch 119/500\n",
            "17/17 [==============================] - 2s 98ms/step - loss: 3.9783e-04 - mse: 3.9783e-04 - val_loss: 2.2353e-04 - val_mse: 2.2353e-04\n",
            "\n",
            "Epoch 00119: loss improved from 0.00042 to 0.00040, saving model to poids_train.hdf5\n",
            "Epoch 120/500\n",
            "17/17 [==============================] - 2s 98ms/step - loss: 3.8928e-04 - mse: 3.8928e-04 - val_loss: 2.1115e-04 - val_mse: 2.1115e-04\n",
            "\n",
            "Epoch 00120: loss improved from 0.00040 to 0.00039, saving model to poids_train.hdf5\n",
            "Epoch 121/500\n",
            "17/17 [==============================] - 2s 99ms/step - loss: 3.7973e-04 - mse: 3.7973e-04 - val_loss: 2.0607e-04 - val_mse: 2.0607e-04\n",
            "\n",
            "Epoch 00121: loss improved from 0.00039 to 0.00038, saving model to poids_train.hdf5\n",
            "Epoch 122/500\n",
            "17/17 [==============================] - 2s 98ms/step - loss: 3.6440e-04 - mse: 3.6440e-04 - val_loss: 1.8670e-04 - val_mse: 1.8670e-04\n",
            "\n",
            "Epoch 00122: loss improved from 0.00038 to 0.00036, saving model to poids_train.hdf5\n",
            "Epoch 123/500\n",
            "17/17 [==============================] - 2s 99ms/step - loss: 3.6579e-04 - mse: 3.6579e-04 - val_loss: 1.8189e-04 - val_mse: 1.8189e-04\n",
            "\n",
            "Epoch 00123: loss did not improve from 0.00036\n",
            "Epoch 124/500\n",
            "17/17 [==============================] - 2s 99ms/step - loss: 3.4872e-04 - mse: 3.4872e-04 - val_loss: 1.8549e-04 - val_mse: 1.8549e-04\n",
            "\n",
            "Epoch 00124: loss improved from 0.00036 to 0.00035, saving model to poids_train.hdf5\n",
            "Epoch 125/500\n",
            "17/17 [==============================] - 2s 98ms/step - loss: 3.4130e-04 - mse: 3.4130e-04 - val_loss: 1.8629e-04 - val_mse: 1.8629e-04\n",
            "\n",
            "Epoch 00125: loss improved from 0.00035 to 0.00034, saving model to poids_train.hdf5\n",
            "Epoch 126/500\n",
            "17/17 [==============================] - 2s 98ms/step - loss: 3.3705e-04 - mse: 3.3705e-04 - val_loss: 1.5078e-04 - val_mse: 1.5078e-04\n",
            "\n",
            "Epoch 00126: loss improved from 0.00034 to 0.00034, saving model to poids_train.hdf5\n",
            "Epoch 127/500\n",
            "17/17 [==============================] - 2s 98ms/step - loss: 3.1784e-04 - mse: 3.1784e-04 - val_loss: 1.5539e-04 - val_mse: 1.5539e-04\n",
            "\n",
            "Epoch 00127: loss improved from 0.00034 to 0.00032, saving model to poids_train.hdf5\n",
            "Epoch 128/500\n",
            "17/17 [==============================] - 2s 99ms/step - loss: 3.1102e-04 - mse: 3.1102e-04 - val_loss: 1.4267e-04 - val_mse: 1.4267e-04\n",
            "\n",
            "Epoch 00128: loss improved from 0.00032 to 0.00031, saving model to poids_train.hdf5\n",
            "Epoch 129/500\n",
            "17/17 [==============================] - 2s 99ms/step - loss: 2.9898e-04 - mse: 2.9898e-04 - val_loss: 1.4025e-04 - val_mse: 1.4025e-04\n",
            "\n",
            "Epoch 00129: loss improved from 0.00031 to 0.00030, saving model to poids_train.hdf5\n",
            "Epoch 130/500\n",
            "17/17 [==============================] - 2s 99ms/step - loss: 2.9699e-04 - mse: 2.9699e-04 - val_loss: 1.2603e-04 - val_mse: 1.2603e-04\n",
            "\n",
            "Epoch 00130: loss improved from 0.00030 to 0.00030, saving model to poids_train.hdf5\n",
            "Epoch 131/500\n",
            "17/17 [==============================] - 2s 98ms/step - loss: 3.0477e-04 - mse: 3.0477e-04 - val_loss: 1.2762e-04 - val_mse: 1.2762e-04\n",
            "\n",
            "Epoch 00131: loss did not improve from 0.00030\n",
            "Epoch 132/500\n",
            "17/17 [==============================] - 2s 98ms/step - loss: 3.1657e-04 - mse: 3.1657e-04 - val_loss: 1.7907e-04 - val_mse: 1.7907e-04\n",
            "\n",
            "Epoch 00132: loss did not improve from 0.00030\n",
            "Epoch 133/500\n",
            "17/17 [==============================] - 2s 98ms/step - loss: 2.9375e-04 - mse: 2.9375e-04 - val_loss: 1.1235e-04 - val_mse: 1.1235e-04\n",
            "\n",
            "Epoch 00133: loss improved from 0.00030 to 0.00029, saving model to poids_train.hdf5\n",
            "Epoch 134/500\n",
            "17/17 [==============================] - 2s 98ms/step - loss: 2.7586e-04 - mse: 2.7586e-04 - val_loss: 1.1268e-04 - val_mse: 1.1268e-04\n",
            "\n",
            "Epoch 00134: loss improved from 0.00029 to 0.00028, saving model to poids_train.hdf5\n",
            "Epoch 135/500\n",
            "17/17 [==============================] - 2s 99ms/step - loss: 2.7052e-04 - mse: 2.7052e-04 - val_loss: 1.1371e-04 - val_mse: 1.1371e-04\n",
            "\n",
            "Epoch 00135: loss improved from 0.00028 to 0.00027, saving model to poids_train.hdf5\n",
            "Epoch 136/500\n",
            "17/17 [==============================] - 2s 98ms/step - loss: 2.7362e-04 - mse: 2.7362e-04 - val_loss: 9.9047e-05 - val_mse: 9.9047e-05\n",
            "\n",
            "Epoch 00136: loss did not improve from 0.00027\n",
            "Epoch 137/500\n",
            "17/17 [==============================] - 2s 99ms/step - loss: 2.7000e-04 - mse: 2.7000e-04 - val_loss: 1.5476e-04 - val_mse: 1.5476e-04\n",
            "\n",
            "Epoch 00137: loss improved from 0.00027 to 0.00027, saving model to poids_train.hdf5\n",
            "Epoch 138/500\n",
            "17/17 [==============================] - 2s 99ms/step - loss: 2.6882e-04 - mse: 2.6882e-04 - val_loss: 9.0176e-05 - val_mse: 9.0176e-05\n",
            "\n",
            "Epoch 00138: loss improved from 0.00027 to 0.00027, saving model to poids_train.hdf5\n",
            "Epoch 139/500\n",
            "17/17 [==============================] - 2s 98ms/step - loss: 2.6157e-04 - mse: 2.6157e-04 - val_loss: 9.9564e-05 - val_mse: 9.9564e-05\n",
            "\n",
            "Epoch 00139: loss improved from 0.00027 to 0.00026, saving model to poids_train.hdf5\n",
            "Epoch 140/500\n",
            "17/17 [==============================] - 2s 98ms/step - loss: 2.6209e-04 - mse: 2.6209e-04 - val_loss: 8.6974e-05 - val_mse: 8.6974e-05\n",
            "\n",
            "Epoch 00140: loss did not improve from 0.00026\n",
            "Epoch 141/500\n",
            "17/17 [==============================] - 2s 98ms/step - loss: 2.4864e-04 - mse: 2.4864e-04 - val_loss: 8.9112e-05 - val_mse: 8.9112e-05\n",
            "\n",
            "Epoch 00141: loss improved from 0.00026 to 0.00025, saving model to poids_train.hdf5\n",
            "Epoch 142/500\n",
            "17/17 [==============================] - 2s 98ms/step - loss: 2.4725e-04 - mse: 2.4725e-04 - val_loss: 8.1245e-05 - val_mse: 8.1245e-05\n",
            "\n",
            "Epoch 00142: loss improved from 0.00025 to 0.00025, saving model to poids_train.hdf5\n",
            "Epoch 143/500\n",
            "17/17 [==============================] - 2s 98ms/step - loss: 2.4241e-04 - mse: 2.4241e-04 - val_loss: 7.9527e-05 - val_mse: 7.9527e-05\n",
            "\n",
            "Epoch 00143: loss improved from 0.00025 to 0.00024, saving model to poids_train.hdf5\n",
            "Epoch 144/500\n",
            "17/17 [==============================] - 2s 99ms/step - loss: 2.4342e-04 - mse: 2.4342e-04 - val_loss: 8.0615e-05 - val_mse: 8.0615e-05\n",
            "\n",
            "Epoch 00144: loss did not improve from 0.00024\n",
            "Epoch 145/500\n",
            "17/17 [==============================] - 2s 98ms/step - loss: 2.5168e-04 - mse: 2.5168e-04 - val_loss: 7.4205e-05 - val_mse: 7.4205e-05\n",
            "\n",
            "Epoch 00145: loss did not improve from 0.00024\n",
            "Epoch 146/500\n",
            "17/17 [==============================] - 2s 98ms/step - loss: 2.4278e-04 - mse: 2.4278e-04 - val_loss: 7.2652e-05 - val_mse: 7.2652e-05\n",
            "\n",
            "Epoch 00146: loss did not improve from 0.00024\n",
            "Epoch 147/500\n",
            "17/17 [==============================] - 2s 97ms/step - loss: 2.4364e-04 - mse: 2.4364e-04 - val_loss: 7.7966e-05 - val_mse: 7.7966e-05\n",
            "\n",
            "Epoch 00147: loss did not improve from 0.00024\n",
            "Epoch 148/500\n",
            "17/17 [==============================] - 2s 101ms/step - loss: 2.4860e-04 - mse: 2.4860e-04 - val_loss: 7.4207e-05 - val_mse: 7.4207e-05\n",
            "\n",
            "Epoch 00148: loss did not improve from 0.00024\n",
            "Epoch 149/500\n",
            "17/17 [==============================] - 2s 99ms/step - loss: 2.3379e-04 - mse: 2.3379e-04 - val_loss: 8.0129e-05 - val_mse: 8.0129e-05\n",
            "\n",
            "Epoch 00149: loss improved from 0.00024 to 0.00023, saving model to poids_train.hdf5\n",
            "Epoch 150/500\n",
            "17/17 [==============================] - 2s 99ms/step - loss: 2.3179e-04 - mse: 2.3179e-04 - val_loss: 7.9998e-05 - val_mse: 7.9998e-05\n",
            "\n",
            "Epoch 00150: loss improved from 0.00023 to 0.00023, saving model to poids_train.hdf5\n",
            "Epoch 151/500\n",
            "17/17 [==============================] - 2s 99ms/step - loss: 2.4986e-04 - mse: 2.4986e-04 - val_loss: 6.7068e-05 - val_mse: 6.7068e-05\n",
            "\n",
            "Epoch 00151: loss did not improve from 0.00023\n",
            "Epoch 152/500\n",
            "17/17 [==============================] - 2s 99ms/step - loss: 2.6452e-04 - mse: 2.6452e-04 - val_loss: 1.1191e-04 - val_mse: 1.1191e-04\n",
            "\n",
            "Epoch 00152: loss did not improve from 0.00023\n",
            "Epoch 153/500\n",
            "17/17 [==============================] - 2s 98ms/step - loss: 2.4969e-04 - mse: 2.4969e-04 - val_loss: 1.1009e-04 - val_mse: 1.1009e-04\n",
            "\n",
            "Epoch 00153: loss did not improve from 0.00023\n",
            "Epoch 154/500\n",
            "17/17 [==============================] - 2s 99ms/step - loss: 2.4147e-04 - mse: 2.4147e-04 - val_loss: 6.9233e-05 - val_mse: 6.9233e-05\n",
            "\n",
            "Epoch 00154: loss did not improve from 0.00023\n",
            "Epoch 155/500\n",
            "17/17 [==============================] - 2s 98ms/step - loss: 2.3129e-04 - mse: 2.3129e-04 - val_loss: 7.2698e-05 - val_mse: 7.2698e-05\n",
            "\n",
            "Epoch 00155: loss improved from 0.00023 to 0.00023, saving model to poids_train.hdf5\n",
            "Epoch 156/500\n",
            "17/17 [==============================] - 2s 99ms/step - loss: 2.2491e-04 - mse: 2.2491e-04 - val_loss: 7.3218e-05 - val_mse: 7.3218e-05\n",
            "\n",
            "Epoch 00156: loss improved from 0.00023 to 0.00022, saving model to poids_train.hdf5\n",
            "Epoch 157/500\n",
            "17/17 [==============================] - 2s 99ms/step - loss: 2.2678e-04 - mse: 2.2678e-04 - val_loss: 7.3168e-05 - val_mse: 7.3168e-05\n",
            "\n",
            "Epoch 00157: loss did not improve from 0.00022\n",
            "Epoch 158/500\n",
            "17/17 [==============================] - 2s 98ms/step - loss: 2.2976e-04 - mse: 2.2976e-04 - val_loss: 7.7137e-05 - val_mse: 7.7137e-05\n",
            "\n",
            "Epoch 00158: loss did not improve from 0.00022\n",
            "Epoch 159/500\n",
            "17/17 [==============================] - 2s 99ms/step - loss: 2.2564e-04 - mse: 2.2564e-04 - val_loss: 7.0713e-05 - val_mse: 7.0713e-05\n",
            "\n",
            "Epoch 00159: loss did not improve from 0.00022\n",
            "Epoch 160/500\n",
            "17/17 [==============================] - 2s 100ms/step - loss: 2.2204e-04 - mse: 2.2204e-04 - val_loss: 6.5179e-05 - val_mse: 6.5179e-05\n",
            "\n",
            "Epoch 00160: loss improved from 0.00022 to 0.00022, saving model to poids_train.hdf5\n",
            "Epoch 161/500\n",
            "17/17 [==============================] - 2s 98ms/step - loss: 2.2149e-04 - mse: 2.2149e-04 - val_loss: 7.4401e-05 - val_mse: 7.4401e-05\n",
            "\n",
            "Epoch 00161: loss improved from 0.00022 to 0.00022, saving model to poids_train.hdf5\n",
            "Epoch 162/500\n",
            "17/17 [==============================] - 2s 97ms/step - loss: 2.2010e-04 - mse: 2.2010e-04 - val_loss: 6.1187e-05 - val_mse: 6.1187e-05\n",
            "\n",
            "Epoch 00162: loss improved from 0.00022 to 0.00022, saving model to poids_train.hdf5\n",
            "Epoch 163/500\n",
            "17/17 [==============================] - 2s 98ms/step - loss: 2.1956e-04 - mse: 2.1956e-04 - val_loss: 7.3985e-05 - val_mse: 7.3985e-05\n",
            "\n",
            "Epoch 00163: loss improved from 0.00022 to 0.00022, saving model to poids_train.hdf5\n",
            "Epoch 164/500\n",
            "17/17 [==============================] - 2s 98ms/step - loss: 2.2580e-04 - mse: 2.2580e-04 - val_loss: 6.3072e-05 - val_mse: 6.3072e-05\n",
            "\n",
            "Epoch 00164: loss did not improve from 0.00022\n",
            "Epoch 165/500\n",
            "17/17 [==============================] - 2s 98ms/step - loss: 2.1393e-04 - mse: 2.1393e-04 - val_loss: 6.2372e-05 - val_mse: 6.2372e-05\n",
            "\n",
            "Epoch 00165: loss improved from 0.00022 to 0.00021, saving model to poids_train.hdf5\n",
            "Epoch 166/500\n",
            "17/17 [==============================] - 2s 99ms/step - loss: 2.1004e-04 - mse: 2.1004e-04 - val_loss: 6.8918e-05 - val_mse: 6.8918e-05\n",
            "\n",
            "Epoch 00166: loss improved from 0.00021 to 0.00021, saving model to poids_train.hdf5\n",
            "Epoch 167/500\n",
            "17/17 [==============================] - 2s 98ms/step - loss: 2.1404e-04 - mse: 2.1404e-04 - val_loss: 6.8930e-05 - val_mse: 6.8930e-05\n",
            "\n",
            "Epoch 00167: loss did not improve from 0.00021\n",
            "Epoch 168/500\n",
            "17/17 [==============================] - 2s 99ms/step - loss: 2.1587e-04 - mse: 2.1587e-04 - val_loss: 7.7709e-05 - val_mse: 7.7709e-05\n",
            "\n",
            "Epoch 00168: loss did not improve from 0.00021\n",
            "Epoch 169/500\n",
            "17/17 [==============================] - 2s 98ms/step - loss: 2.3274e-04 - mse: 2.3274e-04 - val_loss: 9.2112e-05 - val_mse: 9.2112e-05\n",
            "\n",
            "Epoch 00169: loss did not improve from 0.00021\n",
            "Epoch 170/500\n",
            "17/17 [==============================] - 2s 99ms/step - loss: 2.1814e-04 - mse: 2.1814e-04 - val_loss: 6.4733e-05 - val_mse: 6.4733e-05\n",
            "\n",
            "Epoch 00170: loss did not improve from 0.00021\n",
            "Epoch 171/500\n",
            "17/17 [==============================] - 2s 99ms/step - loss: 2.1296e-04 - mse: 2.1296e-04 - val_loss: 8.8829e-05 - val_mse: 8.8829e-05\n",
            "\n",
            "Epoch 00171: loss did not improve from 0.00021\n",
            "Epoch 172/500\n",
            "17/17 [==============================] - 2s 98ms/step - loss: 2.1028e-04 - mse: 2.1028e-04 - val_loss: 6.0283e-05 - val_mse: 6.0283e-05\n",
            "\n",
            "Epoch 00172: loss did not improve from 0.00021\n",
            "Epoch 173/500\n",
            "17/17 [==============================] - 2s 98ms/step - loss: 2.1783e-04 - mse: 2.1783e-04 - val_loss: 1.0066e-04 - val_mse: 1.0066e-04\n",
            "\n",
            "Epoch 00173: loss did not improve from 0.00021\n",
            "Epoch 174/500\n",
            "17/17 [==============================] - 2s 98ms/step - loss: 2.0954e-04 - mse: 2.0954e-04 - val_loss: 7.4181e-05 - val_mse: 7.4181e-05\n",
            "\n",
            "Epoch 00174: loss improved from 0.00021 to 0.00021, saving model to poids_train.hdf5\n",
            "Epoch 175/500\n",
            " 1/17 [>.............................] - ETA: 1s - loss: 2.1585e-04 - mse: 2.1585e-04"
          ],
          "name": "stdout"
        }
      ]
    },
    {
      "cell_type": "code",
      "metadata": {
        "id": "jheNXKz5O3aO"
      },
      "source": [
        "files.download('poids_train.hdf5')"
      ],
      "execution_count": null,
      "outputs": []
    },
    {
      "cell_type": "code",
      "metadata": {
        "id": "-Vve7jENFlN3"
      },
      "source": [
        "model.load_weights(\"poids_train.hdf5\")"
      ],
      "execution_count": null,
      "outputs": []
    },
    {
      "cell_type": "code",
      "metadata": {
        "id": "ZxjwVyvJFmtx"
      },
      "source": [
        "erreur_entrainement = historique.history[\"loss\"]\n",
        "erreur_validation = historique.history[\"val_loss\"]\n",
        "\n",
        "# Affiche l'erreur en fonction de la période\n",
        "plt.figure(figsize=(10, 6))\n",
        "plt.plot(np.arange(0,len(erreur_entrainement)),erreur_entrainement, label=\"Erreurs sur les entrainements\")\n",
        "plt.plot(np.arange(0,len(erreur_entrainement)),erreur_validation, label =\"Erreurs sur les validations\")\n",
        "plt.legend()\n",
        "\n",
        "plt.title(\"Evolution de l'erreur en fonction de la période\")"
      ],
      "execution_count": null,
      "outputs": []
    },
    {
      "cell_type": "code",
      "metadata": {
        "id": "plI7hKwCPWnm"
      },
      "source": [
        "start = 400\n",
        "\n",
        "erreur_entrainement = historique.history[\"loss\"]\n",
        "erreur_validation = historique.history[\"val_loss\"]\n",
        "\n",
        "# Affiche l'erreur en fonction de la période\n",
        "plt.figure(figsize=(10, 6))\n",
        "plt.plot(np.arange(0,len(erreur_entrainement[start:])),erreur_entrainement[start:], label=\"Erreurs sur les entrainements\")\n",
        "plt.plot(np.arange(0,len(erreur_entrainement[start:])),erreur_validation[start:], label =\"Erreurs sur les validations\")\n",
        "plt.legend()\n",
        "\n",
        "plt.title(\"Evolution de l'erreur en fonction de la période\")"
      ],
      "execution_count": null,
      "outputs": []
    },
    {
      "cell_type": "code",
      "metadata": {
        "id": "RRamuIcLFoCJ"
      },
      "source": [
        "model.evaluate(x=[x_train[0],x_train[1]],y=y_train)\n",
        "model.evaluate(x=[x_val[0],x_val[1]],y=y_val)"
      ],
      "execution_count": null,
      "outputs": []
    },
    {
      "cell_type": "markdown",
      "metadata": {
        "id": "D1Xeyk8B-dlm"
      },
      "source": [
        "# Chargement du modèle pré-entrainé"
      ]
    },
    {
      "cell_type": "markdown",
      "metadata": {
        "id": "1fOahfnJ-yX1"
      },
      "source": [
        "**Multi_DSTP_SML2010**  \n",
        "\n",
        "  - Vecteur LSTM : 128\n",
        "  - Longueur entrée : 20\n",
        "  - Longueur sortie : 1\n",
        "  - Drop : 0.0\n",
        "  - L2 : 0.00  \n",
        "  - Batch Size : 128\n",
        "  - Périodes : 1000   \n",
        "\t=> mse :  2.0267755e-05 / 9.165677e-06  \n",
        "  (Naïve : 4.2276e-05 ; 3.1951e-05)\n"
      ]
    },
    {
      "cell_type": "code",
      "metadata": {
        "id": "_05bqnRr-pyf"
      },
      "source": [
        "!rm *.hdf5\n",
        "!curl --location --remote-header-name --remote-name \"https://github.com/AlexandreBourrieau/FICHIERS/raw/main/Series_Temporelles/Multi/Models/Multi_DSTP_SML2010_L20.hdf5\""
      ],
      "execution_count": null,
      "outputs": []
    },
    {
      "cell_type": "code",
      "metadata": {
        "id": "Z-XKdrbK-022"
      },
      "source": [
        "model = get_model()"
      ],
      "execution_count": null,
      "outputs": []
    },
    {
      "cell_type": "code",
      "metadata": {
        "id": "ynmmlRjiBImP"
      },
      "source": [
        "model.load_weights(\"Multi_DSTP_SML2010_L20.hdf5\")"
      ],
      "execution_count": null,
      "outputs": []
    },
    {
      "cell_type": "markdown",
      "metadata": {
        "id": "AfIkATObr8cV"
      },
      "source": [
        "# Prédictions single-step"
      ]
    },
    {
      "cell_type": "code",
      "metadata": {
        "id": "lfA2H5J4S35o"
      },
      "source": [
        "pred_ent = model.predict([x_train[0],x_train[1]],verbose=1)\n",
        "pred_val = model.predict([x_val[0],x_val[1]],verbose=1)"
      ],
      "execution_count": null,
      "outputs": []
    },
    {
      "cell_type": "code",
      "metadata": {
        "id": "7Q1NA36BFZ4N"
      },
      "source": [
        "import plotly.graph_objects as go\n",
        "\n",
        "decalage = 1\n",
        "\n",
        "fig = go.Figure()\n",
        "\n",
        "# Courbes originales\n",
        "fig.add_trace(go.Scatter(x=df_etude.index,y=serie_entrainement_X_norm[:,-1],line=dict(color='blue', width=1)))\n",
        "fig.add_trace(go.Scatter(x=df_etude.index[temps_separation:],y=serie_test_X_norm[:,-1],line=dict(color='red', width=1)))\n",
        "\n",
        "#Affiche les prédictions sur l'entrainement\n",
        "pred = []\n",
        "\n",
        "max = len(pred_ent)\n",
        "max = max\n",
        "for i in range(0,max):\n",
        "  pred.append(tf.squeeze(pred_ent[i,0:decalage,:],1))\n",
        "pred = tf.convert_to_tensor(pred).numpy()\n",
        "pred = np.reshape(pred,(pred.shape[0]*pred.shape[1]))\n",
        "\n",
        "fig.add_trace(go.Scatter(x=df_etude.index[longueur_sequence:],y=pred, mode='lines', line=dict(color='green', width=1)))\n",
        "\n",
        "#Affiche les prédictions sur les validations\n",
        "pred = []\n",
        "max = len(pred_val)\n",
        "max = max\n",
        "for i in range(0,max):\n",
        "  pred.append(tf.squeeze(pred_val[i,0:decalage,:],1))\n",
        "\n",
        "pred = tf.convert_to_tensor(pred).numpy()\n",
        "pred = np.reshape(pred,(pred.shape[0]*pred.shape[1]))\n",
        "\n",
        "fig.add_trace(go.Scatter(x=df_etude.index[temps_separation+longueur_sequence:],y=pred, mode='lines', line=dict(color='green', width=1)))\n",
        "\n",
        "fig.update_xaxes(rangeslider_visible=True)\n",
        "yaxis=dict(autorange = True,fixedrange= False)\n",
        "fig.update_yaxes(yaxis)\n",
        "fig.show()"
      ],
      "execution_count": null,
      "outputs": []
    },
    {
      "cell_type": "markdown",
      "metadata": {
        "id": "q9wCeoEnMEYv"
      },
      "source": [
        "**Erreurs en single step**"
      ]
    },
    {
      "cell_type": "code",
      "metadata": {
        "id": "W2_ceD69Mju6"
      },
      "source": [
        "import plotly.graph_objects as go\n",
        "\n",
        "fig = go.Figure()\n",
        "\n",
        "decalage = 1\n",
        "pred = []\n",
        "\n",
        "max = len(pred_ent)\n",
        "max = max\n",
        "for i in range(0,max):\n",
        "  pred.append(tf.squeeze(pred_ent[i,0:decalage,:],1))\n",
        "pred = tf.convert_to_tensor(pred).numpy()\n",
        "pred = np.reshape(pred,(pred.shape[0]*pred.shape[1]))\n",
        "\n",
        "fig.add_trace(go.Scatter(x=df_etude.index[longueur_sequence:],y=serie_entrainement_X_norm[longueur_sequence:-(serie_entrainement_X_norm[longueur_sequence:,:].shape[0]-pred.shape[0]),-1],line=dict(color='blue', width=1)))\n",
        "fig.add_trace(go.Scatter(x=df_etude.index[longueur_sequence:],y=pred,line=dict(color='green', width=1)))\n",
        "\n",
        "\n",
        "fig.update_xaxes(rangeslider_visible=True)\n",
        "yaxis=dict(autorange = True,fixedrange= False)\n",
        "fig.update_yaxes(yaxis)\n",
        "fig.show()\n",
        "\n",
        "mse_ent = tf.keras.losses.mse(serie_entrainement_X_norm[longueur_sequence:-(serie_entrainement_X_norm[longueur_sequence:,:].shape[0]-pred.shape[0]),-1],pred)"
      ],
      "execution_count": null,
      "outputs": []
    },
    {
      "cell_type": "code",
      "metadata": {
        "id": "WV5JTpnnNApH"
      },
      "source": [
        "import plotly.graph_objects as go\n",
        "\n",
        "fig = go.Figure()\n",
        "\n",
        "decalage = 1\n",
        "pred = []\n",
        "\n",
        "max = len(pred_val)\n",
        "max = max\n",
        "for i in range(0,max):\n",
        "  pred.append(tf.squeeze(pred_val[i,0:decalage,:],1))\n",
        "pred = tf.convert_to_tensor(pred).numpy()\n",
        "pred = np.reshape(pred,(pred.shape[0]*pred.shape[1]))\n",
        "\n",
        "fig.add_trace(go.Scatter(x=df_etude.index[temps_separation+longueur_sequence::],y=serie_test_X_norm[longueur_sequence:-(serie_test_X_norm[longueur_sequence:,:].shape[0]-pred.shape[0]),-1],line=dict(color='blue', width=1)))\n",
        "fig.add_trace(go.Scatter(x=df_etude.index[temps_separation+longueur_sequence::],y=pred,line=dict(color='green', width=1)))\n",
        "\n",
        "\n",
        "fig.update_xaxes(rangeslider_visible=True)\n",
        "yaxis=dict(autorange = True,fixedrange= False)\n",
        "fig.update_yaxes(yaxis)\n",
        "fig.show()\n",
        "\n",
        "mse_test = tf.keras.losses.mse(serie_test_X_norm[longueur_sequence:-(serie_test_X_norm[longueur_sequence:,:].shape[0]-pred.shape[0]),-1],pred)"
      ],
      "execution_count": null,
      "outputs": []
    },
    {
      "cell_type": "code",
      "metadata": {
        "id": "1FShIaJINHBX"
      },
      "source": [
        "print(mse_ent)\n",
        "print(mse_test)"
      ],
      "execution_count": null,
      "outputs": []
    },
    {
      "cell_type": "markdown",
      "metadata": {
        "id": "Fonro6c2wosn"
      },
      "source": [
        "# Exportation des données"
      ]
    },
    {
      "cell_type": "code",
      "metadata": {
        "id": "MfpGrtvxww4T"
      },
      "source": [
        "from google.colab import files\n",
        "\n",
        "#Prédictions sur l'entrainement\n",
        "pred_entrainement = []\n",
        "\n",
        "max = len(pred_ent)\n",
        "max = max\n",
        "for i in range(0,max):\n",
        "  pred_entrainement.append(tf.squeeze(pred_ent[i,0:decalage,:],1))\n",
        "pred_entrainement = tf.convert_to_tensor(pred_entrainement).numpy()\n",
        "pred_entrainement = np.reshape(pred_entrainement,(pred_entrainement.shape[0]*pred_entrainement.shape[1]))\n",
        "\n",
        "#Prédictions sur les validations\n",
        "pred_validation = []\n",
        "max = len(pred_val)\n",
        "max = max\n",
        "for i in range(0,max):\n",
        "  pred_validation.append(tf.squeeze(pred_val[i,0:decalage,:],1))\n",
        "\n",
        "pred_validation = tf.convert_to_tensor(pred_validation).numpy()\n",
        "pred_validation = np.reshape(pred_validation,(pred_validation.shape[0]*pred_validation.shape[1]))"
      ],
      "execution_count": null,
      "outputs": []
    },
    {
      "cell_type": "code",
      "metadata": {
        "id": "gS3d9ufnwyj2"
      },
      "source": [
        "df_HRHN_Ent = pd.DataFrame(data=pred_entrainement,columns=['Pred_Ent'])\n",
        "df_HRHN_Val = pd.DataFrame(data=pred_validation,columns=['Pred_Val'])"
      ],
      "execution_count": null,
      "outputs": []
    },
    {
      "cell_type": "code",
      "metadata": {
        "id": "VAK5kPxcw2Tv"
      },
      "source": [
        "df_HRHN_Ent.to_csv(\"df_DSTP_Ent.csv\")\n",
        "df_HRHN_Val.to_csv(\"df_DSTP_Val.csv\")"
      ],
      "execution_count": null,
      "outputs": []
    },
    {
      "cell_type": "code",
      "metadata": {
        "id": "JJXL9vBaxbUP"
      },
      "source": [
        "files.download('df_DSTP_Ent.csv')\n",
        "files.download('df_DSTP_Val.csv')"
      ],
      "execution_count": null,
      "outputs": []
    },
    {
      "cell_type": "markdown",
      "metadata": {
        "id": "8241VktiWiRJ"
      },
      "source": [
        "# Comparaison DA-RNN / DSTP"
      ]
    },
    {
      "cell_type": "markdown",
      "metadata": {
        "id": "0kmEslBwW1Uk"
      },
      "source": [
        "Chargement des résultats DA-RNN:"
      ]
    },
    {
      "cell_type": "code",
      "metadata": {
        "id": "LhbAY9IIWqZH"
      },
      "source": [
        "!curl --location --remote-header-name --remote-name \"https://github.com/AlexandreBourrieau/FICHIERS/raw/main/Series_Temporelles/Multi/Data/df_DARNN2_SML2010_Ent.csv\"\n",
        "!curl --location --remote-header-name --remote-name \"https://github.com/AlexandreBourrieau/FICHIERS/raw/main/Series_Temporelles/Multi/Data/df_DARNN2_SML2010_Val.csv\"\n",
        "df_DARNN_Ent = pd.read_csv(\"df_DARNN2_SML2010_Ent.csv\")\n",
        "df_DARNN_Val = pd.read_csv(\"df_DARNN2_SML2010_Val.csv\")"
      ],
      "execution_count": null,
      "outputs": []
    },
    {
      "cell_type": "code",
      "metadata": {
        "id": "vfb4YkQ9EHX5"
      },
      "source": [
        "pred_ent = model.predict([x_train[0],x_train[1]],verbose=1)\n",
        "pred_val = model.predict([x_val[0],x_val[1]],verbose=1)"
      ],
      "execution_count": null,
      "outputs": []
    },
    {
      "cell_type": "code",
      "metadata": {
        "id": "O4fLCKv6XrPT"
      },
      "source": [
        "import plotly.graph_objects as go\n",
        "\n",
        "decalage = 1\n",
        "\n",
        "fig = go.Figure()\n",
        "\n",
        "# Courbes originales\n",
        "fig.add_trace(go.Scatter(x=df_etude.index,y=serie_entrainement_X_norm[:,-1],line=dict(color='blue', width=1)))\n",
        "fig.add_trace(go.Scatter(x=df_etude.index[temps_separation:],y=serie_test_X_norm[:,-1],line=dict(color='blue', width=1)))\n",
        "\n",
        "#Affiche les prédictions sur l'entrainement\n",
        "pred = []\n",
        "\n",
        "max = len(pred_ent)\n",
        "max = max\n",
        "for i in range(0,max):\n",
        "  pred.append(tf.squeeze(pred_ent[i,0:decalage,:],1))\n",
        "pred = tf.convert_to_tensor(pred).numpy()\n",
        "pred = np.reshape(pred,(pred.shape[0]*pred.shape[1]))\n",
        "\n",
        "fig.add_trace(go.Scatter(x=df_etude.index[longueur_sequence:],y=pred, mode='lines', line=dict(color='green', width=1)))\n",
        "\n",
        "#Affiche les prédictions sur les validations\n",
        "pred = []\n",
        "max = len(pred_val)\n",
        "max = max\n",
        "for i in range(0,max):\n",
        "  pred.append(tf.squeeze(pred_val[i,0:decalage,:],1))\n",
        "\n",
        "pred = tf.convert_to_tensor(pred).numpy()\n",
        "pred = np.reshape(pred,(pred.shape[0]*pred.shape[1]))\n",
        "\n",
        "fig.add_trace(go.Scatter(x=df_etude.index[temps_separation+longueur_sequence:],y=pred, mode='lines', line=dict(color='red', width=1)))\n",
        "\n",
        "# Affiche les résultats du DA-RNN\n",
        "longueur_sequence_DARNN=10\n",
        "fig.add_trace(go.Scatter(x=df_etude.index[longueur_sequence_DARNN-1:temps_separation],y=df_DARNN_Ent['Pred_Ent'],line=dict(color='black', width=1)))\n",
        "fig.add_trace(go.Scatter(x=df_etude.index[temps_separation+longueur_sequence_DARNN-1:],y=df_DARNN_Val['Pred_Val'],line=dict(color='black', width=1)))\n",
        "\n",
        "\n",
        "fig.update_xaxes(rangeslider_visible=True)\n",
        "yaxis=dict(autorange = True,fixedrange= False)\n",
        "fig.update_yaxes(yaxis)\n",
        "fig.show()"
      ],
      "execution_count": null,
      "outputs": []
    }
  ]
}